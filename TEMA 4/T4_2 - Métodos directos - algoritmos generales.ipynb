{
 "cells": [
  {
   "attachments": {},
   "cell_type": "markdown",
   "metadata": {},
   "source": [
    "# Métodos directos de resolución de sistemas - algoritmos generales"
   ]
  },
  {
   "attachments": {},
   "cell_type": "markdown",
   "metadata": {},
   "source": [
    "## Método de la eliminación de Gauss\n",
    "\n",
    "### Introducción\n",
    "\n",
    "La eliminación de Gauss es el método más conocido para resolver sistemas de ecuaciones. Consta de dos partes: la fase de eliminación y la fase de sustitución. Como se ha indicado en la introducción, la fase de eliminación pretende transformar el sistema en uno equivalente con la forma $\\mathbf{U} \\mathbf{x} = \\mathbf{c}$. A continuación, las ecuaciones se resuelven por sustitución hacia atrás. Para ilustrar este procedimiento, resolveremos el siguiente sistema de ecuaciones:\n",
    "$$\n",
    "\\begin{gathered}\n",
    "4 x_1-2 x_2+x_3=11    & \\qquad (a)\\\\\n",
    "-2 x_1+4 x_2-2 x_3=-16& \\qquad (b) \\\\\n",
    "x_1-2 x_2+4 x_3=17& \\qquad (c)\n",
    "\\end{gathered}\n",
    "$$\n",
    "\n",
    "#### Fase de eliminación\n",
    "\n",
    "La fase de eliminación sólo utiliza una de las operaciones elementales descritas en la introducción: multiplicar una ecuación (por ejemplo, la ecuación $j$) por una constante $\\lambda$ y restarla de otra ecuación (ecuación $i$). La representación simbólica de esta operación es:\n",
    "\n",
    "$$\n",
    "\\text { Ec. } (i) \\leftarrow \\text { Ec. } (i) - \\lambda \\times \\text { Ec. } (j)\n",
    "$$\n",
    "\n",
    "La ecuación que se resta (es decir, la ecuación $(j)$) se llama *ecuación pivote*.\n",
    "\n",
    "Comenzamos la eliminación tomando la ecuación $(a)$ como ecuación pivote y eligiendo los multiplicadores $\\lambda$ apropiados para eliminar $x_1$ de las ecuaciones $(b)$ y $(c)$:\n",
    "\n",
    "\n",
    "Tras esta transformación, las ecuaciones se convierten en\n",
    "\n",
    "$$\n",
    "\\begin{aligned}\n",
    "4 x_1-2 x_2+x_3 &=11       & \\qquad (a)\\\\\n",
    "3 x_2-1.5 x_3 &=-10.5      & \\qquad (b) \\\\\n",
    "-1.5 x_2+3.75 x_3 &=14.25  & \\qquad (c)\n",
    "\\end{aligned}\n",
    "$$\n",
    "\n",
    "\n",
    "Esto completa la primera pasada. Ahora elegimos $(b)$ como ecuación pivote y eliminamos $x_2$ de (c):\n",
    "\n",
    "$$\\text{Ec. } (c) \\leftarrow \\text{ Ec. } (c) -(-0.5) \\times \\text{ Ec. } (b)$$\n",
    "\n",
    "lo que da lugar a las ecuaciones\n",
    "\n",
    "\n",
    "La fase de eliminación ha concluido. Las ecuaciones originales se han sustituido por ecuaciones equivalentes que pueden resolverse fácilmente mediante la sustitución hacia atrás.\n",
    "\n",
    "$$\n",
    "\\begin{aligned}\n",
    "4 x_1-2 x_2+x_3 &=11 & \\qquad (a)\\\\\n",
    "3 x_2-1.5 x_3 &=-10.5& \\qquad (b) \\\\\n",
    "3 x_3 &=9& \\qquad (c)\n",
    "\\end{aligned}\n",
    "$$\n",
    "Como se comentaba en la introducción, el uso de la matriz de coeficientes aumentada es más conveniente para realizar los cálculos. Así, las ecuaciones originales se escribirían como\n",
    "\n",
    "$$\n",
    "\\left[\\begin{array}{rrr|r}\n",
    "4 & -2 & 1 & 11 \\\\\n",
    "-2 & 4 & -2 & -16 \\\\\n",
    "1 & -2 & 4 & 17\n",
    "\\end{array}\\right]\n",
    "$$\n",
    "y las ecuaciones equivalentes producidas por la primera y la segunda pasada de la eliminación de Gauss serían:\n",
    "\n",
    "$$\n",
    "\\left[\\begin{array}{rrr|r}\n",
    "4 & -2 & 1 & 11.00 \\\\\n",
    "0 & 3 & -1.5 & -10.50 \\\\\n",
    "0 & -1.5 & 3.75 & 14.25\n",
    "\\end{array}\\right]\n",
    "$$\n",
    "$$\n",
    "\\left[\\begin{array}{ccc|r}\n",
    "4 & -2 & 1 & 11.0 \\\\\n",
    "0 & 3 & -1.5 & -10.5 \\\\\n",
    "0 & 0 & 3 & 9.0\n",
    "\\end{array}\\right]\n",
    "$$\n",
    "\n",
    "Es importante recordar que la operación elemental de multiplicar una ecuación por un factor y restarla a otra ecuación no modifica el valor del determinante de la matriz. Esto es una ventaja, porque el determinante de una matriz triangular es muy fácil de calcular: es el producto de los elementos de la diagonal principal. Es decir:\n",
    "\n",
    "$$\n",
    "|\\mathbf{A}|=|\\mathbf{U}|=U_{11} \\times U_{22} \\times \\cdots \\times U_{n n}\n",
    "$$"
   ]
  },
  {
   "attachments": {},
   "cell_type": "markdown",
   "metadata": {},
   "source": [
    " \n",
    "#### Fase de sustitución hacia atrás\n",
    "\n",
    "Las incógnitas pueden calcularse ahora por sustitución hacia atrás, tal y como se explicó en la introducción. Resolviendo las ecuaciones $(c)$, $(b)$ y $(a)$ en ese orden, obtenemos:\n",
    "\\begin{aligned}\n",
    "&x_3=9 / 3=3 \\\\\n",
    "&x_2=\\left(-10.5+1.5 x_3\\right) / 3=[-10.5+1.5(3)] / 3=-2 \\\\\n",
    "&x_1=\\left(11+2 x_2-x_3\\right) / 4=[11+2(-2)-3] / 4=1\n",
    "\\end{aligned}\n"
   ]
  },
  {
   "attachments": {},
   "cell_type": "markdown",
   "metadata": {},
   "source": [
    "## Algoritmo del método de Gauss\n",
    "\n",
    "A continuación se formalizará el algoritmo descrito anteriormente para poder ser implementado. Se puede demostrar que la fase de eliminación es $\\mathcal{O}\\left( n^3 \\right)$, mientras que la fase de sustitución es $\\mathcal{O}\\left( n^2 \\right)$.\n",
    "\n",
    "### Fase de eliminación\n",
    "\n",
    "Fijémonos en las ecuaciones en algún momento de la fase de eliminación. Supongamos que las primeras $k$ filas de $\\mathbf{A}$ ya han sido transformadas a la forma triangular superior. Por lo tanto, la ecuación pivote actual es la $k$-ésima ecuación, y todas las ecuaciones por debajo de ella están aún por transformar. Esta situación se representa con la siguiente matriz de coeficientes aumentada. Obsérvese que, en este punto, los coeficientes de $\\mathbf{A}$ no son los coeficientes del sistema original (excepto la primera ecuación), porque han sido alterados por el procedimiento de eliminación. Lo mismo ocurre con las componentes del vector de términos independientes $\\mathbf{b}$.\n",
    "\n",
    "$$\n",
    "\\left[\\begin{array}{ccccccccc|c}\n",
    "A_{11} & A_{12} & A_{13} & \\cdots & A_{1 k} & \\cdots & A_{1 j} & \\cdots & A_{1 n} & b_1 \\\\\n",
    "0 & A_{22} & A_{23} & \\cdots & A_{2 k} & \\cdots & A_{2 j} & \\cdots & A_{2 n} & b_2 \\\\\n",
    "0 & 0 & A_{33} & \\cdots & A_{3 k} & \\cdots & A_{3 j} & \\cdots & A_{3 n} & b_3 \\\\\n",
    "\\vdots & \\vdots & \\vdots & & \\vdots & & \\vdots & & \\vdots & \\vdots \\\\\n",
    "0 & 0 & 0 & \\cdots & A_{k k} & \\cdots & A_{k j} & \\cdots & A_{k n} & b_k \\\\\n",
    "\\hline \\vdots & \\vdots & \\vdots & & \\vdots & & \\vdots & & \\vdots & \\vdots \\\\\n",
    "0 & 0 & 0 & \\cdots & A_{i k} & \\cdots & A_{i j} & \\cdots & A_{i n} & b_i \\\\\n",
    "\\vdots & \\vdots & \\vdots & & \\vdots & & \\vdots & & \\vdots & \\vdots \\\\\n",
    "0 & 0 & 0 & \\cdots & A_{n k} & \\cdots & A_{n j} & \\cdots & A_{n n} & b_n\n",
    "\\end{array}\\right] \\begin{array}{l} \\\\ \\\\ \\leftarrow \\text { fila pivote } \\\\ \\\\ \\\\ \\leftarrow \\text { fila a\\\\ transformar} \\\\ \\end{array}\n",
    "$$\n",
    "\n",
    "Sea la fila $i$-ésima una fila (por debajo de la ecuación pivote) que va a ser transformada, lo que significa que el elemento $A_{ik}$ va a ser eliminado. Podemos conseguirlo multiplicando la fila pivote por $\\lambda = A_{ik} / A_{kk}$ y restándosela a la fila $i$-ésima. Los cambios correspondientes en la $i$-ésima fila son por tanto:\n",
    "$$\n",
    "\\begin{aligned}\n",
    "A_{i j} & \\leftarrow A_{i j}-\\lambda A_{k j}, \\quad j=k, k+1, \\ldots, n \\\\\n",
    "b_i & \\leftarrow b_i-\\lambda b_k\n",
    "\\end{aligned}\n",
    "$$\n",
    "Para transformar toda la matriz de coeficientes a la forma triangular superior, los índices $k$ e $i$ de las ecuaciones de transformación anteriores deben tener los rangos $k = 1, 2, \\dots, n - 1$ (elección de la fila pivote), e $i = k + 1, k + 2, \\dots , n$ (elección de la fila que se va a transformar).\n",
    "\n",
    "La descripción del algoritmo está casi completa, a falta de dos detalles:\n",
    " - Si un cierto $A_{ik}$ (el primer elemento de la fila a transformar) resulta ser cero, se salta la transformación de esa fila $i$.\n",
    " - El índice $j$ en las ecuaciones de transformación anteriores podría comenzar en $k + 1$ en lugar de en $k$, de forma que los $A_{ik}$ no se fijan en cero, sino que conservan su valor original. Esto puede hacerse para ahorrar operaciones: como en la fase de solución nunca se accede a la parte triangular inferior de la matriz de coeficientes, su contenido es irrelevante.\n"
   ]
  },
  {
   "attachments": {},
   "cell_type": "markdown",
   "metadata": {},
   "source": [
    "**Ejercicio 1 -** Programa el algoritmo de eliminación del método de Gauss, con las consideraciones anteriores."
   ]
  },
  {
   "cell_type": "code",
   "execution_count": 1,
   "metadata": {},
   "outputs": [],
   "source": [
    "import numpy as np #type: ignore \n",
    "\n",
    "def row_lineal_comb(A, i, j, k):\n",
    "\n",
    "    ''' i es la posicion de la linea a la que multiplicas por k\n",
    "    j es el indice de la linea que estamos modificando\n",
    "    k es el valor por el cual multiplicamos a A[i]\n",
    "\n",
    "    devuelve uan copia de la matriz \n",
    "    '''\n",
    "\n",
    "    A_copy = np.copy(A)\n",
    "    ai = np.copy(A[i])\n",
    "\n",
    "    A_copy[j] = A_copy[j] + ai * k\n",
    "\n",
    "    return A_copy"
   ]
  },
  {
   "cell_type": "code",
   "execution_count": 2,
   "metadata": {},
   "outputs": [
    {
     "data": {
      "text/plain": [
       "array([[  4.,  -2.,   1.,  11.],\n",
       "       [ -2.,   4.,  -2., -16.],\n",
       "       [  1.,  -2.,   4.,  17.]])"
      ]
     },
     "execution_count": 2,
     "metadata": {},
     "output_type": "execute_result"
    }
   ],
   "source": [
    "A = np.array([[4, -2, 1],\n",
    "             [-2, 4, -2],\n",
    "             [1, -2, 4]], dtype = float)\n",
    "\n",
    "b = np.array([11, -16, 17])\n",
    "\n",
    "A_ampliada = np.column_stack((A, b))\n",
    "A_ampliada"
   ]
  },
  {
   "cell_type": "code",
   "execution_count": 3,
   "metadata": {},
   "outputs": [
    {
     "name": "stdout",
     "output_type": "stream",
     "text": [
      "[[  4.   -2.    1.   11. ]\n",
      " [  0.    3.   -1.5 -10.5]\n",
      " [  1.   -2.    4.   17. ]]\n"
     ]
    }
   ],
   "source": [
    "print(row_lineal_comb(A_ampliada, 0, 1, 1/2))"
   ]
  },
  {
   "cell_type": "code",
   "execution_count": 4,
   "metadata": {},
   "outputs": [],
   "source": [
    "# def row_lineal_comb_modify(A, i, j, k):\n",
    "#     '''\n",
    "#     Realiza una combinación lineal entre filas de la matriz A:\n",
    "#     - i: Índice de la fila base que se multiplica por k\n",
    "#     - j: Índice de la fila que se modifica\n",
    "#     - k: Factor por el cual se multiplica la fila i antes de sumarla a la fila j\n",
    "#     '''\n",
    "#     A[j] -= A[i] * k"
   ]
  },
  {
   "cell_type": "code",
   "execution_count": 3,
   "metadata": {},
   "outputs": [
    {
     "name": "stdout",
     "output_type": "stream",
     "text": [
      "[[  4.  -2.   1.  11.]\n",
      " [ -2.   4.  -2. -16.]\n",
      " [  1.  -2.   4.  17.]]\n",
      "[[  4.   -2.    1.   11. ]\n",
      " [  0.    3.   -1.5 -10.5]\n",
      " [  0.    0.    3.    9. ]]\n",
      "[[ 4. -2.  1.]\n",
      " [-2.  4. -2.]\n",
      " [ 1. -2.  4.]]\n",
      "[[ 4.  -2.   1. ]\n",
      " [ 0.   3.  -1.5]\n",
      " [ 0.   0.   3. ]]\n"
     ]
    }
   ],
   "source": [
    "def gauss_U(A: np.array, func = row_lineal_comb) -> np.array:\n",
    "\n",
    "    '''se le pasa la matriz A \n",
    "    una funcion func que se encargue de hacer al combinacion lineal: A[j] = A[j] + A[i] * k\n",
    "\n",
    "    puede devolverte la matriz triangular superior de A \n",
    "    tambien puede devolver la triangular de A ampliada con el vector/matriz solución\n",
    "\n",
    "    A -> U\n",
    "    A|B -> U|C\n",
    "    '''\n",
    "    A_copy = np.copy(A)\n",
    "    \n",
    "    for i in range(len(A_copy)): #iteramos cada fila\n",
    "        #print(i)\n",
    "        for j in range(i +1, len(A_copy)): #iteramos solo sobre las filas que estan debajo del pivote\n",
    "            #print(j)\n",
    "            if A_copy[i, i] == 0:\n",
    "                continue\n",
    "            k =  A_copy[j, i]/ A_copy[i, i]\n",
    "            #print(k)\n",
    "            A_copy = func(A_copy, i, j, -k)\n",
    "            #print(A)\n",
    "\n",
    "\n",
    "    return A_copy\n",
    "\n",
    "\n",
    "A = np.array([[4, -2, 1],\n",
    "             [-2, 4, -2],\n",
    "             [1, -2, 4]], dtype = float)\n",
    "\n",
    "b = np.array([11, -16, 17])\n",
    "\n",
    "A_ampliada = np.column_stack((A, b))\n",
    "\n",
    "\n",
    "print(A_ampliada)\n",
    "print(gauss_U(A_ampliada))\n",
    "print(A)\n",
    "print(gauss_U(A))"
   ]
  },
  {
   "attachments": {},
   "cell_type": "markdown",
   "metadata": {},
   "source": [
    "### Fase de sustitución hacia atrás\n",
    "\n",
    "Tras la eliminación de Gauss, la matriz de coeficientes aumentada tendrá la forma:\n",
    "\n",
    "$$\n",
    "[\\mathbf{A} \\mid \\mathbf{b}]=\\left[\\begin{array}{ccccc|c}\n",
    "A_{11} & A_{12} & A_{13} & \\cdots & A_{1 n} & b_1 \\\\\n",
    "0 & A_{22} & A_{23} & \\cdots & A_{2 n} & b_2 \\\\\n",
    "0 & 0 & A_{33} & \\cdots & A_{3 n} & b_3 \\\\\n",
    "\\vdots & \\vdots & \\vdots & \\ddots & \\vdots & \\vdots \\\\\n",
    "0 & 0 & 0 & \\cdots & A_{n n} & b_n\n",
    "\\end{array}\\right]\n",
    "$$\n",
    "\n",
    "La última ecuación, $A_{nn} x_n = b_n$ se resuelve primero, dando como resultado:\n",
    "\n",
    "$$\n",
    "x_n = \\frac{b_n}{A_{nn}}\n",
    "$$\n",
    "\n",
    "Consideremos ahora un momento genérico de la etapa de la sustitución hacia atrás en el que ya se ha calculado $x_n , x_{n−1}, \\dots , x_{k+1}$ ya han sido calculados (en ese orden), y vamos a determinar $x_k$ a partir de la $k$-ésima ecuación:\n",
    "\n",
    "$$\n",
    "A_{k k} x_k+A_{k, k+1} x_{k+1}+\\cdots+A_{k n} x_n=b_k\n",
    "$$\n",
    "\n",
    "y su solución es:\n",
    "\n",
    "$$\n",
    "x_k=\\left(b_k-\\sum_{j=k+1}^n A_{k j} x_j\\right) \\frac{1}{A_{k k}}, \\quad k=n-1, n-2, \\ldots, 1\n",
    "$$\n"
   ]
  },
  {
   "attachments": {},
   "cell_type": "markdown",
   "metadata": {},
   "source": [
    "\n",
    "**Ejercicio 2 -** Completa el algoritmo del método de Gauss comenzado en el ejercicio 1, programando ahora la fase de sustitución hacia atrás, teniendo en cuenta las consideraciones anteriores."
   ]
  },
  {
   "cell_type": "code",
   "execution_count": 6,
   "metadata": {},
   "outputs": [
    {
     "name": "stdout",
     "output_type": "stream",
     "text": [
      "32\n",
      "\n",
      "[-2 -2]\n",
      "\n",
      "[[19 22]\n",
      " [43 50]]\n"
     ]
    },
    {
     "data": {
      "text/plain": [
       "array([[19, 22],\n",
       "       [43, 50]])"
      ]
     },
     "execution_count": 6,
     "metadata": {},
     "output_type": "execute_result"
    }
   ],
   "source": [
    "import numpy as np\n",
    "a = np.array([1, 2, 3])\n",
    "b = np.array([4, 5, 6])\n",
    "result = np.dot(a, b)  # (1*4) + (2*5) + (3*6) = 32\n",
    "print(result)  # Salida: 32\n",
    "print()\n",
    "\n",
    "A = np.array([[1, 2, 3],\n",
    "              [4, 5, 6]])\n",
    "x = np.array([1, 0, -1])\n",
    "result = np.dot(A, x)  # [(1*1 + 2*0 + 3*(-1)), (4*1 + 5*0 + 6*(-1))]\n",
    "print(result)  # Salida: [-2, -2]\n",
    "print()\n",
    "\n",
    "A = np.array([[1, 2],\n",
    "              [3, 4]])\n",
    "B = np.array([[5, 6],\n",
    "              [7, 8]])\n",
    "result = np.dot(A, B)\n",
    "print(result)\n",
    "\n",
    "A @ B  # Igual que np.dot(A, B)\n"
   ]
  },
  {
   "cell_type": "code",
   "execution_count": 7,
   "metadata": {},
   "outputs": [
    {
     "data": {
      "text/plain": [
       "array([ 1., -2.,  3.])"
      ]
     },
     "execution_count": 7,
     "metadata": {},
     "output_type": "execute_result"
    }
   ],
   "source": [
    "A = np.array([[4, -2, 1],\n",
    "             [-2, 4, -2],\n",
    "             [1, -2, 4]], dtype = float)\n",
    "\n",
    "b = np.array([11, -16, 17])\n",
    "\n",
    "solution = np.linalg.solve(A, b) \n",
    "solution\n"
   ]
  },
  {
   "cell_type": "code",
   "execution_count": 8,
   "metadata": {},
   "outputs": [
    {
     "name": "stdout",
     "output_type": "stream",
     "text": [
      "[[  4.  -2.   1.  11.]\n",
      " [ -2.   4.  -2. -16.]\n",
      " [  1.  -2.   4.  17.]]\n",
      "\n",
      "[[ 4.  -2.   1. ]\n",
      " [ 0.   3.  -1.5]\n",
      " [ 0.   0.   3. ]]\n",
      "\n",
      "[ 11.  -10.5   9. ]\n"
     ]
    },
    {
     "data": {
      "text/plain": [
       "array([ 1., -2.,  3.])"
      ]
     },
     "execution_count": 8,
     "metadata": {},
     "output_type": "execute_result"
    }
   ],
   "source": [
    "A_ampliada = np.column_stack((A, b))\n",
    "print(A_ampliada)\n",
    "\n",
    "U_ampliada = gauss_U(A_ampliada)\n",
    "A_triangulada = U_ampliada[:, 0:-1]\n",
    "b_transformado = U_ampliada[:, -1]\n",
    "print()\n",
    "print(A_triangulada)\n",
    "print()\n",
    "print(b_transformado)\n",
    "\n",
    "\n",
    "solution = np.linalg.solve(A_triangulada, b_transformado)\n",
    "solution\n"
   ]
  },
  {
   "cell_type": "code",
   "execution_count": 4,
   "metadata": {},
   "outputs": [
    {
     "name": "stdout",
     "output_type": "stream",
     "text": [
      "[ 11.  -10.5   9. ]\n"
     ]
    },
    {
     "data": {
      "text/plain": [
       "array([ 1., -2.,  3.])"
      ]
     },
     "execution_count": 4,
     "metadata": {},
     "output_type": "execute_result"
    }
   ],
   "source": [
    "def backward_sustitusion(U, c):\n",
    "    '''\n",
    "    the input is an upper triangular matrix U which dimension is nxn\n",
    "    and c vector which contains the results, variable dimension\n",
    "    the output is vector x, which initialy contained the unkwons, with the solution\n",
    "    '''\n",
    "    A_copy = np.copy(U)\n",
    "    b_copy = np.copy(c)\n",
    "    \n",
    "    n = len(c)\n",
    "\n",
    "    x = np.zeros((n,))\n",
    "\n",
    "\n",
    "    for i in range(n-1, -1, -1):\n",
    "        total_sum = 0\n",
    "        for j in range(i+1, n):\n",
    "            total_sum += A_copy[i, j] * x[j]\n",
    "\n",
    "        x[i] = (b_copy[i] - total_sum) / A_copy[i, i]\n",
    "\n",
    "\n",
    "    return x\n",
    "\n",
    "A = np.array([[4, -2, 1],\n",
    "             [-2, 4, -2],\n",
    "             [1, -2, 4]], dtype = float)\n",
    "\n",
    "b = np.array([11, -16, 17])\n",
    "\n",
    "A_ampliada = np.column_stack((A, b))\n",
    "U_extended = gauss_U(A_ampliada)\n",
    "\n",
    "A_echelon = U_extended[:, 0:-1]\n",
    "b_transformed = U_extended[:, -1]\n",
    "print(b_transformed)\n",
    "\n",
    "backward_sustitusion(A_echelon, b_transformed)\n"
   ]
  },
  {
   "attachments": {},
   "cell_type": "markdown",
   "metadata": {},
   "source": [
    "### Múltiples sistemas de ecuaciones\n",
    "\n",
    "A menudo es necesario resolver las ecuaciones $\\mathbf{A} \\mathbf{x} = \\mathbf{b}$ para varios vectores de términos independientes. Sea $m$ el número de tales vectores de términos independientes, denotados por $b_1, b_2, \\dots, b_m$ , y sus correspondientes vectores solución $x_1, x_2, \\dots, x_m$ . Denotamos conjuntos de los múltiples sistemas de ecuaciones por $\\mathbf{A} \\mathbf{X} = \\mathbf{B}$, donde\n",
    "$$\n",
    "\\mathbf{X}=\\left[\\begin{array}{llll}\n",
    "\\mathbf{x}_1 & \\mathbf{x}_2 & \\cdots & \\mathbf{x}_m\n",
    "\\end{array}\\right] \\quad \\mathbf{B}=\\left[\\begin{array}{llll}\n",
    "\\mathbf{b}_1 & \\mathbf{b}_2 & \\cdots & \\mathbf{b}_m\n",
    "\\end{array}\\right]\n",
    "$$\n",
    "son matrices $n \\times m$ cuyas columnas son los vectores solución y los vectores de términos independientes, respectivamente.\n",
    "\n",
    "Una forma económica de tratar este conjunto de sistemas de ecuaciones durante la fase de eliminación es incluir todos los $m$ vectores de términos independientes en la matriz de coeficientes aumentada, de forma que se transformen simultáneamente con la matriz de coeficientes. A continuación, las soluciones se obtienen por sustitución hacia atrás de la manera habitual, vector a vector. De esta forma, el algoritmo no se complica demasiado. Sin embargo, el método de descomposición LU descrito posteriormente, es más versátil en el manejo de múltiples sistemas de ecuaciones."
   ]
  },
  {
   "attachments": {},
   "cell_type": "markdown",
   "metadata": {},
   "source": [
    "**Ejercicio 3 -** Utiliza el método de Gauss para varios sistemas de ecuaciones\n",
    "para resolver las ecuaciones $\\mathbf{A} \\mathbf{X} = \\mathbf{B}$, donde\n",
    "\n",
    "$$\n",
    "\\mathbf{A}=\\left[\\begin{array}{rrr}\n",
    "6 & -4 & 1 \\\\\n",
    "-4 & 6 & -4 \\\\\n",
    "1 & -4 & 6\n",
    "\\end{array}\\right] \\quad \\mathbf{B}=\\left[\\begin{array}{rr}\n",
    "-14 & 22 \\\\\n",
    "36 & -18 \\\\\n",
    "6 & 7\n",
    "\\end{array}\\right]\n",
    "$$"
   ]
  },
  {
   "cell_type": "code",
   "execution_count": 10,
   "metadata": {},
   "outputs": [
    {
     "name": "stdout",
     "output_type": "stream",
     "text": [
      "[[  6  -4   1 -14  22]\n",
      " [ -4   6  -4  36 -18]\n",
      " [  1  -4   6   6   7]]\n",
      "[[  6  -4   1 -14  22]\n",
      " [  0   3  -3  26  -3]\n",
      " [  0   0   2  34   0]]\n"
     ]
    }
   ],
   "source": [
    "A = np.array([[6, -4, 1],\n",
    "              [-4, 6, -4],\n",
    "              [1, -4, 6]])\n",
    "\n",
    "B = np.array([[-14, 22], \n",
    "              [36, -18],\n",
    "              [6, 7]])\n",
    "\n",
    "A_concat_B = np.column_stack((A, B))\n",
    "print(A_concat_B)\n",
    "gauss_A_B = gauss_U(A_concat_B)\n",
    "print(gauss_A_B)"
   ]
  },
  {
   "cell_type": "code",
   "execution_count": 11,
   "metadata": {},
   "outputs": [
    {
     "data": {
      "text/plain": [
       "2"
      ]
     },
     "execution_count": 11,
     "metadata": {},
     "output_type": "execute_result"
    }
   ],
   "source": [
    "len(B[0])"
   ]
  },
  {
   "cell_type": "code",
   "execution_count": 12,
   "metadata": {},
   "outputs": [
    {
     "data": {
      "text/plain": [
       "(3, 2)"
      ]
     },
     "execution_count": 12,
     "metadata": {},
     "output_type": "execute_result"
    }
   ],
   "source": [
    "B.shape"
   ]
  },
  {
   "cell_type": "code",
   "execution_count": 13,
   "metadata": {},
   "outputs": [
    {
     "data": {
      "text/plain": [
       "array([[0., 0.],\n",
       "       [0., 0.],\n",
       "       [0., 0.]])"
      ]
     },
     "execution_count": 13,
     "metadata": {},
     "output_type": "execute_result"
    }
   ],
   "source": [
    "np.zeros(B.shape)"
   ]
  },
  {
   "cell_type": "code",
   "execution_count": 14,
   "metadata": {},
   "outputs": [
    {
     "data": {
      "text/plain": [
       "array([[11.94444444,  3.        ],\n",
       "       [25.66666667, -1.        ],\n",
       "       [17.        ,  0.        ]])"
      ]
     },
     "execution_count": 14,
     "metadata": {},
     "output_type": "execute_result"
    }
   ],
   "source": [
    "def backward_sustitusion_p_systems(A, B):\n",
    "    '''\n",
    "    the input is an upper triangular matrix A which dimension is nxn\n",
    "    and B matrix which contains the results, its dimension is nxp\n",
    "    the output is matrix X, which initialy contained the unkwons, with the solution\n",
    "    '''\n",
    "    A_copy = np.copy(A)\n",
    "    B_copy = np.copy(B)\n",
    "    \n",
    "    n = len(A)\n",
    "    p = len(B[0])\n",
    "\n",
    "    X = np.zeros(B.shape)\n",
    "\n",
    "    for s in range(p):\n",
    "        for i in range(n-1, -1, -1):\n",
    "            total_sum = 0\n",
    "            for j in range(i+1, n):\n",
    "                total_sum += A_copy[i, j] * X[j, s]\n",
    "\n",
    "            X[i, s] = (B_copy[i, s] - total_sum) / A_copy[i, i]\n",
    "\n",
    "    return X\n",
    "\n",
    "\n",
    "A = np.array([[6, -4, 1],\n",
    "              [-4, 6, -4],\n",
    "              [1, -4, 6]])\n",
    "\n",
    "B = np.array([[-14, 22], \n",
    "              [36, -18],\n",
    "              [6, 7]])\n",
    "\n",
    "A_concat_B = np.column_stack((A, B))\n",
    "#print(A_concat_B)\n",
    "gauss_A_B = gauss_U(A_concat_B)\n",
    "#print(gauss_A_B)\n",
    "\n",
    "A_triang = gauss_A_B[:, 0:-2]\n",
    "B_mod = gauss_A_B[:, 3:]\n",
    "\n",
    "backward_sustitusion_p_systems(A_triang, B_mod)"
   ]
  },
  {
   "cell_type": "code",
   "execution_count": null,
   "metadata": {},
   "outputs": [],
   "source": [
    "# A = np.array([[4, -2, 1],\n",
    "#              [-2, 4, -2],\n",
    "#              [1, -2, 4]], dtype = float)\n",
    "\n",
    "# b = np.array([11, -16, 17])\n",
    "\n",
    "# A_ampliada = np.column_stack((A, b))\n",
    "# U_extended = gauss_U(A_ampliada)\n",
    "\n",
    "# A_echelon = U_extended[:, 0:-1]\n",
    "# b_transformed = U_extended[:, -1]\n",
    "# print(b_transformed)\n",
    "\n",
    "# backward_sustitusion(A_echelon, b_transformed)\n",
    "\n",
    "\n",
    "\n",
    "# B.shape[0] = len(B[0])??"
   ]
  },
  {
   "attachments": {},
   "cell_type": "markdown",
   "metadata": {},
   "source": [
    "**Ejercicio 4 -** Extiende la implementación del método de Gauss realiza en los ejercicio 1 y 2 para que se pueda trabajar con múltiples sistemas de ecuaciones, $\\mathbf{A} \\mathbf{X} = \\mathbf{B}$."
   ]
  },
  {
   "cell_type": "code",
   "execution_count": null,
   "metadata": {},
   "outputs": [],
   "source": []
  },
  {
   "attachments": {},
   "cell_type": "markdown",
   "metadata": {},
   "source": [
    "**Ejercicio 5 -** Una matriz $n \\times n$ de Vandermode, $\\mathbf{A}$ se define como\n",
    "\n",
    "$$\n",
    "A_{i j}=v_i^{n-j}, \\quad i=1,2, \\ldots, n, \\quad j=1,2, \\ldots, n\n",
    "$$\n",
    "\n",
    "donde $v$ es un vector. Utiliza las funciones implementadas anteriormente para resolver sistemas de ecuaciones por el método de Guass para calcular la solución de $\\mathbf{A}\\mathbf{x} = \\mathbf{b}$, donde $\\mathbf{A}$ es una matriz de Vandermode $6 \\times 6$ generada a partir del vector\n",
    "$$\n",
    "\\mathbf{v}=\\left[\\begin{array}{llllll}\n",
    "1.0 & 1.2 & 1.4 & 1.6 & 1.8 & 2.0\n",
    "\\end{array}\\right]^T\n",
    "$$\n",
    "y\n",
    "$$\n",
    "\\mathbf{b}=\\left[\\begin{array}{llllll}\n",
    "0 & 1 & 0 & 1 & 0 & 1\n",
    "\\end{array}\\right]^T\n",
    "$$\n",
    "Evalúe también la precisión de la solución (las matrices de Vandermode tienden a estar mal condicionadas).\n"
   ]
  },
  {
   "cell_type": "code",
   "execution_count": 18,
   "metadata": {},
   "outputs": [
    {
     "name": "stdout",
     "output_type": "stream",
     "text": [
      "[[ 1  2  4]\n",
      " [ 1  3  9]\n",
      " [ 1  4 16]]\n",
      "\n",
      "[[ 4  2  1]\n",
      " [ 9  3  1]\n",
      " [16  4  1]]\n"
     ]
    }
   ],
   "source": [
    "import numpy as np\n",
    "\n",
    "x = [2, 3, 4]\n",
    "V = np.vander(x, increasing=True) \n",
    "print(V)\n",
    "print()\n",
    "V = np.vander(x, increasing=False) \n",
    "print(V)\n"
   ]
  },
  {
   "cell_type": "code",
   "execution_count": 28,
   "metadata": {},
   "outputs": [
    {
     "data": {
      "text/plain": [
       "array([[ 1.     ,  1.     ,  1.     ,  1.     ,  1.     ,  1.     ],\n",
       "       [ 1.     ,  1.2    ,  1.44   ,  1.728  ,  2.0736 ,  2.48832],\n",
       "       [ 1.     ,  1.4    ,  1.96   ,  2.744  ,  3.8416 ,  5.37824],\n",
       "       [ 1.     ,  1.6    ,  2.56   ,  4.096  ,  6.5536 , 10.48576],\n",
       "       [ 1.     ,  1.8    ,  3.24   ,  5.832  , 10.4976 , 18.89568],\n",
       "       [ 1.     ,  2.     ,  4.     ,  8.     , 16.     , 32.     ]])"
      ]
     },
     "execution_count": 28,
     "metadata": {},
     "output_type": "execute_result"
    }
   ],
   "source": [
    "def vandermode_matrix(v):\n",
    "    '''\n",
    "    the input is a vector, v, wich dimension in n,.\n",
    "\n",
    "    tthe output is vandermode matrix A\n",
    "    '''\n",
    "\n",
    "    n = len(v)\n",
    "\n",
    "    A = np.ones((n, n))\n",
    "\n",
    "    for i in range(1, n):\n",
    "        A[:, i] = v ** i\n",
    "\n",
    "    return A\n",
    "\n",
    "v = np.array([1.0, 1.2, 1.4, 1.6, 1.8, 2.0])\n",
    "vander_A = vandermode_matrix(v)\n",
    "vander_A"
   ]
  },
  {
   "cell_type": "code",
   "execution_count": 32,
   "metadata": {},
   "outputs": [
    {
     "name": "stdout",
     "output_type": "stream",
     "text": [
      "[ -2751.           9709.33333333 -13499.99999999   9250.\n",
      "  -3125.            416.66666667]\n"
     ]
    },
    {
     "data": {
      "text/plain": [
       "6"
      ]
     },
     "execution_count": 32,
     "metadata": {},
     "output_type": "execute_result"
    }
   ],
   "source": [
    "b = np.array([0, 1, 0, 1, 0, 1])\n",
    "\n",
    "vander_A_b = np.column_stack((vander_A, b))\n",
    "\n",
    "triangular_vander = gauss_U(vander_A_b)\n",
    "\n",
    "sol = backward_sustitusion(triangular_vander[:, :-1], triangular_vander[:, -1])\n",
    "print(sol)\n",
    "len(sol)"
   ]
  },
  {
   "attachments": {},
   "cell_type": "markdown",
   "metadata": {},
   "source": [
    "## Métodos basados en descomposición LU\n",
    "\n",
    "### Introducción\n",
    "Es posible demostrar que cualquier matriz cuadrada $\\mathbf{A}$ puede expresarse como producto de una matriz triangular inferior $\\mathbf{L}$ y una matriz triangular superior $\\mathbf{U}$:\n",
    "$$\n",
    "\\mathbf{A} = \\mathbf{LU}\n",
    "$$\n",
    "El proceso de calcular $\\mathbf{L}$ y $\\mathbf{U}$ para una determinada matriz $\\mathbf{A}$ se conoce como *descomposición LU* o *factorización LU*. Esta descomposición LU no es única (las combinaciones de $\\mathbf{L}$ y $\\mathbf{U}$ para una cierta matriz $\\mathbf{A}$ son infinitas), a menos que se impongan ciertas restricciones a $\\mathbf{L}$ o $\\mathbf{U}$. Estas restricciones distinguen un tipo de descomposición de otro. En la tabla siguiente se recogen las descomposiciones que estudiaremos en esta sección:\n",
    "\n",
    "<center>\n",
    "\n",
    "|         Nombre             |                Restricciones            |\n",
    "|----------------------------|-----------------------------------------|\n",
    "|Descomposición de Doolittle | $L_{ii} = 1, \\quad i = 1, 2, \\dots , n$ |\n",
    "|Descomposición de Choleski\t | $\\mathbf{L} = \\mathbf{U}^T$             |\n",
    "\n",
    "</center>\n",
    "\n",
    "Después de descomponer $\\mathbf{A}$, es fácil resolver el sistema $\\mathbf{Ax} = \\mathbf{b}$. Primero se reescribe el sistema como $\\mathbf{LUx} = \\mathbf{b}$. Haciendo $\\mathbf{Ux} = \\mathbf{y}$, el sistema de ecuaciones se convierten en\n",
    "$$\n",
    "\\mathbf{Ly} = \\mathbf{b}\n",
    "$$\n",
    "que puede resolverse para $\\mathbf{y}$ mediante una sustitución hacia adelante. Entonces\n",
    "$$\n",
    "\\mathbf{Ux} = \\mathbf{y}\n",
    "$$\n",
    "permitirá calcular $\\mathbf{x}$ por el proceso de sustitución hacia atrás.\n",
    "\n",
    "La ventaja de la descomposición LU sobre el método de eliminación de Gauss es que una vez descompuesto $\\mathbf{A}$, podemos resolver $\\mathbf{Ax} = \\mathbf{b}$ para tantos vectores constantes $\\mathbf{b}$ como queramos. El coste de cada solución adicional es relativamente pequeño, porque las operaciones de sustitución hacia delante y hacia atrás consumen mucho menos tiempo que el proceso de descomposición."
   ]
  },
  {
   "attachments": {},
   "cell_type": "markdown",
   "metadata": {},
   "source": [
    "### Método de descomposición de Doolittle\n",
    "#### Fase de descomposición.\n",
    "\n",
    "La descomposición de Doolittle está estrechamente relacionada con la eliminación de Gauss. Para ilustrar la relación, consideremos una matriz $\\mathrm{A}$ de $3 \\times 3$ y supongamos que existen matrices triangulares\n",
    "$$\n",
    "\\mathbf{L}=\\left[\\begin{array}{ccc}\n",
    "1 & 0 & 0 \\\\\n",
    "L_{21} & 1 & 0 \\\\\n",
    "L_{31} & L_{32} & 1\n",
    "\\end{array}\\right] \\quad \\mathbf{U}=\\left[\\begin{array}{ccc}\n",
    "U_{11} & U_{12} & U_{13} \\\\\n",
    "0 & U_{22} & U_{23} \\\\\n",
    "0 & 0 & U_{33}\n",
    "\\end{array}\\right]\n",
    "$$\n",
    "tal que $\\mathrm{A} = \\mathrm{LU}$. Multiplicando obtenemos:\n",
    "$$\n",
    "\\mathbf{A}=\\left[\\begin{array}{lll}\n",
    "U_{11} & U_{12} & U_{13} \\\\\n",
    "U_{11} L_{21} & U_{12} L_{21}+U_{22} & U_{13} L_{21}+U_{23} \\\\\n",
    "U_{11} L_{31} & U_{12} L_{31}+U_{22} L_{32} & U_{13} L_{31}+U_{23} L_{32}+U_{33}\n",
    "\\end{array}\\right]\n",
    "$$\n",
    "Apliquemos ahora la eliminación de Gauss a la ecuación (2.12). La primera pasada del procedimiento de eliminación consiste en elegir la primera fila como fila pivote y aplicar las siguientes operaciones elementales:\n",
    "$$\n",
    "\\begin{aligned}\n",
    "\\operatorname{fila} 2 & \\leftarrow \\operatorname{fila} 2 - L_{21} \\times \\operatorname{fila} 1 \\quad \\left(\\text {elimina } A_{21}\\right) \\\\\n",
    "\\operatorname{fila} 3 & \\leftarrow \\operatorname{fila} 3 - L_{31} \\times \\operatorname{fila} 1 \\quad  \\left( \\text {elimina } A_{31} \\right) \\\\\n",
    "\\end{aligned}\n",
    "$$\n",
    "Obteniéndose\n",
    "$$\n",
    "\\begin{aligned}\n",
    "\\mathbf{A}^{\\prime} &=\\left[\\begin{array}{ccc}\n",
    "U_{11} & U_{12} & U_{13} \\\\\n",
    "0 & U_{22} & U_{23} \\\\\n",
    "0 & U_{22} L_{32} & U_{23} L_{32}+U_{33}\n",
    "\\end{array}\\right]\n",
    "\\end{aligned}\n",
    "$$\n",
    "En la siguiente pasada tomamos la segunda fila como fila pivote, y hacemos la siguiente operación:\n",
    "$$\n",
    "\\operatorname{fila} 3 \\leftarrow \\operatorname{fila} 3 - L_{32} \\times \\operatorname{fila} 2 \\quad \\left(\\text {elimina } A_{32}\\right)\n",
    "$$\n",
    "obteniendo finalmente:\n",
    "$$\n",
    "\\mathbf{A}^{\\prime \\prime}=\\mathbf{U}=\\left[\\begin{array}{ccc}\n",
    "U_{11} & U_{12} & U_{13} \\\\\n",
    "0 & U_{22} & U_{23} \\\\\n",
    "0 & 0 & U_{33}\n",
    "\\end{array}\\right]\n",
    "$$\n",
    "\n",
    "El ejemplo anterior revela dos características importantes de la descomposición de Doolittle:\n",
    "\n",
    "1.\tLa matriz $\\mathbf{U}$ es idéntica a la matriz triangular superior que resulta de la eliminación de Gauss.\n",
    "2.\tLos elementos no diagonales de $\\mathbf{L}$ son los multiplicadores de la ecuación pivote utilizados durante la eliminación de Gauss; es decir, $L_{ij}$ es el multiplicador que eliminó $A_{ij}$ .\n",
    "\n",
    "Es una práctica habitual almacenar los multiplicadores en la parte triangular inferior de la matriz de coeficientes, sustituyendo los coeficientes a medida que se eliminan ($L_{ij}$ sustituyendo a los $A_{ij}$ ). La diagonal de $\\mathbf{L}$ no tienen que ser almacenada, porque se entiende todos sus valores son $1$. La forma final de la matriz de coeficientes sería por tanto la siguiente mezcla de $\\mathbf{L}$ y $\\mathbf{U}$:\n",
    "$$\n",
    "[\\mathbf{L} \\backslash \\mathbf{U}]=\\left[\\begin{array}{lll}\n",
    "U_{11} & U_{12} & U_{13} \\\\\n",
    "L_{21} & U_{22} & U_{23} \\\\\n",
    "L_{31} & L_{32} & U_{33}\n",
    "\\end{array}\\right]\n",
    "$$\n",
    "\n",
    "El algoritmo para la descomposición de Doolittle es, por tanto, idéntico al procedimiento de eliminación de Gauss, excepto que cada multiplicador $\\lambda$ se almacena ahora en la parte triangular inferior de $\\mathbf{A}$."
   ]
  },
  {
   "attachments": {},
   "cell_type": "markdown",
   "metadata": {},
   "source": [
    "#### Fase de resolución\n",
    "\n",
    "Consideremos ahora el procedimiento para obtener la solución de $\\mathbf{Ly} = \\mathbf{b}$ por sustitución hacia adelante. La forma escalar de las ecuaciones es (recuerda que $L_{ii} = 1$):\n",
    "\n",
    "$$\n",
    "\\begin{aligned}\n",
    "y_1=& b_1 \\\\\n",
    "L_{21} y_1+y_2=& b_2 \\\\\n",
    "\\vdots \\\\\n",
    "L_{k 1} y_1+L_{k 2} y_2+\\cdots+L_{k, k-1} y_{k-1}+y_k=& b_k \\\\\n",
    "\\vdots\n",
    "\\end{aligned}\n",
    "$$\n",
    "\n",
    "Si se resuelve la $k$-ésima ecuación para $y_k$ se obtiene\n",
    "\n",
    "$$\n",
    "y_k=b_k-\\sum_{j=1}^{k-1} L_{k j} y_j, \\quad k=2,3, \\ldots, n\n",
    "$$\n",
    "\n",
    "Por otro lado, la fase de sustitución hacia atrás para resolver $\\mathbf{Ux} = \\mathbf{y}$ es idéntica a la utilizada en el método de eliminación de Gauss.\n"
   ]
  },
  {
   "attachments": {},
   "cell_type": "markdown",
   "metadata": {},
   "source": [
    "**Ejercicio 6 -** Implementa el método LU para la resolución de sistemas lineales, siguiendo las indicaciones dadas anteriormente. Puedes reutilizar código de los ejercicios anteriores."
   ]
  },
  {
   "cell_type": "code",
   "execution_count": null,
   "metadata": {},
   "outputs": [
    {
     "name": "stdout",
     "output_type": "stream",
     "text": [
      "L3 = \n",
      " [[ 1.          0.          0.        ]\n",
      " [-0.66666667  1.          0.        ]\n",
      " [ 0.16666667 -1.          1.        ]]\n",
      "\n",
      "u3 =  \n",
      " [[  6  -4   1 -14  22]\n",
      " [  0   3  -3  26  -3]\n",
      " [  0   0   2  34   0]]\n",
      "\n",
      "Gauss de A y B  \n",
      " [[  6  -4   1 -14  22]\n",
      " [  0   3  -3  26  -3]\n",
      " [  0   0   2  34   0]]\n"
     ]
    }
   ],
   "source": [
    "def LU_decomposition(A: np.array, func = row_lineal_comb) -> np.array:\n",
    "\n",
    "    '''se le pasa la matriz A\n",
    "    una funcion func que se encargue de hacer al combinacion lineal: A[j] = A[j] - A[i] * k\n",
    "\n",
    "    objetivo -> A = LU\n",
    "\n",
    "    la salida es una matriz rectangular U triangular superior y una matriz cuadrada L triangular inferior\n",
    "    U es la escalonada aplicando gauss\n",
    "    L contiene los valores de k para calcular la escalonada y una diagonal de 1 para que L * U  = A\n",
    "    '''\n",
    "    A_copy = np.copy(A)\n",
    "    n = len(A_copy)\n",
    "\n",
    "    L = np.identity((n))\n",
    "\n",
    "\n",
    "    for i in range(n): #iteramos cada fila\n",
    "        for j in range(i +1, n): #iteramos solo sobre las filas que estan debajo del pivote\n",
    "            if A_copy[i, i] == 0:\n",
    "                continue\n",
    "\n",
    "            k =  A_copy[j, i]/ A_copy[i, i]\n",
    "\n",
    "            L[j, i] = k\n",
    "\n",
    "            A_copy = func(A_copy, i, j, -k)\n",
    "\n",
    "    U = A_copy\n",
    "    return L, U, \n",
    "    \n",
    "\n",
    "A = np.array([[4, -2, 1],\n",
    "             [-2, 4, -2],\n",
    "             [1, -2, 4]], dtype = float)\n",
    "\n",
    "b = np.array([11, -16, 17])\n",
    "\n",
    "L1, U1 = LU_decomposition(A)\n",
    "print(L1)\n",
    "print(U1)\n",
    "# print(L1 + U1)\n",
    "# print()\n",
    "# A_ampliada = np.column_stack((A, b))\n",
    "# L2, U2, = LU_decomposition(A_ampliada)\n",
    "# print(L2)\n",
    "# print(U2)\n",
    "\n",
    "# print()\n",
    "# print(L2@U2)\n",
    "\n",
    "# print()\n",
    "# print(A_ampliada)\n",
    "\n",
    "# A = np.array([[6, -4, 1],\n",
    "#               [-4, 6, -4],\n",
    "#               [1, -4, 6]])\n",
    "\n",
    "# B = np.array([[-14, 22], \n",
    "#               [36, -18],\n",
    "#               [6, 7]])\n",
    "\n",
    "# A_concat_B = np.column_stack((A, B))\n",
    "# L3, U3, = LU_decomposition(A_concat_B)\n",
    "# print('L3 = \\n', L3)\n",
    "# print()\n",
    "# print('u3 =  \\n', U3)\n",
    "# print()\n",
    "# print('Gauss de A y B  \\n', gauss_U(A_concat_B))\n"
   ]
  },
  {
   "cell_type": "code",
   "execution_count": 65,
   "metadata": {},
   "outputs": [
    {
     "name": "stdout",
     "output_type": "stream",
     "text": [
      "32\n"
     ]
    }
   ],
   "source": [
    "a = np.array([1, 2, 3])\n",
    "b = np.array([4, 5, 6])\n",
    "\n",
    "result = np.dot(a, b)  # 1*4 + 2*5 + 3*6 = 32\n",
    "print(result) "
   ]
  },
  {
   "cell_type": "code",
   "execution_count": 66,
   "metadata": {},
   "outputs": [],
   "source": [
    "def forward_substitution(L, b):\n",
    "    \"\"\"Resuelve Lc = b para c usando sustitución hacia adelante.\"\"\"\n",
    "    n = len(b)\n",
    "    c = np.zeros_like(b, dtype=float)\n",
    "    for i in range(n):\n",
    "        c[i] = (b[i] - np.dot(L[i, :i], c[:i])) / L[i, i]\n",
    "    return c"
   ]
  },
  {
   "cell_type": "code",
   "execution_count": null,
   "metadata": {},
   "outputs": [],
   "source": [
    "def forward_substitution_p_systems(L, B):\n",
    "    \"\"\"\n",
    "    Resuelve L * C = B usando sustitución hacia adelante, \n",
    "    donde L es triangular inferior y B es una matriz (varios sistemas).\n",
    "    \"\"\"\n",
    "    n = L.shape[0]  # Tamaño de la matriz\n",
    "    m = B.shape[1]  # Número de sistemas (columnas de B)\n",
    "    C = np.zeros_like(B, dtype=float)  # Matriz solución C con mismas dimensiones que B\n",
    "\n",
    "    # Iterar sobre cada fila\n",
    "    for i in range(n):\n",
    "        for j in range(m):  # Iterar sobre cada columna de B\n",
    "            C[i, j] = (B[i, j] - np.dot(L[i, :i], C[:i, j])) / L[i, i]\n",
    "\n",
    "    return C\n"
   ]
  },
  {
   "cell_type": "code",
   "execution_count": 50,
   "metadata": {},
   "outputs": [
    {
     "data": {
      "text/plain": [
       "array([ 1., -2.,  3.])"
      ]
     },
     "execution_count": 50,
     "metadata": {},
     "output_type": "execute_result"
    }
   ],
   "source": [
    "def forward_backward_sustitution(L, U, b, func= backward_sustitusion):\n",
    "    '''\n",
    "    the input is a lower trriangular matrix L,\n",
    "    an upper triangular matrix U,\n",
    "    yhe solution vector b\n",
    "    and the function which will be a normal backward sustitusion by default,\n",
    "    the function of this parameter will be dealing with the second part of fthe solving\n",
    "    \n",
    "\n",
    "    reminder: we are searching for x, not y\n",
    "    '''\n",
    "\n",
    "    assert len(b) >= 1, 'this method isnt valid for solving multiply ecuation systems'\n",
    "\n",
    "    #forward sustitutuon\n",
    "    # Ux = y -> Solve Ly = b\n",
    "\n",
    "    L_copy = np.copy(L)\n",
    "    b_copy = np.copy(b)\n",
    "    y = np.zeros(b.shape)\n",
    "\n",
    "    for i in range(len(L)):\n",
    "        total_sum = 0\n",
    "        for j in range(i, -1, -1):\n",
    "            total_sum += L_copy[i, j] * y[j]\n",
    "            # print(f'total sum = {total_sum}')\n",
    "\n",
    "        y[i] = (b_copy[i] - total_sum) / L_copy[i, i]\n",
    "        # print(f'y = {y}')\n",
    "\n",
    "    # print(y)\n",
    "\n",
    "    #backward sustitution\n",
    "    # Ux = y\n",
    "\n",
    "    solution = func(U, y)\n",
    "\n",
    "    return solution\n",
    "\n",
    "\n",
    "\n",
    "A = np.array([[4, -2, 1],\n",
    "             [-2, 4, -2],\n",
    "             [1, -2, 4]], dtype = float)\n",
    "\n",
    "b = np.array([11, -16, 17])\n",
    "\n",
    "B = np.array([[-14, 22], \n",
    "              [36, -18],\n",
    "              [6, 7]])\n",
    "\n",
    "\n",
    "L1, U1 = LU_decomposition(A)\n",
    "# print(L1)\n",
    "# print(U1)\n",
    "\n",
    "sol = forward_backward_sustitution(L1, U1, b)\n",
    "sol\n",
    "\n",
    "\n",
    "\n"
   ]
  },
  {
   "attachments": {},
   "cell_type": "markdown",
   "metadata": {},
   "source": [
    "### Método de descomposición de Choleski\n",
    "\n",
    "La descomposición de Choleski $\\mathbf{A} = \\mathbf{LL}^T$ tiene dos limitaciones:\n",
    "1. Como $\\mathbf{LL}^T$ es siempre una matriz simétrica, **la descomposición de Choleski requiere que $\\mathbf{A}$ sea simétrica**.\n",
    "2. El proceso de descomposición implica tomar las raíces cuadradas de ciertas combinaciones de los elementos de $\\mathbf{A}$. Se puede demostrar que para evitar las raíces cuadradas de los números negativos, **$\\mathbf{A}$ debe ser definida positiva** (que equivale por ejemplo a exigir que todos sus autovalores sean positivos).\n",
    "\n",
    "Si se puede lidiar con estas limitaciones, entonces la descomposición de Choleski resulta una de las mejores opciones, ya que requiere aproximadamente la mitad de las operaciones necesarias en comparación con una descomposición LU al uso. Esto se debe a su explotación de la simetría.\n",
    "\n",
    "A continuación se describe esta descomposición\n",
    "\n",
    "$$\n",
    "\\mathbf{A}=\\mathbf{L L}^T\n",
    "$$\n",
    "\n",
    "de una matriz $3 \\times 3$:\n",
    "\n",
    "$$\n",
    "\\left[\\begin{array}{lll}\n",
    "A_{11} & A_{12} & A_{13} \\\\\n",
    "A_{21} & A_{22} & A_{23} \\\\\n",
    "A_{31} & A_{32} & A_{33}\n",
    "\\end{array}\\right]=\\left[\\begin{array}{ccc}\n",
    "L_{11} & 0 & 0 \\\\\n",
    "L_{21} & L_{22} & 0 \\\\\n",
    "L_{31} & L_{32} & L_{33}\n",
    "\\end{array}\\right]\\left[\\begin{array}{ccc}\n",
    "L_{11} & L_{21} & L_{31} \\\\\n",
    "0 & L_{22} & L_{32} \\\\\n",
    "0 & 0 & L_{33}\n",
    "\\end{array}\\right]\n",
    "$$\n",
    "Después de realizar la multiplicación del lado derecho, obtenemos\n",
    "$$\n",
    "\\left[\\begin{array}{lll}\n",
    "A_{11} & A_{12} & A_{13} \\\\\n",
    "A_{21} & A_{22} & A_{23} \\\\\n",
    "A_{31} & A_{32} & A_{33}\n",
    "\\end{array}\\right]=\\left[\\begin{array}{lll}\n",
    "L_{11}^2 & L_{11} L_{21} & L_{11} L_{31} \\\\\n",
    "L_{11} L_{21} & L_{21}^2+L_{22}^2 & L_{21} L_{31}+L_{22} L_{32} \\\\\n",
    "L_{11} L_{31} & L_{21} L_{31}+L_{22} L_{32} & L_{31}^2+L_{32}^2+L_{33}^2\n",
    "\\end{array}\\right]\n",
    "$$\n",
    "\n",
    "Nótese que la matriz del lado derecho es simétrica, como se ha señalado anteriormente. Igualando las matrices $\\mathbf{A}$ y $\\mathbf{LL}^T$ elemento a elemento, obtenemos seis ecuaciones (por simetría sólo hay que considerar los elementos triangulares inferiores o superiores) en función de los seis coeficientes desconocidos de $\\mathbf{L}$. Resolviendo estas ecuaciones en un cierto orden, es posible obtener sólo una incógnita en cada ecuación.\n",
    "\n",
    "Consideremos la parte triangular inferior de las matrices de la ecuación anterior (la parte triangular superior también serviría). Igualando los elementos de la primera columna, empezando por la primera fila y procediendo hacia abajo, podemos calcular $L_{11}$ , $L_{21}$ , y $L_{31}$ en ese orden:\n",
    "\n",
    "$$\n",
    "\\begin{array}{ll}\n",
    "A_{11}=L_{11}^2 & L_{11}=\\sqrt{A_{11}} \\\\\n",
    "A_{21}=L_{11} L_{21} & L_{21}=A_{21} / L_{11} \\\\\n",
    "A_{31}=L_{11} L_{31} & L_{31}=A_{31} / L_{11}\n",
    "\\end{array}\n",
    "$$\n",
    "\n",
    "La segunda columna, a partir de la segunda fila, permite calcular $L_{22}$ y $L_{32}$:\n",
    "$$\n",
    "\\begin{array}{ll}\n",
    "A_{22}=L_{21}^2+L_{22}^2 & L_{22}=\\sqrt{A_{22}-L_{21}^2} \\\\\n",
    "A_{32}=L_{21} L_{31}+L_{22} L_{32} & L_{32}=\\left(A_{32}-L_{21} L_{31}\\right) / L_{22}\n",
    "\\end{array}\n",
    "$$\n",
    "\n",
    "Por último de la tercera columna y tercera fila obtenemos da $L_{33}$:\n",
    "\n",
    "$$\n",
    "A_{33}=L_{31}^2+L_{32}^2+L_{33}^2 \\quad L_{33}=\\sqrt{A_{33}-L_{31}^2-L_{32}^2}\n",
    "$$\n",
    "\n",
    "Ahora podemos extrapolar los resultados para una matriz $n \\times n$ cualquiera. Se observa que un elemento genérico de la parte triangular inferior de $\\mathbf{L L}^T$ tendrá la forma:\n",
    "\n",
    "$$\n",
    "\\left(\\mathbf{L L}^T\\right)_{i j}=L_{i 1} L_{j 1}+L_{i 2} L_{j 2}+\\cdots+L_{i j} L_{j j}=\\sum_{k=1}^j L_{i k} L_{j k}, \\quad i \\geq j\n",
    "$$\n",
    "\n",
    "Al igualar este término con el elemento correspondiente de $\\mathbf{A}$ se obtiene\n",
    "\n",
    "$$\n",
    "A_{i j}=\\sum_{k=1}^j L_{i k} L_{j k}, \\quad i=j, j+1, \\ldots, n, \\quad j=1,2, \\ldots, n\n",
    "$$\n",
    "\n",
    "El rango de índices mostrado limita los elementos a la parte triangular inferior. Para la primera columna ($j = 1$), de la ecuación anterior obtenemos:\n",
    "\n",
    "$$\n",
    "L_{11}=\\sqrt{A_{11}} \\quad L_{i 1}=A_{i 1} / L_{11}, \\quad i=2,3, \\ldots, n\n",
    "$$\n",
    "\n",
    "Al pasar a otras columnas, observamos que la incógnita es $L_{ij}$ (los demás elementos de $\\mathbf{L}$ que aparecen en la ecuación ya se han calculado). Tomando el término que contiene $L_{ij}$ fuera de la suma, se obtiene:\n",
    "\n",
    "$$\n",
    "A_{i j}=\\sum_{k=1}^{j-1} L_{i k} L_{j k}+L_{i j} L_{j j}\n",
    "$$\n",
    "\n",
    "Si $i = j$ (elemento de la diagonal), la solución es\n",
    "\n",
    "$$\n",
    "L_{j j}=\\sqrt{A_{j j}-\\sum_{k=1}^{j-1} L_{j k}^2}, \\quad j=2,3, \\ldots, n\n",
    "$$\n",
    "\n",
    "Y para elementos fuera de la diagonal:\n",
    "\n",
    "$$\n",
    "L_{i j}=\\left(A_{i j}-\\sum_{k=1}^{j-1} L_{i k} L_{j k}\\right) / L_{j j}, \\quad j=2,3, \\ldots, n-1, \\quad i=j+1, j+2, \\ldots, n\n",
    "$$\n",
    "\n",
    "#### Otras consideraciones sobre este algoritmo\n",
    "\n",
    "Observa en el desarrollo anterior que $A_{ij}$ sólo aparece en la fórmula de $L_{ij}$. Por lo tanto, una vez que $L_{ij}$ ha sido calculado, el correspondiente $A_{ij}$ no será usado de nuevo. Esto permite escribir los elementos de $\\mathbf{L}$ sobre la parte triangular inferior de $\\mathbf{A}$ a medida que se calculan. Los elementos por encima de la diagonal principal de $\\mathbf{A}$ permanecerán intactos. \n",
    "\n",
    "Ten en cuenta también que, una vez descompuesta la matriz de coeficientes $\\mathbf{A}$, la solución de $\\mathbf{Ax} = \\mathbf{b}$ puede obtenerse mediante las operaciones habituales de sustitución hacia delante y hacia atrás. "
   ]
  },
  {
   "cell_type": "code",
   "execution_count": 127,
   "metadata": {},
   "outputs": [
    {
     "name": "stdout",
     "output_type": "stream",
     "text": [
      "Autovalores: [5. 2.]\n",
      "Autovectores:\n",
      " [[ 0.89442719 -0.70710678]\n",
      " [ 0.4472136   0.70710678]]\n",
      "[5. 2.]\n"
     ]
    }
   ],
   "source": [
    "#teoria numpy\n",
    "import numpy as np\n",
    "\n",
    "# Definir la matriz\n",
    "A = np.array([[4, 2],\n",
    "              [1, 3]])\n",
    "\n",
    "#autovalores = np.linalg.eig(A)[0]\n",
    "\n",
    "# Calcular los autovalores y autovectores\n",
    "autovalores, autovectores = np.linalg.eig(A)\n",
    "\n",
    "# Imprimir resultados\n",
    "print(\"Autovalores:\", autovalores)   # Valores propios\n",
    "print(\"Autovectores:\\n\", autovectores)  # Vectores propios\n",
    "\n"
   ]
  },
  {
   "attachments": {},
   "cell_type": "markdown",
   "metadata": {},
   "source": [
    "**Ejercicio 7 -** Programa una función que implemente la descomposición de Choleski. Si se encuentra un término diagonal negativo durante la descomposición, se debe imprime un mensaje de error y se debe termina el programa."
   ]
  },
  {
   "cell_type": "code",
   "execution_count": null,
   "metadata": {},
   "outputs": [
    {
     "data": {
      "text/plain": [
       "array([[2.        , 0.        , 0.        ],\n",
       "       [1.        , 2.23606798, 0.        ],\n",
       "       [1.        , 0.4472136 , 1.94935887]])"
      ]
     },
     "execution_count": 64,
     "metadata": {},
     "output_type": "execute_result"
    }
   ],
   "source": [
    "def choleski_decomposition(A):\n",
    "    '''\n",
    "    the input is a symetric and positive defined matrix A, otherwise an assert will raise an error.\n",
    "    '''\n",
    "\n",
    "    if not np.array_equal(A, A.T):\n",
    "        raise ValueError(\"matrix A isnt symetric\")\n",
    "    \n",
    "    if not np.all(np.linalg.eigvals(A) > 0):\n",
    "        raise ValueError(\"matriz A isnt positive defined\")\n",
    "\n",
    "    L = np.zeros(A.shape)\n",
    "\n",
    "    for i in range(0, len(A)):\n",
    "        for j in range(i+1):\n",
    "            total_sum = 0\n",
    "            for k in range(j):\n",
    "                total_sum += L[i, k] * L[j, k]\n",
    "                \n",
    "            if i == j: \n",
    "                L[j, j] = (A[i, j] - total_sum) ** 0.5\n",
    "            else: \n",
    "                L[i, j] = (A[i, j] - total_sum) / L[j, j]\n",
    "    return L\n",
    "\n",
    "A = np.array([[4, 2, 2],\n",
    "              [2, 6, 2],\n",
    "              [2, 2, 5]], dtype=float)\n",
    "\n",
    "\n",
    "choleski_decomposition(A)\n"
   ]
  },
  {
   "attachments": {},
   "cell_type": "markdown",
   "metadata": {},
   "source": [
    "**Ejercicio 8 -** Programa una función que, dada una descomposición de Choleski, obtenga la solución del sistema."
   ]
  },
  {
   "cell_type": "code",
   "execution_count": 68,
   "metadata": {},
   "outputs": [
    {
     "data": {
      "text/plain": [
       "array([[ 2.,  0.,  0.],\n",
       "       [-1.,  1.,  0.],\n",
       "       [ 1., -3.,  1.]])"
      ]
     },
     "execution_count": 68,
     "metadata": {},
     "output_type": "execute_result"
    }
   ],
   "source": [
    "A = np.array([[4, -2, 2],\n",
    "            [-2, 2, -4],\n",
    "            [2, -4, 11]], dtype=float)\n",
    "\n",
    "L = choleski_decomposition(A)\n",
    "L"
   ]
  },
  {
   "attachments": {},
   "cell_type": "markdown",
   "metadata": {},
   "source": [
    "**Ejercicio 9 -** Operando a mano, utiliza el método de descomposición de Doolittle para resolver el sistema de ecuaciones $\\mathbf{Ax} = \\mathbf{b}$, donde\n",
    "\n",
    "$$\n",
    "\\mathbf{A}=\\left[\\begin{array}{rrr}\n",
    "1 & 4 & 1 \\\\\n",
    "1 & 6 & -1 \\\\\n",
    "2 & -1 & 2\n",
    "\\end{array}\\right] \\quad \\mathbf{b}=\\left[\\begin{array}{r}\n",
    "7 \\\\\n",
    "13 \\\\\n",
    "5\n",
    "\\end{array}\\right]\n",
    "$$\n"
   ]
  },
  {
   "cell_type": "code",
   "execution_count": null,
   "metadata": {},
   "outputs": [],
   "source": []
  },
  {
   "attachments": {},
   "cell_type": "markdown",
   "metadata": {},
   "source": [
    "**Ejercicio 10 -** Operando a mano, calcular la descomposición de Choleski de la matriz:\n",
    "$$\n",
    "A=\\left[\\begin{array}{rrr}\n",
    "4 & -2 & 2 \\\\\n",
    "-2 & 2 & -4 \\\\\n",
    "2 & -4 & 11\n",
    "\\end{array}\\right]\n",
    "$$"
   ]
  },
  {
   "cell_type": "code",
   "execution_count": null,
   "metadata": {},
   "outputs": [],
   "source": []
  },
  {
   "attachments": {},
   "cell_type": "markdown",
   "metadata": {},
   "source": [
    "**Ejercicio 11 -** Escribe un programa que resuelva $\\mathbf{Ax} = \\mathbf{B}$ con el método de descomposición de Doolittle y calcula $\\left| \\mathbf{A} \\right|$. Utiliza las funciones programadas en ejercicios anteriores. Testea tu programa con las siguientes matrices\n",
    "$$\n",
    "\\mathbf{A}=\\left[\\begin{array}{rrr}\n",
    "3 & -1 & 4 \\\\\n",
    "-2 & 0 & 5 \\\\\n",
    "7 & 2 & -2\n",
    "\\end{array}\\right] \\quad \\mathbf{B}=\\left[\\begin{array}{rr}\n",
    "6 & -4 \\\\\n",
    "3 & 2 \\\\\n",
    "7 & -5\n",
    "\\end{array}\\right]\n",
    "$$"
   ]
  },
  {
   "cell_type": "code",
   "execution_count": null,
   "metadata": {},
   "outputs": [],
   "source": []
  },
  {
   "attachments": {},
   "cell_type": "markdown",
   "metadata": {},
   "source": [
    "**Ejercicio 12 -** Escribe un programa que resuelva $\\mathbf{Ax} = \\mathbf{B}$ con el método de descomposición de Doolittle y calcula $\\left| \\mathbf{A} \\right|$. Utiliza las funciones programadas en ejercicios anteriores. Testea tu programa con las siguientes matrices\n",
    "$$\n",
    "\\mathbf{A}=\\left[\\begin{array}{rrr}\n",
    "3 & -1 & 4 \\\\\n",
    "-2 & 0 & 5 \\\\\n",
    "7 & 2 & -2\n",
    "\\end{array}\\right] \\quad \\mathbf{B}=\\left[\\begin{array}{rr}\n",
    "6 & -4 \\\\\n",
    "3 & 2 \\\\\n",
    "7 & -5\n",
    "\\end{array}\\right]\n",
    "$$"
   ]
  },
  {
   "cell_type": "code",
   "execution_count": null,
   "metadata": {},
   "outputs": [],
   "source": []
  },
  {
   "attachments": {},
   "cell_type": "markdown",
   "metadata": {},
   "source": [
    "**Ejercicio 13 -** Resuelve mediante el método de descomposición de Choleski el sistema de ecuaciones definido por las siguientes matrices. Utiliza las funciones programadas en ejercicios anteriores. La solución debe ser: $\\mathbf{x} = \\left[ 3.09212567, -0.73871706, -0.8475723, 0.13947788 \\right]$\n",
    "\n",
    "$$\n",
    "\\mathbf{A}=\\left[\\begin{array}{rrrr}\n",
    "1.44 & -0.36 & 5.52 & 0.00 \\\\\n",
    "-0.36 & 10.33 & -7.78 & 0.00 \\\\\n",
    "5.52 & -7.78 & 28.40 & 9.00 \\\\\n",
    "0.00 & 0.00 & 9.00 & 61.00\n",
    "\\end{array}\\right] \\quad \\mathbf{b}=\\left[\\begin{array}{r}\n",
    "0.04 \\\\\n",
    "-2.15 \\\\\n",
    "0 \\\\\n",
    "0.88\n",
    "\\end{array}\\right]\n",
    "$$"
   ]
  },
  {
   "cell_type": "code",
   "execution_count": 70,
   "metadata": {},
   "outputs": [
    {
     "data": {
      "text/plain": [
       "array([[ 1.2,  0. ,  0. ,  0. ],\n",
       "       [-0.3,  3.2,  0. ,  0. ],\n",
       "       [ 4.6, -2. ,  1.8,  0. ],\n",
       "       [ 0. ,  0. ,  5. ,  6. ]])"
      ]
     },
     "execution_count": 70,
     "metadata": {},
     "output_type": "execute_result"
    }
   ],
   "source": [
    "A = np.array([[1.44, -0.36, 5.52, 0.00],\n",
    "            [-0.36, 10.33, -7.78, 0.00],\n",
    "            [5.52, -7.78, 28.40, 9.00],\n",
    "            [0.00, 0.00, 9.00, 61.00]], dtype=float)\n",
    "\n",
    "b = np.array([0.04, -2.15, 0.00, 0.88], dtype=float)\n",
    "\n",
    "L_13 = choleski_decomposition(A)\n",
    "L_13"
   ]
  },
  {
   "cell_type": "code",
   "execution_count": 71,
   "metadata": {},
   "outputs": [
    {
     "data": {
      "text/plain": [
       "array([ 3.09212567, -0.73871706, -0.8475723 ,  0.13947788])"
      ]
     },
     "execution_count": 71,
     "metadata": {},
     "output_type": "execute_result"
    }
   ],
   "source": [
    "forward_backward_sustitution(L_13, L_13.T, b)"
   ]
  }
 ],
 "metadata": {
  "kernelspec": {
   "display_name": "Python 3",
   "language": "python",
   "name": "python3"
  },
  "language_info": {
   "codemirror_mode": {
    "name": "ipython",
    "version": 3
   },
   "file_extension": ".py",
   "mimetype": "text/x-python",
   "name": "python",
   "nbconvert_exporter": "python",
   "pygments_lexer": "ipython3",
   "version": "3.12.6"
  },
  "orig_nbformat": 4
 },
 "nbformat": 4,
 "nbformat_minor": 2
}
