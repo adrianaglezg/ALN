{
 "cells": [
  {
   "cell_type": "markdown",
   "metadata": {},
   "source": [
    "# Métodos directos - Casos especiales, pivotamiento e inversión"
   ]
  },
  {
   "cell_type": "markdown",
   "metadata": {},
   "source": [
    "## Matrices de coeficientes simétricos y en banda\n",
    "\n",
    "### Introducción\n",
    "\n",
    "La modelización de problemas ingenieriles suele dar lugar a matrices de coeficientes poco pobladas, lo que significa que la mayoría de los elementos de la matriz son cero. Si todos los términos no nulos están agrupados en torno a la diagonal principal, se dice que la matriz está dividida en bandas. Un ejemplo de este tipo de matriz de coeficientes es:\n",
    "\n",
    "$$\n",
    "A=\\left[\\begin{array}{lllll}\n",
    "\\mathrm{X} & \\mathrm{X} & 0 & 0 & 0 \\\\\n",
    "\\mathrm{X} & \\mathrm{X} & \\mathrm{X} & 0 & 0 \\\\\n",
    "0 & \\mathrm{X} & \\mathrm{X} & \\mathrm{X} & 0 \\\\\n",
    "0 & 0 & \\mathrm{X} & \\mathrm{X} & \\mathrm{X} \\\\\n",
    "0 & 0 & 0 & \\mathrm{X} & \\mathrm{X}\n",
    "\\end{array}\\right]\n",
    "$$\n",
    "donde las $X$ denotan los elementos no nulos que forman la banda poblada (algunos de estos elementos pueden ser cero). Todos los elementos que se encuentran fuera de esta banda son cero. Esta matriz con bandas tiene un ancho de banda de tres, porque hay como máximo tres elementos no nulos en cada fila (o columna). Este tipo de matriz se llama **tridiagonal**.\n",
    "\n",
    "Si se descompone una matriz por bandas en la forma $\\mathbf{A}=\\mathbf{L U}$, tanto $\\mathbf{L}$ como $\\mathbf{U}$ conservan la\n",
    "estructura de bandas de $\\mathbf{A}$. Por ejemplo, si descomponemos la matriz mostrada anteriormente, obtendríamos\n",
    "\n",
    "$$\n",
    "\\mathbf{L}=\\left[\\begin{array}{lllll}\n",
    "\\mathrm{X} & 0 & 0 & 0 & 0 \\\\\n",
    "\\mathrm{X} & \\mathrm{X} & 0 & 0 & 0 \\\\\n",
    "0 & \\mathrm{X} & \\mathrm{X} & 0 & 0 \\\\\n",
    "0 & 0 & \\mathrm{X} & \\mathrm{X} & 0 \\\\\n",
    "0 & 0 & 0 & \\mathrm{X} & \\mathrm{X}\n",
    "\\end{array}\\right] \\quad \\mathbf{U}=\\left[\\begin{array}{ccccc}\n",
    "\\mathrm{X} & \\mathrm{X} & 0 & 0 & 0 \\\\\n",
    "0 & \\mathrm{X} & \\mathrm{X} & 0 & 0 \\\\\n",
    "0 & 0 & \\mathrm{X} & \\mathrm{X} & 0 \\\\\n",
    "0 & 0 & 0 & \\mathrm{X} & \\mathrm{X} \\\\\n",
    "0 & 0 & 0 & 0 & \\mathrm{X}\n",
    "\\end{array}\\right]\n",
    "$$\n",
    "\n",
    "La estructura en bandas de una matriz de coeficientes puede aprovecharse para ahorrar tiempo de almacenamiento y cálculo. Si la matriz de coeficientes también es simétrica, aún se puede optimizar más este ahorro. En esta sección se muestra cómo los métodos de solución discutidos anteriormente pueden ser adaptados para matrices simétricas y en bandas."
   ]
  },
  {
   "cell_type": "markdown",
   "metadata": {},
   "source": [
    "### Matriz de coeficientes tridiagonal\n",
    "\n",
    "Consideremos la solución de $\\mathbf{Ax}=\\mathbf{b}$ por la descomposición LU de Doolittle, donde $\\mathbf{A}$ es una matriz tridiagonal $n \\times n$ de la forma:\n",
    "\n",
    "$$\n",
    "\\mathbf{A}=\\left[\\begin{array}{cccccc}\n",
    "d_1 & e_1 & 0 & 0 & \\ldots & 0 \\\\\n",
    "c_1 & d_2 & e_2 & 0 & \\ldots & 0 \\\\\n",
    "0 & c_2 & d_3 & e_3 & \\ldots & 0 \\\\\n",
    "0 & 0 & c_3 & d_4 & \\ldots & 0 \\\\\n",
    "\\vdots & \\vdots & \\vdots & \\vdots & \\ddots & \\vdots \\\\\n",
    "0 & 0 & \\ldots & 0 & c_{n-1} & d_n\n",
    "\\end{array}\\right]\n",
    "$$\n",
    "\n",
    "Como se deduce de la notación anterior, almacenamos los elementos no nulos de $\\mathbf{A}$ en los vectores\n",
    "\n",
    "$$\n",
    "\\mathbf{c}=\\left[\\begin{array}{c}\n",
    "c_1 \\\\\n",
    "c_2 \\\\\n",
    "\\vdots \\\\\n",
    "c_{n-1}\n",
    "\\end{array}\\right] \\quad \\mathbf{d}=\\left[\\begin{array}{c}\n",
    "d_1 \\\\\n",
    "d_2 \\\\\n",
    "\\vdots \\\\\n",
    "d_{n-1} \\\\\n",
    "d_n\n",
    "\\end{array}\\right] \\quad \\mathbf{e}=\\left[\\begin{array}{c}\n",
    "e_1 \\\\\n",
    "e_2 \\\\\n",
    "\\vdots \\\\\n",
    "e_{n-1}\n",
    "\\end{array}\\right]\n",
    "$$\n",
    "\n",
    "El ahorro en espacio de almacenamiento puede ser significativo. Por ejemplo, una matriz tridiagonal de $100 \\times 100$ ($10000$ elementos) puede almacenarse en sólo $99 + 100 + 99 = 298$ espacios en la memoria, lo que representa una relación de compresión de aproximadamente $33:1$.\n",
    "\n",
    "A continuación aplicamos la descomposición LU a la matriz de coeficientes. Reducimos la fila $k$ eliminando el coeficiente $c_{k−1}$ con la siguiente operación elemental:\n",
    "\n",
    "$$\n",
    "\\text { fila } k \\leftarrow \\operatorname{fila} k-\\left(c_{k-1} / d_{k-1}\\right) \\times \\operatorname{fila}(k-1), \\quad k=2,3, \\ldots, n\n",
    "$$\n",
    "\n",
    "El cambio correspondiente en $d_k$ es\n",
    "\n",
    "$$\n",
    "d_k \\leftarrow d_k-\\left(c_{k-1} / d_{k-1}\\right) e_{k-1}\n",
    "$$\n",
    "mientras que $e_k$ no se ve afectado. Para terminar con la descomposición de Doolittle de la forma $\\left[ \\mathbf{L} \\ \\mathbf{U} \\right]$, almacenamos el multiplicador $\\lambda = c_{k−1} / d_{k−1}$ en el lugar que antes ocupaba $c_{k-1}$:\n",
    "\n",
    "$$\n",
    "c_{k-1} \\leftarrow c_{k-1} / d_{k-1}\n",
    "$$"
   ]
  },
  {
   "cell_type": "markdown",
   "metadata": {},
   "source": [
    "**Ejercicio 1 -** Escribe en Python una función que implemente la fase de eliminación del algoritmo de descomposición LU adaptado a matrices tridiagonales."
   ]
  },
  {
   "cell_type": "code",
   "execution_count": 1,
   "metadata": {},
   "outputs": [],
   "source": [
    "import numpy as np"
   ]
  },
  {
   "cell_type": "code",
   "execution_count": 20,
   "metadata": {},
   "outputs": [],
   "source": [
    "def LU_tridiagonal_matrix(A):\n",
    "\n",
    "    ''' \n",
    "    the input is a tridiagonal matrix A\n",
    "\n",
    "    the output is a copy of the matrix A containing the coefficients updated by a lambda on the main diagonal\n",
    "    and the corresponding lambdas on the lower diagonal.\n",
    "    its a compact way of representing the LU to save memory storage.\n",
    "    '''\n",
    "\n",
    "    A_copy = np.copy(A)\n",
    "    d = A.diagonal(0).copy()  # diag princ\n",
    "    c = A.diagonal(-1).copy()  #diag inf\n",
    "    e = A.diagonal(1).copy() #upper diag\n",
    "\n",
    "    # print(d)\n",
    "    # print(c)\n",
    "    # print(e)\n",
    "\n",
    "    n = len(d) \n",
    "\n",
    "    for k in range(1, n):\n",
    "        lamb = c[k - 1] / d[k - 1]\n",
    "        c[k - 1] = lamb\n",
    "        d[k] = d[k] - lamb * e[k - 1]\n",
    "\n",
    "    A_copy[np.arange(n), np.arange(n)] = d \n",
    "    A_copy[np.arange(1, n), np.arange(n-1)] = c    \n",
    "    A_copy[np.arange(n-1), np.arange(1, n)] = e\n",
    "\n",
    "    return A_copy"
   ]
  },
  {
   "cell_type": "code",
   "execution_count": 21,
   "metadata": {},
   "outputs": [
    {
     "data": {
      "text/plain": [
       "array([[4.        , 1.        , 0.        , 0.        ],\n",
       "       [0.5       , 3.5       , 1.        , 0.        ],\n",
       "       [0.        , 0.85714286, 3.14285714, 2.        ],\n",
       "       [0.        , 0.        , 0.31818182, 2.36363636]])"
      ]
     },
     "execution_count": 21,
     "metadata": {},
     "output_type": "execute_result"
    }
   ],
   "source": [
    "A = np.array([[4, 1, 0, 0],\n",
    "            [2, 4, 1, 0],\n",
    "            [0, 3, 4, 2],\n",
    "            [0, 0, 1, 3]], dtype=float)\n",
    "\n",
    "LU_tridiagonal_matrix(A)"
   ]
  },
  {
   "cell_type": "markdown",
   "metadata": {},
   "source": [
    "A continuación, se examina la fase de solución (es decir, la resolución de $\\mathbf{Ly}=\\mathbf{b}$, seguida de\n",
    "$\\mathbf{Ux}=\\mathbf{y}$. Las ecuaciones $\\mathbf{Ly}=\\mathbf{b}$ pueden representarse mediante la matriz de coeficientes aumentada\n",
    " \n",
    "$$\n",
    "[\\mathbf{L} \\mid \\mathbf{b}]=\\left[\\begin{array}{cccccc|c}\n",
    "1 & 0 & 0 & 0 & \\cdots & 0 & b_1 \\\\\n",
    "c_1 & 1 & 0 & 0 & \\cdots & 0 & b_2 \\\\\n",
    "0 & c_2 & 1 & 0 & \\cdots & 0 & b_3 \\\\\n",
    "0 & 0 & c_3 & 1 & \\cdots & 0 & b_4 \\\\\n",
    "\\vdots & \\vdots & \\vdots & \\vdots & \\cdots & \\vdots & \\vdots \\\\\n",
    "0 & 0 & \\cdots & 0 & c_{n-1} & 1 & b_n\n",
    "\\end{array}\\right]\n",
    "$$\n",
    "Nótese que el contenido original de $\\mathbf{c}$ fue eliminado y sustituido por los multiplicadores durante la descomposición. El algoritmo de solución de $\\mathbf{y}$ por sustitución hacia adelante es\n",
    "\n",
    "```\n",
    "y[0] <- b[0]\n",
    "Para k desde 1 hasta n-1 hacer:\n",
    "    y[k] <- b[k] - c[k-1] * y[k-1]\n",
    "Fin Para\n",
    "```\n",
    "La matriz de coeficientes aumentada que representa $\\mathbf{Ux}=\\mathbf{y}$ es\n",
    "\n",
    "$$\n",
    "[\\mathbf{U} \\mid \\mathbf{y}]=\\left[\\begin{array}{cccccc|c}\n",
    "d_1 & e_1 & 0 & \\cdots & 0 & 0 & y_1 \\\\\n",
    "0 & d_2 & e_2 & \\cdots & 0 & 0 & y_2 \\\\\n",
    "0 & 0 & d_3 & \\cdots & 0 & 0 & y_3 \\\\\n",
    "\\vdots & \\vdots & \\vdots & & \\vdots & \\vdots & \\vdots \\\\\n",
    "0 & 0 & 0 & \\cdots & d_{n-1} & e_{n-1} & y_{n-1} \\\\\n",
    "0 & 0 & 0 & \\cdots & 0 & d_n & y_n\n",
    "\\end{array}\\right]\n",
    "$$\n",
    "\n",
    "Observa de nuevo que el contenido de $\\mathbf{d}$ se ha modificado respecto a los valores originales durante la fase de descomposición (sin embargo, $\\mathbf{e}$ no se ha modificado). La solución para $\\mathbf{x}$ se obtiene mediante la sustitución hacia atrás, utilizando el algoritmo siguiente:\n",
    "\n",
    "```\n",
    "x[n-1] <- y[n-1] / d[n-1]\n",
    "Para k desde n-2 hasta 0 en pasos decrecientes hacer:\n",
    "    x[k] <- (y[k] - e[k] * x[k+1]) / d[k]\n",
    "Fin Para\n",
    "```"
   ]
  },
  {
   "cell_type": "markdown",
   "metadata": {},
   "source": [
    "**Ejercicio 2 -** Combina el código del ejercicio 1 junto con el algoritmo de sustitución explicado anteriormente para programar una función que resuelva un sistema lineal $\\mathbf{AX}=\\mathbf{b}$ tridiagonal por el método LU adaptado visto anteriormente."
   ]
  },
  {
   "cell_type": "code",
   "execution_count": 22,
   "metadata": {},
   "outputs": [],
   "source": [
    "def solve_LU_tridiagonal_matrix(LU, b):\n",
    "    '''\n",
    "    the input is a matriz decomposition LU, and the solution vector b\n",
    "\n",
    "    returns vector x with the solutions\n",
    "    '''\n",
    "    d = LU.diagonal(0).copy()  # diag princ\n",
    "    c = LU.diagonal(-1).copy()  #diag inf\n",
    "    e = LU.diagonal(1).copy() #upper diag\n",
    "\n",
    "    y = np.zeros(d.shape)\n",
    "    n = len(d)\n",
    "\n",
    "    y[0] = b[0]\n",
    "    for k in range(1, n):\n",
    "        y[k] = b[k] - c[k-1] * y[k-1]\n",
    "\n",
    "    x = np.zeros(d.shape)\n",
    "    x[-1] = y[-1] / d[-1]\n",
    "    for k in range(n-2, -1, -1):\n",
    "        x[k] = (y[k] - e[k] * x[k+1]) / d[k]\n",
    "\n",
    "    return x"
   ]
  },
  {
   "cell_type": "code",
   "execution_count": 23,
   "metadata": {},
   "outputs": [
    {
     "name": "stdout",
     "output_type": "stream",
     "text": [
      " el resultado por numpy es = \n",
      " [ 4.14423077 -1.57692308  6.01923077  1.32692308]\n"
     ]
    },
    {
     "data": {
      "text/plain": [
       "array([ 4.14423077, -1.57692308,  6.01923077,  1.32692308])"
      ]
     },
     "execution_count": 23,
     "metadata": {},
     "output_type": "execute_result"
    }
   ],
   "source": [
    "A = np.array([[4, 1, 0, 0],\n",
    "            [2, 4, 1, 0],\n",
    "            [0, 3, 4, 2],\n",
    "            [0, 0, 1, 3]], dtype=float)\n",
    "\n",
    "b = np.array([15, 8, 22, 10], dtype=float)\n",
    "\n",
    "LU = LU_tridiagonal_matrix(A)\n",
    "\n",
    "print(f' el resultado por numpy es = \\n {np.linalg.solve(A, b)}')\n",
    "\n",
    "solve_LU_tridiagonal_matrix(LU, b)"
   ]
  },
  {
   "cell_type": "markdown",
   "metadata": {},
   "source": [
    "### Matriz de coeficientes simétricos\n"
   ]
  },
  {
   "cell_type": "markdown",
   "metadata": {},
   "source": [
    "A menudo, las matrices de coeficientes que surgen en los problemas de ingeniería son simétricas y con bandas. Por lo tanto, merece la pena detenerse en las propiedades particulares de dichas matrices para utilizarlas en la construcción de algoritmos eficientes.\n",
    "Si la matriz $\\mathbf{A}$ es simétrica, la descomposición LU puede escribirse de la forma\n",
    "\n",
    "$$\n",
    "\\mathbf{A}=\\mathbf{L U}=\\mathbf{L D L}^T\n",
    "$$\n",
    "donde $\\mathbf{D}$ es una matriz diagonal. Un ejemplo es la descomposición de Choleski $\\mathbf{A}=\\mathbf{L L}^T$  que se estudió anteriormente (en ese caso $\\mathbf{D}=\\mathbf{I}$).\n",
    "Para la descomposición de Doolittle tenemos\n",
    "$$\n",
    "\\mathbf{U}=\\mathbf{D L}^T=\\left[\\begin{array}{ccccc}\n",
    "D_1 & 0 & 0 & \\cdots & 0 \\\\\n",
    "0 & D_2 & 0 & \\cdots & 0 \\\\\n",
    "0 & 0 & D_3 & \\cdots & 0 \\\\\n",
    "\\vdots & \\vdots & \\vdots & \\cdots & \\vdots \\\\\n",
    "0 & 0 & 0 & \\cdots & D_n\n",
    "\\end{array}\\right]\\left[\\begin{array}{ccccc}\n",
    "1 & L_{21} & L_{31} & \\cdots & L_{n 1} \\\\\n",
    "0 & 1 & L_{32} & \\cdots & L_{n 2} \\\\\n",
    "0 & 0 & 1 & \\cdots & L_{n 3} \\\\\n",
    "\\vdots & \\vdots & \\vdots & \\cdots & \\vdots \\\\\n",
    "0 & 0 & 0 & \\cdots & 1\n",
    "\\end{array}\\right]\n",
    "$$\n",
    "que da lugar a:\n",
    "$$\n",
    "\\mathbf{U}=\\left[\\begin{array}{ccccc}\n",
    "D_1 & D_1 L_{21} & D_1 L_{31} & \\cdots & D_1 L_{n 1} \\\\\n",
    "0 & D_2 & D_2 L_{32} & \\cdots & D_2 L_{n 2} \\\\\n",
    "0 & 0 & D_3 & \\cdots & D_3 L_{3 n} \\\\\n",
    "\\vdots & \\vdots & \\vdots & \\cdots & \\vdots \\\\\n",
    "0 & 0 & 0 & \\cdots & D_n\n",
    "\\end{array}\\right]\n",
    "$$\n",
    "Ahora vemos que durante la descomposición de una matriz simétrica sólo hay que almacenar $\\mathbf{U}$, porque $\\mathbf{D}$ y $\\mathbf{L}$ se pueden recuperar fácilmente a partir de $\\mathbf{U}$. Así, la eliminación de Gauss, que da lugar a una matriz triangular superior de la forma anterior, es suficiente para descomponer una matriz simétrica."
   ]
  },
  {
   "cell_type": "markdown",
   "metadata": {},
   "source": [
    "**Ejercicio 3 -** Como resultado de la eliminación de Gauss, una matriz simétrica $\\mathbf{A}$ se transformó en la forma triangular superior\n",
    "\n",
    "$$\n",
    "\\mathbf{U}=\\left[\\begin{array}{rrrr}\n",
    "4 & -2 & 1 & 0 \\\\\n",
    "0 & 3 & -3 / 2 & 1 \\\\\n",
    "0 & 0 & 3 & -3 / 2 \\\\\n",
    "0 & 0 & 0 & 35 / 12\n",
    "\\end{array}\\right]\n",
    "$$\n",
    "\n",
    "Determina la matriz original $\\mathbf{A}$.\n"
   ]
  },
  {
   "cell_type": "code",
   "execution_count": 2,
   "metadata": {},
   "outputs": [],
   "source": [
    "import numpy as np"
   ]
  },
  {
   "cell_type": "code",
   "execution_count": 24,
   "metadata": {},
   "outputs": [
    {
     "name": "stdout",
     "output_type": "stream",
     "text": [
      "[[ 4.         -2.          1.          0.        ]\n",
      " [ 0.          3.         -1.5         1.        ]\n",
      " [ 0.          0.          3.         -1.5       ]\n",
      " [ 0.          0.          0.          2.91666667]]\n",
      "\n",
      "[[ 4.         -0.5         0.25        0.        ]\n",
      " [ 0.          3.         -0.5         0.33333333]\n",
      " [ 0.          0.          3.         -1.5       ]\n",
      " [ 0.          0.          0.          2.91666667]]\n"
     ]
    }
   ],
   "source": [
    "U = np.array([[4, -2, 1, 0],\n",
    "              [0, 3, -3/2, 1],\n",
    "              [0, 0, 3, -3/2],\n",
    "              [0, 0, 0, 35/12]], dtype=float)\n",
    "\n",
    "\n",
    "d = U.diagonal(0).copy()\n",
    "U_copy = np.copy(U)\n",
    "\n",
    "for i in range(len(U) - 2):\n",
    "    U_copy[i, i+1:] = U[i, i+1:] / d[i]\n",
    "\n",
    "print(U)\n",
    "print()\n",
    "print(U_copy)"
   ]
  },
  {
   "cell_type": "code",
   "execution_count": 15,
   "metadata": {},
   "outputs": [
    {
     "data": {
      "text/plain": [
       "array([[ 1.        ,  0.        ,  0.        ,  0.        ],\n",
       "       [-0.5       ,  1.        ,  0.        ,  0.        ],\n",
       "       [ 0.25      , -0.5       ,  1.        ,  0.        ],\n",
       "       [ 0.        ,  0.33333333, -1.5       ,  1.        ]])"
      ]
     },
     "execution_count": 15,
     "metadata": {},
     "output_type": "execute_result"
    }
   ],
   "source": [
    "L = U_copy.T\n",
    "n = len(d)\n",
    "L[np.arange(n), np.arange(n)] = np.ones(d.shape)\n",
    "L"
   ]
  },
  {
   "cell_type": "code",
   "execution_count": 16,
   "metadata": {},
   "outputs": [
    {
     "data": {
      "text/plain": [
       "array([[ 4. , -2. ,  1. ,  0. ],\n",
       "       [-2. ,  4. , -2. ,  1. ],\n",
       "       [ 1. , -2. ,  4. , -2. ],\n",
       "       [ 0. ,  1. , -5. ,  5.5]])"
      ]
     },
     "execution_count": 16,
     "metadata": {},
     "output_type": "execute_result"
    }
   ],
   "source": [
    "A = L@U\n",
    "A"
   ]
  },
  {
   "cell_type": "markdown",
   "metadata": {},
   "source": [
    "**Ejercicio 4 -** Determinar L y D que resultan de la descomposición de Doolittle $\\mathbf{A} = \\mathbf{LDL}^T$ de la matriz simétrica\n",
    "$$\n",
    "A=\\left[\\begin{array}{rrr}\n",
    "3 & -3 & 3 \\\\\n",
    "-3 & 5 & 1 \\\\\n",
    "3 & 1 & 10\n",
    "\\end{array}\\right]\n",
    "$$"
   ]
  },
  {
   "cell_type": "code",
   "execution_count": 105,
   "metadata": {},
   "outputs": [
    {
     "data": {
      "text/plain": [
       "(array([[ 1.        ,  0.        ,  0.        ,  0.        ],\n",
       "        [-0.5       ,  1.        ,  0.        ,  0.        ],\n",
       "        [ 0.25      , -0.5       ,  1.        ,  0.        ],\n",
       "        [ 0.        ,  0.33333333, -0.5       ,  1.        ]]),\n",
       " array([[4.        , 0.        , 0.        , 0.        ],\n",
       "        [0.        , 3.        , 0.        , 0.        ],\n",
       "        [0.        , 0.        , 3.        , 0.        ],\n",
       "        [0.        , 0.        , 0.        , 2.91666667]]))"
      ]
     },
     "execution_count": 105,
     "metadata": {},
     "output_type": "execute_result"
    }
   ],
   "source": [
    "# forma programada de gpt\n",
    "\n",
    "def LDL_decomposition(A):\n",
    "    \"\"\"\n",
    "    Realiza la descomposición LDL^T de una matriz simétrica A.\n",
    "    Retorna las matrices L y D.\n",
    "    \"\"\"\n",
    "    n = A.shape[0]\n",
    "    L = np.eye(n)  # Inicializamos L como la identidad\n",
    "    D = np.zeros((n, n))  # Inicializamos D como una matriz diagonal\n",
    "\n",
    "    for j in range(n):\n",
    "        # Calcular D[j, j]\n",
    "        D[j, j] = A[j, j] - sum(L[j, k]**2 * D[k, k] for k in range(j))\n",
    "        \n",
    "        for i in range(j + 1, n):\n",
    "            # Calcular L[i, j]\n",
    "            L[i, j] = (A[i, j] - sum(L[i, k] * L[j, k] * D[k, k] for k in range(j))) / D[j, j]\n",
    "    \n",
    "    return L, D\n",
    "\n",
    "\n",
    "# Ejemplo de uso\n",
    "A = np.array([\n",
    "    [4, -2, 1, 0],\n",
    "    [-2, 4, -2, 1],\n",
    "    [1, -2, 4, -2],\n",
    "    [0, 1, -2, 4]\n",
    "], dtype=float)\n",
    "\n",
    "L, D = LDL_decomposition(A)\n",
    "L, D\n"
   ]
  },
  {
   "cell_type": "markdown",
   "metadata": {},
   "source": [
    "**Ejercicio 5 -** Utiliza las funciones programadas en los ejercicios 1 y 2 para resolver el sistema tridiagonal definido por las siguientes matrices:\n",
    "$$\n",
    "\\mathbf{A}=\\left[\\begin{array}{rrrrr}\n",
    "2 & -1 & 0 & 0 & 0 \\\\\n",
    "-1 & 2 & -1 & 0 & 0 \\\\\n",
    "0 & -1 & 2 & -1 & 0 \\\\\n",
    "0 & 0 & -1 & 2 & -1 \\\\\n",
    "0 & 0 & 0 & -1 & 2\n",
    "\\end{array}\\right] \\quad \\mathbf{b}=\\left[\\begin{array}{r}\n",
    "5 \\\\\n",
    "-5 \\\\\n",
    "4 \\\\\n",
    "-5 \\\\\n",
    "5\n",
    "\\end{array}\\right]\n",
    "$$"
   ]
  },
  {
   "cell_type": "code",
   "execution_count": 102,
   "metadata": {},
   "outputs": [],
   "source": [
    "A = np.array([\n",
    "    [2, -1,  0,  0,  0],\n",
    "    [-1, 2, -1,  0,  0],\n",
    "    [0, -1,  2, -1,  0],\n",
    "    [0,  0, -1,  2, -1],\n",
    "    [0,  0,  0, -1,  2]\n",
    "], dtype=float)\n",
    "\n",
    "b = np.array([5, -5, 4, -5, 5], dtype=float)"
   ]
  },
  {
   "cell_type": "code",
   "execution_count": 104,
   "metadata": {},
   "outputs": [
    {
     "data": {
      "text/plain": [
       "array([ 2., -1.,  1., -1.,  2.])"
      ]
     },
     "execution_count": 104,
     "metadata": {},
     "output_type": "execute_result"
    }
   ],
   "source": [
    "LU = LU_tridiagonal_matrix(A)\n",
    "\n",
    "solution_5 = solve_LU_tridiagonal_matrix(LU, b)\n",
    "solution_5"
   ]
  },
  {
   "cell_type": "markdown",
   "metadata": {},
   "source": [
    "## Pivotamiento"
   ]
  },
  {
   "cell_type": "markdown",
   "metadata": {},
   "source": [
    "### Introducción\n",
    "A veces, el orden en que se presentan las ecuaciones al algoritmo de solución tiene un efecto determinante en los resultados. Por ejemplo, consideremos estas ecuaciones:\n",
    "\n",
    "$$\n",
    "\\begin{array}{r}\n",
    "2 x_1-x_2=1 \\\\\n",
    "-x_1+2 x_2-x_3=0 \\\\\n",
    "-x_2+x_3=0\n",
    "\\end{array}\n",
    "$$\n",
    "\n",
    "La correspondiente matriz de coeficientes aumentada es\n",
    "$$\n",
    "[\\mathbf{A} \\mid \\mathbf{b}]=\\left[\\begin{array}{rrr|r}\n",
    "2 & -1 & 0 & 1 \\\\\n",
    "-1 & 2 & -1 & 0 \\\\\n",
    "0 & -1 & 1 & 0\n",
    "\\end{array}\\right]\n",
    "$$\n",
    " \n",
    "Las ecuaciones anteriores están en el \"orden correcto\" en el sentido de que no tendríamos problemas para obtener la solución correcta $x_1 = x_2 = x_3 = 1$ por eliminación de Gauss o descomposición LU. Supongamos ahora que intercambiamos las ecuaciones primera y tercera, de modo que la matriz de coeficientes aumentada se convierte en\n",
    "\n",
    "$$\n",
    "[\\mathbf{A} \\mid \\mathbf{b}]=\\left[\\begin{array}{rrr|r}\n",
    "0 & -1 & 1 & 0 \\\\\n",
    "-1 & 2 & -1 & 0 \\\\\n",
    "2 & -1 & 0 & 1\n",
    "\\end{array}\\right]\n",
    "$$\n",
    "\n",
    "Como no hemos cambiado las ecuaciones (sólo se ha alterado su orden), la solución sigue siendo $x_1 = x_2 = x_3 = 1$. Sin embargo, la eliminación de Gauss falla inmediatamente debido a la presencia del elemento pivote cero (el elemento $A_{11}$).\n",
    "\n",
    "Este ejemplo demuestra que a veces es esencial reordenar las ecuaciones durante la fase de eliminación. La reordenación, o pivotamiento de filas, también es necesaria si el elemento pivote no es cero, pero es muy pequeño en comparación con otros elementos de la fila pivote, como demuestra el siguiente conjunto de ecuaciones:\n",
    "\n",
    "$$\n",
    "[\\mathbf{A} \\mid \\mathbf{b}]=\\left[\\begin{array}{rrr|r}\n",
    "\\varepsilon & -1 & 1 & 0 \\\\\n",
    "-1 & 2 & -1 & 0 \\\\\n",
    "2 & -1 & 0 & 1\n",
    "\\end{array}\\right]\n",
    "$$\n",
    "\n",
    "Estas ecuaciones son las mismas que las ecuaciones del ejemplo anterior, excepto que se usa un número pequeño $\\varepsilon$ en lugar del cero anterior. Por lo tanto, si $\\varepsilon \\to 0$, la solución de este sistema de ecuaciones debería ser igual a la del anterior. Después de la primera fase de eliminación de Gauss, la matriz de coeficientes aumentada se convierte en\n",
    "$$\n",
    "\\left[\\begin{array}{l|l}\n",
    "\\mathbf{A}^{\\prime} & \\mathbf{b}^{\\prime}\n",
    "\\end{array}\\right]=\\left[\\begin{array}{ccc|c}\n",
    "\\varepsilon & -1 & 1 & 0 \\\\\n",
    "0 & 2-1 / \\varepsilon & -1+1 / \\varepsilon & 0 \\\\\n",
    "0 & -1+2 / \\varepsilon & -2 / \\varepsilon & 1\n",
    "\\end{array}\\right]\n",
    "$$\n",
    "\n",
    "Como el ordenador trabaja con una longitud de representación fija, todos los números se redondean a un número finito de cifras significativas. Si $\\varepsilon$ es muy pequeño, entonces $1/ \\varepsilon$ es muy grande, y un elemento como $2 - 1/ \\varepsilon $ se redondeará a $- 1/ \\varepsilon$. Por lo tanto, para un $\\varepsilon$ suficientemente pequeño, el sistema de ecuaciones anterior es almacenado realmente como:\n",
    "\n",
    "$$\n",
    "\\left[\\begin{array}{l|l}\n",
    "\\mathbf{A}^{\\prime} & \\mathbf{b}^{\\prime}\n",
    "\\end{array}\\right]=\\left[\\begin{array}{ccc|c}\n",
    "\\varepsilon & -1 & 1 & 0 \\\\\n",
    "0 & -1 / \\varepsilon & 1 / \\varepsilon & 0 \\\\\n",
    "0 & 2 / \\varepsilon & -2 / \\varepsilon & 1\n",
    "\\end{array}\\right]\n",
    "$$\n",
    "\n",
    "Como las ecuaciones segunda y tercera se contradicen obviamente, el proceso de resolución falla. Este problema no se produciría si se intercambiaran la primera y la segunda, o la primera y la tercera ecuación en el sistema original antes de la eliminación.\n",
    "\n",
    "El último ejemplo ilustra un caso extremo en el que un $\\varepsilon$ pequeño causa que los errores de redondeo desencadenen un fracaso total. Si hiciéramos $\\varepsilon$ algo más grande para que la solución no \"explotara\", los errores de redondeo podrían seguir siendo lo suficientemente grandes como para que la solución no fuera fiable. Esta dificultad podría evitarse pivotando."
   ]
  },
  {
   "cell_type": "markdown",
   "metadata": {},
   "source": [
    "### Diagonal dominante \n",
    "\n",
    "Se dice que una matriz $\\mathbf{A}$ de dimensión $n \\times n$ es *diagonal dominante* si cada elemento de la diagonal es mayor que la suma de los demás elementos de la misma fila (en valores absolutos). Por tanto, la dominancia diagonal requiere que\n",
    "$$\n",
    "\\left|A_{i i}\\right|>\\sum_{\\substack{j=1 \\\\ j \\neq i}}^n\\left|A_{i j}\\right|(i=1,2, \\ldots, n)\n",
    "$$\n",
    "Por ejemplo, la matriz\n",
    "\n",
    "$$\n",
    "\\left[\\begin{array}{rrr}\n",
    "-2 & 4 & -1 \\\\\n",
    "1 & -1 & 3 \\\\\n",
    "4 & -2 & 1\n",
    "\\end{array}\\right]\n",
    "$$\n",
    "\n",
    "no es diagonalmente dominante. Sin embargo, si reordenamos las filas de la siguiente manera\n",
    "\n",
    "$$\n",
    "\\left[\\begin{array}{rrr}\n",
    "4 & -2 & 1 \\\\\n",
    "-2 & 4 & -1 \\\\\n",
    "1 & -1 & 3\n",
    "\\end{array}\\right]\n",
    "$$\n",
    "entonces tenemos dominio diagonal.\n",
    "\n",
    "Se puede demostrar que si la matriz de coeficientes de las ecuaciones $\\mathbf{Ax} = \\mathbf{b}$ es diagonalmente dominante, entonces la resolución del sistema no será más eficiente con pivotamiento; es decir, las ecuaciones ya están dispuestas en el orden óptimo. De ello se deduce que la estrategia de pivotamiento debe consistir en reordenar las ecuaciones de forma que la matriz de coeficientes se acerque lo más posible a ser diagonal dominante. Este es el principio en el que se basa el pivotamiento, que se discute a continuación."
   ]
  },
  {
   "cell_type": "markdown",
   "metadata": {},
   "source": [
    "### Eliminación de Gauss con pivotamiento\n",
    "\n",
    "Consideremos la solución de $\\mathbf{Ax} = \\mathbf{b}$ por eliminación de Gauss con pivotamiento de filas. Recordemos que el pivote tiene como objetivo mejorar la dominancia diagonal de la matriz de coeficientes (es decir, hacer que el elemento pivote sea lo más grande posible en comparación con otros elementos de la fila pivote). Esta comparación es más sencilla si manejamos una matriz $s$ con los elementos\n",
    "\n",
    "$$\n",
    "s_i=\\max _j\\left|A_{i j}\\right|, \\quad i=1,2, \\ldots, n\n",
    "$$\n",
    "\n",
    "Así $s_i$, llamado factor de escala de la fila $i$, contiene el valor absoluto del mayor elemento de la fila $i$ de $\\mathbf{A}$. El vector $s$ puede obtenerse trivialmente como:\n",
    "\n",
    "```\n",
    "Para i desde 0 hasta n-1 hacer:\n",
    "    s[i] = máximo valor absoluto de los elementos en la fila i de la matriz a\n",
    "Fin Para\n",
    "```\n",
    "\n",
    "El tamaño relativo de un elemento $A_{ij}$ (es decir, en relación con el elemento más grande del la fila $i$) se define como la relación:\n",
    "\n",
    "$$\n",
    "r_{i j}=\\frac{\\left|A_{i j}\\right|}{s_i}\n",
    "$$\n"
   ]
  },
  {
   "cell_type": "markdown",
   "metadata": {},
   "source": [
    "Supongamos que la fase de eliminación ha llegado a la etapa en la que la fila $k$ se ha convertido en la fila pivote. La matriz de coeficientes aumentada en este punto tenrá la siguiente forma:\n",
    " \n",
    "$$\n",
    "\\left[\\begin{array}{cccccc|c}\n",
    "A_{11} & A_{12} & A_{13} & A_{14} & \\cdots & A_{1 n} & b_1 \\\\\n",
    "0 & A_{22} & A_{23} & A_{24} & \\cdots & A_{2 n} & b_2 \\\\\n",
    "0 & 0 & A_{33} & A_{34} & \\cdots & A_{3 n} & b_3 \\\\\n",
    "\\vdots & \\vdots & \\vdots & \\vdots & \\cdots & \\vdots & \\vdots \\\\\n",
    "\\hline 0 & \\cdots & 0 & A_{k k} & \\cdots & A_{k n} & b_k \\\\\n",
    "\\vdots & \\cdots & \\vdots & \\vdots & \\cdots & \\vdots & \\vdots \\\\\n",
    "0 & \\cdots & 0 & A_{n k} & \\cdots & A_{n n} & b_n\n",
    "\\end{array}\\right]\n",
    "$$\n",
    "\n",
    "No aceptamos automáticamente $A_{kk}$ como el siguiente elemento pivote, sino que buscamos en la $k$-ésima columna por debajo de $A_{kk}$ un pivote \"mejor\". La mejor elección es el elemento $A_{pk}$ que tenga el mayor tamaño relativo; es decir, elegimos $p$ de forma que:\n",
    "\n",
    "$$\n",
    "r_{p k}=\\max _j\\left(r_{j k}\\right), \\quad j \\geq k\n",
    "$$\n",
    "\n",
    "Si encontramos un elemento de este tipo, entonces intercambiamos las filas $k$ y $p$, y procedemos a la pasada de eliminación como es habitual. Obsérvese que el correspondiente intercambio de filas debe realizarse también en el vector del factor de escala $s$. El algoritmo que realiza todo esto es el siguiente:\n",
    "\n",
    "```\n",
    "Para k desde 0 hasta n-2 hacer:\n",
    "    # Encontrar la fila con el elemento de mayor tamaño relativo\n",
    "    p = índice del máximo valor absoluto de a[k:n,k] dividido por s[k:n] + k\n",
    "\n",
    "    # Si este elemento es muy pequeño, la matriz es singular\n",
    "    Si abs(a[p,k]) < tol entonces\n",
    "        Mostrar error: 'Matriz singular'\n",
    "\n",
    "    # Verificar si las filas k y p deben intercambiarse\n",
    "    Si p != k entonces\n",
    "        # Intercambiar filas si es necesario\n",
    "        Intercambiar filas k y p de b\n",
    "        Intercambiar filas k y p de s \n",
    "        Intercambiar filas k y p de a\n",
    "\n",
    "    # Continuar con la eliminación...\n",
    "Fin Para\n",
    "```\n",
    "\n",
    "A la hora de implementar en python, puedes usar el método ```argmax(v)``` para obtener el índice del mayor elemento de un cierto vector ```v```. Por último, a continuación se incluye el pseudocódigo de una función llamada ```swap_rows()``` para intercambiar filas:\n",
    "\n",
    "```\n",
    "Función swap_rows(v, i, j)\n",
    "    Descripción: Intercambia las filas i y j de un vector o matriz [v].\n",
    "\n",
    "    Si el número de dimensiones de v es 1 entonces\n",
    "        Intercambiar los elementos v[i] y v[j]\n",
    "    Sino\n",
    "        Intercambiar las filas i y j de la matriz v\n",
    "    Fin Si\n",
    "Fin Función\n",
    "```"
   ]
  },
  {
   "cell_type": "code",
   "execution_count": 1,
   "metadata": {},
   "outputs": [
    {
     "data": {
      "text/plain": [
       "array([6., 8., 4.])"
      ]
     },
     "execution_count": 1,
     "metadata": {},
     "output_type": "execute_result"
    }
   ],
   "source": [
    "import numpy as np\n",
    "A = np.array([\n",
    "    [2, -2, 6],\n",
    "    [-2, 4, 3],\n",
    "    [-1, 8, 4]\n",
    "], dtype=float)\n",
    "\n",
    "b = np.array([16, 0, -1], dtype=float)\n",
    "\n",
    "i, j = 1, 2\n",
    "A\n",
    "\n",
    "A[[i, j]] = A[[j, i]]\n",
    "b[[i, j]] = b[[j, i]]\n",
    "\n",
    "s = np.amax(A, axis=1)\n",
    "s"
   ]
  },
  {
   "cell_type": "markdown",
   "metadata": {},
   "source": [
    "**Ejercicio 6 -** Programa una función llamada ```gauss_pivot``` que implemente el método de Gauss con pivotamiento. Reutiliza el código de secciones anteriores. Ten en cuenta que la fase de sustitución es idéntica al método de Gauss sin pivotamiento."
   ]
  },
  {
   "cell_type": "code",
   "execution_count": 47,
   "metadata": {},
   "outputs": [],
   "source": [
    "def swap_rows(A, i , j):\n",
    "    '''intercambia la fija j por la i \n",
    "    en la matriz de coeficientes A\n",
    "    de un sistema lienal\n",
    "    return una nueva matriz A con las filas intercambiadad\n",
    "    pero con la matriz A original sin modificar'''\n",
    "\n",
    "    A[[i, j]] = A[[j, i]]\n",
    "\n",
    "    return A\n",
    "\n",
    "def row_lineal_comb(A, i, j, k):\n",
    "\n",
    "    A[j] = A[j] - A[i] * k\n",
    "\n",
    "    return A\n",
    "\n",
    "def backward_sustitusion(U, c):\n",
    "    '''\n",
    "    the input is an upper triangular matrix U which dimension is nxn\n",
    "    and c vector which contains the results, variable dimension\n",
    "    the output is vector x, which initialy contained the unkwons, with the solution\n",
    "    '''\n",
    "    A_copy = np.copy(U)\n",
    "    b_copy = np.copy(c)\n",
    "    \n",
    "    n = len(c)\n",
    "\n",
    "    x = np.zeros((n,))\n",
    "\n",
    "\n",
    "    for i in range(n-1, -1, -1):\n",
    "        total_sum = 0\n",
    "        for j in range(i+1, n):\n",
    "            total_sum += A_copy[i, j] * x[j]\n",
    "\n",
    "        x[i] = (b_copy[i] - total_sum) / A_copy[i, i]\n",
    "\n",
    "\n",
    "    return x"
   ]
  },
  {
   "cell_type": "code",
   "execution_count": 48,
   "metadata": {},
   "outputs": [],
   "source": [
    "def gauss_pivot(A, b, tol=1.0e-12, func1 = swap_rows, func2= row_lineal_comb, func3= backward_sustitusion):\n",
    "\n",
    "    n = len(A)\n",
    "    \n",
    "    s = np.amax(np.abs(A), axis= 1)\n",
    "\n",
    "    # print('s = ', s)\n",
    "\n",
    "    for k in range(n-1):\n",
    "        #print(f'k = {k}')\n",
    "\n",
    "        r = [np.abs(A[i, k]) / s[i] for i in range(k, len(s))]\n",
    "        #print(f'r = {r}')\n",
    "        p = np.argmax(r) + k\n",
    "        #print(f'p = {p}')\n",
    "\n",
    "\n",
    "        if p != k:\n",
    "            A = func1(A, k, p)\n",
    "            #print(f'A swap rows {k, p} = \\n{A}')\n",
    "            b = func1(b, k, p)\n",
    "            #print(f'b swap rows {k, p} = {b}')\n",
    "            s = func1(s, k, p)\n",
    "            #print(f's swap rows {k, p} = {s}')\n",
    "\n",
    "            for i in range(k+1, n):\n",
    "                #print(f'i = {i}')\n",
    "                c = A[i, k] / A[k, k]\n",
    "                #print(f'c = {c}')\n",
    "                A = func2(A, k , i, c)\n",
    "                #print(f'A = {A}')\n",
    "                b[i] -= c * b[k]\n",
    "                #print(f'b = {b}')\n",
    "    sol = func3(A, b)\n",
    "\n",
    "    return sol"
   ]
  },
  {
   "cell_type": "code",
   "execution_count": 36,
   "metadata": {},
   "outputs": [
    {
     "data": {
      "text/plain": [
       "array([ 1., -1.,  2.])"
      ]
     },
     "execution_count": 36,
     "metadata": {},
     "output_type": "execute_result"
    }
   ],
   "source": [
    "#ejemplo uso\n",
    "\n",
    "A = np.array([\n",
    "    [2, -2, 6],\n",
    "    [-2, 4, 3],\n",
    "    [-1, 8, 4]\n",
    "], dtype=float)\n",
    "\n",
    "b = np.array([16, 0, -1], dtype=float)\n",
    "\n",
    "gauss_pivot(A, b)\n"
   ]
  },
  {
   "cell_type": "code",
   "execution_count": 16,
   "metadata": {},
   "outputs": [
    {
     "data": {
      "text/plain": [
       "array([0, 1, 2, 3, 4])"
      ]
     },
     "execution_count": 16,
     "metadata": {},
     "output_type": "execute_result"
    }
   ],
   "source": [
    "n = 5\n",
    "\n",
    "seq = np.arange(n)\n",
    "seq"
   ]
  },
  {
   "cell_type": "markdown",
   "metadata": {},
   "source": [
    "### Método LU con pivotamiento\n",
    "\n",
    "El algoritmo de eliminación de Gauss puede extenderse a la descomposición de Doolittle con pequeños cambios. El más importante de estos cambios es mantener un registro de los intercambios de filas durante la fase de descomposición. Para ello, se suele manejar un vector adicional que lleve el registro de estos cambios. Si inicialmente definimos un array ```seq = [0, 1, 2, ... ]```, cada vez que se cambian dos filas, el intercambio correspondiente también se realizará en ```seq```. Así, ```seq``` mostrará el orden en que se han reordenado las filas originales. Esta información se transmite a la fase de solución, que reordena los elementos del vector constante en el mismo orden antes de proceder a las sustituciones hacia delante y hacia atrás."
   ]
  },
  {
   "cell_type": "markdown",
   "metadata": {},
   "source": [
    "**Ejercicio 7 -** Programa una función ```pivotLU``` que implemente el método LU con pivotamiento. Ten en cuenta las consideraciones anteriores. Reutiliza el código programado en secciones anteriores."
   ]
  },
  {
   "cell_type": "code",
   "execution_count": 49,
   "metadata": {},
   "outputs": [],
   "source": [
    "def forward_backward_sustitution(L, U, b, func= backward_sustitusion):\n",
    "    '''\n",
    "    the input is a lower trriangular matrix L,\n",
    "    an upper triangular matrix U,\n",
    "    yhe solution vector b\n",
    "    and the function which will be a normal backward sustitusion by default,\n",
    "    the function of this parameter will be dealing with the second part of fthe solving\n",
    "    \n",
    "\n",
    "    reminder: we are searching for x, not y\n",
    "    '''\n",
    "\n",
    "    assert len(b) >= 1, 'this method isnt valid for solving multiply ecuation systems'\n",
    "\n",
    "    #forward sustitutuon\n",
    "    # Ux = y -> Solve Ly = b\n",
    "\n",
    "    L_copy = np.copy(L)\n",
    "    b_copy = np.copy(b)\n",
    "    y = np.zeros(b.shape)\n",
    "\n",
    "    for i in range(len(L)):\n",
    "        total_sum = 0\n",
    "        for j in range(i, -1, -1):\n",
    "            total_sum += L_copy[i, j] * y[j]\n",
    "            # print(f'total sum = {total_sum}')\n",
    "\n",
    "        y[i] = (b_copy[i] - total_sum) / L_copy[i, i]\n",
    "        # print(f'y = {y}')\n",
    "\n",
    "    #backward sustitution\n",
    "    # Ux = y\n",
    "    solution = func(U, y)\n",
    "\n",
    "    return solution\n"
   ]
  },
  {
   "cell_type": "code",
   "execution_count": null,
   "metadata": {},
   "outputs": [
    {
     "name": "stdout",
     "output_type": "stream",
     "text": [
      "[[ 1.          0.          0.        ]\n",
      " [-1.          1.          0.        ]\n",
      " [ 0.5         0.33333333  1.        ]]\n",
      "[ 1. -1.  2.]\n",
      "\n",
      "[[1. 0. 0.]\n",
      " [0. 1. 0.]\n",
      " [0. 0. 1.]]\n",
      "L:\n",
      " [[1. 0. 0.]\n",
      " [0. 1. 0.]\n",
      " [0. 0. 1.]]\n",
      "U:\n",
      " [[-2.          4.          3.        ]\n",
      " [ 0.          6.          2.5       ]\n",
      " [ 0.          0.          8.16666667]]\n"
     ]
    }
   ],
   "source": [
    "def gauss_LU_pivot(A, b = None, tol=1.0e-12, func1 = swap_rows, func2= row_lineal_comb, func3= forward_backward_sustitution):\n",
    "\n",
    "    n = len(A)\n",
    "    \n",
    "    s = np.amax(np.abs(A), axis= 1)\n",
    "\n",
    "    seq = np.arange(n)\n",
    "\n",
    "    L = np.eye((n))\n",
    "\n",
    "    for k in range(n-1):\n",
    "        r = [np.abs(A[i, k]) / s[i] for i in range(k, len(s))]\n",
    "        p = np.argmax(r) + k\n",
    "\n",
    "        if p != k:\n",
    "            A = func1(A, k, p)\n",
    "            seq = func1(seq, k, p)\n",
    "            s = func1(s, k, p)\n",
    "\n",
    "            for i in range(k+1, n):\n",
    "                c = A[i, k] / A[k, k]\n",
    "                L[i, k] = c\n",
    "                A = func2(A, k , i, c)\n",
    "                \n",
    "    print(L)\n",
    "    # print(A)\n",
    "    U = A   \n",
    "    \n",
    "    if b is not None:  # Si b no es False, resolvemos el sistema\n",
    "        b_reordered = b[seq]\n",
    "        # print(b_reordered)\n",
    "        sol = func3(L, U, b_reordered)    \n",
    "        return sol  \n",
    "    \n",
    "    return L, U\n",
    "\n",
    "\n",
    "A = np.array([\n",
    "    [2, -2, 6],\n",
    "    [-2, 4, 3],\n",
    "    [-1, 8, 4]\n",
    "], dtype=float)\n",
    "\n",
    "b = np.array([16, 0, -1], dtype=float)\n",
    "\n",
    "print(gauss_LU_pivot(A, b))\n",
    "print()\n",
    "L, U = gauss_LU_pivot(A)\n",
    "print(\"L:\\n\", L)\n",
    "print(\"U:\\n\", U)"
   ]
  },
  {
   "cell_type": "markdown",
   "metadata": {},
   "source": [
    "### Cuándo pivotar\n",
    "\n",
    "El pivotamiento tiene dos inconvenientes. Uno es el aumento del coste computacional; el otro es la posible destrucción de la simetría o estructura por bandas de la matriz de coeficientes. Esto último es especialmente preocupante en problemas ingenieriles, donde las matrices de coeficientes son frecuentemente por bandas y simétricas, una propiedad que se utiliza en el proceso de resolución, como se ha visto anteriormente. Por suerte, estas matrices suelen ser también diagonal dominantes, por lo que no se beneficiarían del pivotamiento de todos modos.\n",
    "\n",
    "No hay reglas infalibles para determinar cuándo debe utilizarse el pivotamiento. La experiencia indica que el pivotamiento es probablemente contraproducente si la matriz de coeficientes es por bandas. De forma análoga, las matrices definidas positivas y las simétricas rara vez se benefician del pivotamiento. Recuerda que el pivotamiento pretende solucionar problemas derivados de los errores de redondeo: muchas veces es mejor aumentar simplemente la precisión de cálculo en casos problemáticos."
   ]
  },
  {
   "cell_type": "markdown",
   "metadata": {},
   "source": [
    "**Ejercicio 8 -** Opera a mano el sistema de ecuaciones definido por las siguientes matrices, siguiendo el método de Gauss con pivotamiento. Recuerda comenzar definiendo un vector $s$ donde vayas almacenando el mayor elemento de cada fila en las distintas etapas del algoritmo. Comprueba que el vector solución al que llegas es el $[1, -1, 2]$.\n",
    "$$\n",
    "\\mathbf{A}=\\left[\\begin{array}{rrr}\n",
    "2 & -2 & 6 \\\\\n",
    "-2 & 4 & 3 \\\\\n",
    "-1 & 8 & 4\n",
    "\\end{array}\\right] \\quad \\mathbf{b}=\\left[\\begin{array}{r}\n",
    "16 \\\\\n",
    "0 \\\\\n",
    "-1\n",
    "\\end{array}\\right]\n",
    "$$"
   ]
  },
  {
   "cell_type": "code",
   "execution_count": null,
   "metadata": {},
   "outputs": [],
   "source": []
  },
  {
   "cell_type": "markdown",
   "metadata": {},
   "source": [
    "## Inversión de matrices\n",
    "\n",
    "El cálculo de la inversa de una matriz y la resolución de sistemas de ecuaciones son problemas relacionados. La forma más económica de invertir una matriz $\\mathbf{A}$ de $n \\times n$ es resolver el sistema de ecuaciones:\n",
    "\n",
    "$$\n",
    "\\mathbf{AX} = \\mathbf{I}\n",
    "$$\n",
    "\n",
    "donde $\\mathbf{I}$ es la matriz identidad. La solución $\\mathbf{X}$, también de tamaño $n \\times n$, será la inversa de $\\mathbf{A}$. La prueba es sencilla: tras premultiplicar ambos lados de la ecuación anterior por $\\mathbf{A}^{-1}$ tenemos $\\mathbf{A}^{-1} \\mathbf{AX} = \\mathbf{A}^{-1} \\mathbf{I}$, lo que se reduce a $\\mathbf{X} = \\mathbf{A}^{-1}$.\n",
    "\n",
    "La inversión de matrices grandes debe evitarse siempre que sea posible debido a su alto coste. Como se aprecia de la ecuación anterior, la inversión de $\\mathbf{A}$ es equivalente a resolver $\\mathbf{Ax_i} = \\mathbf{b_i}$ con $i = 1, 2, \\dots , n,$ donde $\\mathbf{b_i}$ es la $i$-ésima columna de $\\mathbf{I}$. Suponiendo que se utilizase la descomposición LU, la fase de resolución (sustitución hacia delante y hacia atrás) debería repetirse $n$ veces, una por cada $\\mathbf{b_i}$. Dado que el algoritmo es $\\mathcal{O}\\left(n^3\\right)$ para la fase de descomposición y $\\mathcal{O}\\left(n^2\\right)$ para cada vector en la fase de resolución, el coste de la inversión es considerablemente superior que el de la solución de un único sistema.\n",
    "\n",
    "La inversión de matrices tiene otro grave inconveniente: una matriz con bandas pierde su estructura durante la inversión. En otras palabras, si $\\mathbf{A}$ tiene bandas o es dispersa, entonces $\\mathbf{A}^{-1}$ está completamente poblada.\n",
    "\n",
    "\n"
   ]
  },
  {
   "cell_type": "markdown",
   "metadata": {},
   "source": [
    "**Ejercicio 9 -** Escribe una función que invierta una matriz utilizando la descomposición LU con pivote. Prueba la función invirtiendo la siguiente matriz:\n",
    "\n",
    "$$\n",
    "\\mathbf{A}=\\left[\\begin{array}{rrr}\n",
    "0.6 & -0.4 & 1.0 \\\\\n",
    "-0.3 & 0.2 & 0.5 \\\\\n",
    "0.6 & -1.0 & 0.5\n",
    "\\end{array}\\right]\n",
    "$$\n"
   ]
  },
  {
   "cell_type": "code",
   "execution_count": 3,
   "metadata": {},
   "outputs": [],
   "source": [
    "import numpy as np"
   ]
  },
  {
   "cell_type": "code",
   "execution_count": 24,
   "metadata": {},
   "outputs": [],
   "source": [
    "def row_lineal_comb(A, i, j, k):\n",
    "\n",
    "    ''' i es la posicion de la linea a la que multiplicas por k\n",
    "    j es el indice de la linea que estamos modificando\n",
    "    k es el valor por el cual multiplicamos a A[i]\n",
    "\n",
    "    devuelve uan copia de la matriz \n",
    "    '''\n",
    "\n",
    "    A_copy = np.copy(A)\n",
    "    ai = np.copy(A[i])\n",
    "\n",
    "    A_copy[j] = A_copy[j] + ai * k\n",
    "\n",
    "    return A_copy\n"
   ]
  },
  {
   "cell_type": "code",
   "execution_count": 25,
   "metadata": {},
   "outputs": [],
   "source": [
    "#gpt version, pendiente de checkearlo\n",
    "\n",
    "def solve_backward_substitution(U, c):\n",
    "    '''\n",
    "    U: upper triangular matrix\n",
    "    c: column vector or matrix (result from forward substitution)\n",
    "    '''\n",
    "    # Si c es un vector, convertirlo en 2D para unificar\n",
    "    if len(c.shape) == 1:\n",
    "        c = c.reshape(-1, 1)\n",
    "\n",
    "    n = c.shape[0]\n",
    "    X = np.zeros_like(c)  # Matriz para soluciones\n",
    "\n",
    "    for k in range(c.shape[1]):  # Resolver columna por columna\n",
    "        b = c[:, k]  # Tomar cada columna como un vector\n",
    "        x = np.zeros(n)\n",
    "        for i in range(n - 1, -1, -1):\n",
    "            total_sum = sum(U[i, j] * x[j] for j in range(i + 1, n))\n",
    "            x[i] = (b[i] - total_sum) / U[i, i]\n",
    "        X[:, k] = x\n",
    "\n",
    "    return X\n",
    "\n",
    "\n",
    "def solve_forward_substitution(L, B):\n",
    "    '''\n",
    "    L: Matriz triangular inferior\n",
    "    B: Matriz de soluciones o vector (si es un vector, se convierte en matriz de una sola columna)\n",
    "    Retorna la matriz Y que satisface Ly = B\n",
    "    '''\n",
    "    # Convertir B en matriz si es un vector\n",
    "    if len(B.shape) == 1:\n",
    "        B = B.reshape(-1, 1)\n",
    "\n",
    "    # Inicializamos Y\n",
    "    Y = np.zeros_like(B)\n",
    "\n",
    "    # Resolución hacia adelante para cada columna\n",
    "    for k in range(B.shape[1]):\n",
    "        b = B[:, k]  # Tomar la columna k como vector\n",
    "        y = np.zeros_like(b)\n",
    "        for i in range(len(L)):\n",
    "            total_sum = sum(L[i, j] * y[j] for j in range(i))\n",
    "            y[i] = (b[i] - total_sum) / L[i, i]\n",
    "        Y[:, k] = y  # Guardar la solución de la columna\n",
    "\n",
    "    return Y\n",
    "\n",
    "def solve_forward_backward_substitution(L, U, B, func1 = solve_forward_substitution,func2=solve_backward_substitution):\n",
    "    '''\n",
    "    L: Matriz triangular inferior\n",
    "    U: Matriz triangular superior\n",
    "    B: Matriz de soluciones o vector\n",
    "    func: Función para la sustitución hacia atrás (por defecto backward_sustitution)\n",
    "    Retorna la matriz X que satisface LUx = B\n",
    "    '''\n",
    "    # Resolver hacia adelante: Ly = B\n",
    "    Y = func1(L, B)\n",
    "\n",
    "    # Resolver hacia atrás: Ux = Y\n",
    "    X = func2(U, Y)\n",
    "\n",
    "    return X\n",
    "\n"
   ]
  },
  {
   "cell_type": "code",
   "execution_count": null,
   "metadata": {},
   "outputs": [],
   "source": [
    "def calculate_inversa(A,  func1 = gauss_LU_pivot, func2 = solve_forward_backward_substitution):\n",
    "    n = len(A)\n",
    "    I  = np.eye(n)\n",
    "\n",
    "    L, U = func1(A)\n",
    "\n",
    "    print(U)\n",
    "\n",
    "    resul = func2(L, U, I)\n",
    "\n",
    "    return resul\n"
   ]
  },
  {
   "cell_type": "code",
   "execution_count": 27,
   "metadata": {},
   "outputs": [
    {
     "ename": "TypeError",
     "evalue": "gauss_LU_pivot() missing 1 required positional argument: 'b'",
     "output_type": "error",
     "traceback": [
      "\u001b[1;31m---------------------------------------------------------------------------\u001b[0m",
      "\u001b[1;31mTypeError\u001b[0m                                 Traceback (most recent call last)",
      "Cell \u001b[1;32mIn[27], line 5\u001b[0m\n\u001b[0;32m      1\u001b[0m A \u001b[38;5;241m=\u001b[39m np\u001b[38;5;241m.\u001b[39marray([[\u001b[38;5;241m0.6\u001b[39m, \u001b[38;5;241m-\u001b[39m\u001b[38;5;241m0.4\u001b[39m, \u001b[38;5;241m1.0\u001b[39m],\n\u001b[0;32m      2\u001b[0m               [\u001b[38;5;241m-\u001b[39m\u001b[38;5;241m0.3\u001b[39m, \u001b[38;5;241m0.2\u001b[39m, \u001b[38;5;241m0.5\u001b[39m],\n\u001b[0;32m      3\u001b[0m               [\u001b[38;5;241m0.6\u001b[39m, \u001b[38;5;241m-\u001b[39m\u001b[38;5;241m1.0\u001b[39m, \u001b[38;5;241m0.5\u001b[39m]])\n\u001b[1;32m----> 5\u001b[0m \u001b[43mcalculate_inversa\u001b[49m\u001b[43m(\u001b[49m\u001b[43mA\u001b[49m\u001b[43m)\u001b[49m\n",
      "Cell \u001b[1;32mIn[26], line 7\u001b[0m, in \u001b[0;36mcalculate_inversa\u001b[1;34m(A, func1, func2)\u001b[0m\n\u001b[0;32m      4\u001b[0m n \u001b[38;5;241m=\u001b[39m \u001b[38;5;28mlen\u001b[39m(A)\n\u001b[0;32m      5\u001b[0m I  \u001b[38;5;241m=\u001b[39m np\u001b[38;5;241m.\u001b[39meye(n)\n\u001b[1;32m----> 7\u001b[0m L, U \u001b[38;5;241m=\u001b[39m \u001b[43mfunc1\u001b[49m\u001b[43m(\u001b[49m\u001b[43mA\u001b[49m\u001b[43m)\u001b[49m\n\u001b[0;32m      9\u001b[0m \u001b[38;5;28mprint\u001b[39m(U)\n\u001b[0;32m     11\u001b[0m resul \u001b[38;5;241m=\u001b[39m func2(L, U, I)\n",
      "\u001b[1;31mTypeError\u001b[0m: gauss_LU_pivot() missing 1 required positional argument: 'b'"
     ]
    }
   ],
   "source": [
    "A = np.array([[0.6, -0.4, 1.0],\n",
    "              [-0.3, 0.2, 0.5],\n",
    "              [0.6, -1.0, 0.5]])\n",
    "\n",
    "calculate_inversa(A)"
   ]
  },
  {
   "cell_type": "code",
   "execution_count": 14,
   "metadata": {},
   "outputs": [
    {
     "data": {
      "text/plain": [
       "array([[ 1.66666667, -2.22222222, -1.11111111],\n",
       "       [ 1.25      , -0.83333333, -1.66666667],\n",
       "       [ 0.5       ,  1.        ,  0.        ]])"
      ]
     },
     "execution_count": 14,
     "metadata": {},
     "output_type": "execute_result"
    }
   ],
   "source": [
    "np.linalg.inv(A)"
   ]
  },
  {
   "cell_type": "code",
   "execution_count": null,
   "metadata": {},
   "outputs": [],
   "source": []
  }
 ],
 "metadata": {
  "kernelspec": {
   "display_name": "Python 3",
   "language": "python",
   "name": "python3"
  },
  "language_info": {
   "codemirror_mode": {
    "name": "ipython",
    "version": 3
   },
   "file_extension": ".py",
   "mimetype": "text/x-python",
   "name": "python",
   "nbconvert_exporter": "python",
   "pygments_lexer": "ipython3",
   "version": "3.12.6"
  },
  "orig_nbformat": 4
 },
 "nbformat": 4,
 "nbformat_minor": 2
}
