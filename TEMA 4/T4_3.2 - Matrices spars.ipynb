{
 "cells": [
  {
   "cell_type": "markdown",
   "metadata": {},
   "source": [
    "Las **matrices sparse** (o matrices dispersas) son matrices que contienen un alto porcentaje de elementos con valor cero. Estas matrices son comunes en aplicaciones como la resolución de ecuaciones diferenciales, grafos, redes y modelado matemático.\n",
    "\n",
    "### Características principales:\n",
    "1. **Alta dispersión**: La mayoría de los elementos son ceros, lo que significa que los valores diferentes de cero están dispersos en la matriz.\n",
    "2. **Eficiencia en memoria**: En lugar de almacenar todos los elementos, se almacenan únicamente los valores no cero y sus ubicaciones, lo que reduce significativamente el uso de memoria.\n",
    "3. **Operaciones especializadas**: Las operaciones matemáticas en matrices dispersas utilizan algoritmos optimizados que aprovechan la estructura dispersa para mejorar el rendimiento.\n",
    "\n",
    "### Representaciones comunes:\n",
    "1. **Lista de coordenadas (COO)**:\n",
    "   - Se almacenan tres arreglos: uno para las filas, otro para las columnas y uno más para los valores diferentes de cero.\n",
    "2. **Compressed Sparse Row (CSR)**:\n",
    "   - Se almacena una lista de valores no cero, los índices de las columnas y un arreglo adicional que indica dónde comienza cada fila.\n",
    "3. **Compressed Sparse Column (CSC)**:\n",
    "   - Similar a CSR, pero organizado por columnas en lugar de filas.\n",
    "\n",
    "\n",
    "### Ventajas de usar matrices sparse:\n",
    "- **Reducción de memoria**: Útil para trabajar con datos de gran tamaño.\n",
    "- **Mayor velocidad**: Operaciones más rápidas en aplicaciones especializadas.\n",
    "- **Aplicaciones específicas**: Redes sociales, sistemas de recomendación, problemas de optimización, entre otros.\n",
    "\n",
    "Sin embargo, en ciertos casos, las operaciones pueden ser menos eficientes si la matriz no es lo suficientemente dispersa."
   ]
  },
  {
   "cell_type": "markdown",
   "metadata": {},
   "source": [
    "---\n",
    "Para representar la matriz dispersa dada:\n",
    "\n",
    "\n",
    "\\begin{bmatrix}\n",
    "0 & 0 & 3 \\\\\n",
    "0 & 0 & 0 \\\\\n",
    "4 & 0 & 0 \\\\\n",
    "\\end{bmatrix}\n",
    "\n",
    "\n",
    "Con los métodos más comunes para trabajar con matrices dispersas (\\( COO \\), \\( CSR \\), \\( CSC \\)), la representación sería la siguiente:\n",
    "\n",
    "\n",
    "### 1. **Formato COO (Coordinate List):**\n",
    "En este formato, almacenamos tres listas: las filas, las columnas y los valores correspondientes a los elementos no cero."
   ]
  },
  {
   "cell_type": "code",
   "execution_count": 3,
   "metadata": {},
   "outputs": [],
   "source": [
    "rows = [0, 2]         # Índices de las filas\n",
    "cols = [2, 0]         # Índices de las columnas\n",
    "values = [3, 4]       # Valores no cero"
   ]
  },
  {
   "cell_type": "markdown",
   "metadata": {},
   "source": [
    "### 2. **Formato CSR (Compressed Sparse Row):**\n",
    "En este formato, organizamos los datos fila por fila. Se utilizan tres arreglos:\n",
    "1. **Valores**: Los elementos diferentes de cero.\n",
    "2. **Índices de columnas**: La columna correspondiente a cada valor.\n",
    "3. **Punteros de fila**: Indica dónde comienza cada fila en las listas de valores e índices de columna."
   ]
  },
  {
   "cell_type": "code",
   "execution_count": 2,
   "metadata": {},
   "outputs": [],
   "source": [
    "values = [3, 4]              # Valores no cero\n",
    "col_indices = [2, 0]         # Índices de columnas\n",
    "row_pointers = [0, 1, 1, 2]  # Punteros de fila: inicio de cada fila en `values`\n",
    "\n",
    "# Explicación de row_pointers:\n",
    "# - 0 indica que la fila 0 empieza en el índice 0 de `values`.\n",
    "# - 1 indica que la fila 1 empieza y termina en el índice 1 (sin valores).\n",
    "# - 2 indica que la fila 2 empieza en el índice 1 y termina en el índice 2 de `values`."
   ]
  },
  {
   "cell_type": "markdown",
   "metadata": {},
   "source": [
    "### 3. **Formato CSC (Compressed Sparse Column):**\n",
    "Este formato es similar al CSR, pero organizado columna por columna. Los arreglos son:\n",
    "1. **Valores**: Elementos diferentes de cero.\n",
    "2. **Índices de filas**: La fila correspondiente a cada valor.\n",
    "3. **Punteros de columna**: Indica dónde comienza cada columna en las listas de valores e índices de fila."
   ]
  },
  {
   "cell_type": "code",
   "execution_count": 1,
   "metadata": {},
   "outputs": [],
   "source": [
    "values = [4, 3]              # Valores no cero (ordenados por columna)\n",
    "row_indices = [2, 0]         # Índices de filas\n",
    "col_pointers = [0, 0, 1, 2]  # Punteros de columna: inicio de cada columna en `values`\n",
    "\n",
    "# Explicación de col_pointers:\n",
    "# - 0 indica que la columna 0 no tiene valores.\n",
    "# - 0 indica que la columna 1 no tiene valores.\n",
    "# - 1 indica que la columna 2 empieza en el índice 1 de `values` y termina en el índice 2."
   ]
  },
  {
   "cell_type": "markdown",
   "metadata": {},
   "source": [
    "### implementacion por diccionarios"
   ]
  },
  {
   "cell_type": "code",
   "execution_count": 3,
   "metadata": {},
   "outputs": [
    {
     "name": "stdout",
     "output_type": "stream",
     "text": [
      "3\n",
      "no existe\n"
     ]
    }
   ],
   "source": [
    "sparse_matrix = {\n",
    "    (0, 2): 3,\n",
    "    (2, 0): 4\n",
    "}\n",
    "\n",
    "value = sparse_matrix.get((0, 2))  \n",
    "print(value)\n",
    "value = sparse_matrix.get((1, 1), 'no existe')  \n",
    "print(value)"
   ]
  },
  {
   "cell_type": "code",
   "execution_count": 4,
   "metadata": {},
   "outputs": [],
   "source": [
    "sparse_diag_dominant = {\n",
    "    (0, 0): 10, (0, 1): 1, (0, 2): 0, (0, 3): -1,\n",
    "    (1, 0): 2, (1, 1): 20, (1, 2): -3, (1, 3): 4,\n",
    "    (2, 0): 0, (2, 1): -2, (2, 2): 15, (2, 3): 1,\n",
    "    (3, 0): 1, (3, 1): 0, (3, 2): 1, (3, 3): 12\n",
    "}\n",
    "\n",
    "sparse_with_zero = {\n",
    "    (0, 0): 10, (0, 1): 2, (0, 2): -1, (0, 3): 3,\n",
    "    (1, 0): 4, (1, 1): 0,  (1, 2): 1,  (1, 3): 5,\n",
    "    (2, 0): -1, (2, 1): 3, (2, 2): 8,  (2, 3): 0,\n",
    "    (3, 0): 2, (3, 1): 4, (3, 2): -2, (3, 3): 9\n",
    "}"
   ]
  },
  {
   "cell_type": "code",
   "execution_count": 5,
   "metadata": {},
   "outputs": [
    {
     "name": "stdout",
     "output_type": "stream",
     "text": [
      "4 4\n"
     ]
    }
   ],
   "source": [
    "max_row = 0\n",
    "max_col = 0\n",
    "\n",
    "for i, j in sparse_diag_dominant.keys():\n",
    "    max_row = max(max_row, i)\n",
    "    max_col = max(max_col, j)\n",
    "    \n",
    "print(max_row +1, max_col +1)"
   ]
  },
  {
   "cell_type": "code",
   "execution_count": 8,
   "metadata": {},
   "outputs": [
    {
     "name": "stdout",
     "output_type": "stream",
     "text": [
      "Tiene un 0 en la diagonal en la posición (1, 1)\n"
     ]
    }
   ],
   "source": [
    "for i in range(max_col + 1):  # Asumiendo que max_col ya está definido\n",
    "    if sparse_with_zero.get((i, i), 0) == 0:  # Verifica si (i, i) es 0 o no está definido\n",
    "        print(f\"Tiene un 0 en la diagonal en la posición ({i}, {i})\")"
   ]
  },
  {
   "cell_type": "code",
   "execution_count": 22,
   "metadata": {},
   "outputs": [],
   "source": [
    "import random"
   ]
  },
  {
   "cell_type": "code",
   "execution_count": 47,
   "metadata": {},
   "outputs": [],
   "source": [
    "def generate_sparse_matrix(size=10):\n",
    "    sparse_matrix = {}\n",
    "    for i in range(size):\n",
    "        for j in range(size):\n",
    "            if i == j:\n",
    "                # Diagonal: valores no nulos (10 a 30)\n",
    "                value = random.choices([0, random.randint(1, 10)], weights=[0.1, 0.9])[0]\n",
    "            else:\n",
    "                # Fuera de la diagonal: mayor probabilidad de ser cero\n",
    "                value = random.choices([0, random.randint(1, 5)], weights=[0.7, 0.3])[0]\n",
    "            if value != 0:\n",
    "                sparse_matrix[(i, j)] = value\n",
    "    return sparse_matrix\n",
    "\n",
    "# Generar vector b\n",
    "def generate_vector_b(size=10):\n",
    "    return [random.uniform(1.0, 20.0) for _ in range(size)]"
   ]
  },
  {
   "cell_type": "code",
   "execution_count": 48,
   "metadata": {},
   "outputs": [
    {
     "data": {
      "text/plain": [
       "{(0, 0): 4,\n",
       " (0, 1): 2,\n",
       " (1, 1): 10,\n",
       " (1, 2): 4,\n",
       " (1, 4): 3,\n",
       " (2, 1): 5,\n",
       " (2, 2): 3,\n",
       " (3, 0): 4,\n",
       " (3, 3): 10,\n",
       " (3, 4): 5,\n",
       " (4, 0): 1,\n",
       " (4, 4): 3}"
      ]
     },
     "execution_count": 48,
     "metadata": {},
     "output_type": "execute_result"
    }
   ],
   "source": [
    "matrix = generate_sparse_matrix(5)\n",
    "matrix"
   ]
  },
  {
   "cell_type": "code",
   "execution_count": 41,
   "metadata": {},
   "outputs": [
    {
     "name": "stdout",
     "output_type": "stream",
     "text": [
      "9\n",
      "2\n",
      "9\n",
      "5\n",
      "2\n",
      "4\n",
      "1\n",
      "1\n",
      "7\n"
     ]
    }
   ],
   "source": [
    "for i in range(5):\n",
    "    for j in range(5):\n",
    "        value = matrix.get((i, j))\n",
    "        if value == None:\n",
    "            continue\n",
    "        else: print(value)\n"
   ]
  },
  {
   "cell_type": "code",
   "execution_count": 49,
   "metadata": {},
   "outputs": [
    {
     "data": {
      "text/plain": [
       "[19.65016120295794,\n",
       " 10.288801748739468,\n",
       " 12.919701048447536,\n",
       " 19.707553410351345,\n",
       " 2.0551197104466086]"
      ]
     },
     "execution_count": 49,
     "metadata": {},
     "output_type": "execute_result"
    }
   ],
   "source": [
    "b = generate_vector_b(5)\n",
    "b"
   ]
  },
  {
   "cell_type": "code",
   "execution_count": 35,
   "metadata": {},
   "outputs": [
    {
     "data": {
      "text/plain": [
       "array([[9, 2, 0, 0, 0],\n",
       "       [0, 9, 0, 0, 0],\n",
       "       [0, 0, 5, 0, 0],\n",
       "       [2, 0, 0, 4, 1],\n",
       "       [0, 0, 0, 1, 7]])"
      ]
     },
     "execution_count": 35,
     "metadata": {},
     "output_type": "execute_result"
    }
   ],
   "source": [
    "import numpy as np\n",
    "\n",
    "def reconstruct_matrix_numpy(sparse_matrix, size):\n",
    "    # Crear una matriz completa de ceros\n",
    "    full_matrix = np.zeros((size, size), dtype=int)\n",
    "    # Asignar los valores del diccionario a la matriz\n",
    "    for (i, j), value in sparse_matrix.items():\n",
    "        full_matrix[i, j] = value\n",
    "    return full_matrix\n",
    "\n",
    "\n",
    "size = 5  \n",
    "full_matrix = reconstruct_matrix_numpy(matrix, size)\n",
    "\n",
    "# Imprimir la matriz reconstruida\n",
    "full_matrix\n"
   ]
  },
  {
   "cell_type": "code",
   "execution_count": 60,
   "metadata": {},
   "outputs": [],
   "source": [
    "def iter_esq(A: dict, x, b, omega):\n",
    "\n",
    "    n = len(b)\n",
    "    x_old = np.copy(x)\n",
    "\n",
    "    for i in range(n):\n",
    "        x[i] = b[i] \n",
    "\n",
    "        for j in range(n):\n",
    "            if j == i:\n",
    "                continue # si i = j se salta esta iteracion\n",
    "\n",
    "            A_ij = A.get((i, j))\n",
    "            if A_ij is not None:\n",
    "                x[i] -= A_ij * x[j]\n",
    "\n",
    "        A_ii = A.get((i, i))\n",
    "        if A_ii is None:\n",
    "            raise ValueError(f\"element in diagonal A[{i}, {i}] isnt defined.\")\n",
    "        \n",
    "        x[i] *= omega / A_ii\n",
    "        x[i] += (1 - omega) * x_old[i]\n",
    "        \n",
    "    return x\n",
    "\n",
    "def solve_gaus_seidel_spars(        \n",
    "        A: np.ndarray | dict,\n",
    "        x: np.ndarray,\n",
    "        b: np.ndarray | list,\n",
    "        omega: float,\n",
    "        tol: float,\n",
    "        max_n_ite: int) -> np.ndarray :\n",
    "    \n",
    "    for i in range(1, max_n_ite):\n",
    "\n",
    "        # guardo el candidato actual para comparar\n",
    "        x_old = np.copy(x)\n",
    "\n",
    "        # aaplicar el sistema iterativo de gauss seidel\n",
    "\n",
    "        x = iter_esq(A, x, b, omega)\n",
    "\n",
    "        #comprobar lo de la tolerancia\n",
    "\n",
    "        dx = np.linalg.norm(x - x_old) # normal euclidea\n",
    "        \n",
    "        error = dx / np.linalg.norm(x)\n",
    "\n",
    "\n",
    "        if error < tol:\n",
    "\n",
    "            return x, i, omega\n",
    "        \n",
    "    print(f\" cuidadillo: la tolerancia objetivo no ha sido alcanzada. la solucion actual tiene un error de {error}\")\n",
    "\n",
    "    return x, i, omega\n",
    "    \n"
   ]
  },
  {
   "cell_type": "code",
   "execution_count": 67,
   "metadata": {},
   "outputs": [
    {
     "name": "stdout",
     "output_type": "stream",
     "text": [
      "{(0, 0): 10, (0, 3): 4, (0, 4): 4, (1, 0): 4, (1, 2): 2, (2, 2): 5, (2, 4): 4, (3, 1): 1, (3, 3): 5, (3, 4): 3, (4, 4): 7}\n",
      "[4.367598269182446, 11.668407957957527, 18.725726843586074, 12.352101763084834, 17.488961240361846]\n",
      "[[10  0  0  4  4]\n",
      " [ 4  0  2  0  0]\n",
      " [ 0  0  5  0  4]\n",
      " [ 0  1  0  5  3]\n",
      " [ 0  0  0  0  7]]\n"
     ]
    },
    {
     "data": {
      "text/plain": [
       "array([ 2.04389852, 37.43818148,  1.74640694, -6.51626976,  2.49842303])"
      ]
     },
     "execution_count": 67,
     "metadata": {},
     "output_type": "execute_result"
    }
   ],
   "source": [
    "matrix_dic = generate_sparse_matrix(5)\n",
    "print(matrix_dic)\n",
    "b_example = generate_vector_b(5)\n",
    "print(b_example)\n",
    "\n",
    "matrix_example= reconstruct_matrix_numpy(matrix_dic, 5)\n",
    "print(matrix_example)\n",
    "\n",
    "sol_numpy = np.linalg.solve(matrix_example, b_example)\n",
    "sol_numpy"
   ]
  },
  {
   "cell_type": "code",
   "execution_count": 68,
   "metadata": {},
   "outputs": [
    {
     "name": "stdout",
     "output_type": "stream",
     "text": [
      "{(0, 0): 10, (0, 3): 4, (0, 4): 4, (1, 0): 4, (1, 2): 2, (2, 2): 5, (2, 4): 4, (3, 1): 1, (3, 3): 5, (3, 4): 3, (4, 4): 7}\n",
      "[12.35595057412507, 11.296801945445631, 15.312261563813774, 19.693735577944118, 2.5654471612161878]\n",
      "[[3 0 0 0 1]\n",
      " [0 0 0 1 5]\n",
      " [0 0 2 0 0]\n",
      " [0 0 2 0 0]\n",
      " [0 1 0 1 8]]\n"
     ]
    }
   ],
   "source": [
    "matrix_dic_zeros = generate_sparse_matrix(5)\n",
    "print(matrix_dic)\n",
    "b_example_2 = generate_vector_b(5)\n",
    "print(b_example)\n",
    "\n",
    "matrix_example= reconstruct_matrix_numpy(matrix_dic_zeros, 5)\n",
    "print(matrix_example)\n"
   ]
  },
  {
   "cell_type": "code",
   "execution_count": 65,
   "metadata": {},
   "outputs": [
    {
     "name": "stdout",
     "output_type": "stream",
     "text": [
      "[8.397484736508543, 9.440626357247968, 14.03424525545538, 9.463110120817575, 14.529298095394578]\n",
      "solution \n",
      ": (array([1.12352561, 0.49684813, 1.93391371, 1.65633512, 1.52306732]), 19, 0.7)\n"
     ]
    }
   ],
   "source": [
    "x = np.array([0.0, 0.0, 0.0, 0.0, 0.0])\n",
    "omega = 0.7\n",
    "tol = 10 ** -6\n",
    "max_ite = 1000\n",
    "\n",
    "print(b_example)\n",
    "\n",
    "solution = solve_gaus_seidel_spars(matrix_dic, x, b_example, omega, tol, max_ite)\n",
    "print(f'solution \\n: {solution}')"
   ]
  },
  {
   "cell_type": "code",
   "execution_count": 69,
   "metadata": {},
   "outputs": [
    {
     "ename": "ValueError",
     "evalue": "element in diagonal A[1, 1] isnt defined.",
     "output_type": "error",
     "traceback": [
      "\u001b[1;31m---------------------------------------------------------------------------\u001b[0m",
      "\u001b[1;31mValueError\u001b[0m                                Traceback (most recent call last)",
      "Cell \u001b[1;32mIn[69], line 1\u001b[0m\n\u001b[1;32m----> 1\u001b[0m solution \u001b[38;5;241m=\u001b[39m \u001b[43msolve_gaus_seidel_spars\u001b[49m\u001b[43m(\u001b[49m\u001b[43mmatrix_dic_zeros\u001b[49m\u001b[43m,\u001b[49m\u001b[43m \u001b[49m\u001b[43mx\u001b[49m\u001b[43m,\u001b[49m\u001b[43m \u001b[49m\u001b[43mb_example\u001b[49m\u001b[43m,\u001b[49m\u001b[43m \u001b[49m\u001b[43momega\u001b[49m\u001b[43m,\u001b[49m\u001b[43m \u001b[49m\u001b[43mtol\u001b[49m\u001b[43m,\u001b[49m\u001b[43m \u001b[49m\u001b[43mmax_ite\u001b[49m\u001b[43m)\u001b[49m\n\u001b[0;32m      2\u001b[0m \u001b[38;5;28mprint\u001b[39m(\u001b[38;5;124mf\u001b[39m\u001b[38;5;124m'\u001b[39m\u001b[38;5;124msolution \u001b[39m\u001b[38;5;130;01m\\n\u001b[39;00m\u001b[38;5;124m: \u001b[39m\u001b[38;5;132;01m{\u001b[39;00msolution\u001b[38;5;132;01m}\u001b[39;00m\u001b[38;5;124m'\u001b[39m)\n",
      "Cell \u001b[1;32mIn[60], line 41\u001b[0m, in \u001b[0;36msolve_gaus_seidel_spars\u001b[1;34m(A, x, b, omega, tol, max_n_ite)\u001b[0m\n\u001b[0;32m     37\u001b[0m x_old \u001b[38;5;241m=\u001b[39m np\u001b[38;5;241m.\u001b[39mcopy(x)\n\u001b[0;32m     39\u001b[0m \u001b[38;5;66;03m# aaplicar el sistema iterativo de gauss seidel\u001b[39;00m\n\u001b[1;32m---> 41\u001b[0m x \u001b[38;5;241m=\u001b[39m \u001b[43miter_esq\u001b[49m\u001b[43m(\u001b[49m\u001b[43mA\u001b[49m\u001b[43m,\u001b[49m\u001b[43m \u001b[49m\u001b[43mx\u001b[49m\u001b[43m,\u001b[49m\u001b[43m \u001b[49m\u001b[43mb\u001b[49m\u001b[43m,\u001b[49m\u001b[43m \u001b[49m\u001b[43momega\u001b[49m\u001b[43m)\u001b[49m\n\u001b[0;32m     43\u001b[0m \u001b[38;5;66;03m#comprobar lo de la tolerancia\u001b[39;00m\n\u001b[0;32m     45\u001b[0m dx \u001b[38;5;241m=\u001b[39m np\u001b[38;5;241m.\u001b[39mlinalg\u001b[38;5;241m.\u001b[39mnorm(x \u001b[38;5;241m-\u001b[39m x_old) \u001b[38;5;66;03m# normal euclidea\u001b[39;00m\n",
      "Cell \u001b[1;32mIn[60], line 19\u001b[0m, in \u001b[0;36miter_esq\u001b[1;34m(A, x, b, omega)\u001b[0m\n\u001b[0;32m     17\u001b[0m A_ii \u001b[38;5;241m=\u001b[39m A\u001b[38;5;241m.\u001b[39mget((i, i))\n\u001b[0;32m     18\u001b[0m \u001b[38;5;28;01mif\u001b[39;00m A_ii \u001b[38;5;129;01mis\u001b[39;00m \u001b[38;5;28;01mNone\u001b[39;00m:\n\u001b[1;32m---> 19\u001b[0m     \u001b[38;5;28;01mraise\u001b[39;00m \u001b[38;5;167;01mValueError\u001b[39;00m(\u001b[38;5;124mf\u001b[39m\u001b[38;5;124m\"\u001b[39m\u001b[38;5;124melement in diagonal A[\u001b[39m\u001b[38;5;132;01m{\u001b[39;00mi\u001b[38;5;132;01m}\u001b[39;00m\u001b[38;5;124m, \u001b[39m\u001b[38;5;132;01m{\u001b[39;00mi\u001b[38;5;132;01m}\u001b[39;00m\u001b[38;5;124m] isnt defined.\u001b[39m\u001b[38;5;124m\"\u001b[39m)\n\u001b[0;32m     21\u001b[0m x[i] \u001b[38;5;241m*\u001b[39m\u001b[38;5;241m=\u001b[39m omega \u001b[38;5;241m/\u001b[39m A_ii\n\u001b[0;32m     22\u001b[0m x[i] \u001b[38;5;241m+\u001b[39m\u001b[38;5;241m=\u001b[39m (\u001b[38;5;241m1\u001b[39m \u001b[38;5;241m-\u001b[39m omega) \u001b[38;5;241m*\u001b[39m x_old[i]\n",
      "\u001b[1;31mValueError\u001b[0m: element in diagonal A[1, 1] isnt defined."
     ]
    }
   ],
   "source": [
    "solution = solve_gaus_seidel_spars(matrix_dic_zeros, x, b_example, omega, tol, max_ite)\n",
    "print(f'solution \\n: {solution}')"
   ]
  }
 ],
 "metadata": {
  "kernelspec": {
   "display_name": "Python 3",
   "language": "python",
   "name": "python3"
  },
  "language_info": {
   "codemirror_mode": {
    "name": "ipython",
    "version": 3
   },
   "file_extension": ".py",
   "mimetype": "text/x-python",
   "name": "python",
   "nbconvert_exporter": "python",
   "pygments_lexer": "ipython3",
   "version": "3.12.6"
  }
 },
 "nbformat": 4,
 "nbformat_minor": 2
}
