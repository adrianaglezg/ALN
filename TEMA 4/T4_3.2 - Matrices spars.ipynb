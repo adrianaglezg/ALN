{
 "cells": [
  {
   "cell_type": "markdown",
   "metadata": {},
   "source": [
    "Las **matrices sparse** (o matrices dispersas) son matrices que contienen un alto porcentaje de elementos con valor cero. Estas matrices son comunes en aplicaciones como la resolución de ecuaciones diferenciales, grafos, redes y modelado matemático.\n",
    "\n",
    "### Características principales:\n",
    "1. **Alta dispersión**: La mayoría de los elementos son ceros, lo que significa que los valores diferentes de cero están dispersos en la matriz.\n",
    "2. **Eficiencia en memoria**: En lugar de almacenar todos los elementos, se almacenan únicamente los valores no cero y sus ubicaciones, lo que reduce significativamente el uso de memoria.\n",
    "3. **Operaciones especializadas**: Las operaciones matemáticas en matrices dispersas utilizan algoritmos optimizados que aprovechan la estructura dispersa para mejorar el rendimiento.\n",
    "\n",
    "### Representaciones comunes:\n",
    "1. **Lista de coordenadas (COO)**:\n",
    "   - Se almacenan tres arreglos: uno para las filas, otro para las columnas y uno más para los valores diferentes de cero.\n",
    "2. **Compressed Sparse Row (CSR)**:\n",
    "   - Se almacena una lista de valores no cero, los índices de las columnas y un arreglo adicional que indica dónde comienza cada fila.\n",
    "3. **Compressed Sparse Column (CSC)**:\n",
    "   - Similar a CSR, pero organizado por columnas en lugar de filas.\n",
    "\n",
    "\n",
    "### Ventajas de usar matrices sparse:\n",
    "- **Reducción de memoria**: Útil para trabajar con datos de gran tamaño.\n",
    "- **Mayor velocidad**: Operaciones más rápidas en aplicaciones especializadas.\n",
    "- **Aplicaciones específicas**: Redes sociales, sistemas de recomendación, problemas de optimización, entre otros.\n",
    "\n",
    "Sin embargo, en ciertos casos, las operaciones pueden ser menos eficientes si la matriz no es lo suficientemente dispersa."
   ]
  },
  {
   "cell_type": "markdown",
   "metadata": {},
   "source": [
    "---\n",
    "Para representar la matriz dispersa dada:\n",
    "\n",
    "\n",
    "\\begin{bmatrix}\n",
    "0 & 0 & 3 \\\\\n",
    "0 & 0 & 0 \\\\\n",
    "4 & 0 & 0 \\\\\n",
    "\\end{bmatrix}\n",
    "\n",
    "\n",
    "Con los métodos más comunes para trabajar con matrices dispersas (\\( COO \\), \\( CSR \\), \\( CSC \\)), la representación sería la siguiente:\n",
    "\n",
    "\n",
    "### 1. **Formato COO (Coordinate List):**\n",
    "En este formato, almacenamos tres listas: las filas, las columnas y los valores correspondientes a los elementos no cero."
   ]
  },
  {
   "cell_type": "code",
   "execution_count": 3,
   "metadata": {},
   "outputs": [],
   "source": [
    "rows = [0, 2]         # Índices de las filas\n",
    "cols = [2, 0]         # Índices de las columnas\n",
    "values = [3, 4]       # Valores no cero"
   ]
  },
  {
   "cell_type": "markdown",
   "metadata": {},
   "source": [
    "### 2. **Formato CSR (Compressed Sparse Row):**\n",
    "En este formato, organizamos los datos fila por fila. Se utilizan tres arreglos:\n",
    "1. **Valores**: Los elementos diferentes de cero.\n",
    "2. **Índices de columnas**: La columna correspondiente a cada valor.\n",
    "3. **Punteros de fila**: Indica dónde comienza cada fila en las listas de valores e índices de columna."
   ]
  },
  {
   "cell_type": "code",
   "execution_count": 2,
   "metadata": {},
   "outputs": [],
   "source": [
    "values = [3, 4]              # Valores no cero\n",
    "col_indices = [2, 0]         # Índices de columnas\n",
    "row_pointers = [0, 1, 1, 2]  # Punteros de fila: inicio de cada fila en `values`\n",
    "\n",
    "# Explicación de row_pointers:\n",
    "# - 0 indica que la fila 0 empieza en el índice 0 de `values`.\n",
    "# - 1 indica que la fila 1 empieza y termina en el índice 1 (sin valores).\n",
    "# - 2 indica que la fila 2 empieza en el índice 1 y termina en el índice 2 de `values`."
   ]
  },
  {
   "cell_type": "markdown",
   "metadata": {},
   "source": [
    "### 3. **Formato CSC (Compressed Sparse Column):**\n",
    "Este formato es similar al CSR, pero organizado columna por columna. Los arreglos son:\n",
    "1. **Valores**: Elementos diferentes de cero.\n",
    "2. **Índices de filas**: La fila correspondiente a cada valor.\n",
    "3. **Punteros de columna**: Indica dónde comienza cada columna en las listas de valores e índices de fila."
   ]
  },
  {
   "cell_type": "code",
   "execution_count": 1,
   "metadata": {},
   "outputs": [],
   "source": [
    "values = [4, 3]              # Valores no cero (ordenados por columna)\n",
    "row_indices = [2, 0]         # Índices de filas\n",
    "col_pointers = [0, 0, 1, 2]  # Punteros de columna: inicio de cada columna en `values`\n",
    "\n",
    "# Explicación de col_pointers:\n",
    "# - 0 indica que la columna 0 no tiene valores.\n",
    "# - 0 indica que la columna 1 no tiene valores.\n",
    "# - 1 indica que la columna 2 empieza en el índice 1 de `values` y termina en el índice 2."
   ]
  },
  {
   "cell_type": "markdown",
   "metadata": {},
   "source": [
    "### implementacion por diccionarios"
   ]
  },
  {
   "cell_type": "code",
   "execution_count": 3,
   "metadata": {},
   "outputs": [
    {
     "name": "stdout",
     "output_type": "stream",
     "text": [
      "3\n",
      "no existe\n"
     ]
    }
   ],
   "source": [
    "sparse_matrix = {\n",
    "    (0, 2): 3,\n",
    "    (2, 0): 4\n",
    "}\n",
    "\n",
    "value = sparse_matrix.get((0, 2))  \n",
    "print(value)\n",
    "value = sparse_matrix.get((1, 1), 'no existe')  \n",
    "print(value)"
   ]
  },
  {
   "cell_type": "code",
   "execution_count": 4,
   "metadata": {},
   "outputs": [],
   "source": [
    "sparse_diag_dominant = {\n",
    "    (0, 0): 10, (0, 1): 1, (0, 2): 0, (0, 3): -1,\n",
    "    (1, 0): 2, (1, 1): 20, (1, 2): -3, (1, 3): 4,\n",
    "    (2, 0): 0, (2, 1): -2, (2, 2): 15, (2, 3): 1,\n",
    "    (3, 0): 1, (3, 1): 0, (3, 2): 1, (3, 3): 12\n",
    "}\n",
    "\n",
    "sparse_with_zero = {\n",
    "    (0, 0): 10, (0, 1): 2, (0, 2): -1, (0, 3): 3,\n",
    "    (1, 0): 4, (1, 1): 0,  (1, 2): 1,  (1, 3): 5,\n",
    "    (2, 0): -1, (2, 1): 3, (2, 2): 8,  (2, 3): 0,\n",
    "    (3, 0): 2, (3, 1): 4, (3, 2): -2, (3, 3): 9\n",
    "}"
   ]
  },
  {
   "cell_type": "code",
   "execution_count": 5,
   "metadata": {},
   "outputs": [
    {
     "name": "stdout",
     "output_type": "stream",
     "text": [
      "4 4\n"
     ]
    }
   ],
   "source": [
    "max_row = 0\n",
    "max_col = 0\n",
    "\n",
    "for i, j in sparse_diag_dominant.keys():\n",
    "    max_row = max(max_row, i)\n",
    "    max_col = max(max_col, j)\n",
    "    \n",
    "print(max_row +1, max_col +1)"
   ]
  },
  {
   "cell_type": "code",
   "execution_count": 8,
   "metadata": {},
   "outputs": [
    {
     "name": "stdout",
     "output_type": "stream",
     "text": [
      "Tiene un 0 en la diagonal en la posición (1, 1)\n"
     ]
    }
   ],
   "source": [
    "for i in range(max_col + 1):  # Asumiendo que max_col ya está definido\n",
    "    if sparse_with_zero.get((i, i), 0) == 0:  # Verifica si (i, i) es 0 o no está definido\n",
    "        print(f\"Tiene un 0 en la diagonal en la posición ({i}, {i})\")"
   ]
  },
  {
   "cell_type": "code",
   "execution_count": null,
   "metadata": {},
   "outputs": [],
   "source": []
  }
 ],
 "metadata": {
  "kernelspec": {
   "display_name": "Python 3",
   "language": "python",
   "name": "python3"
  },
  "language_info": {
   "codemirror_mode": {
    "name": "ipython",
    "version": 3
   },
   "file_extension": ".py",
   "mimetype": "text/x-python",
   "name": "python",
   "nbconvert_exporter": "python",
   "pygments_lexer": "ipython3",
   "version": "3.12.6"
  }
 },
 "nbformat": 4,
 "nbformat_minor": 2
}
