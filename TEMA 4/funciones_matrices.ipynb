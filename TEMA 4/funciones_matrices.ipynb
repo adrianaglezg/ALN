{
 "cells": [
  {
   "cell_type": "code",
   "execution_count": 1,
   "metadata": {},
   "outputs": [],
   "source": [
    "import numpy as np"
   ]
  },
  {
   "cell_type": "markdown",
   "metadata": {},
   "source": [
    "### operaciones básicas de cambios de filas en matrices"
   ]
  },
  {
   "cell_type": "code",
   "execution_count": 22,
   "metadata": {},
   "outputs": [],
   "source": [
    "def swap_rows(A, i , j):\n",
    "    '''intercambia la fija j por la i \n",
    "    en la matriz de coeficientes A\n",
    "    de un sistema lienal\n",
    "    return una nueva matriz A con las filas intercambiadad\n",
    "    pero con la matriz A original sin modificar'''\n",
    "\n",
    "    A_copy = np.copy(A)\n",
    "\n",
    "    ai = np.copy(A[i])\n",
    "    \n",
    "\n",
    "    A_copy[i] = A_copy[j]\n",
    "\n",
    "    A_copy[j] = ai\n",
    "\n",
    "\n",
    "    return A_copy\n",
    "\n",
    "\n",
    "def k_row(A: np.array, i: int, k: float):\n",
    "\n",
    "    '''miltiplicar la fila i de la matriz A\n",
    "    por un valor k que puede ser un entero, fraccion...\n",
    "    '''\n",
    "\n",
    "    A_copy = np.copy(A)\n",
    "    \n",
    "    A_copy[i] = A_copy[i] * float(k)\n",
    "\n",
    "    return A_copy\n",
    "\n",
    "def row_lineal_comb(A, i, j, k):\n",
    "\n",
    "    ''' i es la posicion de la linea a la que multiplicas por k\n",
    "    j es el indice de la linea que estamos modificando\n",
    "    k es el valor por el cual multiplicamos a A[i]\n",
    "\n",
    "    devuelve uan copia de la matriz \n",
    "    '''\n",
    "\n",
    "    A_copy = np.copy(A)\n",
    "    ai = np.copy(A[i])\n",
    "\n",
    "    A_copy[j] = A_copy[j] + ai * k\n",
    "\n",
    "    return A_copy\n"
   ]
  },
  {
   "cell_type": "code",
   "execution_count": 20,
   "metadata": {},
   "outputs": [
    {
     "name": "stdout",
     "output_type": "stream",
     "text": [
      "[[1. 2. 3.]\n",
      " [3. 4. 4.]\n",
      " [4. 5. 3.]]\n",
      "\n",
      "[[0.5 1.  1.5]\n",
      " [3.  4.  4. ]\n",
      " [4.  5.  3. ]]\n",
      "\n",
      "[[3. 4. 4.]\n",
      " [1. 2. 3.]\n",
      " [4. 5. 3.]]\n",
      "\n",
      "[[ 1.  2.  3.]\n",
      " [ 1.  0. -2.]\n",
      " [ 4.  5.  3.]]\n"
     ]
    }
   ],
   "source": [
    "A = np.array([[1, 2, 3],\n",
    "             [3, 4, 4],\n",
    "             [4, 5, 3]], dtype = float)\n",
    "\n",
    "A_swap = swap_rows(A, 0, 1)\n",
    "A_k = k_row(A, 0, 1/2)\n",
    "A_cl = row_lineal_comb(A, 0, 1, -2)\n",
    "print(A)\n",
    "print()\n",
    "print(A_k)\n",
    "print()\n",
    "print(A_swap)\n",
    "print()\n",
    "print(A_cl)"
   ]
  },
  {
   "cell_type": "markdown",
   "metadata": {},
   "source": [
    "### Descomposición Gauss"
   ]
  },
  {
   "cell_type": "code",
   "execution_count": 23,
   "metadata": {},
   "outputs": [
    {
     "name": "stdout",
     "output_type": "stream",
     "text": [
      "[[  4.  -2.   1.  11.]\n",
      " [ -2.   4.  -2. -16.]\n",
      " [  1.  -2.   4.  17.]]\n",
      "[[  4.   -2.    1.   11. ]\n",
      " [  0.    3.   -1.5 -10.5]\n",
      " [  0.    0.    3.    9. ]]\n",
      "[[ 4. -2.  1.]\n",
      " [-2.  4. -2.]\n",
      " [ 1. -2.  4.]]\n",
      "[[ 4.  -2.   1. ]\n",
      " [ 0.   3.  -1.5]\n",
      " [ 0.   0.   3. ]]\n"
     ]
    }
   ],
   "source": [
    "def gauss_U(A: np.array, func = row_lineal_comb) -> np.array:\n",
    "\n",
    "    '''se le pasa la matriz A \n",
    "    una funcion func que se encargue de hacer al combinacion lineal: A[j] = A[j] + A[i] * k\n",
    "\n",
    "    puede devolverte la matriz triangular superior de A \n",
    "    tambien puede devolver la triangular de A ampliada con el vector/matriz solución\n",
    "\n",
    "    A -> U\n",
    "    A|B -> U|C\n",
    "    '''\n",
    "    A_copy = np.copy(A)\n",
    "    \n",
    "    for i in range(len(A_copy)): #iteramos cada fila\n",
    "        #print(i)\n",
    "        for j in range(i +1, len(A_copy)): #iteramos solo sobre las filas que estan debajo del pivote\n",
    "            #print(j)\n",
    "            if A_copy[i, i] == 0:\n",
    "                continue\n",
    "            k =  A_copy[j, i]/ A_copy[i, i]\n",
    "            #print(k)\n",
    "            A_copy = func(A_copy, i, j, -k)\n",
    "            #print(A)\n",
    "\n",
    "\n",
    "    return A_copy\n",
    "\n",
    "\n",
    "A = np.array([[4, -2, 1],\n",
    "             [-2, 4, -2],\n",
    "             [1, -2, 4]], dtype = float)\n",
    "\n",
    "b = np.array([11, -16, 17])\n",
    "\n",
    "A_ampliada = np.column_stack((A, b))\n",
    "\n",
    "\n",
    "print(A_ampliada)\n",
    "print(gauss_U(A_ampliada))\n",
    "print(A)\n",
    "print(gauss_U(A))"
   ]
  },
  {
   "cell_type": "markdown",
   "metadata": {},
   "source": [
    "### Sustitución hacia atrás"
   ]
  },
  {
   "cell_type": "markdown",
   "metadata": {},
   "source": [
    "#### para solo un sistema de eccuaciones"
   ]
  },
  {
   "cell_type": "code",
   "execution_count": 24,
   "metadata": {},
   "outputs": [
    {
     "name": "stdout",
     "output_type": "stream",
     "text": [
      "[ 11.  -10.5   9. ]\n"
     ]
    },
    {
     "data": {
      "text/plain": [
       "array([ 1., -2.,  3.])"
      ]
     },
     "execution_count": 24,
     "metadata": {},
     "output_type": "execute_result"
    }
   ],
   "source": [
    "def backward_sustitusion(U, c):\n",
    "    '''\n",
    "    the input is an upper triangular matrix U which dimension is nxn\n",
    "    and c vector which contains the results, variable dimension\n",
    "    the output is vector x, which initialy contained the unkwons, with the solution\n",
    "    '''\n",
    "    A_copy = np.copy(U)\n",
    "    b_copy = np.copy(c)\n",
    "    \n",
    "    n = len(c)\n",
    "\n",
    "    x = np.zeros((n,))\n",
    "\n",
    "\n",
    "    for i in range(n-1, -1, -1):\n",
    "        total_sum = 0\n",
    "        for j in range(i+1, n):\n",
    "            total_sum += A_copy[i, j] * x[j]\n",
    "\n",
    "        x[i] = (b_copy[i] - total_sum) / A_copy[i, i]\n",
    "\n",
    "\n",
    "    return x\n",
    "\n",
    "A = np.array([[4, -2, 1],\n",
    "             [-2, 4, -2],\n",
    "             [1, -2, 4]], dtype = float)\n",
    "\n",
    "b = np.array([11, -16, 17])\n",
    "\n",
    "A_ampliada = np.column_stack((A, b))\n",
    "U_extended = gauss_U(A_ampliada)\n",
    "\n",
    "A_echelon = U_extended[:, 0:-1]\n",
    "b_transformed = U_extended[:, -1]\n",
    "print(b_transformed)\n",
    "\n",
    "backward_sustitusion(A_echelon, b_transformed)\n"
   ]
  },
  {
   "cell_type": "markdown",
   "metadata": {},
   "source": [
    "#### para p sistemas de ecuaciones a la vez"
   ]
  },
  {
   "cell_type": "code",
   "execution_count": 25,
   "metadata": {},
   "outputs": [
    {
     "data": {
      "text/plain": [
       "array([[11.94444444,  3.        ],\n",
       "       [25.66666667, -1.        ],\n",
       "       [17.        ,  0.        ]])"
      ]
     },
     "execution_count": 25,
     "metadata": {},
     "output_type": "execute_result"
    }
   ],
   "source": [
    "def backward_sustitusion_p_systems(A, B):\n",
    "    '''\n",
    "    the input is an upper triangular matrix A which dimension is nxn\n",
    "    and B matrix which contains the results, its dimension is nxp\n",
    "    the output is matrix X, which initialy contained the unkwons, with the solution\n",
    "    '''\n",
    "    A_copy = np.copy(A)\n",
    "    B_copy = np.copy(B)\n",
    "    \n",
    "    n = len(A)\n",
    "    p = len(B[0])\n",
    "\n",
    "    X = np.zeros(B.shape)\n",
    "\n",
    "    for s in range(p):\n",
    "        for i in range(n-1, -1, -1):\n",
    "            total_sum = 0\n",
    "            for j in range(i+1, n):\n",
    "                total_sum += A_copy[i, j] * X[j, s]\n",
    "\n",
    "            X[i, s] = (B_copy[i, s] - total_sum) / A_copy[i, i]\n",
    "\n",
    "    return X\n",
    "\n",
    "\n",
    "A = np.array([[6, -4, 1],\n",
    "              [-4, 6, -4],\n",
    "              [1, -4, 6]])\n",
    "\n",
    "B = np.array([[-14, 22], \n",
    "              [36, -18],\n",
    "              [6, 7]])\n",
    "\n",
    "A_concat_B = np.column_stack((A, B))\n",
    "#print(A_concat_B)\n",
    "gauss_A_B = gauss_U(A_concat_B)\n",
    "#print(gauss_A_B)\n",
    "\n",
    "A_triang = gauss_A_B[:, 0:-2]\n",
    "B_mod = gauss_A_B[:, 3:]\n",
    "\n",
    "backward_sustitusion_p_systems(A_triang, B_mod)"
   ]
  },
  {
   "cell_type": "markdown",
   "metadata": {},
   "source": [
    "### Descomposición LU Doolite"
   ]
  },
  {
   "cell_type": "code",
   "execution_count": null,
   "metadata": {},
   "outputs": [
    {
     "name": "stdout",
     "output_type": "stream",
     "text": [
      "[[ 1.    0.    0.  ]\n",
      " [-0.5   1.    0.  ]\n",
      " [ 0.25 -0.5   1.  ]]\n",
      "[[ 4.  -2.   1. ]\n",
      " [ 0.   3.  -1.5]\n",
      " [ 0.   0.   3. ]]\n",
      "[[ 4. -2.  1.]\n",
      " [-2.  4. -2.]\n",
      " [ 1. -2.  4.]]\n"
     ]
    }
   ],
   "source": [
    "def LU_decomposition(A: np.array, func = row_lineal_comb) -> np.array:\n",
    "\n",
    "    '''se le pasa la matriz A\n",
    "    una funcion func que se encargue de hacer al combinacion lineal: A[j] = A[j] - A[i] * k\n",
    "\n",
    "    objetivo -> A = LU\n",
    "\n",
    "    la salida es una matriz rectangular U triangular superior y una matriz cuadrada L triangular inferior\n",
    "    U es la escalonada aplicando gauss\n",
    "    L contiene los valores de k para calcular la escalonada y una diagonal de 1 para que L * U  = A\n",
    "    '''\n",
    "    A_copy = np.copy(A)\n",
    "    n = len(A_copy)\n",
    "\n",
    "    L = np.identity((n))\n",
    "\n",
    "\n",
    "    for i in range(n): #iteramos cada fila\n",
    "        for j in range(i +1, n): #iteramos solo sobre las filas que estan debajo del pivote\n",
    "            if A_copy[i, i] == 0:\n",
    "                continue\n",
    "\n",
    "            k =  A_copy[j, i]/ A_copy[i, i]\n",
    "\n",
    "            L[j, i] = k\n",
    "\n",
    "            A_copy = func(A_copy, i, j, -k)\n",
    "\n",
    "    U = A_copy\n",
    "    return L, U \n",
    "    \n",
    "\n",
    "A = np.array([[4, -2, 1],\n",
    "             [-2, 4, -2],\n",
    "             [1, -2, 4]], dtype = float)\n",
    "\n",
    "b = np.array([11, -16, 17])\n",
    "\n",
    "L1, U1 = LU_decomposition(A)\n",
    "print(L1)\n",
    "print(U1)\n",
    "print(L1@U1)"
   ]
  },
  {
   "cell_type": "markdown",
   "metadata": {},
   "source": [
    "### Sustitución hacia delante y hacia atrás"
   ]
  },
  {
   "cell_type": "markdown",
   "metadata": {},
   "source": [
    "#### solo un sistema"
   ]
  },
  {
   "cell_type": "code",
   "execution_count": 27,
   "metadata": {},
   "outputs": [],
   "source": [
    "def forward_substitution(L, b):\n",
    "    \"\"\"Resuelve Lc = b para c usando sustitución hacia adelante.\"\"\"\n",
    "    n = len(b)\n",
    "    c = np.zeros_like(b, dtype=float)\n",
    "    for i in range(n):\n",
    "        c[i] = (b[i] - np.dot(L[i, :i], c[:i])) / L[i, i]\n",
    "    return c"
   ]
  },
  {
   "cell_type": "markdown",
   "metadata": {},
   "source": [
    "#### más de un sistema"
   ]
  },
  {
   "cell_type": "code",
   "execution_count": 28,
   "metadata": {},
   "outputs": [],
   "source": [
    "def forward_substitution_p_systems(L, B):\n",
    "    \"\"\"\n",
    "    Resuelve L * C = B usando sustitución hacia adelante, \n",
    "    donde L es triangular inferior y B es una matriz (varios sistemas).\n",
    "    \"\"\"\n",
    "    n = L.shape[0]  # Tamaño de la matriz\n",
    "    m = B.shape[1]  # Número de sistemas (columnas de B)\n",
    "    C = np.zeros_like(B, dtype=float)  # Matriz solución C con mismas dimensiones que B\n",
    "\n",
    "    # Iterar sobre cada fila\n",
    "    for i in range(n):\n",
    "        for j in range(m):  # Iterar sobre cada columna de B\n",
    "            C[i, j] = (B[i, j] - np.dot(L[i, :i], C[:i, j])) / L[i, i]\n",
    "\n",
    "    return C\n"
   ]
  },
  {
   "cell_type": "markdown",
   "metadata": {},
   "source": [
    "#### combina sustituion hacia delante y hacia atras"
   ]
  },
  {
   "cell_type": "code",
   "execution_count": 29,
   "metadata": {},
   "outputs": [
    {
     "data": {
      "text/plain": [
       "array([ 1., -2.,  3.])"
      ]
     },
     "execution_count": 29,
     "metadata": {},
     "output_type": "execute_result"
    }
   ],
   "source": [
    "def forward_backward_sustitution(L, U, b, func= backward_sustitusion):\n",
    "    '''\n",
    "    the input is a lower trriangular matrix L,\n",
    "    an upper triangular matrix U,\n",
    "    yhe solution vector b\n",
    "    and the function which will be a normal backward sustitusion by default,\n",
    "    the function of this parameter will be dealing with the second part of fthe solving\n",
    "    \n",
    "\n",
    "    reminder: we are searching for x, not y\n",
    "    '''\n",
    "\n",
    "    assert len(b) >= 1, 'this method isnt valid for solving multiply ecuation systems'\n",
    "\n",
    "    #forward sustitutuon\n",
    "    # Ux = y -> Solve Ly = b\n",
    "\n",
    "    L_copy = np.copy(L)\n",
    "    b_copy = np.copy(b)\n",
    "    y = np.zeros(b.shape)\n",
    "\n",
    "    for i in range(len(L)):\n",
    "        total_sum = 0\n",
    "        for j in range(i, -1, -1):\n",
    "            total_sum += L_copy[i, j] * y[j]\n",
    "            # print(f'total sum = {total_sum}')\n",
    "\n",
    "        y[i] = (b_copy[i] - total_sum) / L_copy[i, i]\n",
    "        # print(f'y = {y}')\n",
    "\n",
    "    #backward sustitution\n",
    "    # Ux = y\n",
    "    solution = func(U, y)\n",
    "\n",
    "    return solution\n",
    "\n",
    "\n",
    "\n",
    "A = np.array([[4, -2, 1],\n",
    "             [-2, 4, -2],\n",
    "             [1, -2, 4]], dtype = float)\n",
    "\n",
    "b = np.array([11, -16, 17])\n",
    "\n",
    "B = np.array([[-14, 22], \n",
    "              [36, -18],\n",
    "              [6, 7]])\n",
    "\n",
    "\n",
    "L1, U1 = LU_decomposition(A)\n",
    "\n",
    "sol = forward_backward_sustitution(L1, U1, b)\n",
    "sol\n"
   ]
  },
  {
   "cell_type": "markdown",
   "metadata": {},
   "source": [
    "### Descomposición Choleski"
   ]
  },
  {
   "cell_type": "code",
   "execution_count": 31,
   "metadata": {},
   "outputs": [],
   "source": [
    "def choleski_decomposition(A):\n",
    "    '''\n",
    "    the input is a symetric and positive defined matrix A, otherwise an assert will raise an error.\n",
    "\n",
    "    teh output i matrix L\n",
    "\n",
    "    A = L*L.T\n",
    "    '''\n",
    "\n",
    "    if not np.array_equal(A, A.T):\n",
    "        raise ValueError(\"matrix A isnt symetric\")\n",
    "    \n",
    "    if not np.all(np.linalg.eigvals(A) > 0):\n",
    "        raise ValueError(\"matriz A isnt positive defined\")\n",
    "\n",
    "    L = np.zeros(A.shape)\n",
    "\n",
    "    for i in range(0, len(A)):\n",
    "        for j in range(i+1):\n",
    "            total_sum = 0\n",
    "            for k in range(j):\n",
    "                total_sum += L[i, k] * L[j, k]\n",
    "                \n",
    "            if i == j: \n",
    "                L[j, j] = (A[i, j] - total_sum) ** 0.5\n",
    "            else: \n",
    "                L[i, j] = (A[i, j] - total_sum) / L[j, j]\n",
    "    return L\n",
    "\n"
   ]
  },
  {
   "cell_type": "code",
   "execution_count": 32,
   "metadata": {},
   "outputs": [
    {
     "name": "stdout",
     "output_type": "stream",
     "text": [
      "[[ 1.2  0.   0.   0. ]\n",
      " [-0.3  3.2  0.   0. ]\n",
      " [ 4.6 -2.   1.8  0. ]\n",
      " [ 0.   0.   5.   6. ]]\n"
     ]
    },
    {
     "data": {
      "text/plain": [
       "array([ 3.09212567, -0.73871706, -0.8475723 ,  0.13947788])"
      ]
     },
     "execution_count": 32,
     "metadata": {},
     "output_type": "execute_result"
    }
   ],
   "source": [
    "A = np.array([[1.44, -0.36, 5.52, 0.00],\n",
    "            [-0.36, 10.33, -7.78, 0.00],\n",
    "            [5.52, -7.78, 28.40, 9.00],\n",
    "            [0.00, 0.00, 9.00, 61.00]], dtype=float)\n",
    "\n",
    "b = np.array([0.04, -2.15, 0.00, 0.88], dtype=float)\n",
    "\n",
    "L_13 = choleski_decomposition(A)\n",
    "print(L_13)\n",
    "\n",
    "forward_backward_sustitution(L_13, L_13.T, b)"
   ]
  },
  {
   "cell_type": "markdown",
   "metadata": {},
   "source": [
    "### Descomposición y Resolución LU matriz tridiagonal"
   ]
  },
  {
   "cell_type": "markdown",
   "metadata": {},
   "source": [
    "#### descomposición"
   ]
  },
  {
   "cell_type": "code",
   "execution_count": 33,
   "metadata": {},
   "outputs": [],
   "source": [
    "def LU_tridiagonal_matrix(A):\n",
    "\n",
    "    ''' \n",
    "    the input is a tridiagonal matrix A\n",
    "\n",
    "    the output is a copy of the matrix A containing the coefficients updated by a lambda on the main diagonal\n",
    "    and the corresponding lambdas on the lower diagonal.\n",
    "    its a compact way of representing the LU to save memory storage.\n",
    "    '''\n",
    "\n",
    "    A_copy = np.copy(A)\n",
    "    d = A.diagonal(0).copy()  # diag princ\n",
    "    c = A.diagonal(-1).copy()  #diag inf\n",
    "    e = A.diagonal(1).copy() #upper diag\n",
    "\n",
    "    # print(d)\n",
    "    # print(c)\n",
    "    # print(e)\n",
    "\n",
    "    n = len(d) \n",
    "\n",
    "    for k in range(1, n):\n",
    "        lamb = c[k - 1] / d[k - 1]\n",
    "        c[k - 1] = lamb\n",
    "        d[k] = d[k] - lamb * e[k - 1]\n",
    "\n",
    "    A_copy[np.arange(n), np.arange(n)] = d \n",
    "    A_copy[np.arange(1, n), np.arange(n-1)] = c    \n",
    "    A_copy[np.arange(n-1), np.arange(1, n)] = e\n",
    "\n",
    "    return A_copy"
   ]
  },
  {
   "cell_type": "code",
   "execution_count": 34,
   "metadata": {},
   "outputs": [
    {
     "data": {
      "text/plain": [
       "array([[4.        , 1.        , 0.        , 0.        ],\n",
       "       [0.5       , 3.5       , 1.        , 0.        ],\n",
       "       [0.        , 0.85714286, 3.14285714, 2.        ],\n",
       "       [0.        , 0.        , 0.31818182, 2.36363636]])"
      ]
     },
     "execution_count": 34,
     "metadata": {},
     "output_type": "execute_result"
    }
   ],
   "source": [
    "A = np.array([[4, 1, 0, 0],\n",
    "            [2, 4, 1, 0],\n",
    "            [0, 3, 4, 2],\n",
    "            [0, 0, 1, 3]], dtype=float)\n",
    "\n",
    "LU_tridiagonal_matrix(A)"
   ]
  },
  {
   "cell_type": "markdown",
   "metadata": {},
   "source": [
    "#### resolución"
   ]
  },
  {
   "cell_type": "code",
   "execution_count": 35,
   "metadata": {},
   "outputs": [],
   "source": [
    "def solve_LU_tridiagonal_matrix(LU, b):\n",
    "    '''\n",
    "    the input is a matriz decomposition LU, and the solution vector b\n",
    "\n",
    "    returns vector x with the solutions\n",
    "    '''\n",
    "    d = LU.diagonal(0).copy()  # diag princ\n",
    "    c = LU.diagonal(-1).copy()  #diag inf\n",
    "    e = LU.diagonal(1).copy() #upper diag\n",
    "\n",
    "    y = np.zeros(d.shape)\n",
    "    n = len(d)\n",
    "\n",
    "    y[0] = b[0]\n",
    "    for k in range(1, n):\n",
    "        y[k] = b[k] - c[k-1] * y[k-1]\n",
    "\n",
    "    x = np.zeros(d.shape)\n",
    "    x[-1] = y[-1] / d[-1]\n",
    "    for k in range(n-2, -1, -1):\n",
    "        x[k] = (y[k] - e[k] * x[k+1]) / d[k]\n",
    "\n",
    "    return x"
   ]
  },
  {
   "cell_type": "code",
   "execution_count": 36,
   "metadata": {},
   "outputs": [
    {
     "name": "stdout",
     "output_type": "stream",
     "text": [
      " el resultado por numpy es = \n",
      " [ 4.14423077 -1.57692308  6.01923077  1.32692308]\n"
     ]
    },
    {
     "data": {
      "text/plain": [
       "array([ 4.14423077, -1.57692308,  6.01923077,  1.32692308])"
      ]
     },
     "execution_count": 36,
     "metadata": {},
     "output_type": "execute_result"
    }
   ],
   "source": [
    "A = np.array([[4, 1, 0, 0],\n",
    "            [2, 4, 1, 0],\n",
    "            [0, 3, 4, 2],\n",
    "            [0, 0, 1, 3]], dtype=float)\n",
    "\n",
    "b = np.array([15, 8, 22, 10], dtype=float)\n",
    "\n",
    "LU = LU_tridiagonal_matrix(A)\n",
    "\n",
    "print(f' el resultado por numpy es = \\n {np.linalg.solve(A, b)}')\n",
    "\n",
    "solve_LU_tridiagonal_matrix(LU, b)"
   ]
  },
  {
   "cell_type": "code",
   "execution_count": 37,
   "metadata": {},
   "outputs": [
    {
     "data": {
      "text/plain": [
       "(array([[ 1.        ,  0.        ,  0.        ,  0.        ],\n",
       "        [-0.5       ,  1.        ,  0.        ,  0.        ],\n",
       "        [ 0.25      , -0.5       ,  1.        ,  0.        ],\n",
       "        [ 0.        ,  0.33333333, -0.5       ,  1.        ]]),\n",
       " array([[4.        , 0.        , 0.        , 0.        ],\n",
       "        [0.        , 3.        , 0.        , 0.        ],\n",
       "        [0.        , 0.        , 3.        , 0.        ],\n",
       "        [0.        , 0.        , 0.        , 2.91666667]]))"
      ]
     },
     "execution_count": 37,
     "metadata": {},
     "output_type": "execute_result"
    }
   ],
   "source": [
    "# forma programada de gpt\n",
    "\n",
    "def LDL_decomposition(A):\n",
    "    \"\"\"\n",
    "    Realiza la descomposición LDL^T de una matriz simétrica A.\n",
    "    Retorna las matrices L y D.\n",
    "    \"\"\"\n",
    "    n = A.shape[0]\n",
    "    L = np.eye(n)  # Inicializamos L como la identidad\n",
    "    D = np.zeros((n, n))  # Inicializamos D como una matriz diagonal\n",
    "\n",
    "    for j in range(n):\n",
    "        # Calcular D[j, j]\n",
    "        D[j, j] = A[j, j] - sum(L[j, k]**2 * D[k, k] for k in range(j))\n",
    "        \n",
    "        for i in range(j + 1, n):\n",
    "            # Calcular L[i, j]\n",
    "            L[i, j] = (A[i, j] - sum(L[i, k] * L[j, k] * D[k, k] for k in range(j))) / D[j, j]\n",
    "    \n",
    "    return L, D\n",
    "\n",
    "\n",
    "# Ejemplo de uso\n",
    "A = np.array([\n",
    "    [4, -2, 1, 0],\n",
    "    [-2, 4, -2, 1],\n",
    "    [1, -2, 4, -2],\n",
    "    [0, 1, -2, 4]\n",
    "], dtype=float)\n",
    "\n",
    "L, D = LDL_decomposition(A)\n",
    "L, D\n"
   ]
  },
  {
   "cell_type": "markdown",
   "metadata": {},
   "source": [
    "### Pivotamiento Gauss "
   ]
  },
  {
   "cell_type": "code",
   "execution_count": 30,
   "metadata": {},
   "outputs": [],
   "source": [
    "#como dato no me acuerdo que cojones hice ni porque tengo qu evolver a definir estas funciones un poco cambiadas para que funciones perobueno funciona y punto \n",
    "\n",
    "def swap_rows(A, i , j):\n",
    "    '''intercambia la fija j por la i \n",
    "    en la matriz de coeficientes A\n",
    "    de un sistema lienal\n",
    "    return una nueva matriz A con las filas intercambiadad\n",
    "    pero con la matriz A original sin modificar'''\n",
    "\n",
    "    A[[i, j]] = A[[j, i]]\n",
    "\n",
    "    return A\n",
    "\n",
    "def row_lineal_comb(A, i, j, k):\n",
    "\n",
    "    A[j] = A[j] - A[i] * k\n",
    "\n",
    "    return A"
   ]
  },
  {
   "cell_type": "code",
   "execution_count": 31,
   "metadata": {},
   "outputs": [],
   "source": [
    "def gauss_pivot(A, b, tol=1.0e-12, func1 = swap_rows, func2= row_lineal_comb, func3= backward_sustitusion):\n",
    "\n",
    "    n = len(A)\n",
    "    \n",
    "    s = np.amax(np.abs(A), axis= 1)\n",
    "\n",
    "    # print('s = ', s)\n",
    "\n",
    "    for k in range(n-1):\n",
    "        #print(f'k = {k}')\n",
    "\n",
    "        r = [np.abs(A[i, k]) / s[i] for i in range(k, len(s))]\n",
    "        #print(f'r = {r}')\n",
    "        p = np.argmax(r) + k\n",
    "        #print(f'p = {p}')\n",
    "\n",
    "\n",
    "        if p != k:\n",
    "            A = func1(A, k, p)\n",
    "            #print(f'A swap rows {k, p} = \\n{A}')\n",
    "            b = func1(b, k, p)\n",
    "            #print(f'b swap rows {k, p} = {b}')\n",
    "            s = func1(s, k, p)\n",
    "            #print(f's swap rows {k, p} = {s}')\n",
    "\n",
    "            for i in range(k+1, n):\n",
    "                #print(f'i = {i}')\n",
    "                c = A[i, k] / A[k, k]\n",
    "                #print(f'c = {c}')\n",
    "                A = func2(A, k , i, c)\n",
    "                #print(f'A = {A}')\n",
    "                b[i] -= c * b[k]\n",
    "                #print(f'b = {b}')\n",
    "    print(f'A =\\n{A}')\n",
    "    print(f'b = {b}')\n",
    "    sol = func3(A, b)\n",
    "\n",
    "    return sol"
   ]
  },
  {
   "cell_type": "code",
   "execution_count": 32,
   "metadata": {},
   "outputs": [
    {
     "name": "stdout",
     "output_type": "stream",
     "text": [
      "A =\n",
      "[[-2.          4.          3.        ]\n",
      " [ 0.          6.          2.5       ]\n",
      " [ 0.          0.          8.16666667]]\n",
      "b = [ 0.         -1.         16.33333333]\n"
     ]
    },
    {
     "data": {
      "text/plain": [
       "array([ 1., -1.,  2.])"
      ]
     },
     "execution_count": 32,
     "metadata": {},
     "output_type": "execute_result"
    }
   ],
   "source": [
    "#ejemplo uso\n",
    "\n",
    "A = np.array([\n",
    "    [2, -2, 6],\n",
    "    [-2, 4, 3],\n",
    "    [-1, 8, 4]\n",
    "], dtype=float)\n",
    "\n",
    "b = np.array([16, 0, -1], dtype=float)\n",
    "\n",
    "gauss_pivot(A, b)\n"
   ]
  },
  {
   "cell_type": "markdown",
   "metadata": {},
   "source": [
    "### Pivotamiento LU"
   ]
  },
  {
   "cell_type": "code",
   "execution_count": 34,
   "metadata": {},
   "outputs": [
    {
     "name": "stdout",
     "output_type": "stream",
     "text": [
      "[[ 1.          0.          0.        ]\n",
      " [-1.          1.          0.        ]\n",
      " [ 0.5         0.33333333  1.        ]]\n",
      "[[-2.          4.          3.        ]\n",
      " [ 0.          6.          2.5       ]\n",
      " [ 0.          0.          8.16666667]]\n",
      "[ 0. -1. 16.]\n"
     ]
    },
    {
     "data": {
      "text/plain": [
       "array([ 1., -1.,  2.])"
      ]
     },
     "execution_count": 34,
     "metadata": {},
     "output_type": "execute_result"
    }
   ],
   "source": [
    "def gauss_LU_pivot(A, b, tol=1.0e-12, func1 = swap_rows, func2= row_lineal_comb, func3= forward_backward_sustitution):\n",
    "\n",
    "    n = len(A)\n",
    "    \n",
    "    s = np.amax(np.abs(A), axis= 1)\n",
    "\n",
    "    seq = np.arange(n)\n",
    "\n",
    "    L = np.eye((n))\n",
    "\n",
    "    for k in range(n-1):\n",
    "        r = [np.abs(A[i, k]) / s[i] for i in range(k, len(s))]\n",
    "        p = np.argmax(r) + k\n",
    "\n",
    "        if p != k:\n",
    "            A = func1(A, k, p)\n",
    "            seq = func1(seq, k, p)\n",
    "            s = func1(s, k, p)\n",
    "\n",
    "            for i in range(k+1, n):\n",
    "                c = A[i, k] / A[k, k]\n",
    "                L[i, k] = c\n",
    "                A = func2(A, k , i, c)\n",
    "                \n",
    "    print(L)\n",
    "    print(A)\n",
    "    b_reordered = b[seq]\n",
    "    print(b_reordered)\n",
    "    U = A   \n",
    "    sol = func3(L, U, b_reordered)\n",
    "\n",
    "    return sol\n",
    "\n",
    "\n",
    "A = np.array([\n",
    "    [2, -2, 6],\n",
    "    [-2, 4, 3],\n",
    "    [-1, 8, 4]\n",
    "], dtype=float)\n",
    "\n",
    "b = np.array([16, 0, -1], dtype=float)\n",
    "\n",
    "gauss_LU_pivot(A, b)"
   ]
  },
  {
   "cell_type": "markdown",
   "metadata": {},
   "source": [
    "## resolucion hacia delante y hacia atras y combinarlo\n",
    "\n",
    "esta arriba la implementacion hecha por mi\n",
    "\n",
    "\n",
    "como dato mi codigo solo funcionaba para resolucion de un unico sistema. este codigo correge esos problemans y lo hace de forma genral "
   ]
  },
  {
   "cell_type": "code",
   "execution_count": 16,
   "metadata": {},
   "outputs": [],
   "source": [
    "import numpy as np"
   ]
  },
  {
   "cell_type": "code",
   "execution_count": 17,
   "metadata": {},
   "outputs": [],
   "source": [
    "#gpt version, pendiente de checkearlo\n",
    "\n",
    "def solve_backward_substitution(U, c):\n",
    "    '''\n",
    "    U: upper triangular matrix\n",
    "    c: column vector or matrix (result from forward substitution)\n",
    "    '''\n",
    "    # Si c es un vector, convertirlo en 2D para unificar\n",
    "    if len(c.shape) == 1:\n",
    "        c = c.reshape(-1, 1)\n",
    "\n",
    "    n = c.shape[0]\n",
    "    X = np.zeros_like(c)  # Matriz para soluciones\n",
    "\n",
    "    for k in range(c.shape[1]):  # Resolver columna por columna\n",
    "        b = c[:, k]  # Tomar cada columna como un vector\n",
    "        x = np.zeros(n)\n",
    "        for i in range(n - 1, -1, -1):\n",
    "            total_sum = sum(U[i, j] * x[j] for j in range(i + 1, n))\n",
    "            x[i] = (b[i] - total_sum) / U[i, i]\n",
    "        X[:, k] = x\n",
    "\n",
    "    return X\n",
    "\n",
    "\n",
    "def solve_forward_substitution(L, B):\n",
    "    '''\n",
    "    L: Matriz triangular inferior\n",
    "    B: Matriz de soluciones o vector (si es un vector, se convierte en matriz de una sola columna)\n",
    "    Retorna la matriz Y que satisface Ly = B\n",
    "    '''\n",
    "    # Convertir B en matriz si es un vector\n",
    "    if len(B.shape) == 1:\n",
    "        B = B.reshape(-1, 1)\n",
    "\n",
    "    # Inicializamos Y\n",
    "    Y = np.zeros_like(B)\n",
    "\n",
    "    # Resolución hacia adelante para cada columna\n",
    "    for k in range(B.shape[1]):\n",
    "        b = B[:, k]  # Tomar la columna k como vector\n",
    "        y = np.zeros_like(b)\n",
    "        for i in range(len(L)):\n",
    "            total_sum = sum(L[i, j] * y[j] for j in range(i))\n",
    "            y[i] = (b[i] - total_sum) / L[i, i]\n",
    "        Y[:, k] = y  # Guardar la solución de la columna\n",
    "\n",
    "    return Y\n",
    "\n",
    "def solve_forward_backward_substitution(L, U, B, func1 = solve_forward_substitution,func2=solve_backward_substitution):\n",
    "    '''\n",
    "    L: Matriz triangular inferior\n",
    "    U: Matriz triangular superior\n",
    "    B: Matriz de soluciones o vector\n",
    "    func: Función para la sustitución hacia atrás (por defecto backward_sustitution)\n",
    "    Retorna la matriz X que satisface LUx = B\n",
    "    '''\n",
    "    # Resolver hacia adelante: Ly = B\n",
    "    Y = func1(L, B)\n",
    "\n",
    "    # Resolver hacia atrás: Ux = Y\n",
    "    X = func2(U, Y)\n",
    "\n",
    "    return X\n",
    "\n"
   ]
  },
  {
   "cell_type": "code",
   "execution_count": 19,
   "metadata": {},
   "outputs": [
    {
     "name": "stdout",
     "output_type": "stream",
     "text": [
      "Solución:\n",
      " [[0 1]\n",
      " [0 0]\n",
      " [2 3]]\n"
     ]
    }
   ],
   "source": [
    "# Matriz A\n",
    "A = np.array([[4, 2, 0],\n",
    "              [2, 4, 2],\n",
    "              [0, 2, 4]])\n",
    "\n",
    "# Vector b o matriz B (varias ecuaciones simultáneas)\n",
    "B = np.array([[2, 3],\n",
    "              [4, 6],\n",
    "              [6, 9]])\n",
    "\n",
    "# Descomposición LU\n",
    "L, U = LU_decomposition(A)\n",
    "\n",
    "# Resolver sistema completo\n",
    "X = solve_forward_backward_substitution(L, U, B)\n",
    "print(\"Solución:\\n\", X)"
   ]
  },
  {
   "cell_type": "markdown",
   "metadata": {},
   "source": [
    "### metodo de thomas para matrices tridiagonales"
   ]
  },
  {
   "cell_type": "code",
   "execution_count": null,
   "metadata": {},
   "outputs": [],
   "source": [
    "import numpy as np\n",
    "\n",
    "def thomas_algorithm(a, b, c, d):\n",
    "    \"\"\"\n",
    "    Método de Thomas para resolver sistemas de ecuaciones con matrices tridiagonales.\n",
    "\n",
    "    Parámetros:\n",
    "    a: array (n-1) - elementos debajo de la diagonal principal (a_1 no existe)\n",
    "    b: array (n)   - elementos de la diagonal principal\n",
    "    c: array (n-1) - elementos encima de la diagonal principal (c_n no existe)\n",
    "    d: array (n)   - términos independientes\n",
    "\n",
    "    Retorna:\n",
    "    x: array (n) - solución del sistema\n",
    "    \"\"\"\n",
    "    n = len(b)\n",
    "    # Copias de b y d para no modificar los originales\n",
    "    c_ = np.zeros(n-1)\n",
    "    d_ = np.zeros(n)\n",
    "\n",
    "    # Fase de eliminación hacia adelante\n",
    "    c_[0] = c[0] / b[0]\n",
    "    d_[0] = d[0] / b[0]\n",
    "\n",
    "    for i in range(1, n-1):\n",
    "        temp = b[i] - a[i-1] * c_[i-1]\n",
    "        c_[i] = c[i] / temp\n",
    "        d_[i] = (d[i] - a[i-1] * d_[i-1]) / temp\n",
    "\n",
    "    d_[n-1] = (d[n-1] - a[n-2] * d_[n-2]) / (b[n-1] - a[n-2] * c_[n-2])\n",
    "\n",
    "    # Fase de sustitución hacia atrás\n",
    "    x = np.zeros(n)\n",
    "    x[n-1] = d_[n-1]\n",
    "\n",
    "    for i in range(n-2, -1, -1):\n",
    "        x[i] = d_[i] - c_[i] * x[i+1]\n",
    "\n",
    "    return x\n",
    "\n",
    "# Ejemplo de uso\n",
    "a = [1, 1]               # Elementos debajo de la diagonal principal\n",
    "b = [4, 4, 4]            # Diagonal principal\n",
    "c = [1, 1]               # Elementos encima de la diagonal principal\n",
    "d = [6, 6, 6]            # Términos independientes\n",
    "\n",
    "sol = thomas_algorithm(a, b, c, d)\n",
    "print(\"La solución del sistema es:\", sol)\n"
   ]
  }
 ],
 "metadata": {
  "kernelspec": {
   "display_name": "Python 3",
   "language": "python",
   "name": "python3"
  },
  "language_info": {
   "codemirror_mode": {
    "name": "ipython",
    "version": 3
   },
   "file_extension": ".py",
   "mimetype": "text/x-python",
   "name": "python",
   "nbconvert_exporter": "python",
   "pygments_lexer": "ipython3",
   "version": "3.12.6"
  }
 },
 "nbformat": 4,
 "nbformat_minor": 2
}
