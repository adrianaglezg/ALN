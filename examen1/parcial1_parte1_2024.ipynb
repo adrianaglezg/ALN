{
  "cells": [
    {
      "cell_type": "markdown",
      "metadata": {
        "id": "7zgeTjEsCY_3"
      },
      "source": [
        "# Primer parcial - Algorítmica numérica"
      ]
    },
    {
      "cell_type": "markdown",
      "metadata": {
        "id": "WlP6tEzgCY_4"
      },
      "source": [
        "## Primera pate: **Preguntas teórico-prácticas** - sin apuntes, 50min, total 5 puntos"
      ]
    },
    {
      "cell_type": "markdown",
      "metadata": {
        "id": "Xb-4IxazCY_5"
      },
      "source": [
        "## Ejercicio 1\n",
        "**[1.2 puntos]** - Los siguientes ejemplos evalúan operaciones sencillas. Sin embargo, los resultados que se obtienen no son intuitivos. Explica por qué se obtienen dichos resultados (**una/dos frases por item son suficientes**):"
      ]
    },
    {
      "cell_type": "markdown",
      "metadata": {
        "id": "sj-3HnqXCY_5"
      },
      "source": [
        "**(1.a)**"
      ]
    },
    {
      "cell_type": "code",
      "execution_count": null,
      "metadata": {
        "colab": {
          "base_uri": "https://localhost:8080/"
        },
        "id": "0yrMaY3xCY_5",
        "outputId": "6afdc464-a0e8-48b7-812d-0d340659efa4"
      },
      "outputs": [
        {
          "name": "stdout",
          "output_type": "stream",
          "text": [
            "True\n",
            "inf\n",
            "-inf\n"
          ]
        }
      ],
      "source": [
        "import warnings\n",
        "import numpy as np\n",
        "warnings.filterwarnings(\"ignore\", category=RuntimeWarning)\n",
        "\n",
        "# Se definen dos variables 'a' y 'b'\n",
        "# np.float64 indica que se quiere trabajar con 'precisión doble'\n",
        "a = np.float64(1e-308 / 1e308)\n",
        "b = np.float64(-1e-308 / 1e308)\n",
        "\n",
        "print(a == b) # Imprime 'True', por lo que parece que las variables 'a' y 'b' son iguales\n",
        "\n",
        "print(1/ a)\n",
        "print(1/ b)  # Sin embargo, estos dos prints arrojan resultados completamente diferentes\n"
      ]
    },
    {
      "cell_type": "code",
      "execution_count": null,
      "metadata": {
        "colab": {
          "base_uri": "https://localhost:8080/"
        },
        "id": "e7zYvdidC1sy",
        "outputId": "6a61cc19-65f2-4fce-d0bf-adb5f9ff1e53"
      },
      "outputs": [
        {
          "name": "stdout",
          "output_type": "stream",
          "text": [
            "0.0\n",
            "0.0\n"
          ]
        }
      ],
      "source": [
        "print(a)\n",
        "print(-b)"
      ]
    },
    {
      "cell_type": "code",
      "execution_count": null,
      "metadata": {
        "colab": {
          "base_uri": "https://localhost:8080/"
        },
        "id": "55ZqdHT7DMDk",
        "outputId": "8a4e033e-71ec-4f01-b02a-da37f2cc25af"
      },
      "outputs": [
        {
          "data": {
            "text/plain": [
              "True"
            ]
          },
          "execution_count": 7,
          "metadata": {},
          "output_type": "execute_result"
        }
      ],
      "source": [
        "type(b) == type(a)"
      ]
    },
    {
      "cell_type": "code",
      "execution_count": null,
      "metadata": {
        "id": "_5lOC5vOCY_6"
      },
      "outputs": [],
      "source": [
        "# Sol 1a"
      ]
    },
    {
      "cell_type": "markdown",
      "metadata": {
        "id": "i5kU8SDvCY_6"
      },
      "source": [
        "-----------------\n",
        "\n",
        "**(1.b)**  \n",
        "\n",
        "Dada la función, $f(x) = \\sin(100x^2)$, se quiere calcular numéricamente el valor de su derivada en $x=0$. Se comparará frente al valor exacto:"
      ]
    },
    {
      "cell_type": "code",
      "execution_count": null,
      "metadata": {
        "colab": {
          "base_uri": "https://localhost:8080/"
        },
        "id": "ciiZiV4jCY_6",
        "outputId": "6debac68-0657-4fe2-8fb6-422d4cd33a0f"
      },
      "outputs": [
        {
          "name": "stdout",
          "output_type": "stream",
          "text": [
            "Derivada exacta en 0: 0.0\n",
            "Derivada aproximada en 0: 8.414709848078965\n",
            "Derivada aproximada en 0 (segundo orden): 20.613432172697575\n"
          ]
        }
      ],
      "source": [
        "import numpy as np\n",
        "\n",
        "def f(x: float) -> float:\n",
        "    return np.sin(100*x**2)\n",
        "\n",
        "def df_exacta(x: float) -> float:\n",
        "    return 200*x*np.cos(100*x**2)\n",
        "\n",
        "derivada_exacta_en_0 = df_exacta(0.0)\n",
        "\n",
        "# Calculando una aproximación de la derivada por DF\n",
        "h = 0.1\n",
        "derivada_aprox_df_adelantadas_primer_orden = (f(h) - f(0.0)) / h\n",
        "\n",
        "print(f\"Derivada exacta en 0: {derivada_exacta_en_0}\")\n",
        "print(f\"Derivada aproximada en 0: {derivada_aprox_df_adelantadas_primer_orden}\")  # parece que da un error muy grande\n",
        "\n",
        "# Aumentar el orden del la fórmula de DF no parece que solucione el problema\n",
        "derivada_aprox_df_adelantadas_segundo_orden = (-f(2*h) + 4 * f(h) - 3 * f(0.0)) / (2 * h)\n",
        "print(f\"Derivada aproximada en 0 (segundo orden): {derivada_aprox_df_adelantadas_segundo_orden}\")"
      ]
    },
    {
      "cell_type": "code",
      "execution_count": null,
      "metadata": {
        "id": "Czb1BxwPCY_6"
      },
      "outputs": [],
      "source": [
        "# Sol 1b"
      ]
    },
    {
      "cell_type": "markdown",
      "metadata": {
        "id": "510IzQn-CY_7"
      },
      "source": [
        "-----------------\n",
        "\n",
        "**(1.c)**  "
      ]
    },
    {
      "cell_type": "code",
      "execution_count": null,
      "metadata": {
        "colab": {
          "base_uri": "https://localhost:8080/"
        },
        "id": "SeW-H3C9CY_7",
        "outputId": "e60e99b7-e3c6-4544-a174-f57cb265dfbf"
      },
      "outputs": [
        {
          "name": "stdout",
          "output_type": "stream",
          "text": [
            "x + y: 16777216.0\n"
          ]
        }
      ],
      "source": [
        "import numpy as np\n",
        "\n",
        "# np.float32 indica que se quiere trabajar con 'precisión simple'\n",
        "x = np.float32(16777216)\n",
        "y = np.float32(1)\n",
        "\n",
        "print(\"x + y:\", x + y)  # Imprime: 16777216.0, que es ilógico pues parece que no se ha sumado 'y'\n"
      ]
    },
    {
      "cell_type": "code",
      "execution_count": null,
      "metadata": {
        "colab": {
          "base_uri": "https://localhost:8080/"
        },
        "id": "fF2u6ZoWE48f",
        "outputId": "33c9abec-66cd-4c1a-aec9-93a7bc3a2b58"
      },
      "outputs": [
        {
          "name": "stdout",
          "output_type": "stream",
          "text": [
            "1.0\n",
            "16777216.0\n",
            "16777215.0\n",
            "16777216.0\n"
          ]
        }
      ],
      "source": [
        "print(y)\n",
        "print(x)\n",
        "z = x - y\n",
        "t =  x +y\n",
        "print(z)\n",
        "print(t)"
      ]
    },
    {
      "cell_type": "code",
      "execution_count": null,
      "metadata": {
        "id": "yN4Kou_0CY_7"
      },
      "outputs": [],
      "source": [
        "# Sol 1c"
      ]
    },
    {
      "cell_type": "markdown",
      "metadata": {
        "id": "jVWqqSQrCY_7"
      },
      "source": [
        "-----------------\n",
        "\n",
        "**(1.d)**  Se quiere evaluar la expresión\n",
        "$$\n",
        "a = \\sqrt{10^{-6} + 1} - 1\n",
        "$$\n",
        "Si multiplicamos y dividimos por el conjugado, tenemos\n",
        "$$\n",
        "b = \\frac{10^{-6}}{\\sqrt{10^{-6} + 1} + 1}\n",
        "$$\n",
        "Es obvio que matemáticamente $a = b$, pero:"
      ]
    },
    {
      "cell_type": "code",
      "execution_count": null,
      "metadata": {
        "colab": {
          "base_uri": "https://localhost:8080/"
        },
        "id": "pi6bWWnbCY_7",
        "outputId": "df8ba2a0-41e8-4f6d-9ea7-04223a8e8698"
      },
      "outputs": [
        {
          "name": "stdout",
          "output_type": "stream",
          "text": [
            "a == b: False\n"
          ]
        }
      ],
      "source": [
        "from math import sqrt\n",
        "\n",
        "a = sqrt(1e-16 + 1) - 1\n",
        "b = 1e-16 / (sqrt(1e-16 + 1) + 1)\n",
        "\n",
        "print(\"a == b:\", a == b)  # Imprime: False"
      ]
    },
    {
      "cell_type": "code",
      "execution_count": null,
      "metadata": {
        "colab": {
          "base_uri": "https://localhost:8080/"
        },
        "id": "dIGOLFzSHMUN",
        "outputId": "672a68da-f6db-4442-dd9f-195dad973c04"
      },
      "outputs": [
        {
          "name": "stdout",
          "output_type": "stream",
          "text": [
            "0.0\n",
            "5e-17\n"
          ]
        }
      ],
      "source": [
        "print(a)\n",
        "print(b)\n"
      ]
    },
    {
      "cell_type": "code",
      "execution_count": null,
      "metadata": {
        "id": "GfgcARHjCY_7"
      },
      "outputs": [],
      "source": [
        "# Sol 1d"
      ]
    },
    {
      "cell_type": "markdown",
      "metadata": {
        "id": "AXvkgLnrCY_7"
      },
      "source": [
        "-----------------\n",
        "\n",
        "\n",
        "## Ejercicio 2\n",
        "\n",
        "**[1 punto] -** Un sistema numérico especializado utiliza una representación en coma flotante de base 4 para equilibrar precisión y velocidad de cálculo en simulaciones. Cada número se representa usando 1 bit para el signo (`s`), 3 bits para el exponente (`e`) y 3 bits para la mantisa (`m`), con un sesgo (*bias*) de 3 para el exponente.\n",
        "\n",
        "El número en coma flotante $N$ se representa como:\n",
        "\n",
        "$$\n",
        "N = (-1)^s \\times m \\times 4^{(e - \\text{bias})}\n",
        "$$\n",
        "\n",
        "donde la mantisa se interpreta en potencias de base 4. Por ejemplo, si $m = 103$, entonces:\n",
        "\n",
        "$$\n",
        "m = 4^0 \\times 3 + 4^1 \\times 0 + 4^2 \\times 1\n",
        "$$\n",
        "\n",
        "No hay casos especiales que utilicen otra fórmula. En estas condiciones, responde lo siguiente:\n",
        "\n",
        "(a) ¿Cuál es el mayor número positivo que se puede representar en este sistema?\n",
        "\n",
        "(b) ¿Cuál es el número positivo más pequeño que se puede representar?\n",
        "\n",
        "(c) La distancia entre \"números representables exactamente\" (es decir, *números máquina*) en este sistema, ¿será constante? ¿O variará?\n",
        "\n"
      ]
    },
    {
      "cell_type": "code",
      "execution_count": null,
      "metadata": {
        "id": "c67MniT9CY_8"
      },
      "outputs": [],
      "source": [
        "# Sol 2\n"
      ]
    },
    {
      "cell_type": "markdown",
      "metadata": {
        "id": "ND9AAfC4CY_8"
      },
      "source": [
        "-----------------\n",
        "\n",
        "# Ejercicio 3\n",
        "\n",
        "**[1 punto] -** Explica el concepto de **condicionamiento** en el contexto de la evaluación de una función diferenciable $f(x)$. ¿Cómo se calcula el número de condición en este caso? También, responde a la siguiente pregunta: en la evaluación de un una función diferenciable en un cierto punto, se ha obtenido un número de condición de $10^{11}$. ¿Qué puede afirmarse sobre la precisión del resultado si se está trabajando con precisión doble?\n"
      ]
    },
    {
      "cell_type": "code",
      "execution_count": null,
      "metadata": {
        "id": "lgkOhnSCCY_8"
      },
      "outputs": [],
      "source": [
        "# Sol 3\n"
      ]
    },
    {
      "cell_type": "markdown",
      "metadata": {
        "id": "C75pR8dLCY_8"
      },
      "source": [
        "---------------------\n",
        "\n",
        "## Ejercicio 4\n",
        "\n",
        "**[1 punto] -** Considera la siguiente sucesión $S(n)$ definida de forma recursiva:\n",
        "\n",
        "- $S(0) = 1$\n",
        "- $S(1) = 2$\n",
        "- $S(2) = 3$\n",
        "- $S(3) = 5$\n",
        "- Para $n \\geq 4$: $S(n) = S(n-1) + S(n-2) + S(n-3) + S(n-4)$\n",
        "- Adicionalmente, si $S(n)$ es divisible por 3, se le suma 1 al resultado final.\n",
        "\n",
        "Un programador ha implementado una función para calcular $S(n)$ de la siguiente forma:\n",
        "\n",
        "```python\n",
        "def S(n):\n",
        "    if n == 0:\n",
        "        return 1\n",
        "    elif n == 1:\n",
        "        return 2\n",
        "    elif n == 2:\n",
        "        return 3\n",
        "    elif n == 3:\n",
        "        return 5\n",
        "    else:\n",
        "        result = S(n-1) + S(n-2) + S(n-3) + S(n-4)\n",
        "        if result % 3 == 0:\n",
        "            result += 1\n",
        "        return result\n",
        "```\n",
        "\n",
        "Sin embargo, al intentar calcular $S(40)$, nos encontramos con que el código anterior es extremadamente lento y consume mucha memoria. Discute alguna optimización que creas que puede mejorar la eficiencia del código y hacerlo funcional *(no es imprescindible que la implementes, basta con describirla de palabra)*.\n"
      ]
    },
    {
      "cell_type": "code",
      "execution_count": null,
      "metadata": {
        "id": "CH8y-YVACY_8"
      },
      "outputs": [],
      "source": [
        "# Sol 4\n",
        "#respuesta en la hoja de papel"
      ]
    },
    {
      "cell_type": "markdown",
      "metadata": {
        "id": "VQkfrm-MCY_9"
      },
      "source": [
        "----------------------\n",
        "\n",
        "# Ejercicio 5\n",
        "\n",
        "**[0.8 puntos] -** En cálculo numérico, hay dos fuentes de error fundamentales: (i) el **error de truncamiento**, que ocurre cuando se aproxima una operación matemática exacta mediante una aproximación finita (e.g. al truncar una serie de Taylor para aproximar una función o al usar una fórmula de Diferencias Finitas para aproximar una derivada); y (ii) el **error de redondeo**, que surge por la limitación en la representación de números en un ordenador, ya que la máquina solo puede almacenar un número finito de cifras significativas.\n",
        "\n",
        "Indica si es **verdadera (V)** o **falsa (F)** cada una de las siguientes afirmaciones en relación a estos errores. Incluye **una única frase** que apoye tu respuesta.\n",
        " - **(a)** En general, para reducir el error de truncamiento, pueden utilizarse métodos numéricos de mayor precisión (mayor orden).\n",
        " - **(b)** En general, para reducir el error de truncamiento, puede modificarse la discretización haciendo más grande el paso (por ejemplo, tomar $h$ más grande en diferencias finitas).\n",
        " - **(c)** En general, para reducir el error de truncamiento, puede aumentarse el número de términos en series o aproximaciones.\n",
        " - **(d)** En general, para reducir el error de redondeo, pueden reescribirse ciertas expresiones matemáticas para evitar operaciones que conduzcan a cancelación catastrófica.\n",
        " - **(e)** En general, para reducir el error de redondeo, puede usarse una aritmética de menor precisión (por ejemplo, cambiar de precisión doble a precisión simple).\n",
        "\n"
      ]
    },
    {
      "cell_type": "code",
      "execution_count": null,
      "metadata": {
        "id": "oG2uNyraCY_9"
      },
      "outputs": [],
      "source": [
        "# Sol 5"
      ]
    }
  ],
  "metadata": {
    "colab": {
      "provenance": []
    },
    "kernelspec": {
      "display_name": ".venv",
      "language": "python",
      "name": "python3"
    },
    "language_info": {
      "codemirror_mode": {
        "name": "ipython",
        "version": 3
      },
      "file_extension": ".py",
      "mimetype": "text/x-python",
      "name": "python",
      "nbconvert_exporter": "python",
      "pygments_lexer": "ipython3",
      "version": "3.12.6"
    },
    "orig_nbformat": 4
  },
  "nbformat": 4,
  "nbformat_minor": 0
}
