{
 "cells": [
  {
   "cell_type": "markdown",
   "metadata": {},
   "source": [
    "# Tercer parcial - Algorítmica numérica"
   ]
  },
  {
   "attachments": {},
   "cell_type": "markdown",
   "metadata": {},
   "source": [
    "## Segunda Parte: **Preguntas de desarrollo** - con apuntes, 60min, total 5.75 puntos"
   ]
  },
  {
   "attachments": {},
   "cell_type": "markdown",
   "metadata": {},
   "source": [
    "## Ejercicio 1 (2 puntos)"
   ]
  },
  {
   "attachments": {},
   "cell_type": "markdown",
   "metadata": {},
   "source": [
    "**(a) [0.8 puntos]** Las siguientes dos funciones implementan respectivamente la fase de descomposición y la de solución del método LU (Doolittle). Completa los trozos de código que faltan (señalados con ######)"
   ]
  },
  {
   "cell_type": "code",
   "execution_count": 54,
   "metadata": {},
   "outputs": [],
   "source": [
    "import numpy as np\n",
    "\n",
    "def LUdecomp(a):\n",
    "    n = len(a)\n",
    "    for k in range(0, n-1):\n",
    "        # print('k ',k)\n",
    "        for i in range(k+1, n):\n",
    "            # print('i ',i)\n",
    "            if a[i, k] != 0.0:\n",
    "                # print(a[k, i])\n",
    "                lam = a[i, k] / a[k, k] \n",
    "                # print(lam)\n",
    "                a[i, k] = lam\n",
    "                a[i, k+1:n] -= lam * a[k, k+1:n]\n",
    "                \n",
    "    return a\n",
    "\n",
    "def LUsolve(a, b):\n",
    "    n = len(a)\n",
    "    y = np.zeros_like(b)\n",
    "    x = np.zeros_like(b)\n",
    "\n",
    "    #  forward substitution to obtain y\n",
    "    for k in range(n):\n",
    "        y[k] = b[k] - np.dot(a[k, :k], y[:k])  # np.dot computes the dot product of two arrays\n",
    "    \n",
    "    b[n-1] = b[n-1] / a[n-1, n-1]\n",
    "    \n",
    "    #  backward substitution to obtain x\n",
    "    for k in range(n-1, -1, -1):\n",
    "        x[k] = (y[k] - np.dot(a[k, k+1:], x[k+1:])) / a[k, k]\n",
    "        \n",
    "    return x"
   ]
  },
  {
   "cell_type": "code",
   "execution_count": 55,
   "metadata": {},
   "outputs": [],
   "source": [
    "def swap_rows(A, i , j):\n",
    "    '''intercambia la fija j por la i \n",
    "    en la matriz de coeficientes A\n",
    "    de un sistema lienal\n",
    "    return una nueva matriz A con las filas intercambiadad\n",
    "    pero con la matriz A original sin modificar'''\n",
    "\n",
    "    A_copy = np.copy(A)\n",
    "\n",
    "    ai = np.copy(A[i])\n",
    "    \n",
    "\n",
    "    A_copy[i] = A_copy[j]\n",
    "\n",
    "    A_copy[j] = ai\n",
    "\n",
    "\n",
    "    return A_copy"
   ]
  },
  {
   "cell_type": "code",
   "execution_count": 56,
   "metadata": {},
   "outputs": [],
   "source": [
    "a = np.array([[ 3.0, -1.0, 4.0], [-2.0, 0.0, 5.0], [ 7.0, 2.0, -2.0]])\n",
    "b = np.array([ 6.0, 3.0, 7.0])"
   ]
  },
  {
   "cell_type": "code",
   "execution_count": 57,
   "metadata": {},
   "outputs": [
    {
     "data": {
      "text/plain": [
       "array([[ 3., -1.,  4.,  6.],\n",
       "       [-2.,  0.,  5.,  3.],\n",
       "       [ 7.,  2., -2.,  7.]])"
      ]
     },
     "execution_count": 57,
     "metadata": {},
     "output_type": "execute_result"
    }
   ],
   "source": [
    "a_ampl = np.column_stack((a, b))\n",
    "a_ampl"
   ]
  },
  {
   "cell_type": "code",
   "execution_count": 58,
   "metadata": {},
   "outputs": [
    {
     "data": {
      "text/plain": [
       "array([[ 3., -1.,  4.,  6.],\n",
       "       [ 7.,  2., -2.,  7.],\n",
       "       [-2.,  0.,  5.,  3.]])"
      ]
     },
     "execution_count": 58,
     "metadata": {},
     "output_type": "execute_result"
    }
   ],
   "source": [
    "a_ampl= swap_rows(a_ampl, 1, 2)\n",
    "a_ampl"
   ]
  },
  {
   "cell_type": "code",
   "execution_count": 59,
   "metadata": {},
   "outputs": [
    {
     "data": {
      "text/plain": [
       "(array([[ 3., -1.,  4.],\n",
       "        [ 7.,  2., -2.],\n",
       "        [-2.,  0.,  5.]]),\n",
       " array([6., 7., 3.]))"
      ]
     },
     "execution_count": 59,
     "metadata": {},
     "output_type": "execute_result"
    }
   ],
   "source": [
    "a = a_ampl[:, :-1]\n",
    "b = a_ampl[:, -1]\n",
    "a, b"
   ]
  },
  {
   "cell_type": "code",
   "execution_count": 60,
   "metadata": {},
   "outputs": [
    {
     "data": {
      "text/plain": [
       "array([1., 1., 1.])"
      ]
     },
     "execution_count": 60,
     "metadata": {},
     "output_type": "execute_result"
    }
   ],
   "source": [
    "#Puedes comprobar que funcionan con el siguiente test:\n",
    "a = LUdecomp(a)\n",
    "x = LUsolve(a, b)  # x = [ 1. 1. 1.]\n",
    "x"
   ]
  },
  {
   "attachments": {},
   "cell_type": "markdown",
   "metadata": {},
   "source": [
    "**(b) [0.8 puntos]** Un ejemplo conocido de matriz mal condicionada es la [matriz de Hilbert](https://en.wikipedia.org/wiki/Hilbert_matrix):\n",
    "\n",
    "$$\n",
    "\\mathbf{A}=\\left[\\begin{array}{cccc}\n",
    "1 & 1 / 2 & 1 / 3 & \\cdots \\\\\n",
    "1 / 2 & 1 / 3 & 1 / 4 & \\cdots \\\\\n",
    "1 / 3 & 1 / 4 & 1 / 5 & \\cdots \\\\\n",
    "\\vdots & \\vdots & \\vdots & \\ddots\n",
    "\\end{array}\\right]\n",
    "$$\n",
    "\n",
    "Escribe una función ```hilbert_sol``` para resolver el sistema de ecuaciones $\\mathbf{Ax} = \\mathbf{b}$ por el método de descomposición LU de Doolittle, donde $\\mathbf{A}$ es la matriz de Hilbert de tamaño arbitrario $n \\times n$, y\n",
    "\n",
    "$$\n",
    "b_i=\\sum_{j=1}^n A_{i j}\n",
    "$$\n",
    "\n",
    "El único parámetro de entrada de dicha función debe ser $n$. Utiliza los métodos del apartado anterior."
   ]
  },
  {
   "cell_type": "code",
   "execution_count": 63,
   "metadata": {},
   "outputs": [
    {
     "data": {
      "text/plain": [
       "(array([[1., 1., 1., 1.],\n",
       "        [1., 1., 1., 1.],\n",
       "        [1., 1., 1., 1.],\n",
       "        [1., 1., 1., 1.]]),\n",
       " array([0., 0., 4., 0.]))"
      ]
     },
     "execution_count": 63,
     "metadata": {},
     "output_type": "execute_result"
    }
   ],
   "source": [
    "n = 4\n",
    "H = np.ones((n,n))\n",
    "b = np.zeros(n)\n",
    "b[2] = sum(H[2])\n",
    "H, b"
   ]
  },
  {
   "cell_type": "code",
   "execution_count": 89,
   "metadata": {},
   "outputs": [],
   "source": [
    "def hilbert_sol(n: int, func1 = LUdecomp, func2= LUsolve):\n",
    "\n",
    "    H = np.zeros((n,n))\n",
    "    b = np.zeros((n))\n",
    "\n",
    "    for i in range(n):\n",
    "        for j in range(n):\n",
    "            H[i,j] = 1 / (i + j + 1)\n",
    "\n",
    "            b[i] = sum(H[i])\n",
    "\n",
    "    LU = func1(H.copy())\n",
    "    x = func2(LU, b.copy())\n",
    "\n",
    "    \n",
    "    return x"
   ]
  },
  {
   "cell_type": "code",
   "execution_count": 86,
   "metadata": {},
   "outputs": [
    {
     "data": {
      "text/plain": [
       "array([1., 1., 1., 1.])"
      ]
     },
     "execution_count": 86,
     "metadata": {},
     "output_type": "execute_result"
    }
   ],
   "source": [
    "hilbert_sol(4)"
   ]
  },
  {
   "attachments": {},
   "cell_type": "markdown",
   "metadata": {},
   "source": [
    "**(c) [0.4 puntos]** Experimenta con la función anterior para determinar el mayor $n$ para el que la solución tiene un error relativo máximo menor de $1 \\cdot 10^{-6}$, sabiendo que la solución exacta es:\n",
    "$$\n",
    "\\mathbf{x}=\\left[\\begin{array}{llll}\n",
    "1 & 1 & 1 & \\cdots\n",
    "\\end{array}\\right]^T\n",
    "$$"
   ]
  },
  {
   "cell_type": "code",
   "execution_count": 91,
   "metadata": {},
   "outputs": [
    {
     "name": "stdout",
     "output_type": "stream",
     "text": [
      "El mayor valor de n con error relativo menor que 1e-6 es: 8\n"
     ]
    }
   ],
   "source": [
    "# gpt pendiende de checkeo \n",
    "\n",
    "def error_relativo(x_aprox, x_exacta):\n",
    "    return np.max(np.abs(x_aprox - x_exacta)) / np.max(np.abs(x_exacta))\n",
    "\n",
    "def encontrar_n_maximo(func1 = LUdecomp, func2= LUsolve, tol=1e-6):\n",
    "    n = 1  # Empezamos con n=1\n",
    "    while True:\n",
    "        # Solución exacta\n",
    "        x_exacta = np.ones(n)\n",
    "        \n",
    "        # Obtener la solución aproximada\n",
    "        x_aprox = hilbert_sol(n)\n",
    "        \n",
    "        # Calcular el error relativo\n",
    "        error = error_relativo(x_aprox, x_exacta)\n",
    "        \n",
    "        # Verificar la tolerancia\n",
    "        if error > tol:\n",
    "            break  # Terminar si el error excede la tolerancia\n",
    "        \n",
    "        n += 1  # Incrementar n\n",
    "    \n",
    "    return n - 1  # Último n válido\n",
    "\n",
    "# Ejecutar la función\n",
    "n_max = encontrar_n_maximo(LUdecomp, LUsolve)\n",
    "print(f\"El mayor valor de n con error relativo menor que 1e-6 es: {n_max}\")\n"
   ]
  },
  {
   "attachments": {},
   "cell_type": "markdown",
   "metadata": {},
   "source": [
    "## Ejercicio 2 (2.25 puntos)\n",
    "\n",
    "Programa una función ```safe_newton_raphson``` que implemente una versión \"segura\" del algoritmo de Newton-Raphson, tal y como se indica a continuación. Se asume que la raíz a calcular está inicialmente acotada en $(a, b)$. La función tiene signos opuestos en los extremos de este intervalo. El punto medio del intervalo $(a, b)$ se utiliza como estimación inicial de la raíz, a partir de la cual se comienza a aplicar al algoritmo de Newton-Raphson. Las cotas se deben actualizan después de cada iteración. Si en una iteración del algoritmo de Newton-Raphson el nuevo valor de la estimación de la raíz no se mantiene dentro de las cotas que haya en ese momento, esa iteración se descarta y se sustituye por la bisección. \n",
    "\n",
    "El método necesitará los siguientes parámetros:\n",
    " - ```f```: la función sobre la que se desea hacer la búsqueda de la raíz.\n",
    " - ```df```: la derivada de la función anterior\n",
    " - ```a```: el límite inferior inicial del intervalo que acota la solución\n",
    " - ```b```: el límite superior inicial del intervalo que acota la solución\n",
    " - ```tol```: la tolerancia objetivo\n",
    " - ```n_max```: el número máximo de iteraciones\n",
    " - ```switch```: una variable booleana seteada por defecto en ```False```. Cuando el usuario la fije en ```True```, debe activar un mecanismo que compruebe que la solución está convergiendo, devolviendo un ```None``` e informando al usuario en caso contrario."
   ]
  },
  {
   "cell_type": "code",
   "execution_count": 92,
   "metadata": {},
   "outputs": [],
   "source": [
    "from typing import Callable\n",
    "import numpy"
   ]
  },
  {
   "cell_type": "code",
   "execution_count": null,
   "metadata": {},
   "outputs": [],
   "source": [
    "def newton_raphson(f: Callable, prime: Callable, x, tol= 1e-10, max_iter = 100):\n",
    "\n",
    "    for i in range(max_iter):\n",
    "\n",
    "        fx = f(x)\n",
    "        dx = prime(x)\n",
    "\n",
    "        x_old = x\n",
    "        x -= fx / dx\n",
    "\n",
    "        if abs(x - x_old) < tol:\n",
    "            print(f'encontrada la raiz en {i} iteraciones')\n",
    "            return x\n",
    "        \n",
    "    return (f'no se ha encontrado la raiz en {max_iter} iteraciones')"
   ]
  },
  {
   "cell_type": "code",
   "execution_count": 96,
   "metadata": {},
   "outputs": [],
   "source": [
    "def safe_newton_raphson(f: Callable, prime: Callable, a: float, b: float, tol= 1e-10, n_max= 100, switch=False):\n",
    "\n",
    "    fa  = f(a)\n",
    "    fb = f(b)\n",
    "\n",
    "    if fa * fb > 0:\n",
    "        raise ValueError('los extremos del intervalo tienen el mismo signo')\n",
    "\n",
    "    c = (a + b) / 2\n",
    "    for i in range(n_max):\n",
    "\n",
    "        fc = f(c)\n",
    "        dc = prime(c)\n",
    "\n",
    "        if dc == 0:\n",
    "            raise ValueError('f la derivada de c {dc} vale 0')\n",
    "\n",
    "        else:\n",
    "            c_old = c\n",
    "            c -= fc / dc\n",
    "\n",
    "        if not (a <= c <= b):\n",
    "                raise ValueError(\"Newton-Raphson fuera de límites\")\n",
    "        \n",
    "        if switch and abs(f(c)) > abs(fc):\n",
    "                print(\"La solución no está convergiendo. Abortando.\")\n",
    "                return None\n",
    "        \n",
    "        if abs(c - c_old) < tol:\n",
    "            print(f\"Raíz encontrada en {i + 1} iteraciones.\")\n",
    "            return c\n",
    "        \n",
    "        # Actualizar los límites del intervalo\n",
    "        if f(a) * f(c) < 0:\n",
    "            b = c\n",
    "        else:\n",
    "            a = c\n",
    "\n",
    "        # if abs(c - c_old) < tol:\n",
    "        #     print(f'encontrada la raiz en {i} iteraciones')\n",
    "        #     return c\n",
    "        \n",
    "        # else:\n",
    "        #     if fa * fc < 0:\n",
    "        #         b = c\n",
    "\n",
    "        #     else:\n",
    "        #         a = c\n",
    "\n",
    "    return (f'no se ha encontrado la raiz en {n_max} iteraciones')\n",
    "\n"
   ]
  },
  {
   "cell_type": "code",
   "execution_count": 97,
   "metadata": {},
   "outputs": [
    {
     "name": "stdout",
     "output_type": "stream",
     "text": [
      "Raíz encontrada en 3 iteraciones.\n",
      "La raíz aproximada es: 1.5213797068045751\n"
     ]
    }
   ],
   "source": [
    "def f(x):\n",
    "    return x**3 - x - 2\n",
    "\n",
    "def df(x):\n",
    "    return 3*x**2 - 1\n",
    "\n",
    "# Parámetros\n",
    "a, b = 1, 2\n",
    "tol = 1e-6\n",
    "n_max = 50\n",
    "switch = True\n",
    "\n",
    "# Llamar a la función\n",
    "raiz = safe_newton_raphson(f, df, a, b, tol, n_max, switch)\n",
    "print(f\"La raíz aproximada es: {raiz}\")"
   ]
  },
  {
   "attachments": {},
   "cell_type": "markdown",
   "metadata": {},
   "source": [
    "## Ejercicio 3 (1.5 puntos)\n",
    "\n",
    "La relación entre la resistencia aerodinámica de un ala $r$ y el ancho del ala $h$ viene dada por la siguiente expresión:\n",
    "\n",
    "$$\n",
    "\\int_0^h r(t) dt = a + b \\cdot r\n",
    "$$\n",
    "\n",
    "donde $a$ y $b$ son constantes a determinar, y la variable $\\int_0^h r(t) dt$ se llama \"resistencia unitaria\". La siguiente tabla muestra los resultados de un ensayo en túnel aerodinámico con distintos anchos de ala:\n",
    "\n",
    "<center>\n",
    "\n",
    "| $h$ | $r$ |\n",
    "|---------|-------|\n",
    "| 0 | 0 | \n",
    "| 0.10 | 3.031 | \n",
    "| 0.20 | 4.184 | \n",
    "| 0.30 | 4.975 | \n",
    "| 0.40 | 5.943 | \n",
    "| 0.50 | 6.115 |\n",
    "| 0.60 | 7.315 |\n",
    "| 0.70 | 7.325 |\n",
    "</center>\n",
    "\n",
    "Dichos resultados corresponden con los almacenados en las siguientes dos listas:"
   ]
  },
  {
   "cell_type": "code",
   "execution_count": 98,
   "metadata": {},
   "outputs": [],
   "source": [
    "h = [0.0, 0.10, 0.20, 0.30, 0.40, 0.50, 0.60, 0.70]\n",
    "r = [0.0, 3.031, 4.184, 4.975, 5.943, 6.115, 7.315, 7.325]"
   ]
  },
  {
   "cell_type": "code",
   "execution_count": 99,
   "metadata": {},
   "outputs": [
    {
     "data": {
      "image/png": "[encoded data removed]",
      "text/plain": [
       "<Figure size 640x480 with 1 Axes>"
      ]
     },
     "metadata": {},
     "output_type": "display_data"
    }
   ],
   "source": [
    "import matplotlib.pyplot as plt\n",
    "\n",
    "plt.plot(h, r)\n",
    "plt.show()"
   ]
  },
  {
   "cell_type": "code",
   "execution_count": 104,
   "metadata": {},
   "outputs": [
    {
     "data": {
      "text/plain": [
       "(np.float64(-0.10669229472935826), np.float64(0.09395027663636253))"
      ]
     },
     "execution_count": 104,
     "metadata": {},
     "output_type": "execute_result"
    }
   ],
   "source": [
    "from scipy import stats\n",
    "sol = stats.linregress(r, h)\n",
    "a = sol.intercept\n",
    "b = sol.slope\n",
    "a, b"
   ]
  },
  {
   "cell_type": "code",
   "execution_count": 105,
   "metadata": {},
   "outputs": [
    {
     "data": {
      "image/png": "[encoded data removed]",
      "text/plain": [
       "<Figure size 640x480 with 1 Axes>"
      ]
     },
     "metadata": {},
     "output_type": "display_data"
    }
   ],
   "source": [
    "plt.scatter(r, h, label=\"Datos\", color=\"blue\")\n",
    "plt.plot(r, [b * x + a for x in r], label=\"Línea de regresión\", color=\"red\")\n",
    "plt.show()"
   ]
  },
  {
   "cell_type": "code",
   "execution_count": 101,
   "metadata": {},
   "outputs": [
    {
     "name": "stdout",
     "output_type": "stream",
     "text": [
      "Pendiente (b): 0.09395\n",
      "Intercepto (a): -0.10669\n"
     ]
    }
   ],
   "source": [
    "from typing import List\n",
    "\n",
    "def regression_manual(x: List[float], y: List[float]):\n",
    "    \"\"\"\n",
    "    Calcula la pendiente y el intercepto de una regresión lineal usando magnitudes auxiliares.\n",
    "\n",
    "    Args:\n",
    "        x (List[float]): Lista de valores independientes.\n",
    "        y (List[float]): Lista de valores dependientes.\n",
    "\n",
    "    Returns:\n",
    "        float, float: Pendiente (b) e intercepto (a).\n",
    "    \"\"\"\n",
    "    n = len(x)\n",
    "    mean_x = sum(x) / n  # Media de x\n",
    "    mean_y = sum(y) / n  # Media de y\n",
    "\n",
    "    # Calcular las magnitudes auxiliares\n",
    "    cov_xy = sum((x[i] - mean_x) * (y[i] - mean_y) for i in range(n))\n",
    "    var_x = sum((x[i] - mean_x) ** 2 for i in range(n))\n",
    "\n",
    "    # Calcular pendiente (b) e intercepto (a)\n",
    "    b = cov_xy / var_x\n",
    "    a = mean_y - b * mean_x\n",
    "\n",
    "    return b, a\n",
    "\n",
    "# Datos proporcionados\n",
    "r = [0.0, 3.031, 4.184, 4.975, 5.943, 6.115, 7.315, 7.325]\n",
    "h = [0.0, 0.10, 0.20, 0.30, 0.40, 0.50, 0.60, 0.70]\n",
    "\n",
    "# Calcular regresión manual\n",
    "b, a = regression_manual(r, h)\n",
    "print(f\"Pendiente (b): {b:.5f}\")\n",
    "print(f\"Intercepto (a): {a:.5f}\")\n"
   ]
  },
  {
   "attachments": {},
   "cell_type": "markdown",
   "metadata": {},
   "source": [
    "Determina los parámetros $a$ y $b$ por regresión lineal. Si necesitases calcular alguna magnitud auxiliar, utiliza el método numérico que consideres oportuno (libre)."
   ]
  },
  {
   "attachments": {},
   "cell_type": "markdown",
   "metadata": {},
   "source": [
    "Nota: el módulo ```scipy.stats``` dispone del método ```linregress``` que facilita el cálculo de la recta de regresión. Observa el siguiente ejemplo trivial:"
   ]
  },
  {
   "cell_type": "code",
   "execution_count": 95,
   "metadata": {},
   "outputs": [
    {
     "name": "stdout",
     "output_type": "stream",
     "text": [
      "La pendiente de la recta de regresión de ejemplo es 0.4\n",
      "El término independiente de la recta de regresión de ejemplo es 1.9\n"
     ]
    }
   ],
   "source": [
    "from scipy import stats\n",
    "\n",
    "x = [0, 1, 2, 3]\n",
    "y = [1, 4, 2, 3]\n",
    "\n",
    "# En esta instancia se almacenan varios estadísticos útiles relacionados con la regresión. \n",
    "res = stats.linregress(x, y)\n",
    "\n",
    "# En particular en 'res.slope' y en 'res.intercept' se tiene la pendiente y el término independiente de la recta\n",
    "print(f\"La pendiente de la recta de regresión de ejemplo es {res.slope}\")\n",
    "print(f\"El término independiente de la recta de regresión de ejemplo es {res.intercept}\")"
   ]
  }
 ],
 "metadata": {
  "kernelspec": {
   "display_name": "Python 3",
   "language": "python",
   "name": "python3"
  },
  "language_info": {
   "codemirror_mode": {
    "name": "ipython",
    "version": 3
   },
   "file_extension": ".py",
   "mimetype": "text/x-python",
   "name": "python",
   "nbconvert_exporter": "python",
   "pygments_lexer": "ipython3",
   "version": "3.12.6"
  },
  "orig_nbformat": 4
 },
 "nbformat": 4,
 "nbformat_minor": 2
}
