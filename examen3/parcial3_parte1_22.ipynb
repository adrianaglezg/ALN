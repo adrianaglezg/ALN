{
 "cells": [
  {
   "attachments": {},
   "cell_type": "markdown",
   "metadata": {},
   "source": [
    "# Tercel parcial - Algorítmica numérica"
   ]
  },
  {
   "cell_type": "markdown",
   "metadata": {},
   "source": [
    "## Primera pate: **Preguntas teórico-prácticas** - sin apuntes, 60min, total 5 puntos"
   ]
  },
  {
   "attachments": {},
   "cell_type": "markdown",
   "metadata": {},
   "source": [
    "### Ejercicio 1\n",
    "\n",
    "**[1 punto] -** Indica si las siguientes afirmaciones son verdaderas o falsas. *Las respuestas correctas suman 0.1 puntos, las incorrectas restan la misma cantidad. Las respuestas en blanco ni suman ni restan. La puntuación mínima en este ejercicio es de 0 puntos*.\n",
    "\n",
    "**(a)** Una clase abstracta ```Abstract(ABC)``` contiene un método con el decorador ```@abstractmethod```. Por tanto, la sentencia ```a = Abstract()``` levantará una excepción.\n",
    "\n",
    "**(b)** El *type hint* para una argumento que es una función es ```Function```.\n",
    "\n",
    "**(c)** En la representación numérica de coma flotante, en cada operación que se realiza se añade un pequeño número aleatorio del orden de la precisión de máquina $\\epsilon$. Por ejemplo, $1 + 1$ dará $2 \\pm \\epsilon$ , y $0 \\times 7$ dará $\\pm \\epsilon$.\n",
    "\n",
    "**(d)** Respecto a las fórmulas de diferencias finitas para aproximar derivadas, utilizando un mismo número de puntos, las diferencias finitas centradas tienen más precisión que las adelantadas.\n",
    "\n",
    "**(e)** La interpolación por splines cúbicos impone continuidad en la función y sus dos primeras derivadas. Sin embargo, después de imponer estas condiciones, aún son necesarias dos ecuaciones más para obtener un sistema compatible determinado.\n",
    "\n",
    "**(f)** De entre todos los polinomios de Hermite que pueden obtenerse, se demuestra por reducción al absurdo que hay uno que presenta derivada nula en sus dos extremos.\n",
    "\n",
    "**(g)** El pivotamiento no siempre es una técnica conveniente para la resolución de sistemas lineales por el método de Gauss o el de la descomposición LU. Sin embargo, si tenemos una matriz \"por bandas\", siempre es una técnica recomendable que aumenta la velocidad de convergencia.\n",
    "\n",
    "**(h)** Los métodos iterativos para la resolución de sistemas lineales son generalmente recomendables para matrices \"sparse\" (con muchos elementos nulos).\n",
    "\n",
    "**(i)** La elección de un valor inicial inapropiado en un determinado algoritmo iterativo de búsqueda de raíces puede provocar que dicho algoritmo no funcione correctamente.\n",
    "\n",
    "**(j)** El método de Newton-Raphson para la búsqueda de raíces es el método más robusto de los estudiados, aunque tiene los inconvenientes de que necesita la derivada de la función y de que la convergencia del método no llega a ser lineal."
   ]
  },
  {
   "attachments": {},
   "cell_type": "markdown",
   "metadata": {},
   "source": [
    "### Ejercicio 2\n",
    "\n",
    "**[1 punto] -** El CEO de una determinada empresa decide estimar el beneficio de la empresa en función únicamente el balance del número de empleados del mes. Maneja la siguiente base de datos, donde la primera columna representa la diferencia entre el número de empleados al principio y al final del mes, y la segunda el beneficio/pérdida de la empresa (en miles de euros):\n",
    "\n",
    "<center>\n",
    "\n",
    "| Balance nº empleados| Beneficio de la empresa (k€) |\n",
    "|-----|-----|\n",
    "|  -2  |  -1  |\n",
    "|  1  |  2 |\n",
    "|  4  |  59 |\n",
    "|  -1  |  4 |\n",
    "|  3  |  24 |\n",
    "\n",
    "</center>\n",
    "\n",
    "Obtén el polinomio que interpola dichos puntos y utilízalo para estimar el beneficio de la empresa si en un determinado mes se han contratado 2 empleados."
   ]
  },
  {
   "cell_type": "code",
   "execution_count": 8,
   "metadata": {},
   "outputs": [
    {
     "name": "stdout",
     "output_type": "stream",
     "text": [
      "[ 1.00000000e+00  3.77116928e-16 -2.00000000e+00  3.00000000e+00]\n",
      "   3             2\n",
      "1 x + 3.771e-16 x - 2 x + 3\n"
     ]
    },
    {
     "data": {
      "text/plain": [
       "np.float64(7.000000000000007)"
      ]
     },
     "execution_count": 8,
     "metadata": {},
     "output_type": "execute_result"
    }
   ],
   "source": [
    "import numpy as np\n",
    "\n",
    "x = [-2, 1, 4, -1, 3]\n",
    "y = [-1, 2, 59, 4, 24]\n",
    "\n",
    "coef = np.polyfit(x, y, 3) # grado 3\n",
    "print(coef)\n",
    "poly =  np.poly1d(coef)\n",
    "print(poly)\n",
    "\n",
    "sol = poly(2)\n",
    "sol"
   ]
  },
  {
   "cell_type": "code",
   "execution_count": 9,
   "metadata": {},
   "outputs": [
    {
     "name": "stdout",
     "output_type": "stream",
     "text": [
      "           4     3             2\n",
      "-2.22e-16 x + 1 x + 8.882e-16 x - 2 x + 3\n"
     ]
    },
    {
     "data": {
      "text/plain": [
       "np.float64(7.000000000000001)"
      ]
     },
     "execution_count": 9,
     "metadata": {},
     "output_type": "execute_result"
    }
   ],
   "source": [
    "from scipy.interpolate import lagrange\n",
    "\n",
    "x = [-2, 1, 4, -1, 3]\n",
    "y = [-1, 2, 59, 4, 24]\n",
    "\n",
    "poly = lagrange(x, y)\n",
    "print(poly)\n",
    "sol = poly(2)\n",
    "\n",
    "sol"
   ]
  },
  {
   "attachments": {},
   "cell_type": "markdown",
   "metadata": {},
   "source": [
    "### Ejercicio 3\n",
    "\n",
    "**[1 punto] -** Observa las siguientes fórmulas de diferencias finitas para aproximar la primera derivada:\n",
    "\n",
    " - Centradas de segundo orden: \n",
    "$$\n",
    "f^{\\prime}(x)= \\frac{f(x+h)-f(x-h)}{2 h}+\\mathcal{O}\\left(h^{2}\\right)\n",
    "$$\n",
    "\n",
    " - Centradas de tercer orden: \n",
    "$$\n",
    "f^{\\prime}(x)= \\frac{f(x-2h) - 8 f(x-h) + 8 f(x+h) - f(x+2h)}{12 h}+\\mathcal{O}\\left(h^{3}\\right)\n",
    "$$\n",
    "\n",
    " - Adelantadas de segundo orden:\n",
    "$$\n",
    "f^{\\prime}(x)=\\frac{-f(x+2 h)+4 f(x+h)-3 f(x)}{2 h}+\\mathcal{O}\\left(h^{2}\\right)\n",
    "$$\n",
    "\n",
    " - Adelantadas de tercer orden:\n",
    "$$\n",
    "f^{\\prime}(x)=\\frac{ 2 f(x+3 h) - 9 f(x+2 h) + 18 f(x+h)-11 f(x)}{6 h}+\\mathcal{O}\\left(h^{3}\\right)\n",
    "$$\n",
    "\n",
    "Dados los siguientes datos, estimar $f'(0.2)$ **de la forma más precisa que puedas**:\n",
    "\n",
    "<center>\n",
    "\n",
    "| x | f(x)   |\n",
    "|-----|----------|\n",
    "| 0.0 | 2.7 |\n",
    "| 0.1 | 0.5 |\n",
    "| 0.2 | 1.8 |\n",
    "| 0.3 | 2.0 |\n",
    "| 0.4 | 2.7 |\n",
    "</center>"
   ]
  },
  {
   "attachments": {},
   "cell_type": "markdown",
   "metadata": {},
   "source": [
    "### Ejercicio 4\n",
    "\n",
    "**[1 punto] -** Programa o escribe el pseudocódigo de una función ```reg_falsi``` que implemente el método de la *regula falsi* para la búsqueda de raíces. Dicho método tomará como parámetros la función ```fun``` de la que se desea obtener la raíz, los extremos del intervalo donde se buscarán las raíces ```a``` y ```b```, y la tolerancia objetivo ```tol```.\n",
    "\n",
    "Recuerda que la ecuación de la recta que pasa por el punto $(x_1, y_1)$ y $(x_2, y_2)$ es: \n",
    "$$\n",
    "y= \\frac{y_2-y_1}{x_2-x_1}\\left(x-x_1\\right) + y_1\n",
    "$$"
   ]
  },
  {
   "cell_type": "code",
   "execution_count": 10,
   "metadata": {},
   "outputs": [],
   "source": [
    "def reg_falsi(fun:callable, a: float, b: float, tol = 1e-10):\n",
    "\n",
    "    fa = fun(a)\n",
    "    fb = fun(b)\n",
    "\n",
    "    if fa * fb > 0:\n",
    "        raise ValueError('la raiz no esta  acotada en este intervalo')\n",
    "    \n",
    "    # buscamos un punto de corte con el eje x tras interpolar la recta que pasa por a y b\n",
    "    c = a - fb * (b - a) / (fb - fa)\n",
    "    fc = fun(c)\n",
    "    if (fc) < tol:\n",
    "        return c\n",
    "    \n",
    "    if fa * fc > 0:  \n",
    "         a, fa = c, fc\n",
    "    else:           \n",
    "         b, fb = c, fc\n"
   ]
  },
  {
   "attachments": {},
   "cell_type": "markdown",
   "metadata": {},
   "source": [
    "### Ejercicio 5\n",
    "\n",
    "**[1 punto] -** Deduce la expresión de la matriz $\\mathbf{L}$ resultante de la descomposición de Cholesky de una matriz $\\mathbf{A}$ $4 \\times 4$ tridiagonal de la siguiente forma:\n",
    "\n",
    "$$\n",
    "\\mathbf{A} = \\left[\\begin{array}{llll}\n",
    "A_1 & d & 0 & 0 \\\\\n",
    "-d & A_2 & d & 0 \\\\\n",
    "0 & -d & A_3 & d \\\\\n",
    "0 &  0 & -d & A_4 \\\\\n",
    "\\end{array}\\right]\n",
    "$$\n",
    "Recuerda que todas las descomposiciones tipo LU conservan la estructura por bandas de la matriz original *(esto puede ser usado para simplificar el desarrollo)*."
   ]
  },
  {
   "cell_type": "code",
   "execution_count": null,
   "metadata": {},
   "outputs": [],
   "source": []
  },
  {
   "cell_type": "code",
   "execution_count": null,
   "metadata": {},
   "outputs": [],
   "source": []
  }
 ],
 "metadata": {
  "kernelspec": {
   "display_name": "Python 3",
   "language": "python",
   "name": "python3"
  },
  "language_info": {
   "codemirror_mode": {
    "name": "ipython",
    "version": 3
   },
   "file_extension": ".py",
   "mimetype": "text/x-python",
   "name": "python",
   "nbconvert_exporter": "python",
   "pygments_lexer": "ipython3",
   "version": "3.12.6"
  },
  "orig_nbformat": 4
 },
 "nbformat": 4,
 "nbformat_minor": 2
}
