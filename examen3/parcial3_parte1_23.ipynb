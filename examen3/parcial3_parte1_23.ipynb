{
 "cells": [
  {
   "attachments": {},
   "cell_type": "markdown",
   "metadata": {},
   "source": [
    "# Tercer parcial - Algorítmica numérica"
   ]
  },
  {
   "cell_type": "markdown",
   "metadata": {},
   "source": [
    "## Primera pate: **Preguntas teórico-prácticas** - sin apuntes, 60min, total 5 puntos"
   ]
  },
  {
   "cell_type": "markdown",
   "metadata": {},
   "source": [
    "### Ejercicio 1\n",
    "\n",
    " - **(a)** **[0.6 puntos] -** Razona si son verdaderas o falsas las siguientes afirmaciones en referencia a la resolución de sistemas lineales mediante el método de Gauss o el método LU con pivotamiento. **Una/Dos frases por item son suficientes**. \n",
    "   - *(a1)* En general, el uso de pivotamiento está recomendado para la resolución de sistemas en los que la matriz de coeficientes $A$ es diagonal dominante.\n",
    "   - *(a2)* En general, el uso de pivotamiento está recomendado para la resolución de sistemas en los que la matriz de coeficientes $A$ tiene un elemento de la diagonal principal que es mucho más pequeño que el resto de elementos.\n",
    "   - *(a3)* En general, el uso de pivotamiento está recomendado para la resolución de sistemas en los que la matriz de coeficientes $A$ es tridiagonal.\n"
   ]
  },
  {
   "cell_type": "code",
   "execution_count": null,
   "metadata": {},
   "outputs": [],
   "source": [
    "#SOL EJ 1a\n"
   ]
  },
  {
   "cell_type": "markdown",
   "metadata": {},
   "source": [
    "- **(b)** **[0.4 puntos] -** Recuerda que en el cálculo de splines cúbicos, el sistema resultante tiene la siguiente forma:\n",
    "  \n",
    "$$\n",
    "A k=b\n",
    "$$\n",
    "\n",
    "$$\n",
    "A=\\left[\\begin{array}{cccccc}\n",
    "1 & 0 & 0 & 0 & \\cdots & 0 \\\\\n",
    "\\left(x_{0} - x_{1}\\right) &  2 \\left(x_{0} - x_{2} \\right) & \\left(x_1 - x_{2}\\right) & & & \\vdots \\\\\n",
    "0 & \\left(x_{1} - x_{2}\\right) &  2 \\left(x_{1} - x_{3} \\right) & \\left(x_2 - x_{3}\\right) & & \\vdots \\\\\n",
    "0 & & & \\ddots & & \\vdots \\\\\n",
    "\\vdots & & & \\left(x_{n-2} - x_{n-1}\\right) &  2 \\left(x_{n-2} - x_{n} \\right) & \\left(x_{n-1} - x_{n}\\right) \\\\\n",
    "0 & & & & 0 & 1\n",
    "\\end{array}\\right]\n",
    "$$\n",
    "\n",
    "$$\n",
    "b=\\left(0, 6 \\left( \\frac{y_0-y_1}{x_0-x_1}-\\frac{y_1-y_2}{x_1-x_2} \\right), \\ldots, 6 \\left( \\frac{y_{i-1}-y_i}{x_{i-1}-x_i}-\\frac{y_{i}-y_{i+1}}{x_{i}-x_{i+1}} \\right), \\ldots, 6 \\left( \\frac{y_{n-2}-y_{n-1}}{x_{n-2}-x_{n-1}}-\\frac{y_{n-1}-y_n}{x_{n-1}-x_n} \\right), 0\\right)^{\\top}\n",
    "$$\n",
    "\n",
    "$$\n",
    "k=\\left(k_0, k_1, \\ldots, k_n\\right)^{\\top}\n",
    "$$\n",
    "\n",
    "¿Qué método de resolución de sistemas lineales de los estudiados en el curso recomendarías para obtener la solución de dicho sistema? Discute razonadamente tu elección. *(No es necesario que calcules o implementes nada)*"
   ]
  },
  {
   "cell_type": "code",
   "execution_count": null,
   "metadata": {},
   "outputs": [],
   "source": [
    "#SOL EJ 1b\n"
   ]
  },
  {
   "cell_type": "markdown",
   "metadata": {},
   "source": [
    "---------------------------\n",
    "\n",
    "### Ejercicio 2\n",
    "\n",
    "**[1 punto]** En el ajuste lineal, hay otra técnica de regularización muy utilizada además de la de Ridge: la regresión de Lasso. La idea es exactamente la misma que en Ridge, pero en lugar de utilizar un término de penalización de $\\lambda b^2$ para el error cuadrático medio (siendo $b$ la pendiente de la recta y $\\lambda$ un factor fijado de antemano), se utiliza el término $\\lambda \\left| b \\right|$. Calcula, operando *a mano*, la recta de regresión de Lasso para el siguiente dataset. Usa $\\lambda = 1.2$.\n",
    "\n",
    "<center>\n",
    "\n",
    "|   x   |   y   |\n",
    "|-------|-------|\n",
    "|   0   |   1   |\n",
    "|   1   |   0   |\n",
    "|   2   |   2   |\n",
    "\n",
    "</center>"
   ]
  },
  {
   "cell_type": "code",
   "execution_count": null,
   "metadata": {},
   "outputs": [],
   "source": [
    "#SOL EJ 2 -> a mano\n"
   ]
  },
  {
   "cell_type": "markdown",
   "metadata": {},
   "source": [
    "---------------------------\n",
    "\n",
    "### Ejercicio 3\n",
    "\n",
    "**[1 punto]** Escribe el pseudocódigo o implementa en Python el **método de la secante** para búsqueda de raíces. Recuerda que la ecuación de la recta $y(x)$ que pasa por los puntos $\\left( x_1, y_1\\right)$, $\\left( x_2, y_2\\right)$ puede expresarse como:\n",
    "$$\n",
    "y(x) = y_1 + \\frac{y_2 - y_1}{x_2 - x_1}(x - x_1)\n",
    "$$"
   ]
  },
  {
   "cell_type": "code",
   "execution_count": null,
   "metadata": {},
   "outputs": [],
   "source": [
    "# SOL EJ 3\n",
    "\n",
    "# SI VAS A PROGRAMARLO, PUEDES USAR ESTA CABECERA\n",
    "def secant_method(f, x0, x1, tol=1e-6, max_iter=1000):\n",
    "    \"\"\"\n",
    "    método de la secante para encontrar una raíz de la función f.\n",
    "    \n",
    "    f: Función para la cual se busca la raíz.\n",
    "    x0, x1: Valores iniciales para el algoritmo.\n",
    "    tol: Tolerancia para la convergencia.\n",
    "    max_iter: Número máximo de iteraciones.\n",
    "\n",
    "    :return: Una aproximación de la raíz de f.\n",
    "    \"\"\"\n",
    "\n",
    "    #COMPLETA AQUÍ TU IMPLEMENTACIÓN\n",
    "\n",
    "#test\n",
    "    \n",
    "# Función de prueba\n",
    "def test_function(x):\n",
    "    return x**2 - 4\n",
    "\n",
    "root = secant_method(test_function, 0, 5)\n",
    "print(\"La raíz encontrada es:\", root)  # Debería ser ~2.0"
   ]
  },
  {
   "cell_type": "markdown",
   "metadata": {},
   "source": [
    "---------------------------\n",
    "\n",
    "### Ejercicio 4\n",
    "\n",
    "**[1 punto]** Explica el concepto de condicionamiento aplicado a la resolución de sistemas lineales de la forma $Ax=b$. ¿Cómo se mide? ¿Es *caro* computacionalmente medirlo? ¿Cómo se interpreta? Pon ejemplos que complementen tu explicación. También, razona si la siguiente afirmación es verdadera o falsa: *\"si un sistema lineal $Ax=b$ tiene una matriz de coeficientes que cumple que su determinante es muy pequeño (e.g. $\\left| A \\right| = 0.0001$), el sistema estará necesariamente mal condicionado.\"*"
   ]
  },
  {
   "cell_type": "code",
   "execution_count": null,
   "metadata": {},
   "outputs": [],
   "source": [
    "# SOL EJ 4\n"
   ]
  },
  {
   "attachments": {},
   "cell_type": "markdown",
   "metadata": {},
   "source": [
    "---------------------------\n",
    "\n",
    "### Ejercicio 5\n",
    "\n",
    "**[1 punto] -** La siguiente función ```gauss_nodes(m)``` devuelve las posiciones de los nodos ```x``` y los coeficientes ```A``` del método integración Gaussiana para ```m``` puntos."
   ]
  },
  {
   "cell_type": "code",
   "execution_count": 1,
   "metadata": {},
   "outputs": [],
   "source": [
    "import numpy as np\n",
    "\n",
    "def gauss_nodes(m):\n",
    "    \"\"\"\n",
    "    Returns nodal abscissas {x} and weights {A} of Gauss m-point quadrature.\n",
    "    \"\"\"\n",
    "    if m == 2:\n",
    "        A = np.array([1.0, 1.0])\n",
    "        x = np.array([-0.5773502692, 0.5773502692])\n",
    "    elif m == 3:\n",
    "        A = np.array([0.8888888889, 0.5555555556, 0.5555555556])\n",
    "        x = np.array([0.0, -0.7745966692, 0.7745966692])\n",
    "    elif m == 4:\n",
    "        A = np.array([0.3478548451, 0.6521451549, 0.6521451549, 0.3478548451])\n",
    "        x = np.array([-0.8611363116, -0.3399810436, 0.3399810436, 0.8611363116])\n",
    "    elif m == 5:\n",
    "        A = np.array([0.2369268851, 0.4786286705, 0.5688888889, 0.4786286705, 0.2369268851])\n",
    "        x = np.array([-0.9061798459, -0.5384693101, 0.0, 0.5384693101, 0.9061798459])\n",
    "    elif m == 6:\n",
    "        A = np.array([0.1713244924, 0.3607615730, 0.4679139346, 0.4679139346, 0.3607615730, 0.1713244924])\n",
    "        x = np.array([-0.9324695142, -0.6612093865, -0.2386191861, 0.2386191861, 0.6612093865, 0.9324695142])\n",
    "    else:\n",
    "        raise ValueError(\"Supported values for m are 2, 3, 4, 5, and 6.\")\n",
    "\n",
    "    return x, A\n"
   ]
  },
  {
   "cell_type": "markdown",
   "metadata": {},
   "source": [
    " - **(a)** Programa una función ```gauss_integration(f, a, b, m)``` que implemente el método de integración Gaussiana. ```f``` es la función a integrar (```Callable```), ```a``` y ```b``` son los límites de integración, y ```m``` es el número de nodos a utilizar. Utiliza la función ```gauss_nodes``` anterior, y recuerda que las posiciones de los nodos dadas por la función ```gauss_integration``` se dan en referencia a un intervalo canónico $[-1, 1]$, luego no olvides hacer el cambio de variable correspondiente. No utilices librerías externas diferentes de ```numpy```, ```matplotlib``` o ```math```."
   ]
  },
  {
   "cell_type": "code",
   "execution_count": null,
   "metadata": {},
   "outputs": [],
   "source": [
    "#SOL EJ 5a\n",
    "\n",
    "def gauss_integration(f, a, b, m):\n",
    "    \"\"\"\n",
    "    Returns the integral of f from a to b using Gauss m-point integration.\n",
    "    \"\"\"\n",
    "    # programa aquí tu implementación...\n"
   ]
  },
  {
   "cell_type": "markdown",
   "metadata": {},
   "source": [
    "\n",
    "- **(b)** Una vez programada la función anterior, crea un procedimiento para determinar cuántos nodos deben usarse con el método de integración Gaussiana para calcular la siguiente integral con 6 cifras significativas correctas (error absoluto menor que $10^{-5}$), sabiendo que su valor exacto es $I_{\\mathrm{exact}} = 1.41815$.\n",
    "\n",
    "$$\n",
    "\\int_0^\\pi\\left(\\frac{\\sin x}{x}\\right)^2 d x\n",
    "$$\n"
   ]
  },
  {
   "cell_type": "code",
   "execution_count": 2,
   "metadata": {},
   "outputs": [],
   "source": [
    "#SOL EJ 5b\n",
    "\n",
    "import math\n",
    "\n",
    "# Test function\n",
    "def f(x):\n",
    "    return (math.sin(x)/x)**2\n",
    "\n",
    "integral_exact = 1.41815\n",
    "a = 0.0\n",
    "b = math.pi\n",
    "# continúa aquí..."
   ]
  }
 ],
 "metadata": {
  "kernelspec": {
   "display_name": ".venv",
   "language": "python",
   "name": "python3"
  },
  "language_info": {
   "codemirror_mode": {
    "name": "ipython",
    "version": 3
   },
   "file_extension": ".py",
   "mimetype": "text/x-python",
   "name": "python",
   "nbconvert_exporter": "python",
   "pygments_lexer": "ipython3",
   "version": "3.10.5"
  },
  "orig_nbformat": 4,
  "vscode": {
   "interpreter": {
    "hash": "1beef6bdf7cb3edc825034b485381c9781f3bd7bbda8256bc912318d884443a5"
   }
  }
 },
 "nbformat": 4,
 "nbformat_minor": 2
}
