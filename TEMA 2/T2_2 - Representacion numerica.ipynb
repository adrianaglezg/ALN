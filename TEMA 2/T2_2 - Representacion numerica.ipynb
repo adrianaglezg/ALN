{
 "cells": [
  {
   "cell_type": "markdown",
   "metadata": {},
   "source": [
    "# Representación numérica\n",
    "\n",
    "## 1. Introducción - redondeo y truncamiento\n",
    "\n",
    "La forma en la que el ordenador maneja y almacena números introduce de forma\n",
    "intrínseca un error numérico.\n",
    "En general, el ordenador almacena solo un cierto número de cifras\n",
    "significativas, $n$. Dado un número $x \\in \\mathbb{R}$ con $m > n$ cifras significativas, se tienen\n",
    "dos opciones:\n",
    " - Redondeo: aproximar $x$ al número almacenable más próximo\n",
    " - Truncamiento: almacenar las primeras $n$ cifras de $m$ (descartando las\n",
    "   $m-n$ restantes).\n",
    "   \n",
    "El error cometido en este paso se conoce respectivamente como error de\n",
    "redondeo/truncamiento."
   ]
  },
  {
   "cell_type": "markdown",
   "metadata": {},
   "source": [
    "## 2. Representación de coma flotante\n",
    "La representación habitual de los números puede dar lugar a problemas\n",
    "inesperados al tratarlos numéricamente. Analiza el siguiente ejercicio:"
   ]
  },
  {
   "cell_type": "markdown",
   "metadata": {},
   "source": [
    "**Ejercicio 1 -**  Considere una caja registradora antigua que maneja\n",
    "magnitudes entre 0 y 999.99 unidades. Observa que hay cinco *espacios de\n",
    "trabajo* en esta representación.\n",
    "1. ¿Cuál es el menor incremento entre números consecutivos?\n",
    "2. ¿Qué cantidad se pagaría por un artículo, si cuesta 256.789? \n",
    "3. ¿Qué errores relativos se cometerían en una transacción de un objeto de que\n",
    "   cuesta 256.789 (supón que se redondea)? ¿Y en uno de valor 3.476? Analiza el resultado\n"
   ]
  },
  {
   "cell_type": "code",
   "execution_count": 1,
   "metadata": {},
   "outputs": [
    {
     "name": "stdout",
     "output_type": "stream",
     "text": [
      "3.8942478066941985e-06\n",
      "0.0011507479861910253\n"
     ]
    }
   ],
   "source": [
    "# Sol ej 1\n",
    "\n",
    "err_relativo1 = abs(256.789 - 256.79) / 256.789\n",
    "err_relativo2 = abs(3.476 - 3.48) / 3.476 \n",
    "\n",
    "print(err_relativo1)\n",
    "print(err_relativo2)\n"
   ]
  },
  {
   "cell_type": "markdown",
   "metadata": {},
   "source": [
    "Parece que tiene sentido que los errores de redondeo/truncamiento cometidos al\n",
    "trabajar con un ordenador sean del mismo orden independientemente del número \n",
    "almacenado. Con tal motivo, se introdujo la representación de coma flotante, un\n",
    "estándar para la representación numérica en ordenador. Se explica a continuación.\n",
    "\n",
    "Un *bit* puede ser pensado como un *espacio en la memoria* donde almacenar\n",
    "información. \n",
    "Para almacenar un determinado número en memoria con suficiente precisión, la \n",
    "norma IEEE754 estableció un convenio que es el que usan la mayor parte de \n",
    "arquitecturas hoy en día: la representación de coma flotante.\n",
    "Veamos en qué consiste. Para ello, comenzamos introduciendo ciertas\n",
    "definiciones generales:\n",
    "\n",
    "Un número $x \\in \\mathbb{R} - \\{0\\}$ puede ser trivialmente representado de la\n",
    "siguiente forma:\n",
    "$$x = \\left( -1 \\right)^{s} \\cdot m \\cdot \\beta^e$$\n",
    "donde:\n",
    " - $s = \\mathbf{sgn} \\left( x \\right)$ es el signo de x.\n",
    " - $m$ es la mantisa.\n",
    " - $\\beta$ es la base.\n",
    " - $e$ es el exponente.\n",
    "\n",
    "<!--\n",
    "Además, será una representación *normalizada* si la mantisa tiene la forma\n",
    "$0.d_1d_2d_3...$ con $d_1\\neq 0$. En ese caso, las cifras de $m$ reciben el\n",
    "nombre de *cifras significativas*.\n",
    "-->\n",
    "\n",
    "Si **se limita el número de cifras significativas de $m$ y $e$** obtendremos\n",
    "una representación de **coma flotante** $x_F$ de $x$. \n",
    "Ya no estaremos en el cuerpo de los números reales, ya que habrá \"saltos\" entre \n",
    "los distintos números que podemos representar. \n",
    "A este nuevo conjunto de números lo llamaremos \"cuerpo de números en \n",
    "representación de coma flotante\", $\\mathbb{F}$ (o por simplicidad \"floats\").\n",
    "\n",
    "La mayor parte de los ordenadores trabajan con base dos, por lo vamos a\n",
    "centrarnos en el desarrollo para $\\beta = 2$. \n",
    "Sin embargo, el análisis que veremos a continuación puede hacerse de forma \n",
    "análoga para cualquier otra base.\n",
    "\n",
    "En base 2 se suele trabajar con una variación de la representación vista \n",
    "anteriormente.\n",
    "Como la cifra más significativa en base 2 siempre es 1, un número $x_F$ puede\n",
    "expresarse como: \n",
    "$$x_F = \\left( -1 \\right)^{s} \\cdot 1.f \\cdot 2^e$$\n",
    "siendo $f$ la parte fraccionaria de la mantisa. Sin embargo, esta aún no es la \n",
    "representación definitiva que vamos a usar.\n",
    "\n",
    "El número de bits reservados para $e$ y $m$ determinará la precisión de un \n",
    "cierto número $x_F \\in \\mathbb{F}$. \n",
    "En precisión simple ($32$ bits), el signo ocupa $1$ bit, el exponente $8$ y la \n",
    "mantisa $23$. \n",
    "La mayor parte de programas trabajan con **precisión doble** ($64$ bits). \n",
    "En este caso, el signo ocupa $1$ bit, el exponente $11$ y la mantisa $52$. \n",
    "Con 11 bits asignados al exponente, este puede tomar valores hasta $2048$. \n",
    "Como queremos ser capaces de representar números muy pequeños, a priori sería \n",
    "necesario reservar algún bit extra para el signo del propio exponente. \n",
    "Esto se puede evitar modificando un poco la representación anterior. \n",
    "Para conseguirlo, se resta $1023$ al exponente para normalizarlo. \n",
    "El valor que se resta al exponente se denomina *sesgo*.\n",
    "\n",
    "Todo esto da lugar a la siguiente representación de coma flotante para números\n",
    "en precisión doble en base 2:\n",
    "$$x_F = \\left( -1 \\right)^{s} \\cdot 1.f \\cdot 2^{(e-1023)}$$\n",
    "Para obtener a qué número real equivale un *float* $x_F \\in \\mathbb{F}$ dada\n",
    "su tupla $\\left( s, e, f \\right)$, basta con convertir estos tres valores a\n",
    "base 10 e introducirlos en la expresión anterior.\n",
    "\n",
    "Por ejemplo, el *float*:\n",
    "$$1 \\quad 10000000010 \\quad 1000000000000000000000000000000000000000000000000000$$\n",
    "en base $10$ sería:\n",
    " - signo: $s=1 \\rightarrow \\left( -1 \\right)^{1} \\rightarrow$ negativo\n",
    " - exponente final: $e - 1023 = 1 \\cdot 2^{10} + 1 \\cdot 2^1 - 1023 = 3$\n",
    " - parte decimal de la mantisa: $f = 1 \\cdot \\frac{1}{2^1} + 0 \\cdot \\frac{1}{2^2} + \\cdots = 0.5$\n",
    "\n",
    "<center>\n",
    "\n",
    "<div>\n",
    "<img src=\"https://drive.upm.es/index.php/apps/files_sharing/ajax/publicpreview.php?x=1920&y=465&a=true&file=floating_point_visualization.png&t=yjQNiSSzhXQlfYF&scalingup=0\" width=\"500\"/>\n",
    "</div>\n",
    "\n",
    "</center>\n",
    "\n",
    "Y por tanto el número buscado es $(−1)^1 \\cdot 2^3 \\cdot (1 + 0.5) = -12.0$.\n",
    "Usando Python para los cálculos:  "
   ]
  },
  {
   "cell_type": "code",
   "execution_count": 1,
   "metadata": {},
   "outputs": [
    {
     "name": "stdout",
     "output_type": "stream",
     "text": [
      "-8.950008877440248e-154\n"
     ]
    }
   ],
   "source": [
    "from math import e\n",
    "\n",
    "def ieee754_conversion(s: str, e: str, f: str) -> float:\n",
    "    \"\"\"Converts the tuple (s, e, m) to a floating point representation\"\"\"\n",
    "    sign = (-1)**int(s)\n",
    "    e = int(e, 2)\n",
    "    exponent_total = e - 1023\n",
    "    mantissa = 1 + int(f, 2) * 2 ** (-len(f))\n",
    "    return sign * 2 ** exponent_total * mantissa\n",
    "\n",
    "s = \"1\"\n",
    "e = \"1000000010\"\n",
    "f = \"1000000000000000000000000000000000000000000000000000\"\n",
    "\n",
    "print(ieee754_conversion(s, e, f))\n"
   ]
  },
  {
   "cell_type": "markdown",
   "metadata": {},
   "source": [
    "**Ejercicio 2 -** ¿Cómo se representa el número 15.0 (base 10) según\n",
    "IEEE754? ¿cuál es el mayor número menor que el 15.0? ¿y el menor mayor que el 15.0?"
   ]
  },
  {
   "cell_type": "code",
   "execution_count": null,
   "metadata": {},
   "outputs": [],
   "source": [
    "# Sol Ej 2"
   ]
  },
  {
   "cell_type": "markdown",
   "metadata": {},
   "source": [
    "Respecto al ejercicio anterior, observa que el número IEEE754 para 15.0 no sólo\n",
    "representa este número, sino también todos los reales a medio camino entre sus\n",
    "vecinos inmediatos. \n",
    "Así que cualquier resultado dentro de este intervalo se le asignará el \n",
    "valor 15.0.\n",
    "Llamamos *hueco* (*gap*) a la distancia entre un número y el siguiente.\n",
    "Llamamos *número máquina* a los números que tienen una representación exacta.\n",
    "Como la fracción de la mantisa se multiplica por $2^{-1023}$, el *gap* crece a \n",
    "medida que crece el número representado.\n",
    "Esta limitación es el precio que se paga usando IEEE754 para lidiar con la \n",
    "dicotomía *rango representable - precisión*. \n",
    "No obstante, suele ser un precio asumible porque el *gap* en los números \n",
    "grandes sigue siendo pequeño en relación con el tamaño del propio número.\n",
    "\n",
    "<center>\n",
    "\n",
    "<div>\n",
    "<img src=\"https://drive.upm.es/index.php/apps/files_sharing/ajax/publicpreview.php?x=1920&y=465&a=true&file=gap.png&t=wv1JgEUWN86El65&scalingup=0\" width=\"500\"/>\n",
    "</div>\n",
    "\n",
    "</center>\n",
    "\n",
    "La librería ```numpy``` ofrece la función ```spacing()``` para calcular este\n",
    "*gap*.\n"
   ]
  },
  {
   "cell_type": "markdown",
   "metadata": {},
   "source": [
    "el gap por la derecha normalmente es mayor que el gap por la izq (porque es posible que tenga que correr la coma hacia la derecha perdiendo precisión), a priori son distintos a no ser que el numero de cifras sifnificativas sea muy pequeño. \n",
    "\n",
    "el spacing es la distancia entre los puntos medios de el gap por a izquierda y el gap por la derecha\n"
   ]
  },
  {
   "cell_type": "markdown",
   "metadata": {},
   "source": [
    "**Ejercicio 3 -** Usando Python, muestra en una gráfica cómo evoluciona el tamaño del\n",
    "*gap* según crece el valor del *float* representado."
   ]
  },
  {
   "cell_type": "code",
   "execution_count": 2,
   "metadata": {},
   "outputs": [],
   "source": [
    "# Sol Ej 3\n",
    "\n",
    "import matplotlib.pyplot as plt\n",
    "import numpy as np"
   ]
  },
  {
   "cell_type": "code",
   "execution_count": 3,
   "metadata": {},
   "outputs": [
    {
     "data": {
      "text/plain": [
       "[<matplotlib.lines.Line2D at 0x273fcee99d0>]"
      ]
     },
     "execution_count": 3,
     "metadata": {},
     "output_type": "execute_result"
    },
    {
     "data": {
      "image/png": "[encoded data removed]",
      "text/plain": [
       "<Figure size 640x480 with 1 Axes>"
      ]
     },
     "metadata": {},
     "output_type": "display_data"
    }
   ],
   "source": [
    "x = np.logspace(1, 10, 10)\n",
    "y = np.array([np.spacing(x_val) for x_val in x])\n",
    "\n",
    "\n",
    "plt.xscale('log')\n",
    "plt.yscale(\"log\")\n",
    "plt.plot(x, y)"
   ]
  },
  {
   "cell_type": "markdown",
   "metadata": {},
   "source": [
    "como se confirma va creciendo el espacio entre ambos porque segun crecen los numeros hay menos espacio apra la precision en la mantisa y por tanto mayor porbabilidad de error de precisión\n"
   ]
  },
  {
   "cell_type": "markdown",
   "metadata": {},
   "source": [
    "\n",
    "**Ejercicio 4 -** Usando Python, comprueba que al sumar a un determinado\n",
    "número una cantidad inferior a la mitad de su *gap* se obtiene el mismo número."
   ]
  },
  {
   "cell_type": "code",
   "execution_count": 4,
   "metadata": {},
   "outputs": [
    {
     "name": "stdout",
     "output_type": "stream",
     "text": [
      "1.7763568394002505e-15\n",
      "True\n",
      "False\n"
     ]
    }
   ],
   "source": [
    "# Sol Ej 4\n",
    "\n",
    "\n",
    "value = 15\n",
    "\n",
    "right_gap = np.nextafter(15, 16) - value\n",
    "\n",
    "print(right_gap)\n",
    "\n",
    "print( value ==  value + 0.49 * right_gap)\n",
    "\n",
    "print( value ==  value + 0.51 * right_gap)"
   ]
  },
  {
   "cell_type": "markdown",
   "metadata": {},
   "source": [
    "Existen algunos casos especiales en la representación de coma flotante: cuando\n",
    "$e = 0$ (es decir, $e = 00000000000$ (base2)) y cuando $e = 2047$ (es decir, $e\n",
    "= 11111111111$ (base2)). \n",
    "Cuando el exponente es 0, el 1 inicial de la fracción toma el valor 0 en su\n",
    "lugar. \n",
    "El resultado es un **número subnormal**, que se calcula mediante la expresión \n",
    "$(-1)^s \\cdot (0.f) \\cdot 2^{e-1022}$ (observa que el sesgo ahora es 1022 en \n",
    "lugar de 1023).\n",
    "Cuando el exponente es 2047 y $f$ es distinto de cero, el resultado es \"NaN\",\n",
    "lo que significa que el número es indefinido. \n",
    "Cuando el exponente es 2047 y $f = 0$, el resultado es el $\\pm \\infty$ (el \n",
    "signo lo sigue dando $s$).\n"
   ]
  },
  {
   "cell_type": "markdown",
   "metadata": {},
   "source": [
    "**Ejercicio 5 -** Calcule el valor en base 10 para \n",
    "\n",
    "$$0 \\quad 11111111110 \\quad 1111111111111111111111111111111111111111111111111111$$ \n",
    "\n",
    "y para\n",
    "\n",
    "$$0 \\quad 00000000001 \\quad 000000000000000000000000000000000000000000000000000$$\n",
    "\n",
    "(respectivamente el mayor y el menor (no subnormal) número representable usando precisión doble)\n",
    "\n",
    "Comprueba tus resultados usando la librería ```sys``` en Python (en concreto,\n",
    "usa las funciones ```sys.float_info.max``` y ```sys.float_info.min```)."
   ]
  },
  {
   "cell_type": "code",
   "execution_count": null,
   "metadata": {},
   "outputs": [],
   "source": [
    "# Sol Ej 5"
   ]
  },
  {
   "cell_type": "markdown",
   "metadata": {},
   "source": [
    "Los números que son mayores que el mayor número representable en coma flotante \n",
    "resultan en desbordamiento (*overflow*), y Python maneja este caso asignando el\n",
    "resultado de infinito. \n",
    "\n",
    "Los números que son más pequeños que el menor número subnormal resultan también \n",
    "en un desbordamiento (*underflow*), y Python maneja este caso asignando el\n",
    "resultado de 0."
   ]
  },
  {
   "cell_type": "markdown",
   "metadata": {},
   "source": [
    "**Ejercicio 6 -** Usando Python, comprueba que al sumar 2 al máximo \n",
    "*float* representable con 64 bits se obtiene como resultado el mismo número. \n",
    "Comprobar también que sumar el *float* máximo a sí mismo resulta en un\n",
    "desbordamiento a $\\infty$ (*overflow*)."
   ]
  },
  {
   "cell_type": "code",
   "execution_count": null,
   "metadata": {},
   "outputs": [],
   "source": [
    "# Sol Ej 6"
   ]
  },
  {
   "cell_type": "markdown",
   "metadata": {},
   "source": [
    "**Ejercicio 7 -** El *float* subnormal más pequeño en 64 bits tiene \n",
    "$s = 0$, $e = 00000000000$, y \n",
    "$f =0000000000000000000000000000000000000000000000000001$. Usando la regla de\n",
    "conversión especial para números subnormales vista anteriormente, comprueba que\n",
    "este número en base 10 es $2^{-1074}$. Usa Python para comprobar que \n",
    "$0.5 \\cdot 2^{-1075}$ desborda a 0 (*underflow*). Comprueba sin embargo \n",
    "que $2^{-1074}$ puede ser representado correctamente.\n"
   ]
  },
  {
   "cell_type": "code",
   "execution_count": null,
   "metadata": {},
   "outputs": [],
   "source": [
    "# Sol Ej 7"
   ]
  },
  {
   "cell_type": "markdown",
   "metadata": {},
   "source": [
    "### 2.1 Error de máquina\n",
    "\n",
    "Como se ha visto anteriormente, la motivación de plantear el sistema de coma flotante es la de tener errores de redondeo del mismo orden para todos los números, con independencia de si son grandes o pequeños. La **cota superior** para este error de redondeo se llama **error de máquina** $\\varepsilon$. Se demuestra que se puede calcular como $2^{-\\left(n_m-1\\right)}$, siendo $n_m$ el número de dígitos reservados para la mantisa según la precisión escogida. Por ejemplo, en precisión doble la mantisa tiene 53 espacios, luego $\\varepsilon_{\\mathrm{double}} = 2^{−52} \\approx 2.22 \\cdot 10^{-16}$. En Python puede obtenerse usando el paquete ```sys```, haciendo ```sys.float_info.epsilon```."
   ]
  },
  {
   "cell_type": "code",
   "execution_count": 1,
   "metadata": {},
   "outputs": [],
   "source": []
  },
  {
   "cell_type": "markdown",
   "metadata": {},
   "source": [
    "### 2.2 Error de redondeo\n",
    "\n",
    "En la sección anterior hemos visto cómo se representan los números en coma\n",
    "flotante. \n",
    "Como el número de bits es limitado, los números no pueden almacenarse con una \n",
    "precisión perfecta. \n",
    "El error cometido en este paso se denomina error de redondeo o truncamiento, \n",
    "en función de la técnica que se utilice para limitar el número de cifras \n",
    "significativas. Como por defecto los ordenadores *redondean* de momento \n",
    "hablaremos solo de errores de redondeo."
   ]
  },
  {
   "cell_type": "markdown",
   "metadata": {},
   "source": [
    "**Ejercicio 8 -** ***Error de redondeo en aritmética de punto flotante***\n",
    "Usando Python, evalúa las siguientes expresiones:\n",
    "1. ```4.9 - 4.845 == 0.055```\n",
    "2. ```0.1 + 0.2 + 0.3 == 0.6```\n",
    "   \n",
    "Reflexiona sobre los resultados obtenidos. Piensa en cómo solucionar los problemas\n",
    "observados."
   ]
  },
  {
   "cell_type": "code",
   "execution_count": 5,
   "metadata": {},
   "outputs": [
    {
     "data": {
      "text/plain": [
       "0.055000000000000604"
      ]
     },
     "execution_count": 5,
     "metadata": {},
     "output_type": "execute_result"
    }
   ],
   "source": [
    "# Sol Ej 8\n",
    "x = 4.9 - 4.845\n",
    "x"
   ]
  },
  {
   "cell_type": "markdown",
   "metadata": {},
   "source": [
    "**Ejercicio 9 -** ***Acumulación del error de redondeo*** Usando Python,\n",
    "programa una función que, dado un número real, sume y reste una cantidad\n",
    "repetidas veces. Experimenta con esta función, analizando los resultados\n",
    "obtenidos."
   ]
  },
  {
   "cell_type": "code",
   "execution_count": null,
   "metadata": {},
   "outputs": [],
   "source": [
    "# Sol Ej 9"
   ]
  }
 ],
 "metadata": {
  "kernelspec": {
   "display_name": "Python 3",
   "language": "python",
   "name": "python3"
  },
  "language_info": {
   "codemirror_mode": {
    "name": "ipython",
    "version": 3
   },
   "file_extension": ".py",
   "mimetype": "text/x-python",
   "name": "python",
   "nbconvert_exporter": "python",
   "pygments_lexer": "ipython3",
   "version": "3.11.9"
  },
  "orig_nbformat": 4
 },
 "nbformat": 4,
 "nbformat_minor": 2
}
