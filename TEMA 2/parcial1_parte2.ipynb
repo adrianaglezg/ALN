{
 "cells": [
  {
   "cell_type": "markdown",
   "metadata": {},
   "source": [
    "# Primer parcial - Algorítmica numérica"
   ]
  },
  {
   "cell_type": "markdown",
   "metadata": {},
   "source": [
    "## Segunda Parte: **Preguntas de desarrollo** - con apuntes, 65min, total 5 puntos\n",
    "\n",
    "Consideraciones generales: Para que otorguen puntos, **todas las respuestas deben estar justificadas**, ya sea en texto, escribiendo \"a mano\" o en comentarios en el código."
   ]
  },
  {
   "cell_type": "markdown",
   "metadata": {},
   "source": [
    "## Ejercicio 1 (2.2 puntos)\n",
    "\n",
    "Se define los números \"perfectamente pares\" como aquellos enteros que cumplen que todos sus dígitos son pares. Por ejemplo, el número $16742$ no es perfectamente par, sin embargo el número $-14880$ lo es. \n",
    "\n",
    "Considere una calculadora con únicamente dos botones: uno que suma 1 al resultado mostrado, y otro que resta 1. Dado un número entero $N$ mostrado en esta calculadora, se desea transformar dicho número en un número perfectamente par pulsando **el mínimo número de botones** (recuerda que solo hay dos operaciones disponibles: +1 ó -1). Llamaremos a este \"número mínimo de operaciones\" $m$. Por ejemplo, dado $N = 2018$, el número mínimo de pulsaciones que se necesitan para convertirlo en un número perfectamente par es $m=2$ (sumar +1 dos veces hasta convertirlo en $2020$).\n",
    "\n",
    "Diseña e implementa un algoritmo que, dado cualquier número entero $N$, calcule su correspondiente $m$. Antes de empezar a programar tu algoritmo, recuerda explicar tu idea de diseño (texto).\n",
    "\n",
    "-----------------\n",
    "\n",
    "<p style=\" font-size:11pt; font-style:italic\">\n",
    "El ejercicio se evaluará mediante 2 tests, que dependen del orden de magnitud de N:\n",
    "</p>\n",
    "<p style=\" font-size:11pt; font-style:italic\"> - Test 1: el programa funcionará correctamente devolviendo los resultados en un tiempo razonable (menos de ~20s) para N <= 1e5.</p>\n",
    "<p style=\" font-size:11pt; font-style:italic\"> - Test 2: el programa funcionará correctamente devolviendo los resultados en un tiempo razonable (menos de ~20s) para N <= 1e16.</p>"
   ]
  },
  {
   "cell_type": "code",
   "execution_count": null,
   "metadata": {},
   "outputs": [],
   "source": [
    "# SOL EJ 1\n"
   ]
  },
  {
   "cell_type": "markdown",
   "metadata": {},
   "source": [
    "----------------\n",
    "\n",
    "## Ejercicio 2 (3.3 puntos)\n",
    "La siguiente ecuación diferencial:\n",
    "\n",
    "$$\n",
    "{\\large \\frac{\\mathrm{d}^2 f(x)}{\\mathrm{d}x^2}} = 3 - x\n",
    "$$\n",
    "<center>Condiciones iniciales:</center>\n",
    "\n",
    "\\begin{equation}\n",
    "  \\begin{cases}\n",
    "     \\, f(0) = 2 \\\\\n",
    "     \\, f'(0) = 0\n",
    "  \\end{cases}\n",
    "\\end{equation}\n",
    "\n",
    "para $x \\in [0,1]$ es una ecuación diferencial ordinaria lineal de segundo orden que admite una solución numérica utilizando diferencias finitas. La solución discreta de este problema consistirá por tanto en un conjunto de valores de la función $f_i$, de forma que la función definida implícitamente por dichos valores satisface la EDO anterior."
   ]
  },
  {
   "cell_type": "markdown",
   "metadata": {},
   "source": [
    "Para obtener dicha solución, pueden seguirse los siguientes pasos:\n",
    "\n",
    " - **(a) [0.3 puntos]** Obtén una discretización del intervalo $[0, 1]$ en subintervalos de ancho $h$ (constante). Por el momento, fija $h = 0.01$ (más adelante cambiaremos ese valor). Llamaremos ```x``` a dicha discretización, $x = [x_0, x_1, \\dots, x_i, \\dots, x_n]$."
   ]
  },
  {
   "cell_type": "code",
   "execution_count": null,
   "metadata": {},
   "outputs": [],
   "source": [
    "# SOL 2a\n"
   ]
  },
  {
   "cell_type": "markdown",
   "metadata": {},
   "source": [
    "----------------\n",
    "\n",
    " - **(b) [0.3 puntos]** La fórmula de diferencias finitas centradas para la segunda derivada de segundo orden puede escribirse como:\n",
    "$$\n",
    "f^{\\prime \\prime}(x_i)=\\frac{f_{i+1}-2 f_i+f_{i-1}}{h^{2}}+\\mathcal{O}\\left(h^{2}\\right)\n",
    "$$\n",
    "donde $f_i = f(x_i)$, o $f_{i+1} = f(x_{i+1}) = f(x_i + h)$, etc.\n",
    "Expresa la ecuación diferencial anterior de forma discreta; es decir, en función de valores discretos de $x$ y de $f$. Para ello, aproxima $\\frac{\\mathrm{d}^2 f(x)}{\\mathrm{d}x^2}$ usando la ecuación de diferencias finitas anterior. No olvides discretizar también las condiciones iniciales: utiliza una fórmula de diferencias finitas adelantadas **de orden uno** para la primera derivada que aparece en una de las condiciones iniciales."
   ]
  },
  {
   "cell_type": "code",
   "execution_count": null,
   "metadata": {},
   "outputs": [],
   "source": [
    "# SOL 2b (recomendable hacerlo \"a mano\")\n"
   ]
  },
  {
   "cell_type": "markdown",
   "metadata": {},
   "source": [
    "----------------\n",
    "\n",
    " - **(c) [1.2 punto]** Si particularizas la ecuación discreta anterior para $i=1, \\dots, n-1$, obtendrás $n-1$ ecuaciones donde las incognitas serán los $f_0, f_1, \\dots, f_n$. Por ejemplo, la primera de dichas ecuaciones sería:\n",
    "  \n",
    "$$\n",
    "\\frac{1}{h^{2}} \\cdot f_{2} - \\frac{2}{h^{2}} \\cdot f_1 + \\frac{1}{h^{2}} \\cdot f_{0} = 3 - x_1\n",
    "$$\n",
    "\n",
    "Si dicho sistema de ecuaciones lo completas con las dos ecuaciones provenientes de las condiciones iniciales, puedes expresar el problema anterior como un sistema lineal de la forma $\\mathbf{Af} = \\mathbf{b}$, donde $\\mathbf{A}$ será la matriz de coeficientes, $\\mathbf{f} = \\left( f_0, f_1, \\dots , f_n \\right)$ es el vector de incógnitas y $\\mathbf{b} = \\left( b_0, b_1, \\dots , b_n \\right)$ es el vector de términos independientes. Calcula $\\mathbf{A}$ y $\\mathbf{b}$ y resuelve el sistema anterior utilizando el módulo ```np.linalg```, (en particular, echa un vistazo a [este método](https://numpy.org/doc/stable/reference/generated/numpy.linalg.solve.html))."
   ]
  },
  {
   "cell_type": "code",
   "execution_count": null,
   "metadata": {},
   "outputs": [],
   "source": [
    "# SOL 2c\n"
   ]
  },
  {
   "cell_type": "markdown",
   "metadata": {},
   "source": [
    "----------------\n",
    "\n",
    " - **(d) [0.3 puntos]** La solución analítica de la ecuación diferencial anterior es $f(x) = 2 + \\frac{3x^2}{2} - \\frac{x^3}{6}$. Se define el error en la solución $E$ como el error relativo máximo en los valores discretos de la función en los nodos, en comparación con los correspondientes valores usando la solución analítica. Calcula este error $E$ para el caso anterior."
   ]
  },
  {
   "cell_type": "code",
   "execution_count": null,
   "metadata": {},
   "outputs": [],
   "source": [
    "# SOL 2d \n"
   ]
  },
  {
   "cell_type": "markdown",
   "metadata": {},
   "source": [
    "----------------\n",
    "\n",
    " - **(e) [0.3 puntos]** Calcula el número de condición del sistema anterior, aplicando la definición. Puedes usar [```np.linalg.inv```](https://numpy.org/doc/stable/reference/generated/numpy.linalg.inv.html) para su cálculo. Interpreta el valor obtenido. ¿Qué información da este número de condición?"
   ]
  },
  {
   "cell_type": "code",
   "execution_count": null,
   "metadata": {},
   "outputs": [],
   "source": [
    "# SOL 2e \n"
   ]
  },
  {
   "cell_type": "markdown",
   "metadata": {},
   "source": [
    "----------------\n",
    "\n",
    "*\\[A partir de aquí, $h$ será un parámetro libre. Copia/pega a conveniencia código de celdas anteriores para conservar todas las soluciones.\\]*  \n",
    "\n",
    " - **(f) [0.5 puntos]** Obtén una gráfica que muestre la evolución de error definido en el apartado anterior frente a $h$. Usa $h = 0.1, 0.05, 0.01, 0.005, 0.001$. ¿Está garantizado que el error decrecerá indefinidamente si siguiésemos reduciendo $h$? ¿Por qué?"
   ]
  },
  {
   "cell_type": "code",
   "execution_count": null,
   "metadata": {},
   "outputs": [],
   "source": [
    "# SOL 2f\n"
   ]
  },
  {
   "cell_type": "markdown",
   "metadata": {},
   "source": [
    "----------------\n",
    "\n",
    " - **(g) [0.4 puntos]** Obtén una gráfica que muestre la evolución del número de condición del sistema frente a $h$. Usa $h = 0.1, 0.05, 0.01, 0.005, 0.001$. Explica el comportamiento observado. En particular, explica a qué pueden deberse las anomalías que observes en la gráfica anterior."
   ]
  },
  {
   "cell_type": "code",
   "execution_count": null,
   "metadata": {},
   "outputs": [],
   "source": [
    "# SOL 2g \n"
   ]
  }
 ],
 "metadata": {
  "kernelspec": {
   "display_name": "Python 3.10.5 ('.venv': venv)",
   "language": "python",
   "name": "python3"
  },
  "language_info": {
   "codemirror_mode": {
    "name": "ipython",
    "version": 3
   },
   "file_extension": ".py",
   "mimetype": "text/x-python",
   "name": "python",
   "nbconvert_exporter": "python",
   "pygments_lexer": "ipython3",
   "version": "3.10.5"
  },
  "orig_nbformat": 4,
  "vscode": {
   "interpreter": {
    "hash": "1beef6bdf7cb3edc825034b485381c9781f3bd7bbda8256bc912318d884443a5"
   }
  }
 },
 "nbformat": 4,
 "nbformat_minor": 2
}
