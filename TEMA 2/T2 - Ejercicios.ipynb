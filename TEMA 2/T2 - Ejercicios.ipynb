{
 "cells": [
  {
   "cell_type": "markdown",
   "metadata": {},
   "source": [
    "# Ejercicios"
   ]
  },
  {
   "cell_type": "markdown",
   "metadata": {},
   "source": [
    " 1. Si en una determinada calculadora trabaja solo con 4 cifras significativas y con truncamiento, ¿qué devolverá como resultado de $66.666 \\times 33.333$? ¿y si trabajase con redondeo?"
   ]
  },
  {
   "cell_type": "code",
   "execution_count": 1,
   "metadata": {},
   "outputs": [
    {
     "name": "stdout",
     "output_type": "stream",
     "text": [
      "Note: you may need to restart the kernel to use updated packages.\n"
     ]
    }
   ],
   "source": [
    "# Nota: la librería sigfig (https://pypi.org/project/sigfig/) permite redondear resultados a X cifras significativas. Para hacerlo, primero instala la librería ejecutando\n",
    "%pip install -q sigfig\n",
    "\n",
    "#Luego, por ejemplo\n",
    "import sigfig\n",
    " # 3.1"
   ]
  },
  {
   "cell_type": "code",
   "execution_count": 10,
   "metadata": {},
   "outputs": [
    {
     "data": {
      "text/plain": [
       "3.1416"
      ]
     },
     "execution_count": 10,
     "metadata": {},
     "output_type": "execute_result"
    }
   ],
   "source": [
    "sigfig.round(3.14159, sigfigs=5) "
   ]
  },
  {
   "cell_type": "code",
   "execution_count": 17,
   "metadata": {},
   "outputs": [
    {
     "name": "stdout",
     "output_type": "stream",
     "text": [
      "2222.1777779999998\n",
      "2222\n"
     ]
    }
   ],
   "source": [
    "import sigfig\n",
    "\n",
    "a = 66.666\n",
    "b = 33.333\n",
    "producto = a * b\n",
    "\n",
    "print(producto)\n",
    "\n",
    "#producto_redondeado = sigfig.round(producto, figs=4)\n",
    "\n",
    "producto_redondeado = f\"{producto:.4g}\"\n",
    "\n",
    "print(producto_redondeado)\n"
   ]
  },
  {
   "cell_type": "markdown",
   "metadata": {},
   "source": [
    "2. Indica si las siguientes afirmaciones sobre la representación de coma\n",
    "  flotante son verdaderas o falsas:\n",
    " - En cada operación que se realiza se añade un número pequeño numero\n",
    "        aleatorio imprevisible de orden de la precisión de máquina $\\epsilon$. Por ejemplo,\n",
    "        $1 + 1$ dará $2 \\pm \\epsilon$ , y $0 \\times 7$ dará $\\pm \\epsilon$.\n",
    " - Las operaciones con enteros son intrínsecamente más precisas que las\n",
    "        operaciones con reales.\n",
    " - En la representación de coma flotante, hay una representación para el 0\n",
    "        positivo y otra para el 0 negativo.\n",
    " - Sean $m$ y $M$ el menor y el mayor número representable en coma flotante\n",
    "        con 64bits. Se cumple que tanto $m/M$ como $M/m$ resultan en un\n",
    "        desbordamiento.\n",
    " - El error de redondeo es siempre menor o igual que el de truncamiento.\n",
    " - La principal ventaja de la representación de coma flotante frente a la\n",
    "        notación habitual es que el *gap* entre *floats* se mantiene\n",
    "        aproximadamente constante, sea cual sea el número representado."
   ]
  },
  {
   "cell_type": "code",
   "execution_count": null,
   "metadata": {},
   "outputs": [],
   "source": []
  },
  {
   "cell_type": "markdown",
   "metadata": {},
   "source": [
    "3. Convierte los siguientes números a binario:\n",
    "   - $69$\n",
    "   - $255$\n",
    "   - $34.5$\n",
    "   - $3.1416$\n",
    "   - $5.\\widehat{3}$"
   ]
  },
  {
   "cell_type": "code",
   "execution_count": 17,
   "metadata": {},
   "outputs": [
    {
     "data": {
      "text/plain": [
       "'11111111'"
      ]
     },
     "execution_count": 17,
     "metadata": {},
     "output_type": "execute_result"
    }
   ],
   "source": [
    "def binario(n: float) -> str:\n",
    "    cadena = ''\n",
    "\n",
    "    while n > 1:\n",
    "        modulo = str(n % 2)\n",
    "        cadena += modulo\n",
    "        n //= 2\n",
    "\n",
    "    if n == 1:\n",
    "        cadena += '1'\n",
    "\n",
    "    if n == 0:\n",
    "        return '0'\n",
    "\n",
    "    return ''.join(reversed(cadena))\n",
    "\n",
    "binario(69)\n",
    "binario(255)"
   ]
  },
  {
   "cell_type": "markdown",
   "metadata": {},
   "source": [
    "5. Convierte las siguientes representaciones en coma flotante de 64bits a\n",
    "  números decimales.\n",
    " - $$\\quad 0 \\quad 10000000111 \\quad 11100000000000000000000000000000000000000000$$ \n",
    " - $$\\quad 1 \\quad 10000001001 \\quad 10000000000000000000000000000000000000000000$$ \n",
    " - $$\\quad 1 \\quad 11111110000 \\quad 00001000000000000000000000000000000000000000$$"
   ]
  },
  {
   "cell_type": "code",
   "execution_count": null,
   "metadata": {},
   "outputs": [],
   "source": []
  },
  {
   "cell_type": "markdown",
   "metadata": {},
   "source": [
    "6. Obtén la representación de coma flotante de 64bits de los siguientes números:\n",
    "   - $100$\n",
    "   - $74.1$\n",
    "   - $0.00095$"
   ]
  },
  {
   "cell_type": "code",
   "execution_count": null,
   "metadata": {},
   "outputs": [],
   "source": []
  },
  {
   "cell_type": "markdown",
   "metadata": {},
   "source": [
    "\n",
    "7. Una solución que se utiliza frecuentemente para el problema de la\n",
    "  *cancelación catastrófica* es el de multiplicar y dividir por el conjugado de \n",
    "  la diferencia que se está calculando. Comprueba que esta\n",
    "  técnica funciona resolviendo la siguiente ecuación $x^2 - 20x + 1 = 0$ con\n",
    "  solo dos cifras significativas. Compara el error relativo cometido usando y\n",
    "  sin usar la técnica anterior. \n",
    "  \n",
    "    *Pista: la cancelación catastrófica aparece al aplicar la fórmula de resolución de ecuaciones de segundo grado, en el numerador.*"
   ]
  },
  {
   "cell_type": "code",
   "execution_count": 18,
   "metadata": {},
   "outputs": [
    {
     "name": "stdout",
     "output_type": "stream",
     "text": [
      "Note: you may need to restart the kernel to use updated packages.\n"
     ]
    },
    {
     "data": {
      "text/plain": [
       "3.1"
      ]
     },
     "execution_count": 18,
     "metadata": {},
     "output_type": "execute_result"
    }
   ],
   "source": [
    "# Nota: la librería sigfig (https://pypi.org/project/sigfig/) permite redondear resultados a X cifras significativas. Para hacerlo, primero instala la librería ejecutando\n",
    "%pip install -q sigfig\n",
    "\n",
    "#Luego, por ejemplo\n",
    "import sigfig\n",
    "sigfig.round(3.14159, sigfigs=2)  # 3.1"
   ]
  },
  {
   "cell_type": "code",
   "execution_count": null,
   "metadata": {},
   "outputs": [],
   "source": []
  },
  {
   "cell_type": "markdown",
   "metadata": {},
   "source": [
    "8. En precisión simple (32bits) el signo ocupa 1 bit, el exponente 8 y la\n",
    "mantisa 23. El sesgo del exponente es 127. Obtén el mayor y el menor número\n",
    "representable."
   ]
  },
  {
   "cell_type": "code",
   "execution_count": null,
   "metadata": {},
   "outputs": [],
   "source": []
  },
  {
   "cell_type": "markdown",
   "metadata": {},
   "source": [
    "\n",
    "9. Usando Python, determina el error de máquina escribiendo un programa que\n",
    "  calcule sucesivamente la expresión $1+2^{1/i}$ para $i=1,2,\\dots$ mientras que\n",
    "  sea mayor que $1$.\n"
   ]
  },
  {
   "cell_type": "code",
   "execution_count": null,
   "metadata": {},
   "outputs": [],
   "source": []
  },
  {
   "cell_type": "markdown",
   "metadata": {},
   "source": [
    "\n",
    "10. Considera la sucesión de Fibonacci:\n",
    "\n",
    "$$\n",
    "\\left\\{\\begin{array}{l}\n",
    "x_{0}=1, x_{1}=1 \\\\\n",
    "x_{n+1}=x_{n}+x_{n-1}, n \\in \\mathbb{N} .\n",
    "\\end{array}\\right.\n",
    "$$\n",
    "\n",
    "Usando Python, estima el siguiente límite:\n",
    "\n",
    "$$\\lim_{n \\to \\infty} \\frac{x_n}{x_{n-1}}$$\n",
    "\n",
    "y grafica el error relativo frente a $n$, sabiendo que la expresión exacta del\n",
    "límite anterior es el número áureo $\\phi \\simeq 1.61803$."
   ]
  },
  {
   "cell_type": "code",
   "execution_count": null,
   "metadata": {},
   "outputs": [],
   "source": []
  },
  {
   "cell_type": "markdown",
   "metadata": {},
   "source": [
    "\n",
    "11. En Python, escribe dos funciones ```dec_to_bin()``` y ```bin_to_dec()``` para\n",
    "  convertir números **enteros** de decimal a binario y viceversa. Almacena los\n",
    "  números binarios en una variables ```string```. Escribe un test que llame a\n",
    "  ambas funciones de forma anidada comprobando que el *output* es el mismo que\n",
    "  el *input*, para valores $i = 1, 2, \\dots, 10000$."
   ]
  },
  {
   "cell_type": "code",
   "execution_count": null,
   "metadata": {},
   "outputs": [],
   "source": []
  },
  {
   "cell_type": "markdown",
   "metadata": {},
   "source": [
    "12. Extiende las funciones de apartado anterior para que puedan trabajar con\n",
    "  números reales."
   ]
  },
  {
   "cell_type": "code",
   "execution_count": null,
   "metadata": {},
   "outputs": [],
   "source": []
  },
  {
   "cell_type": "markdown",
   "metadata": {},
   "source": [
    "13. Programa una función que calcule el error absoluto y relativo de aproximar una función $f(x)$ mediante su serie de Taylor en $x=0$. Los argumentos de dicha función deben permitir seleccionar al usuario entre la función que desea aproximar de entre [$e^x$, $\\cos x$, $\\sin x$], el número de términos que quiere usar ($n$) y el valor donde evaluar dicha aproximación ($x$). Utiliza las expresiones del desarrollo de Taylor que conoces de [$e^x$, $\\cos x$, $\\sin x$]."
   ]
  },
  {
   "cell_type": "code",
   "execution_count": null,
   "metadata": {},
   "outputs": [],
   "source": []
  },
  {
   "cell_type": "markdown",
   "metadata": {},
   "source": [
    "14. Utiliza la función del ejercicio anterior para mostrar en una\n",
    "gráfica cómo evoluciona el error relativo frente a $n$ y frente a $x$. Comenta\n",
    "los resultados.\n"
   ]
  },
  {
   "cell_type": "code",
   "execution_count": null,
   "metadata": {},
   "outputs": [],
   "source": []
  },
  {
   "cell_type": "markdown",
   "metadata": {},
   "source": [
    "15. En la siguiente imagen se muestra el mecanismo que\n",
    "mueve un pistón. \n",
    "\n",
    "<center>\n",
    "<div>\n",
    "<img src=\"https://drive.upm.es/index.php/apps/files_sharing/ajax/publicpreview.php?x=1920&y=457&a=true&file=piston.png&t=yZH10VCe9BAfnbn&scalingup=0\" width=\"300\"/>\n",
    "</div>\n",
    "</center>\n",
    "\n",
    "Se han medido el tamaño del brazo menor: $R = 12cm$ con un error de $\\pm3\\%$. Se\n",
    "sabe que la distancia entre la articulación $A$ y el pistón $C$ viene dada por\n",
    "las siguiente expresión: \n",
    "$$x = R \\left( \\cos \\theta + \\sqrt{2.5^2 - \\sin ^2 \\theta} \\right)$$\n",
    "¿entre qué valores variará $x$ para $\\theta = \\pi /2 \\pm 0.1$?\n"
   ]
  },
  {
   "cell_type": "code",
   "execution_count": null,
   "metadata": {},
   "outputs": [],
   "source": []
  },
  {
   "cell_type": "markdown",
   "metadata": {},
   "source": [
    "16. Se quieren encontrar las raíces de la ecuación $x^2 - 4998x + 1 = 0$. Supón aritmética de 8 dígitos. Obtén el resultado utilizando la fórmula habitual de ecuaciones de segundo grado. Piensa en alguna modificación que permita conservar más cifras significativas."
   ]
  },
  {
   "cell_type": "code",
   "execution_count": null,
   "metadata": {},
   "outputs": [],
   "source": []
  },
  {
   "cell_type": "markdown",
   "metadata": {},
   "source": [
    "17. La sucesión definida por recurrencia mediante\n",
    "$$\n",
    "x_{n+1} = 2^{n+1} \\left( \\sqrt{1 + 2^{-n} \\cdot x_n} - 1 \\right) \\qquad n \\ge 0\n",
    "$$\n",
    "converge a $\\ln(1 + x_0)$ para cualquier valor $x_0 > -1$.\n",
    " - Reescribir la expresión anterior para evitar la pérdida de cifras significativas.\n",
    " - Incluso con la expresión del apartado anterior los resultados numéricos darán $x_{n+1} = x_{n}$ a partir de un cierto valor de $n$. ¿Por qué? Estimar este valor de $n$ para $x_0 = 2$ y aritmética de doble precisión."
   ]
  },
  {
   "cell_type": "code",
   "execution_count": null,
   "metadata": {},
   "outputs": [],
   "source": []
  },
  {
   "cell_type": "markdown",
   "metadata": {},
   "source": [
    "18. Como ya se ha visto, en precisión doble se reserva 1 bit para el signo $s$, $11$\n",
    "  para el exponente $e$ y $52$ la mantisa $m$. Dada la tupla $(s,e,m)$, el\n",
    "  número representado puede obtenerse entonces con la siguiente fórmula:\n",
    "  $$x_F = \\left( -1 \\right)^{s} \\cdot 1.f \\cdot 2^{e-b}$$\n",
    "  siendo $b$ el *sesgo*, que se obtiene dividiendo por dos el mayor número representable con\n",
    "  los bits del exponente, y restándole al resultado 1 (en precisión doble,\n",
    "  $(11111111111)_2 = 2048 \\rightarrow b = 2048/2 - 1 = 1023$). Supón ahora que\n",
    "  en lugar de $11$ bits para el exponente se reservan $n$, quedando $63-n$ para\n",
    "  la mantisa. Usando Python, calcula para $n  = 5, 6, \\dots, 15$ el mayor y el menor número\n",
    "  según la representación de coma flotante descrita."
   ]
  },
  {
   "cell_type": "code",
   "execution_count": null,
   "metadata": {},
   "outputs": [],
   "source": []
  },
  {
   "cell_type": "markdown",
   "metadata": {},
   "source": [
    "19. Usando Python, escribe una clase ```MyBin``` que represente los enteros en\n",
    "    base 2. En particular, sobrecarga el operador $+$ para que sea capaz de\n",
    "    sumar números binarios (no deben convertirse a decimal). Programa también\n",
    "    los siguientes test para comprobar el funcionamiento del operador:\n",
    "    \n",
    "         - ```MyBin(\"11111\") + MyBin(\"1\") #Output: MyBin(\"100000\")```\n",
    "         - ```MyBin(\"11111\") + MyBin(\"1010100\") #Output: MyBin(\"1110011\")```\n",
    "         - ```MyBin(\"110\") + MyBin(\"101\") #Output: MyBin(\"1011\")```\n"
   ]
  },
  {
   "cell_type": "code",
   "execution_count": null,
   "metadata": {},
   "outputs": [],
   "source": []
  },
  {
   "cell_type": "markdown",
   "metadata": {},
   "source": [
    "20. A continuación se dan varias funciones que presentan algún\n",
    "    comportamiento característico en $x=0$. Calcular aproximaciones de la\n",
    "    derivada en $x=0$ por un esquema de diferencias finitas de orden 2\n",
    "    centrado, y de orden 1 adelantado y atrasado. Toma $h=0.005$ (constante). Interpreta los\n",
    "    resultados, calculando:\n",
    " - $f_1(x) = 0.2x^3+2x-4$ (alta linealidad)\n",
    " - $f_2(x)-\\ln(x+0.01)$ (gradiente negativo grande)\n",
    " - $f_3(x) = 15/\\left(1+15x^2\\right)$ (máximo con cambio brusco de gradiente)\n",
    " - $f_4(x) = x \\sin(1/(x+0.005))$ (máximos y mínimos sucesivamente próximos)\n"
   ]
  },
  {
   "cell_type": "code",
   "execution_count": null,
   "metadata": {},
   "outputs": [],
   "source": []
  },
  {
   "cell_type": "markdown",
   "metadata": {},
   "source": [
    "21. Las siguientes expresiónes corresponden con las fórmulas para aproximar $f'(x)$ y $f''(x)$ por diferencias finitas atrasadas de primer orden:\n",
    "$$\n",
    "f^{\\prime}(x) \\approx \\frac{f(x)-f(x-h)}{h}\n",
    "$$\n",
    "\n",
    "$$\n",
    "f^{\\prime \\prime}(x) \\approx \\frac{f(x-2 h)-2 f(x-h)+f(x)}{h^{2}}\n",
    "$$\n",
    " \n",
    "Obtén la expresión para $f'''(x)$ derivando en la\n",
    "  expresión de $f''(x)$."
   ]
  },
  {
   "cell_type": "code",
   "execution_count": null,
   "metadata": {},
   "outputs": [],
   "source": []
  },
  {
   "cell_type": "markdown",
   "metadata": {},
   "source": [
    "22. Deduce a partir de desarrollos de Taylor la expresión que permite aproximar\n",
    "  la derivada tercera $f'''(x)$ usando diferencias finitas adelantadas de\n",
    "  segundo orden."
   ]
  },
  {
   "cell_type": "code",
   "execution_count": null,
   "metadata": {},
   "outputs": [],
   "source": []
  },
  {
   "cell_type": "markdown",
   "metadata": {},
   "source": [
    "23. Deduce a partir de desarrollos de Taylor la expresión que permite aproximar\n",
    "  la derivada cuarta $f^{(4)}(x)$ usando diferencias finitas centradas de\n",
    "  segundo orden."
   ]
  },
  {
   "cell_type": "code",
   "execution_count": null,
   "metadata": {},
   "outputs": [],
   "source": []
  },
  {
   "cell_type": "markdown",
   "metadata": {},
   "source": [
    "24. Utilice aproximaciones de diferencias finitas para:\n",
    "  \n",
    "  -  Calcular $f(2.36)$ y $f'(2.36)$ a partir de los siguientes datos (usar DF de orden 2):\n",
    "\n",
    "<center>\n",
    "\n",
    "| $x$  | $f(x)$  |\n",
    "|------|---------|\n",
    "| 2.36 | 0.85866 |\n",
    "| 2.37 | 0.86289 |\n",
    "| 2.38 | 0.86710 |\n",
    "| 2.39 | 0.87129 |\n",
    "\n",
    "</center>\n",
    "\n",
    "- Estimar $f'(1)$ y $f''(1)$ de los siguientes datos (usar DF de orden 2). Presta atención al espaciamiento entre nodos:\n",
    "\n",
    "<center>\n",
    "\n",
    "| $x$  | $f(x)$  |\n",
    "|------|---------|\n",
    "| 0.97 | 0.85040 |\n",
    "| 1.00 | 0.84147 |\n",
    "| 1.05 | 0.82612 |\n",
    "\n",
    "</center>\n",
    "\n",
    "- Dados los siguientes datos, estimar $f''(1)$ de la forma más precisa que\n",
    "  puedas:\n",
    "\n",
    "<center>\n",
    "\n",
    "| $x$  | $f(x)$   |\n",
    "|------|----------|\n",
    "| 0.84 | 0.431711 |\n",
    "| 0.92 | 0.398519 |\n",
    "| 1.00 | 0.367879 |\n",
    "| 1.08 | 0.339596 |\n",
    "| 1.16 | 0.313486 |\n",
    "</center>\n",
    "\n",
    "- Dados los siguientes datos, estimar $f'(0.2)$ de la forma más precisa que\n",
    "  puedas:\n",
    "\n",
    "<center>\n",
    "\n",
    "| $x$ | $f(x)$   |\n",
    "|-----|----------|\n",
    "| 0.0 | 0.000000 |\n",
    "| 0.1 | 0.078348 |\n",
    "| 0.2 | 0.138910 |\n",
    "| 0.3 | 0.192916 |\n",
    "| 0.4 | 0.244981 |\n",
    "</center>"
   ]
  },
  {
   "cell_type": "code",
   "execution_count": null,
   "metadata": {},
   "outputs": [],
   "source": []
  },
  {
   "cell_type": "markdown",
   "metadata": {},
   "source": [
    "25. Utilizando cinco cifras significativas en los cálculos, determina $d(\\sin x)/dx$ en $x = 0.8$ a partir de (a) la aproximación de orden uno por diferencias finitas adelantadas y (b) la aproximación por diferencias finitas centradas de orden dos. En cada caso, usa la solución analítica para encontrar el paso $h$ que dé el resultado más exacto (se requiere experimentación)."
   ]
  },
  {
   "cell_type": "code",
   "execution_count": null,
   "metadata": {},
   "outputs": [],
   "source": [
    "# Nota: la librería sigfig (https://pypi.org/project/sigfig/) permite redondear resultados a X cifras significativas. Para hacerlo, primero instala la librería ejecutando\n",
    "%pip install -q sigfig\n",
    "\n",
    "#Luego, por ejemplo\n",
    "import sigfig\n",
    "sigfig.round(3.14159, sigfigs=2)  # 3.1"
   ]
  },
  {
   "cell_type": "code",
   "execution_count": null,
   "metadata": {},
   "outputs": [],
   "source": []
  },
  {
   "cell_type": "markdown",
   "metadata": {},
   "source": [
    "26. La biela $AB$ de longitud $R = 90$ mm gira a una velocidad angular constante\n",
    "de $d \\theta / dt = 5000$ rev/min. \n",
    "\n",
    "<center>\n",
    "<div>\n",
    "<img src=\"https://drive.upm.es/index.php/apps/files_sharing/ajax/publicpreview.php?x=1920&y=457&a=true&file=piston.png&t=yZH10VCe9BAfnbn&scalingup=0\" width=\"240\"/>\n",
    "</div>\n",
    "</center>\n",
    "\n",
    "Se puede demostrar que la posición del pistón $C$ varía con el ángulo $\\theta$\n",
    "como: \n",
    "\n",
    "$$ x=R\\left(\\cos\\theta+\\sqrt{2.5^{2}-\\sin ^{2} \\theta}\\right) $$ \n",
    "\n",
    "Escriba un programa que grafique la aceleración del pistón en $\\theta = 0^{\\circ}, 5^{\\circ},\n",
    "10^{\\circ}, \\dots , 180^{\\circ}$. Utilice derivación numérica para calcular la aceleración."
   ]
  },
  {
   "cell_type": "code",
   "execution_count": null,
   "metadata": {},
   "outputs": [],
   "source": []
  },
  {
   "cell_type": "markdown",
   "metadata": {},
   "source": [
    "27. Las estaciones radar $A$ y $B$, separadas una distancia $a = 500$ m, siguen a\n",
    "  un avión $C$ guardando los ángulos $\\alpha$ y $\\beta$ en intervalos de un\n",
    "  segundo. \n",
    "  \n",
    "<center>\n",
    "<div>\n",
    "<img src=\"https://drive.upm.es/index.php/apps/files_sharing/ajax/publicpreview.php?x=1920&y=457&a=true&file=avion.png&t=UUIC4S71Gj1OWx3&scalingup=0\" width=\"240\"/>\n",
    "</div>\n",
    "</center>\n",
    "  \n",
    "  Si tres lecturas sucesivas fueron:\n",
    "\n",
    "<center>\n",
    "\n",
    "| $t$ (s) | $\\alpha$        | $\\beta$         |\n",
    "|---------|-----------------|-----------------|\n",
    "| 9       | $54.80^{\\circ}$ | $65.59^{\\circ}$ |\n",
    "| 10      | $54.06^{\\circ}$ | $64.59^{\\circ}$ |\n",
    "| 11      | $53.34^{\\circ}$ | $63.62^{\\circ}$ |\n",
    "\n",
    "</center>\n",
    "\n",
    "calcula la velocidad $v$ del avión y el ángulo de ascenso $\\gamma$ en $t = 10$s. Puede demostrarse que las coordenadas del avión vienen dadas por:\n",
    "\n",
    "$$\n",
    "x=a \\frac{\\tan \\beta}{\\tan \\beta-\\tan \\alpha} \\quad y=a \\frac{\\tan \\alpha \\tan \\beta}{\\tan \\beta-\\tan \\alpha}\n",
    "$$"
   ]
  },
  {
   "cell_type": "code",
   "execution_count": null,
   "metadata": {},
   "outputs": [],
   "source": []
  },
  {
   "cell_type": "markdown",
   "metadata": {},
   "source": [
    "28. Una determinado sistema de medida está midiendo una magnitud $f(t)$ que depende del tiempo $t \\in \\left[ 0, 2 \\pi \\right]$. Se sabe que dicha magnitud se comporta como $f(t) = \\cos t$. Sin embargo, debido a la sensibilidad del sistema de medida, en verdad la magnitud está siendo almacenada como $f_{\\epsilon} (t) = \\cos t + \\epsilon \\sin \\omega t$, cumpliéndose siempre que $\\epsilon \\ll 1$. \n",
    "      - Dibuja $f(t)$ y $f_{\\epsilon} (t)$ en la misma gráfica, para $t \\in \\left[ 0, 2 \\pi \\right]$. Usa $\\epsilon = 0.01$ y $\\omega = 100$. Observa que ambas funciones son muy similares.\n",
    "      - Utiliza un esquema de diferencias finitas adelantadas de primer orden para calcular la derivada $f_{\\epsilon}^{\\prime} (t)$ y grafícala frente a la solución analítica de $f^{\\prime} (t)$. Analiza el resultado\n",
    "      - Piensa en formas de solucionar el problema identificado anteriormente."
   ]
  },
  {
   "cell_type": "code",
   "execution_count": null,
   "metadata": {},
   "outputs": [],
   "source": []
  },
  {
   "cell_type": "markdown",
   "metadata": {},
   "source": [
    "29. Escriba una función ```finite_dif(f: Callable, min_val: float, max_val: float, num_div: int)```, donde ```f``` es una instancia de una función a derivar, ```min_val``` y ```max_val``` son los extremos del intervalo considerado (```a``` < ```b```), ```num_div``` es el número de puntos en los que se divide el intervalo anterior (```num_div``` debe ser mayor que $10$), y por último ```option``` toma uno de los siguientes valores: ```\"forward\"```, ```\"backward\"``` o ```\"central\"```. Esta función debe devolver una tupla ```(df, x)```, siendo ```df``` un *array* que contenga la derivada de la función según el método seleccionado (asume $\\mathcal{O} \\left( h^2 \\right)$), y ```x``` los nodos donde es calculada (observa que ```x``` difiere de la división del intervalo original, ya que en función del esquema seleccionado, se perderá alguno de los nodos de los extremos). Utiliza el siguiente test para comprobar tu implementación:\n",
    " \n",
    "```python\n",
    "import numpy as np\n",
    "x = np.linspace(0, 2 * np.pi, 100)\n",
    "f = lambda x: np.sin(x)\n",
    "df_f, x_f = finite_dif(f, 0, 2 * np.pi, 10, 'forward')\n",
    "df_b, x_b = finite_dif(f, 0, 2 * np.pi, 10, 'backward')\n",
    "df_c, x_c = finite_dif(f, 0, 2 * np.pi, 10, 'central')\n",
    "plt.figure(figsize = (12, 8))\n",
    "plt.plot(x, np.cos(x), label = 'analytic')\n",
    "plt.plot(x_f, df_f, label = 'forward')\n",
    "plt.plot(x_b, df_b, label = 'backward')\n",
    "plt.plot(x_c, df_c, label = 'central')\n",
    "plt.legend()\n",
    "plt.show()\n",
    "```"
   ]
  },
  {
   "cell_type": "code",
   "execution_count": null,
   "metadata": {},
   "outputs": [],
   "source": []
  },
  {
   "cell_type": "markdown",
   "metadata": {},
   "source": [
    "30. Para calcular la derivada de una función altamente oscilante (implícita o explícita), un método que puede usarse es realizar un suavizado previo de los valores de la función. Escribe una función ```finite_dif_smoothing(x: np.ndarray, y: np.ndarray, n: int)```, donde ```x``` e ```y``` son *arrays* de la misma longitud que contienen los valores $x$ e $y$ de una determinada función sobre la que se calculará la derivada, y ```n``` es estrictamente positivo. El método debe comenzar calculando un nuevo *array* de valores ```y``` suavizados, donde ```y_smooth[i] = np.mean[i-n:i+n]```. La salida de la función es una tupla ```(dy, x)```, siendo ```dy``` un *array* que contenga la derivada de la función sobre el vector ```y_smooth``` (utiliza diferencias finitas centradas de orden dos), y ```x``` los nodos correspondientes. Supongamos que los datos contenidos en ```x``` están en orden ascendente sin entradas duplicadas. Sin embargo, es posible que los elementos de ```x``` no estén espaciados uniformemente. Ten en cuenta que la salida ```dy``` tendrá menos puntos que ```y```. "
   ]
  },
  {
   "cell_type": "code",
   "execution_count": null,
   "metadata": {},
   "outputs": [],
   "source": []
  },
  {
   "cell_type": "markdown",
   "metadata": {},
   "source": [
    "31. Investiga formas de general mallados no uniformes. En particular, piensa un método que permita generar una malla $1D$ en un dominio de longitud $L$ con:\n",
    "    - Concentración de nodos en ambos extremos del dominio.\n",
    "    - Concentración en el centro del dominio\n",
    "    - Concentración solo en uno de los extremos del dominio, hasta una cierta distancia $l \\lesssim L$, y constante después.\n",
    "   \n",
    "   En todos los casos, establece algún parámetro para controlar la concentración."
   ]
  },
  {
   "cell_type": "code",
   "execution_count": null,
   "metadata": {},
   "outputs": [],
   "source": []
  },
  {
   "cell_type": "markdown",
   "metadata": {},
   "source": [
    "32. La ecuación de segundo grado $x^2 - 2x + 1 = 0$ tiene la raíz doble $x = 1$, sin embargo la ecuación $x^2 - 2x + 0.99 = 0$ tiene dos raíces reales $x = 1.1$ y $x = 0.9$, y la ecuación $x^2 - 2x + 1.01 = 0$ tiene dos raíces complejas $x = 1 \\pm 0.1i$. Estudia el condicionamiento de $x^2 - 2x + \\lambda = 0$ para explicar lo que ocurre. "
   ]
  },
  {
   "cell_type": "code",
   "execution_count": null,
   "metadata": {},
   "outputs": [],
   "source": []
  },
  {
   "cell_type": "markdown",
   "metadata": {},
   "source": [
    "33. Usando Python, estudia el condicionamiento de la función $f(x) = \\tan x$ (puedes usar la librería ```sympy``` si lo deseas)."
   ]
  },
  {
   "cell_type": "code",
   "execution_count": null,
   "metadata": {},
   "outputs": [],
   "source": []
  },
  {
   "cell_type": "markdown",
   "metadata": {},
   "source": [
    "34. Escribe en Python una función ```conditioning(f: Callable, df:Callable, x: float)``` para calcular el número de condición al evaluar una función $f(x)$ en un punto $x$. ```f``` y ```df``` son funciones que representan $f(x)$ y $f'(x)$ respectivamente, y ```x``` es el punto donde se desea evaluar el condicionamiento. Utiliza la función anterior para graficar el número de condición de $f(x) = 3(x-1)^5+7(x-1)^9$ para $x>1$. Interpreta el resultado. Comprueba para alguno de los valores donde la función está mal condicionada que efectivamente una pequeña variación de los datos de entrada resulta en una gran variación de los datos de salida."
   ]
  },
  {
   "cell_type": "code",
   "execution_count": null,
   "metadata": {},
   "outputs": [],
   "source": []
  },
  {
   "cell_type": "markdown",
   "metadata": {},
   "source": [
    "35. El sistema lineal $Ax=b$ está definido por:\n",
    "$$\n",
    "A = \\begin{pmatrix}\n",
    "10 & 7 & 8  & 7 \\\\\n",
    "7  & 5 & 6  & 5 \\\\\n",
    "8  & 6 & 10 & 9 \\\\\n",
    "7  & 5 & 9  & 10\n",
    "\\end{pmatrix} \n",
    "\\qquad\n",
    "b = \\begin{pmatrix}\n",
    "32 \\\\\n",
    "23 \\\\\n",
    "33 \\\\\n",
    "31 \n",
    "\\end{pmatrix} \n",
    "$$\n",
    "  * Usando Python, encuentra la solución exacta del problema\n",
    "  * Aplica la siguiente variación al vector $b$ y resuelve de nuevo el sistema:\n",
    "$$\n",
    "\\Delta b = \\begin{pmatrix}\n",
    "0.1 \\\\\n",
    "-0.1 \\\\\n",
    "0.1 \\\\\n",
    "-0.1\n",
    "\\end{pmatrix} \n",
    "$$\n",
    "  * Calcula el número de condición $\\kappa_2$ e interprétalo\n",
    "  * Supón ahora una variación de $b$ más genérica, del tipo:\n",
    "$$\n",
    "\\Delta b = \\begin{pmatrix}\n",
    "10^{-p} \\\\\n",
    "-10^{-p} \\\\\n",
    "10^{-p} \\\\\n",
    "-10^{-p}\n",
    "\\end{pmatrix} \n",
    "$$ \n",
    "calcula el menor $p$ que acarrea una pérdida de cifras significativas inferior a 2."
   ]
  },
  {
   "cell_type": "code",
   "execution_count": null,
   "metadata": {},
   "outputs": [],
   "source": []
  },
  {
   "cell_type": "markdown",
   "metadata": {},
   "source": [
    "36. Usando Python:\n",
    "  -  programa una función ```hilbert_matrix(n: int)``` que devuelva la matriz de Hilbert $H_n$ de dimensión $n$:\n",
    "$$\n",
    "H_{n}=\\left(\\begin{array}{ccccc}\n",
    "1 & 2^{-1} & 3^{-1} & \\ldots & n^{-1} \\\\\n",
    "2^{-1} & 3^-1 & 4^{-1} & \\ldots & (n+1)^{-1} \\\\\n",
    "3^{-1} & 4^{-1} & 5^{-1} & \\ldots & (n+2)^{-1} \\\\\n",
    "\\vdots      & \\vdots      & \\vdots      & \\ddots & \\vdots \\\\\n",
    "n^{-1} & (n+1)^{-1} & (n+2)^{-1} & \\ldots & (2n+1)^{-1}\n",
    "\\end{array}\\right)\n",
    "$$\n",
    "es decir, el elemento en la posición $(i, j)$ de la matriz de Hilbert $H_n$ vale $(i+j+1)^{-1}$. \n",
    "\n",
    "  - Obtén el número de condición $\\kappa_2 \\left( H_n \\right)$ para valores de $n$ entre 1 y 14, y grafica su comportamiento en función de $n$. \n",
    "  - El sistema $H_n x_n = b_n$ con $b_i = \\sum_{j=1}^n \\left( i+j+1 \\right)^{-1}$ tiene solución exacta: $x_n = \\left(1, 1, \\overset{n}{\\cdots}, 1\\right)^T$. Analiza el error que se obtiene de resolver el sistema para $n$ crecientes."
   ]
  },
  {
   "cell_type": "code",
   "execution_count": null,
   "metadata": {},
   "outputs": [],
   "source": []
  },
  {
   "cell_type": "markdown",
   "metadata": {},
   "source": [
    "37. La matriz de Vandermonde tiene la siguiente expresión genérica:\n",
    "$$\n",
    "V_{n}=\\left(\\begin{array}{ccccc}\n",
    "1 & x_0 & x_0^2 & \\cdots & x_0^n \\\\\n",
    "1 & x_1 & x_1^2 & \\cdots & x_1^n \\\\\n",
    "\\vdots & \\vdots & \\vdots & \\ddots & \\vdots \\\\\n",
    "1 & x_{n-1} & x_{n-1}^2 & \\cdots & x_{n-1}^n\n",
    "\\end{array}\\right)\n",
    "$$\n",
    "donde todos los $x_i$ son distintos. Calcula el numero de condición de $V_n$ para diversas elecciones de los $x_i$."
   ]
  },
  {
   "cell_type": "code",
   "execution_count": null,
   "metadata": {},
   "outputs": [],
   "source": []
  },
  {
   "cell_type": "markdown",
   "metadata": {},
   "source": [
    "38. Usando Python, programa una función ```random_cond_info(n: int)``` que haga lo siguiente: partiendo de una matriz singular cualquiera de tamaño $n$ generada aleatoriamente, altera en una cierta cantidad uno de lo elementos de la matriz. Después, calcula el número de condición de esta nueva matriz, e imprime por pantalla un mensaje informando al usuario del número de cifras significativas en las que puede confiar al resolver un sistema de ecuaciones con dicha matriz como matriz de coeficientes."
   ]
  },
  {
   "cell_type": "code",
   "execution_count": null,
   "metadata": {},
   "outputs": [],
   "source": []
  },
  {
   "cell_type": "markdown",
   "metadata": {},
   "source": [
    "39. Las matrices *sparse* tienen una gran importancia en computación, pues aparecen en un montón de campos representando matrices de conectividad, semejanza, activación, etc. Se caracterizan por estar compuestas en su mayoría por ceros, con algún elemento no nulo (minoritarios). Programa en Python una función ```sparse_matrix(n: int, sp: float) -> np.ndarray``` que devuelva una matriz cuadrada *sparse*, dado su tamaño ```n``` y su proporción de ceros frente al total de elementos ```sp``` (*sparsity*). Investiga si la *sparsity* tiene algún impacto en el número de condición de la matriz.  "
   ]
  },
  {
   "cell_type": "code",
   "execution_count": null,
   "metadata": {},
   "outputs": [],
   "source": []
  },
  {
   "cell_type": "markdown",
   "metadata": {},
   "source": [
    "40. *[Problema largo]* Una forma de la [ecuación de ondas](https://en.wikipedia.org/wiki/Wave_equation)\n",
    "unidimensional puede escribirse como:\n",
    "\n",
    "$$ \\begin{aligned} \\frac{\\partial^{2}\n",
    "u}{\\partial t^{2}} &=c^{2} \\frac{\\partial^{2} u}{\\partial x^{2}}, & x \\in(0,\n",
    "L), & t \\in(0, T] \\\\\n",
    "u(x, 0) &=I(x), & x & \\in[0, L] \\\\\n",
    "\\frac{\\partial}{\\partial t} u(x, 0) &=0, & x & \\in[0, L] \\\\\n",
    "u(0, t) &=0, & t & \\in(0, T] \\\\\n",
    "u(L, t) &=0, & t & \\in(0, T]\n",
    "\\end{aligned}\n",
    "$$\n",
    "\n",
    "donde $u$ es la velocidad, $t$ el tiempo, $x$ la coordenada espacial, $c$ la\n",
    "velocidad de las ondas en el medio (constante), e $I(x)$ es la condición\n",
    "inicial. Nótese que la cuerda estudiada parte del reposo ($\\partial u(x, 0) /\n",
    "\\partial t  = 0$) y que sus extremos son fijos ($u(0, t) = u(L, t) = 0$).\n",
    " - Plantea una discretización espacial y temporal equiespaciada (con pasos $\\Delta x$ y $\\Delta t$, respectivamente),. Debe cumplirse que:\n",
    "$$\n",
    "CFL = c \\frac{\\Delta t}{\\Delta x} \\leq 0.4\n",
    "$$\n",
    " - Discretiza la ecuación de ondas utilizando diferencias finitas centradas de\n",
    "    orden dos, tanto en espacio como en tiempo. \n",
    " - El esquema de diferencias finitas centradas de orden para el tiempo falla\n",
    "    en el instante inicial. A partir del desarrollo de Taylor en $t + \\Delta t$,\n",
    "    obtén una expresión para el primer paso de tiempo. Ten en cuenta la\n",
    "    condición inicial.\n",
    " - Implementa el algoritmo anterior. Comprueba los resultados frente a la siguiente solución analítica (conocida):\n",
    "$$\n",
    "u_e(x,t)= A \\sin( \\pi Lx) \\cos ( \\pi Lct)\n",
    "$$\n",
    "con $I(x)= A \\sin(\\pi Lx)$ (fija arbitrariamente el resto de parámetros). "
   ]
  },
  {
   "cell_type": "code",
   "execution_count": null,
   "metadata": {},
   "outputs": [],
   "source": []
  }
 ],
 "metadata": {
  "kernelspec": {
   "display_name": "Python 3",
   "language": "python",
   "name": "python3"
  },
  "language_info": {
   "codemirror_mode": {
    "name": "ipython",
    "version": 3
   },
   "file_extension": ".py",
   "mimetype": "text/x-python",
   "name": "python",
   "nbconvert_exporter": "python",
   "pygments_lexer": "ipython3",
   "version": "3.12.6"
  },
  "orig_nbformat": 4
 },
 "nbformat": 4,
 "nbformat_minor": 2
}
