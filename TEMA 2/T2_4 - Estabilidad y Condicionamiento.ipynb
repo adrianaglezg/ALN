{
 "cells": [
  {
   "cell_type": "markdown",
   "metadata": {},
   "source": [
    "# Estabilidad y condicionamiento"
   ]
  },
  {
   "cell_type": "markdown",
   "metadata": {},
   "source": [
    "## 1. Estabilidad numérica\n",
    "\n",
    "De manera general, puede decirse que cuando un proceso numérico es inestable los errores de cada etapa del proceso se acumulan o amplifican en etapas posteriores, afectando de forma drástica a la precisión del cálculo.\n",
    "También podemos pensar en la *estabilidad* como la propiedad que tienen los algoritmos que consiguen resultados con un buen grado de precisión si parten de datos próximos a los reales.\n",
    "En el contexto de este curso, es suficiente con conocer el concepto anterior y saber identificar cuándo un algoritmo es o no estable.\n",
    "\n",
    "**Ejercicio 1 -** Considera dos algoritmos que pretenden calcular el valor de $7^{-100}$. Cada uno de ellos es una aplicación particular de dos algoritmos más generales que sirven para calcular las potencias sucesivas de un número positivo $\\lambda < 0$:\n",
    "$$\n",
    "\\left\\{ \\begin{array}{ll} \n",
    "x_0 &= 1 \\\\\n",
    "x_n &= \\lambda x_{n-1}\n",
    "\\end{array} \\right. \n",
    "\\quad \\textrm{y} \\quad \n",
    "\\left\\{ \\begin{array}{ll} \n",
    "x_0 &= 1 \\\\\n",
    "x_1 &= \\lambda \\\\\n",
    "x_{n} &= \\left( 3 + \\lambda \\right) x_{n-1} - 3 \\lambda x_{n-2}\n",
    "\\end{array} \\right. \n",
    "$$\n",
    "En ambos casos, el término general de la sucesión $\\left\\{ x_n \\right\\}^{\\infty}$ es $\\lambda^n$. Calcula el término $x_{100}$ usando ambos algoritmos e interpreta los resultados.\n",
    "\n",
    "<!--\n",
    "```\n",
    "# Este primer enfoque es muy lento\n",
    "def a1(n: int, lamb: float) -> float:\n",
    "    if n == 0:\n",
    "        return 1\n",
    "    return lamb * a1(n - 1, lamb)\n",
    "\n",
    "def a2(n: int, lamb: float) -> float:\n",
    "    if n == 0:\n",
    "        return 1\n",
    "    elif n == 1:\n",
    "        return lamb\n",
    "    return (3.0 + lamb) * a2(n - 1, lamb) - 3 * lamb * a2(n - 2, lamb)\n",
    "\n",
    "lamb = 1.0 / 7.0\n",
    "#for n in range(101):\n",
    "#    print(f\"{n=}  x_n (alg1)={a1(n, lamb)}  x_n (alg2)={a2(n, lamb)} \")\n",
    "\n",
    "#####################################################\n",
    "\n",
    "lamb = 1.0 / 7.0\n",
    "x2a1 = 1\n",
    "x2a2 = 1\n",
    "x1a1 = lamb * x2a1\n",
    "x1a2 = lamb\n",
    "\n",
    "print(f\"n=0  x0a1={x2a1:.13E}  x0a1={x2a2:.13E}\")\n",
    "print(f\"n=1  x0a1={x1a1:.13E}  x0a1={x1a2:.13E}\")\n",
    "\n",
    "for n in range(2, 101):\n",
    "    x0a1 = lamb * x1a1\n",
    "    x0a2 = (3.0 + lamb) * x1a2 - 3 * lamb * x2a2\n",
    "\n",
    "    if n % 7 == 0:\n",
    "        print(f\"{n=}  {x0a1=:.13E}  {x0a2=:.13E} \")\n",
    "\n",
    "    x2a1 = x1a1\n",
    "    x2a2 = x1a2\n",
    "    x1a1 = x0a1\n",
    "    x1a2 = x0a2\n",
    "\n",
    "```\n",
    "-->"
   ]
  },
  {
   "cell_type": "code",
   "execution_count": 4,
   "metadata": {},
   "outputs": [
    {
     "name": "stdout",
     "output_type": "stream",
     "text": [
      "valor a calcular = 3.0916904080902036e-85\n"
     ]
    }
   ],
   "source": [
    "print(f'valor a calcular = {(1/7) ** 100}')"
   ]
  },
  {
   "cell_type": "code",
   "execution_count": 13,
   "metadata": {},
   "outputs": [
    {
     "name": "stdout",
     "output_type": "stream",
     "text": [
      " el valor del priemr algotrimo es 3.091690408090202e-85\n",
      " el valor del priemr algotrimo es -5.891118499898032e+30\n"
     ]
    }
   ],
   "source": [
    "def alg1(labm : float, n_iter: int) -> float:\n",
    "\n",
    "    x_nold = 1.0 #xn-1\n",
    "    \n",
    "    for i in range(n_iter):\n",
    "        x_n = x_nold * lamb\n",
    "        x_nold = x_n\n",
    "\n",
    "    return x_n\n",
    "\n",
    "\n",
    "def alg2(labm : float, n_iter: int):\n",
    "\n",
    "    x_nold = lamb\n",
    "    x_nold_old = 1.0 #xn-2\n",
    "\n",
    "    for i in range(n_iter):\n",
    "        x_n = (3.0 + lamb) * x_nold - 3 * lamb * x_nold_old\n",
    "\n",
    "        x_nold_old = x_nold \n",
    "        x_nold = x_n\n",
    "    \n",
    "    return x_n\n",
    "\n",
    "\n",
    "\n",
    "lamb = 1.0 / 7.0\n",
    "print(f' el valor del priemr algotrimo es {alg1(lamb, 100)}')\n",
    "print(f' el valor del priemr algotrimo es {alg2(lamb, 100)}')\n"
   ]
  },
  {
   "cell_type": "markdown",
   "metadata": {},
   "source": [
    "## 2. Condicionamiento\n",
    "\n",
    "Diremos que un problema está *mal condicionado* cuando pequeños cambios en los datos dan lugar a grandes cambios en los resultados. Las técnicas que se emplean en el estudio del condicionamiento de un problema están fuertemente ligadas a la estructura del mismo. En general, a la hora de resolver un problema $y = f(x)$ se intenta definir un número de condición $\\kappa = \\kappa (x) \\ge 0$ de forma que:\n",
    "\n",
    "$$\n",
    "\\frac{\\|f(\\widetilde{x})-f(x)\\|}{\\|f(x)\\|} \\simeq \\kappa(x) \\frac{\\|\\tilde{x}-x\\|}{\\|x\\|}\n",
    "$$\n",
    "\n",
    "<span style=\"color: orange\"> pone una norma porque a la hora de hacerlo en mas dimensiones el b¡valor absoluto se hace con una norma</span>.\n",
    "\n",
    "Este número $\\kappa$ indicará si el problema está bien o mal condicionado, según sea próximo o no a 1. Si el número de condición es menor que 1 o está próximo a 1, el error del dato no se amplificará mucho y el error del resultado será, a lo sumo, del mismo orden que el error en el dato. Por el contrario, si este número de condición toma valores muy grandes, el error del resultado final podría sufrir una gran ampliación respecto del error en el dato.\n",
    "\n",
    "Como se ha mencionado anteriormente, el estudio del condicionamiento está muy ligado a cada aplicación particular. En el contexto de este curso, estudiaremos solamente dos casos: la evaluación de una función diferenciable y la resolución de sistemas lineales."
   ]
  },
  {
   "cell_type": "markdown",
   "metadata": {},
   "source": [
    "\n",
    "### 2.1 Condicionamiento en la evaluación de una función diferenciable\n",
    "Consideremos la evaluación de una función real de variable real $f: \\mathbb{R} \\rightarrow \\mathbb{R}$ en $x$. Si en lugar de $x$ tomamos una aproximación suya $\\widetilde{x}$ con $ \\left| x - \\widetilde{x} \\right| \\ll 1$ (por ejemplo, su redondeo), el teorema del Valor Medio asegura que\n",
    "$$\n",
    "f(\\widetilde{x})-f(x)=f^{\\prime}(\\xi)(\\widetilde{x}-x) \\simeq f^{\\prime}(x)(\\widetilde{x}-x)\n",
    "$$\n",
    "De esta forma, si $f'(x)$ no es muy grande, el efecto de la perturbación sobre $f(x)$ es pequeño. Concretamente, el error relativo de la perturbación viene dado por\n",
    "$$\n",
    "\\left|\\frac{f(\\widetilde{x})-f(x)}{f(x)}\\right| \\simeq\\left|\\frac{f^{\\prime}(x)}{f(x)}\\right||\\widetilde{x}-x|= \\left|\\frac{f^{\\prime}(x)}{f(x)} x\\right| \\cdot \\left|\\frac{\\tilde{x}-x}{x}\\right|\n",
    "$$\n",
    "donde el primer factor del lado derecho de esta ecuación es el **número de condición** $\\kappa(x) = \\left|\\frac{f^{\\prime}(x)}{f(x)} x\\right|$, y el segundo el error relativo de la entrada.\n",
    "\n",
    "**Ejercicio 2 -** Considera la función $f(x) = 1 - \\sqrt{1 - x^2}$ para $-1 \\le x \\le 1$. Calcula el número de condición $\\kappa (x)$ para estudiar en qué puntos puede presentar problemas de evaluación.\n",
    "\n",
    "Una forma práctica de interpretar el número de condición es la siguiente: nos da información del número de cifras significativas que se van a perder al resolver el problema. Por ejemplo, si al resolver un problema con un número de condición $\\kappa = 2000$, trabajando con precisión doble (error de máquina  $\\varepsilon = 2.22 \\cdot 10^{-16}$), el resultado tendrán una precisión de $2000 \\cdot 2.22 \\cdot 10^{-16} = 4.44e-13 < 0.5 \\cdot 10^{-12} \\Rightarrow$ 12 \n",
    "cifras significativas.\n",
    "\n",
    "<span style=\"color: orange\"> en precision doble el error es de 2 * 10^-16, entonces si tu k chiquita tiene un error de 10^6 sabemos por defecto que elerror va a ser de 10^-10</span>\n",
    "<span style=\"color: orange\"></span>"
   ]
  },
  {
   "cell_type": "code",
   "execution_count": 1,
   "metadata": {},
   "outputs": [
    {
     "ename": "ModuleNotFoundError",
     "evalue": "No module named 'matplotlib'",
     "output_type": "error",
     "traceback": [
      "\u001b[1;31m---------------------------------------------------------------------------\u001b[0m",
      "\u001b[1;31mModuleNotFoundError\u001b[0m                       Traceback (most recent call last)",
      "Cell \u001b[1;32mIn[1], line 2\u001b[0m\n\u001b[0;32m      1\u001b[0m \u001b[38;5;28;01mimport\u001b[39;00m \u001b[38;5;21;01mnumpy\u001b[39;00m \u001b[38;5;28;01mas\u001b[39;00m \u001b[38;5;21;01mnp\u001b[39;00m\n\u001b[1;32m----> 2\u001b[0m \u001b[38;5;28;01mimport\u001b[39;00m \u001b[38;5;21;01mmatplotlib\u001b[39;00m\u001b[38;5;21;01m.\u001b[39;00m\u001b[38;5;21;01mpyplot\u001b[39;00m \u001b[38;5;28;01mas\u001b[39;00m \u001b[38;5;21;01mplt\u001b[39;00m \n\u001b[0;32m      5\u001b[0m \u001b[38;5;28;01mdef\u001b[39;00m \u001b[38;5;21mf\u001b[39m(x: \u001b[38;5;28mfloat\u001b[39m):\n\u001b[0;32m      6\u001b[0m     \u001b[38;5;28;01mreturn\u001b[39;00m \u001b[38;5;241m1.0\u001b[39m \u001b[38;5;241m-\u001b[39m (\u001b[38;5;241m1.0\u001b[39m \u001b[38;5;241m-\u001b[39m x \u001b[38;5;241m*\u001b[39m\u001b[38;5;241m*\u001b[39m \u001b[38;5;241m2\u001b[39m) \u001b[38;5;241m*\u001b[39m\u001b[38;5;241m*\u001b[39m \u001b[38;5;241m0.5\u001b[39m\n",
      "\u001b[1;31mModuleNotFoundError\u001b[0m: No module named 'matplotlib'"
     ]
    }
   ],
   "source": [
    "import numpy as np\n",
    "import matplotlib.pyplot as plt \n",
    "\n",
    "\n",
    "def f(x: float):\n",
    "    return 1.0 - (1.0 - x ** 2) ** 0.5\n",
    "\n",
    "def df(x: float):\n",
    "    return x / (1.0 - x**2) ** 0.5\n",
    "\n",
    "def kappa(x):\n",
    "    return abs(x * df(x) / f(x))\n",
    "\n",
    "\n",
    "x = np.linspace(-1, 1, 100) # particion\n",
    "\n",
    "y_kappa = np.array([kappa(i) for i in x]) # te esta dando el f(x) para cada valro de la particion x\n",
    "\n",
    "\n",
    "plt.plot(x, y_kappa)\n",
    "\n",
    "\n",
    "print(f\"n1 de condicion en x = 0.99999999999  = {kappa(0.999999999999)}\")\n",
    "\n",
    "\n",
    "\n"
   ]
  },
  {
   "cell_type": "markdown",
   "metadata": {},
   "source": [
    "\n",
    "### 2.2 Condicionamiento en la resolución de sistemas lineales\n",
    "\n",
    "A continuación estudiaremos cómo definir el condicionamiento en un sistema lineal de la forma $Ax=b$, (<span style=\"color: orange\"> la Ax no va a ser la entrada sino la salida </span>) siendo $A$ la matriz de coeficientes (invertible), $x$ el vector de incógnitas y $b$ el vector de términos independientes. En el supuesto de que se tome como segundo miembro en lugar del vector $b$ una perturbación de este $b + \\Delta b$, la solución del problema ahora será $x + \\Delta x $, y se verifica entonces que:\n",
    "$$\n",
    "A \\left( x + \\Delta x \\right) = b + \\Delta b \\Rightarrow A \\Delta x = \\Delta b \\Rightarrow \\Delta x = A^{-1} \\Delta b\n",
    "$$\n",
    "<span style=\"color: orange\"> el Ax = b pot lo que en ambos lados de la ecuacion podemos simplificarlo y por eso solo queda Adeltax = deltab</span>\n",
    "\n",
    "Tomando normas y utilizando la desigualdad triangular:\n",
    "$$\n",
    "\\left\\| \\Delta x \\right\\| \\le \\left\\| A^{-1} \\right\\| \\cdot \\left\\| \\Delta b \\right\\|\n",
    "$$\n",
    "Por otra parte, \n",
    "$$\n",
    "Ax=b \\Rightarrow \\left\\| b \\right\\| \\le \\left\\| A \\right\\| \\cdot \\left\\| x \\right\\| \\Rightarrow \\frac{1}{\\left\\| x \\right\\| } \\le \\frac{\\left\\| A \\right\\|}{\\left\\| b \\right\\|}\n",
    "$$\n",
    "\n",
    "y se llega por tanto a:\n",
    "$$\n",
    "\\frac{\\left\\| \\Delta x \\right\\|}{\\left\\| x \\right\\|} \\le \\left\\| A \\right\\| \\cdot \\left\\| A^{-1} \\right\\| \\cdot \\frac{\\left\\| \\Delta b \\right\\|}{\\left\\| b \n",
    "\\right\\|}\n",
    "$$\n",
    "de donde se deduce que la cantidad $\\left\\| A \\right\\| \\cdot \\left\\| A^{-1} \\right\\|$ es el número de condición para sistemas lineales, también denotado como $\\kappa \\left( A \\right)$. Si en lugar de una pequeña variación en $b$ se supusiese una pequeña variación en $A$, se llega un resultado análogo, con el mismo número de condición (ver demostración por ejemplo en *Introduction to Numerical Linear Algebra and Optimisation, P. G. Ciarlet*)\n",
    "\n",
    "<span style=\"color: orange\">no depende del vector de coeficientes independientes (x) pero si de la madriz A</span>"
   ]
  },
  {
   "cell_type": "markdown",
   "metadata": {},
   "source": [
    "\n",
    "Para completar el resultado anterior, falta recordar el concepto de norma matricial. Nótese que las normas matriciales y vectoriales escogidas para las anteriores expresiones deben ser coherentes (deben estar *subordinadas*). Recuérdese las siguientes tres normas para una matriz $A$ de dimensiones $n \\times m$:\n",
    " - $\\left\\| A \\right\\|_1 = \\max_{j=1,\\dots,n} \\sum_{i=1}^m \\left|A_{ij}\\right|$, subordinada a la norma vectorial $\\ell_1$ ([norma Manhattan](https://en.wikipedia.org/wiki/Norm_(mathematics)#Taxicab_norm_or_Manhattan_norm)).\n",
    " - $\\left\\| A \\right\\|_2 = \\max_{k=1,\\dots,n} \\sqrt{\\mu_i}$, subordinada a la norma vectorial $\\ell_2$ ([norma euclídea](https://en.wikipedia.org/wiki/Norm_(mathematics)#Euclidean_norm))\n",
    " - $\\left\\| A \\right\\|_\\infty = \\max_{i=1,\\dots,m} \\sum_{j=1}^n \\left|A_{ij}\\right|$, subordinada a la norma vectorial $\\ell_\\infty$ ([norma infinito](https://en.wikipedia.org/wiki/Uniform_norm)).\n",
    "  \n",
    "siendo $\\mu_i$ los autovalores de la matriz $A^T A$. Para denotar de forma inequívoca qué norma se está utilizando para calcular el número de condición, en ocasiones se le añade un subíndice, por ejemplo  $\\kappa_2$. "
   ]
  },
  {
   "cell_type": "markdown",
   "metadata": {},
   "source": [
    "En el contexto del estudio del condicionamiento, hay un resultado interesante que es de gran utilidad (ver demostración por ejemplo en *Matrix Perturbation Theory, G. W. Stewart, J.-G. Sun*). Si $A$ es una [matriz normal](https://en.wikipedia.org/wiki/Normal_matrix) (es decir, cumple que $A^TA=AA^T$) usando la norma $\\left\\| \\cdot \\right\\|_2$, el número de condición $\\kappa \\left( A \\right)$ de una determinada matriz puede escribirse como:\n",
    "$$\n",
    "\\kappa \\left( A \\right) = \\frac{\\left| \\lambda_{\\mathrm{max}} \\right|}{\\left| \\lambda_{\\mathrm{min}} \\right|}\n",
    "$$\n",
    "siendo $\\lambda_{\\mathrm{max}}$ y $\\lambda_{\\mathrm{min}}$ los autovalores máximo y mínimo de $A$, respectivamente."
   ]
  },
  {
   "cell_type": "markdown",
   "metadata": {},
   "source": [
    "\n",
    "**Ejercicio 3 -** Analiza si los siguientes sistemas de ecuaciones son o no sensibles a la variación de los datos de entrada. Primero haz una exploración experimentando en Python con los datos, y luego realiza una deducción analítica para justificar el comportamiento observado:\n",
    "\n",
    "$$\n",
    "\\left\\{\\begin{array}{ll}\n",
    "      x + 2y &= 4 \\\\\n",
    "      2x + 3.999y &= 7.999 \\\\\n",
    "\\end{array} \\right. \n",
    "\\qquad\n",
    "\\left\\{\\begin{array}{ll}\n",
    "      x + 2y &= 4 \\\\\n",
    "      2x + 3y &= 7 \\\\\n",
    "\\end{array} \\right. \n",
    "$$\n",
    "\n",
    "<span style=\"color: orange\"> si un sistema esta  mal condicionada es porque al sumarle una variacion muy pequeña la solución tiene un error significativo mayor del esperado</span>"
   ]
  },
  {
   "cell_type": "code",
   "execution_count": 1,
   "metadata": {},
   "outputs": [
    {
     "name": "stdout",
     "output_type": "stream",
     "text": [
      "cond1_norm1 = np.float64(35988.00100000397), cond2_norm1 = np.float64(25.0) \n",
      "cond1_norm2 = np.float64(29990.200991994334), cond2_norm2 = np.float64(21.180339887498945) \n",
      "cond1_norm_inf = np.float64(35988.00100000397), cond2_norm_inf = np.float64(25.0) \n"
     ]
    }
   ],
   "source": [
    "#te estan pidiendo que analices el condicionamiento\n",
    "import numpy as np\n",
    "A1 = np.array([[1 , 2], [2, 3.999]])\n",
    "b1 = np.array([4, 3.999])\n",
    "A2 = np.array([[1, 2], [2, 3]])\n",
    "b2 = np.array([4, 7])\n",
    "\n",
    "A1_inv = np.linalg.inv(A1)\n",
    "A2_inv = np.linalg.inv(A2)\n",
    "\n",
    "\n",
    "eig1 = np.linalg.eigvals(A1) #autovalores = eig\n",
    "eig2 = np.linalg.eigvals(A2)\n",
    "\n",
    "\n",
    "cond1_norm1 = np.linalg.norm(A1_inv, 1) * np.linalg.norm(A1, 1) # np.linalg.norm(A1, 1) -> calcular al norma de (matriz, el tipo de norma)\n",
    "cond2_norm1 = np.linalg.norm(A2_inv, 1) * np.linalg.norm(A2, 1)\n",
    "\n",
    "cond1_norm2 = np.linalg.norm(A1_inv, 1) * np.linalg.norm(A1, 2)\n",
    "cond2_norm2 = np.linalg.norm(A2_inv, 1) * np.linalg.norm(A2, 2)\n",
    "\n",
    "cond1_norm_inf = np.linalg.norm(A1_inv, np.inf) * np.linalg.norm(A1, np.inf)\n",
    "cond2_norm_inf = np.linalg.norm(A2_inv, np.inf) * np.linalg.norm(A2, np.inf)\n",
    "\n",
    "\n",
    "print(f'{cond1_norm1 = }, {cond2_norm1 = } ')\n",
    "print(f'{cond1_norm2 = }, {cond2_norm2 = } ')\n",
    "print(f'{cond1_norm_inf = }, {cond2_norm_inf = } ')"
   ]
  },
  {
   "cell_type": "code",
   "execution_count": 3,
   "metadata": {},
   "outputs": [
    {
     "name": "stdout",
     "output_type": "stream",
     "text": [
      "[[1.    2.   ]\n",
      " [2.    3.999]]\n",
      "[[-3999.  2000.]\n",
      " [ 2000. -1000.]]\n"
     ]
    }
   ],
   "source": [
    "print(A1)\n",
    "print(A1_inv)"
   ]
  },
  {
   "cell_type": "code",
   "execution_count": 9,
   "metadata": {},
   "outputs": [
    {
     "name": "stdout",
     "output_type": "stream",
     "text": [
      " es la matriz A1 normal True\n",
      " es la matriz A2 normal True\n"
     ]
    }
   ],
   "source": [
    "print(f' es la matriz A1 normal {np.allclose(A1 * A1.T, A1.T * A1)}')\n",
    "print(f' es la matriz A2 normal {np.allclose(A2 * A2.T, A2.T * A2)}')"
   ]
  },
  {
   "cell_type": "code",
   "execution_count": 10,
   "metadata": {},
   "outputs": [
    {
     "name": "stdout",
     "output_type": "stream",
     "text": [
      "24992.000959963632\n",
      "17.944271909999152\n"
     ]
    }
   ],
   "source": [
    "print(abs(max(eig1)) / abs(min(eig1)))\n",
    "print(abs(max(eig2)) / abs(min(eig2)))"
   ]
  },
  {
   "cell_type": "code",
   "execution_count": 11,
   "metadata": {},
   "outputs": [
    {
     "data": {
      "text/plain": [
       "0.007839052198661225"
      ]
     },
     "execution_count": 11,
     "metadata": {},
     "output_type": "execute_result"
    }
   ],
   "source": [
    "from random import random\n",
    "\n",
    "delta = random() /100\n",
    "delta"
   ]
  },
  {
   "cell_type": "code",
   "execution_count": 14,
   "metadata": {},
   "outputs": [
    {
     "name": "stdout",
     "output_type": "stream",
     "text": [
      "[-7998.  4001.]\n",
      "[1170.80343821 -585.69506664]\n",
      "\n",
      "[2. 1.]\n",
      "[2.02351716 0.97648284]\n"
     ]
    }
   ],
   "source": [
    "print(np.linalg.solve(A1, b1))\n",
    "print(np.linalg.solve(A1 + delta, b1))\n",
    "print()\n",
    "print(np.linalg.solve(A2, b2))\n",
    "print(np.linalg.solve(A2 + delta, b2))"
   ]
  },
  {
   "cell_type": "code",
   "execution_count": 18,
   "metadata": {},
   "outputs": [
    {
     "name": "stdout",
     "output_type": "stream",
     "text": [
      "0.0015680613182513172\n",
      "1.1463870552231634\n"
     ]
    }
   ],
   "source": [
    "err_rel_entrada1 = delta / np.linalg.norm(A1)\n",
    "err_rel_salida1 = np.linalg.norm(np.linalg.solve(A1, b1) - np.linalg.solve(A1 + delta, b1)) / np.linalg.norm(np.linalg.solve(A1, b1))\n",
    "\n",
    "print(err_rel_entrada1)\n",
    "print(err_rel_salida1)"
   ]
  },
  {
   "cell_type": "code",
   "execution_count": null,
   "metadata": {},
   "outputs": [],
   "source": []
  }
 ],
 "metadata": {
  "kernelspec": {
   "display_name": "Python 3",
   "language": "python",
   "name": "python3"
  },
  "language_info": {
   "codemirror_mode": {
    "name": "ipython",
    "version": 3
   },
   "file_extension": ".py",
   "mimetype": "text/x-python",
   "name": "python",
   "nbconvert_exporter": "python",
   "pygments_lexer": "ipython3",
   "version": "3.12.6"
  },
  "orig_nbformat": 4
 },
 "nbformat": 4,
 "nbformat_minor": 2
}
