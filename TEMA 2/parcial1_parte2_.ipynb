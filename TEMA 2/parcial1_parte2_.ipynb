{
 "cells": [
  {
   "cell_type": "markdown",
   "metadata": {},
   "source": [
    "# Primer parcial - Algorítmica numérica"
   ]
  },
  {
   "cell_type": "markdown",
   "metadata": {},
   "source": [
    "## Segunda Parte: **Preguntas de desarrollo** - con apuntes, 60min, total 5 puntos"
   ]
  },
  {
   "cell_type": "markdown",
   "metadata": {},
   "source": [
    "## Ejercicio 1 (2.5 puntos)\n",
    "\n",
    "Dado un número natural $n$, se pretende encontrar el mayor producto de dos números primos consecutivos que sea igual o inferior a dicho $n$. Llamaremos a este producto $p$.\n",
    "\n",
    "Considera por ejemplo $n=95$. El listado de los primeros primos es:\n",
    "\n",
    "$$\n",
    "2, 3, 5, 7, 11, 13, 17, \\dots\n",
    "$$\n",
    "\n",
    "El mayor producto de dos de estos primos consecutivos que está por debajo de $n=95$ es el producto de $7$ y $11$, ya que $11$ multiplicado por $13$ ya supera $n$. Luego para $n=95$, $p$ vale $77$.\n",
    "\n",
    "Programa una función ```prime_couple(n: int) -> int``` que calcule $p$ a partir de $n$. **Explica en texto todas las decisiones que tomes sobre el diseño del algoritmo**. \n",
    "\n",
    "Considera los siguientes resultados para tus pruebas:\n",
    " - $n = 2021 \\, \\to \\, p=2021$ (es exactamente el producto de los números primos consecutivos $43$ y $47$)\n",
    " - $n = 2020 \\, \\to \\, p=1763$ (porque el producto de 41 y 43 es 1763 que es menor que 2020, pero el producto de 43 y 47 ya supera el valor dado de 2020).\n",
    "\n",
    "-----------------\n",
    "\n",
    "<p style=\" font-size:11pt; font-style:italic\">\n",
    "El ejercicio se evaluará mediante 3 tests, que dependen del orden de magnitud de n:\n",
    "</p>\n",
    "<p style=\" font-size:11pt; font-style:italic\"> - Test 1: el programa funcionará correctamente devolviendo los resultados en un tiempo razonable (menos de ~20s) para n <= 2021.</p>\n",
    "<p style=\" font-size:11pt; font-style:italic\"> - Test 2: el programa funcionará correctamente devolviendo los resultados en un tiempo razonable (menos de ~20s) para n <= 10^8.</p>\n",
    "<p style=\" font-size:11pt; font-style:italic\"> - Test 3: el programa funcionará correctamente devolviendo los resultados en un tiempo razonable (menos de ~20s) para n <= 10^16.</p>\n",
    "\n"
   ]
  },
  {
   "cell_type": "code",
   "execution_count": 10,
   "metadata": {},
   "outputs": [
    {
     "name": "stdout",
     "output_type": "stream",
     "text": [
      "7\n",
      "6\n",
      "5\n",
      "4\n",
      "3\n",
      "2\n",
      "1\n"
     ]
    }
   ],
   "source": [
    "numeros = [1, 2, 3, 4, 5, 6,7 ]\n",
    "numeros.reverse()\n",
    "for num in numeros:\n",
    "    print(num)"
   ]
  },
  {
   "cell_type": "code",
   "execution_count": 13,
   "metadata": {},
   "outputs": [
    {
     "name": "stdout",
     "output_type": "stream",
     "text": [
      "9 5 4\n",
      "\n"
     ]
    }
   ],
   "source": [
    " \n",
    "n = 10\n",
    "x = n+1\n",
    "i = 0\n",
    "\n",
    "for num in numeros:\n",
    "    x = numeros[i] + numeros[i+1]\n",
    "    if x > n:\n",
    "        i += 1\n",
    "\n",
    "print(x, numeros[i], numeros[i + 1])\n",
    "print()\n"
   ]
  },
  {
   "cell_type": "code",
   "execution_count": 41,
   "metadata": {},
   "outputs": [
    {
     "name": "stdout",
     "output_type": "stream",
     "text": [
      "(2021, 2021, 47, 43)\n",
      "(2020, 1763, 43, 41)\n",
      "(100000000, 99799811, 10007, 9973)\n",
      "(1000000000000, 999985999949, 1000003, 999983)\n"
     ]
    }
   ],
   "source": [
    "def prime_couple(n: int) -> int:\n",
    "\n",
    "    def es_primo(n: int) -> bool:\n",
    "        \"\"\"\n",
    "        cribamos primero todos aquellos numero que sabemos de antemano que no van a ser primos.\n",
    "        \"\"\"\n",
    "        if n <= 1:\n",
    "            return False\n",
    "        \n",
    "        if n <= 3: # 2 y 3\n",
    "            return True\n",
    "        \n",
    "        if n % 2 == 0 or n % 3 == 0:\n",
    "            return False\n",
    "        \"\"\"\n",
    "        6k - 1 -> primer k que cumple ser multiplo de 6 es 5\n",
    "\n",
    "        6k - 1, tiene que ser multiplo de 6 + 1 o 6 -1 \n",
    "        porque todo n multiplo de 6 ya ha sido cribado por ser multiplo de 2 y 3 \n",
    "        6k, 6k +2 y 6k+4 son multiplo de 2, \n",
    "        6k + 3 es mult de 3\n",
    "        6k + 1 es el unico vacio que no se ha limpiado previamente,\n",
    "        por eso iteramos de 6 en 6 a partir de 5.\n",
    "        \"\"\"\n",
    "\n",
    "        i = 5\n",
    "\n",
    "        while i < n ** 0.5:\n",
    "            if n % i == 0  or n % (i+2) == 0: #i +2 porque hay que cumbrir 6k - 1 y 6k + 1 (diferencia +2)\n",
    "                return False\n",
    "            \n",
    "            i += 6\n",
    "\n",
    "        return True\n",
    "    \n",
    "    primos = []\n",
    "\n",
    "\n",
    "    for i in range(2, int((n ** 0.5) * 1.3)):\n",
    "        if es_primo(i) == True:\n",
    "            primos.append(i)\n",
    "    \n",
    "\n",
    "\n",
    "    primos.reverse()\n",
    "    #print(primos)\n",
    "    j = 0\n",
    "\n",
    "    for num in primos:\n",
    "        producto_max = primos[j] * primos[j+1]\n",
    "        if producto_max > n:\n",
    "            j += 1\n",
    "\n",
    "    return n, producto_max,  primos[j], primos[j+1]\n",
    "\n",
    "    \n",
    "\n",
    "\n",
    "print(prime_couple(2021))\n",
    "print(prime_couple(2020))\n",
    "print(prime_couple(10 ** 8))\n",
    "#print(prime_couple(10 ** 10))\n",
    "print(prime_couple(10 ** 12))\n",
    "#print(prime_couple(10 ** 16)) tarrda mas de 15 mins xd\n",
    "\n",
    "\n",
    "\n",
    "\n"
   ]
  },
  {
   "cell_type": "code",
   "execution_count": 44,
   "metadata": {},
   "outputs": [
    {
     "name": "stdout",
     "output_type": "stream",
     "text": [
      "(2021, 2021, 47, 43)\n",
      "(2020, 1763, 43, 41)\n",
      "(100000000, 99799811, 10007, 9973)\n",
      "(1000000000000, 999985999949, 1000003, 999983)\n",
      "(10000000000000000, 9999999599999923, 100000007, 99999989)\n"
     ]
    }
   ],
   "source": [
    "def prime_couple(n: int) -> int:\n",
    "\n",
    "    def criba_de_eratostenes(n):\n",
    "        # Crea una lista de booleanos marcando todos los números como primos inicialmente\n",
    "        primos = [True] * (n + 1)\n",
    "        p = 2\n",
    "        while (p * p <= n):\n",
    "            # Si primos[p] no ha sido marcado como False, es un número primo\n",
    "            if (primos[p] == True):\n",
    "                # Actualiza todos los múltiplos de p para no ser primos\n",
    "                for i in range(p * p, n + 1, p):\n",
    "                    primos[i] = False\n",
    "            p += 1\n",
    "        \n",
    "        # Devuelve todos los números primos\n",
    "        return [p for p in range(2, n + 1) if primos[p]]\n",
    "    \n",
    "    primos = criba_de_eratostenes(int((n**0.5) * 1.3))\n",
    "\n",
    "    primos.reverse()\n",
    "    #print(primos)\n",
    "    j = 0\n",
    "\n",
    "    for num in primos:\n",
    "        producto_max = primos[j] * primos[j+1]\n",
    "        if producto_max > n:\n",
    "            j += 1\n",
    "\n",
    "    return n, producto_max,  primos[j], primos[j+1]\n",
    "\n",
    "    \n",
    "\n",
    "\n",
    "print(prime_couple(2021))\n",
    "print(prime_couple(2020))\n",
    "print(prime_couple(10 ** 8))\n",
    "#print(prime_couple(10 ** 10))\n",
    "print(prime_couple(10 ** 12))\n",
    "print(prime_couple(10 ** 16)) \n",
    "\n",
    "\n"
   ]
  },
  {
   "cell_type": "markdown",
   "metadata": {},
   "source": [
    "## Ejercicio 2 (2.5 puntos)\n",
    "\n",
    " - **(a) [0.3 puntos] -** ¿Qué problema se presenta al usar ciertas fórmulas de diferencias finitas (DF) en los extremos de la malla?"
   ]
  },
  {
   "cell_type": "markdown",
   "metadata": {},
   "source": [
    "<span style=\"color:orange\">el problema que tiene es que para los primeros puntos estas obligado a usar diferencias finitas adelantadas pues no puedes usar puntos anteriores ya que no existen y por tanto no puedes usar df centradas o df atrasadas. lo mismo pasa con los ultios puntos de la malla pero con pustos posteriores, limitando el calculo en el extremo a df atrasadas</span>.\n"
   ]
  },
  {
   "cell_type": "markdown",
   "metadata": {},
   "source": [
    "\n",
    "Para solucionar el problema anterior, un método que suele utilizarse es el uso de lo que se conoce como \"nodos fantasma\" (*ghost nodes*). Son nodos ficticios fuera del domino, que pretenden permitir la evaluación de las fórmulas de DF en los nodos extremos. Dada una malla ```x```, si se tuviese algún nodo a la izquierda del limite inferior de la malla ($x_0$) y a la derecha del límite superior ($x_n$), se podrían evaluar las fórmulas de diferencias finitas en toda ```x``` sin preocupación y sin tener que particularizar la fórmula de DF allí.\n",
    "\n",
    "Para calcular el valor que la función tendría en dichos nodos fantasma, se interpola, como se muestra en la siguiente imagen.\n",
    "\n",
    "<center>\n",
    "\n",
    "<div>\n",
    "<img src=\"https://drive.upm.es/index.php/apps/files_sharing/ajax/publicpreview.php?x=1920&y=393&a=true&file=parcial1-parte2-ej2.png&t=lMzyizuhWYbOmMZ&scalingup=0\" width=\"340\"/>\n",
    "</div>\n",
    "\n",
    "</center>\n",
    "\n",
    "\n",
    "Considera una función $f(x)$ definida en un conjunto de puntos discretos en [0, 1] espaciados un paso $h = 0.1$.\n",
    "\n",
    "<center>\n",
    "\n",
    "| **$x$** | 0.00 | 0.10 | 0.20 | 0.30 | 0.40 | 0.50 | 0.60 | 0.70 | 0.80 | 0.90 | 1.00 |\n",
    "|---------|------|------|------|------|------|------|------|------|------|------|------|\n",
    "|**$f(x)$**| 1.00 | 1.07 | 1.09 | 1.06 | 0.98 | 0.88 | 0.74 | 0.57 | 0.39 | 0.20 | 0.00 |\n",
    "\n",
    "</center>\n",
    " \n",
    " Los valores de esta tabla están almacenados en las siguientes dos listas:"
   ]
  },
  {
   "cell_type": "code",
   "execution_count": 46,
   "metadata": {},
   "outputs": [],
   "source": [
    "x = [0.00, 0.10, 0.20, 0.30, 0.40, 0.50, 0.60, 0.70, 0.80, 0.90, 1.00]\n",
    "y = [1.00, 1.07, 1.09, 1.06, 0.98, 0.88, 0.74, 0.57, 0.39, 0.20, 0.00]"
   ]
  },
  {
   "cell_type": "markdown",
   "metadata": {},
   "source": [
    " - **(b) [0.3 puntos] -** Define una lista ```x_with_ghost_nodes``` que represente la malla. Dicha malla debe incluir un nodo fantasma en cada extremo del dominio $[0, 1]$. Por tanto, ten en cuenta que el nodo con índice $0$ ahora no será el nodo correspondiente al primer punto del dominio $[0, 1]$ ($x=0$), sino un nodo más a su izquierda."
   ]
  },
  {
   "cell_type": "code",
   "execution_count": 53,
   "metadata": {},
   "outputs": [
    {
     "name": "stdout",
     "output_type": "stream",
     "text": [
      "[-0.1, 0.0, 0.1, 0.2, 0.3, 0.4, 0.5, 0.6, 0.7, 0.8, 0.9, 1.0, 1.1]\n"
     ]
    }
   ],
   "source": [
    "#solucion\n",
    "\n",
    "h = x[1] - x[0]\n",
    "ult_elemento = [x[-1] + h]\n",
    "primer_elemento = [x[0] - h]\n",
    "\n",
    "x_with_ghost_nodes = primer_elemento + x + ult_elemento\n",
    "\n",
    "print(x_with_ghost_nodes)"
   ]
  },
  {
   "cell_type": "markdown",
   "metadata": {},
   "source": [
    " - **(c) [0.5 puntos] -** Implementa la siguiente función ```get_ghost_node_value(x0, x1, y0, y1, x_ghost)``` que, dados dos abscisas ```x0``` y ```x1``` y sus correspondientes valores de la función ```y0``` e ```y1```, devuelva el valor de la función en ```x_ghost``` (la abscisa del nodo fantasma). Utiliza interpolación lineal."
   ]
  },
  {
   "cell_type": "code",
   "execution_count": 63,
   "metadata": {},
   "outputs": [
    {
     "data": {
      "text/plain": [
       "0.9299999999999999"
      ]
     },
     "execution_count": 63,
     "metadata": {},
     "output_type": "execute_result"
    }
   ],
   "source": [
    "def get_ghost_node_value(x0: float, x1: float, y0: float, y1: float, x_ghost: float) -> float:\n",
    "    \n",
    "    m = (y1 - y0) / (x1 - x0)\n",
    "\n",
    "    b = y0 - m * x0\n",
    "\n",
    "    resultado = m * x_ghost + b\n",
    "\n",
    "    return resultado\n",
    "\n",
    "get_ghost_node_value(0.0, 0.1, 1.00, 1.07, -0.1 )"
   ]
  },
  {
   "cell_type": "code",
   "execution_count": 65,
   "metadata": {},
   "outputs": [
    {
     "data": {
      "text/plain": [
       "128.0"
      ]
     },
     "execution_count": 65,
     "metadata": {},
     "output_type": "execute_result"
    }
   ],
   "source": [
    "( 2 ** 8)/2"
   ]
  },
  {
   "cell_type": "markdown",
   "metadata": {},
   "source": [
    " - **(d) [0.3 puntos] -** Utiliza la función anterior junto con los valores de $f(x)$ para crear una lista ```y_with_ghost_nodes``` que contenga los valores que se utilizarán para evaluar la fórmula de diferencias finitas en el siguiente apartado."
   ]
  },
  {
   "cell_type": "markdown",
   "metadata": {},
   "source": [
    "\n",
    " - **(e) [0.3 puntos] -** Calcula ```y_prime```, una nueva lista que contenga los valores de la derivada de $f(x)$ en $[0, 1]$. Utiliza DF centradas de segundo orden para calcularla. Presta atención a la dimensión de esta nueva lista, que ya no será la misma que la de ```x_with_ghost_nodes``` e ```y_with_ghost_nodes```."
   ]
  },
  {
   "cell_type": "markdown",
   "metadata": {},
   "source": [
    "\n",
    "A partir de este punto, nos centraremos en la discusión de lo que ocurre en $x=0$, sin considerar el resto del dominio.\n",
    "\n",
    " - **(f) [0.3 puntos] -** El valor exacto de $f'(0)$ es $1$. Calcula el error cometido al usar el método empleado anteriormente, y compáralo con el que se obtendría al utilizar en $x=0$ la fórmula de DF adelantadas de segundo orden."
   ]
  },
  {
   "cell_type": "markdown",
   "metadata": {},
   "source": [
    "\n",
    " - **(g) [0.5 puntos] -** Considera la siguiente función:"
   ]
  },
  {
   "cell_type": "code",
   "execution_count": 2,
   "metadata": {},
   "outputs": [],
   "source": [
    "def get_ghost_node_value_improved(x0: float, x1: float, y0: float, y1: float, x_ghost: float, alpha: float):\n",
    "    return alpha * get_ghost_node_value(x0, x1, y0, y1, x_ghost)"
   ]
  },
  {
   "cell_type": "markdown",
   "metadata": {},
   "source": [
    "que es análoga a ```get_ghost_node_value()```, pero que permite modificar la interpolación en los nodos fantasma por medio de un factor ```alpha```. Utiliza ahora esta función para calcular el valor de $f(x)$ en los nodos fantasma, variando alpha en el intervalo $[0.5, 1.5]$ con el objetivo de reducir al mínimo el error relativo cometido en $f'(0)$. ¿Qué valor de ```alpha``` consigue ese mínimo error?"
   ]
  }
 ],
 "metadata": {
  "kernelspec": {
   "display_name": "Python 3",
   "language": "python",
   "name": "python3"
  },
  "language_info": {
   "codemirror_mode": {
    "name": "ipython",
    "version": 3
   },
   "file_extension": ".py",
   "mimetype": "text/x-python",
   "name": "python",
   "nbconvert_exporter": "python",
   "pygments_lexer": "ipython3",
   "version": "3.12.6"
  },
  "orig_nbformat": 4
 },
 "nbformat": 4,
 "nbformat_minor": 2
}
