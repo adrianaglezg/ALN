{
 "cells": [
  {
   "cell_type": "markdown",
   "metadata": {},
   "source": [
    "## Pensamiento algoritmico"
   ]
  },
  {
   "cell_type": "markdown",
   "metadata": {},
   "source": [
    "### criba de eratostenes"
   ]
  },
  {
   "cell_type": "code",
   "execution_count": null,
   "metadata": {},
   "outputs": [],
   "source": [
    "def criba_de_eratostenes(n):\n",
    "    # Crea una lista de booleanos marcando todos los números como primos inicialmente\n",
    "    primos = [True] * (n + 1)\n",
    "    p = 2\n",
    "    while (p * p <= n):\n",
    "        # Si primos[p] no ha sido marcado como False, es un número primo\n",
    "        if (primos[p] == True):\n",
    "            # Actualiza todos los múltiplos de p para no ser primos\n",
    "            for i in range(p * p, n + 1, p):\n",
    "                primos[i] = False\n",
    "        p += 1\n",
    "    \n",
    "    # Devuelve todos los números primos\n",
    "    return [p for p in range(2, n + 1) if primos[p]]\n",
    "\n",
    "# Ejemplo de uso:\n",
    "n = 2000000  # Encuentra todos los primos hasta 1 millón\n",
    "primos_hasta_n = criba_de_eratostenes(n)\n",
    "print(primos_hasta_n)\n"
   ]
  },
  {
   "cell_type": "markdown",
   "metadata": {},
   "source": [
    "### funcion es primo"
   ]
  },
  {
   "cell_type": "code",
   "execution_count": 4,
   "metadata": {},
   "outputs": [
    {
     "data": {
      "text/plain": [
       "True"
      ]
     },
     "execution_count": 4,
     "metadata": {},
     "output_type": "execute_result"
    }
   ],
   "source": [
    "def es_primo(n: int) -> bool:\n",
    "    \"\"\"\n",
    "    cribamos primero todos aquellos numero que sabemos de antemano que no van a ser primos.\n",
    "    \"\"\"\n",
    "    if n <= 1:\n",
    "        return False\n",
    "    \n",
    "    if n <= 3: # 2 y 3\n",
    "        return True\n",
    "    \n",
    "    if n % 2 == 0 or n % 3 == 0:\n",
    "        return False\n",
    "    \"\"\"\n",
    "    6k - 1 -> primer k que cumple ser multiplo de 6 es 5\n",
    "\n",
    "    6k - 1, tiene que ser multiplo de 6 + 1 o 6 -1 \n",
    "    porque todo n multiplo de 6 ya ha sido cribado por ser multiplo de 2 y 3 \n",
    "    6k, 6k +2 y 6k+4 son multiplo de 2, \n",
    "    6k + 3 es mult de 3\n",
    "    6k + 1 es el unico vacio que no se ha limpiado previamente,\n",
    "    por eso iteramos de 6 en 6 a partir de 5.\n",
    "    \"\"\"\n",
    "\n",
    "    i = 5\n",
    "\n",
    "    while i < n ** 0.5:\n",
    "        if n % i == 0  or n % (i+2) == 0: #i +2 porque hay que cumbrir 6k - 1 y 6k + 1 (diferencia +2)\n",
    "            return False\n",
    "        \n",
    "        i += 6\n",
    "\n",
    "    return True\n",
    "\n",
    "#%time es_primo(100000010000019)\n",
    "es_primo(61)"
   ]
  },
  {
   "cell_type": "markdown",
   "metadata": {},
   "source": [
    "### algo de primos"
   ]
  },
  {
   "cell_type": "code",
   "execution_count": null,
   "metadata": {},
   "outputs": [],
   "source": [
    "def prime_couple(n: int) -> int:\n",
    "\n",
    "    def criba_de_eratostenes(n):\n",
    "        # Crea una lista de booleanos marcando todos los números como primos inicialmente\n",
    "        primos = [True] * (n + 1)\n",
    "        p = 2\n",
    "        while (p * p <= n):\n",
    "            # Si primos[p] no ha sido marcado como False, es un número primo\n",
    "            if (primos[p] == True):\n",
    "                # Actualiza todos los múltiplos de p para no ser primos\n",
    "                for i in range(p * p, n + 1, p):\n",
    "                    primos[i] = False\n",
    "            p += 1\n",
    "        \n",
    "        # Devuelve todos los números primos\n",
    "        return [p for p in range(2, n + 1) if primos[p]]\n",
    "    \n",
    "    primos = criba_de_eratostenes(int((n**0.5) * 1.3))\n",
    "\n",
    "    primos.reverse()\n",
    "    #print(primos)\n",
    "    j = 0\n",
    "\n",
    "    for num in primos:\n",
    "        producto_max = primos[j] * primos[j+1]\n",
    "        if producto_max > n:\n",
    "            j += 1\n",
    "\n",
    "    return n, producto_max,  primos[j], primos[j+1]\n",
    "\n",
    "    \n",
    "\n",
    "\n",
    "print(prime_couple(2021))\n",
    "print(prime_couple(2020))\n",
    "print(prime_couple(10 ** 8))\n",
    "#print(prime_couple(10 ** 10))\n",
    "print(prime_couple(10 ** 12))\n",
    "print(prime_couple(10 ** 16)) \n",
    "\n",
    "\n"
   ]
  },
  {
   "cell_type": "markdown",
   "metadata": {},
   "source": [
    "# Errores en $\\mathbb{R^n}$"
   ]
  },
  {
   "cell_type": "markdown",
   "metadata": {},
   "source": [
    "Error absoluto = distancia entre $ x $ y  $\\tilde{x}||$ $x - \\tilde{x}||$, en $\\mathbb{R^1}$ es la resta\n",
    "\n",
    "Error relativo = generalizandolo es  $E_r = \\frac{\\left|| x - \\tilde{x}\n",
    "\\right||}{\\left|| x \\right||}$"
   ]
  },
  {
   "cell_type": "code",
   "execution_count": 64,
   "metadata": {},
   "outputs": [],
   "source": [
    "def error_absoluto(valor_real, valor_aprox):\n",
    "    \n",
    "    return abs(valor_real - valor_aprox )\n",
    "\n",
    "def error_relativo(valor_real, valor_aprox):\n",
    "\n",
    "    return error_absoluto(valor_real, valor_aprox) / abs(valor_real)"
   ]
  },
  {
   "cell_type": "markdown",
   "metadata": {},
   "source": [
    "## Diferencias finitas\n"
   ]
  },
  {
   "cell_type": "markdown",
   "metadata": {},
   "source": [
    "1. dentro de lso parametro que se dan, definimos el index_x_value (va a ser un array que contiene las distancias a cada punto de la malla) para que si el usuario pasa un parametro  0.23, lo aproxime al valor mas cercano de la malla queremos el indice no el valor mas cercano\n",
    "2. como estamos en mallas equidistante definimos una h que es el paso entre cada numerito de la malla"
   ]
  },
  {
   "cell_type": "markdown",
   "metadata": {},
   "source": [
    "### mallas equispaciadas"
   ]
  },
  {
   "cell_type": "code",
   "execution_count": null,
   "metadata": {},
   "outputs": [],
   "source": [
    "import numpy as np\n",
    "\n",
    "def df1_centradas_segundo_orden(x: list[float] | tuple[float, ...], # utilizan uno de antes y uno de despues\n",
    "                               y: list[float] | tuple[float, ...],\n",
    "                               x_val : float):\n",
    "    \n",
    "    '''derivada primera para diferencias finitas\n",
    "    centradas'''\n",
    "    \n",
    "    \"\"\"\"solo funciona con mallas equispaciadas\"\"\"\n",
    "\n",
    "    index_x_value = np.abs(np.array(x) - x_val).argmin() #paso 1\n",
    "    h = x[1] - x[0] #paso 2\n",
    "\n",
    "    # valor de la izq - valor de la derecha dividido por el 2h\n",
    "    return(y[index_x_value + 1] - y[index_x_value - 1]) / (2 * h) \n",
    "\n",
    "\n",
    "\n",
    "def df1_adelantadas_orden_1(x: list[float] | tuple[float, ...],\n",
    "                            y: list[float] | tuple[float, ...],\n",
    "                            x_val: float):\n",
    "    '''Derivada primera para diferencias finitas\n",
    "    adelantadas de primer orden'''\n",
    "    index_x_value = np.abs(np.array(x) - x_val).argmin()  # Paso 1\n",
    "    h = x[1] - x[0]  # Paso 2\n",
    "\n",
    "    return (y[index_x_value + 1] - y[index_x_value]) / h\n",
    "\n",
    "\n",
    "def df1_atrasadas_orden_1(x: list[float] | tuple[float, ...],\n",
    "                          y: list[float] | tuple[float, ...],\n",
    "                          x_val: float):\n",
    "    '''Derivada primera para diferencias finitas\n",
    "    atrasadas de primer orden'''\n",
    "    index_x_value = np.abs(np.array(x) - x_val).argmin()  # Paso 1\n",
    "    h = x[1] - x[0]  # Paso 2\n",
    "\n",
    "    return (y[index_x_value] - y[index_x_value - 1]) / h\n",
    "\n",
    "\n",
    "def df2_adelantadas_orden_1(x: list[float] | tuple[float, ...],\n",
    "                            y: list[float] | tuple[float, ...],\n",
    "                            x_val: float):\n",
    "    '''Derivada segunda para diferencias finitas\n",
    "    adelantadas de primer orden'''\n",
    "    index_x_value = np.abs(np.array(x) - x_val).argmin()  # Paso 1\n",
    "    h = x[1] - x[0]  # Paso 2\n",
    "\n",
    "    return (y[index_x_value + 2] - 2 * y[index_x_value + 1] + y[index_x_value]) / h**2\n",
    "\n",
    "\n",
    "def df2_atrasadas_orden_1(x: list[float] | tuple[float, ...],\n",
    "                          y: list[float] | tuple[float, ...],\n",
    "                          x_val: float):\n",
    "    '''Derivada segunda para diferencias finitas\n",
    "    atrasadas de primer orden'''\n",
    "    index_x_value = np.abs(np.array(x) - x_val).argmin()  # Paso 1\n",
    "    h = x[1] - x[0]  # Paso 2\n",
    "\n",
    "    return (y[index_x_value] - 2 * y[index_x_value - 1] + y[index_x_value - 2]) / h**2\n",
    "\n",
    "\n",
    "def df2_centradas_segundo_orden(x: list[float] | tuple[float, ...],\n",
    "                                y: list[float] | tuple[float, ...],\n",
    "                                x_val: float):\n",
    "    '''Derivada segunda para diferencias finitas\n",
    "    centradas de segundo orden'''\n",
    "    index_x_value = np.abs(np.array(x) - x_val).argmin()  # Paso 1\n",
    "    h = x[1] - x[0]  # Paso 2\n",
    "\n",
    "    return (y[index_x_value + 1] - 2 * y[index_x_value] + y[index_x_value - 1]) / h**2\n"
   ]
  },
  {
   "cell_type": "code",
   "execution_count": 62,
   "metadata": {},
   "outputs": [
    {
     "name": "stdout",
     "output_type": "stream",
     "text": [
      "Derivada primera adelantada en x=5.0: 0.2835416084770542\n",
      "Derivada segunda centrada en x=5.0: 0.9711956411516911\n"
     ]
    }
   ],
   "source": [
    "\n",
    "# Definimos la malla equiespaciada\n",
    "x = np.linspace(0, 10, 100)\n",
    "y = np.sin(x)  # Por ejemplo, la función seno\n",
    "\n",
    "# Valor de x donde queremos aproximar la derivada\n",
    "x_val = 5.0\n",
    "\n",
    "# Calculamos la derivada primera usando diferencias adelantadas\n",
    "derivada_adelantada = df1_adelantadas_orden_1(x, y, x_val)\n",
    "print(f\"Derivada primera adelantada en x={x_val}: {derivada_adelantada}\")\n",
    "\n",
    "# Calculamos la derivada segunda usando diferencias centradas\n",
    "derivada_segunda_centrada = df2_centradas_segundo_orden(x, y, x_val)\n",
    "print(f\"Derivada segunda centrada en x={x_val}: {derivada_segunda_centrada}\")\n"
   ]
  },
  {
   "cell_type": "code",
   "execution_count": 63,
   "metadata": {},
   "outputs": [
    {
     "name": "stdout",
     "output_type": "stream",
     "text": [
      " la primera derivada de x = 0.1 es 0.6705\n",
      " la segunda derivada de x = 0.1 es -2.9699999999999998\n"
     ]
    }
   ],
   "source": [
    "x = [0.0, 0.1, 0.2, 0.3, 0.4]\n",
    "y = [0.0000, 0.0819, 0.1341, 0.1646, 0.1797]\n",
    "\n",
    "print(f\" la primera derivada de x = 0.1 es {df1_centradas_segundo_orden(x, y, 0.1)}\")\n",
    "print(f\" la segunda derivada de x = 0.1 es {df2_centradas_segundo_orden(x, y, 0.1)}\")"
   ]
  },
  {
   "cell_type": "markdown",
   "metadata": {},
   "source": [
    "### mallas no equispaciadas"
   ]
  },
  {
   "cell_type": "code",
   "execution_count": null,
   "metadata": {},
   "outputs": [],
   "source": [
    "from typing import Sequence\n",
    "import numpy as np\n",
    "\n",
    "def df1_adelantadas_no_equispaciadas(x: Sequence[float],\n",
    "                                     y: Sequence[float],\n",
    "                                     x_val: float):\n",
    "    '''Derivada primera usando diferencias finitas adelantadas\n",
    "    en malla no equiespaciada'''\n",
    "    index_x_value = np.abs(np.array(x) - x_val).argmin()  # Paso 1\n",
    "    if index_x_value >= len(x) - 1:\n",
    "        raise ValueError(\"No se puede calcular la derivada adelantada en el último punto.\")\n",
    "    h = x[index_x_value + 1] - x[index_x_value]  # Paso 2\n",
    "    return (y[index_x_value + 1] - y[index_x_value]) / h\n",
    "\n",
    "\n",
    "def df1_atrasadas_no_equispaciadas(x: Sequence[float],\n",
    "                                   y: Sequence[float],\n",
    "                                   x_val: float):\n",
    "    '''Derivada primera usando diferencias finitas atrasadas\n",
    "    en malla no equiespaciada'''\n",
    "    index_x_value = np.abs(np.array(x) - x_val).argmin()  # Paso 1\n",
    "    if index_x_value == 0:\n",
    "        raise ValueError(\"No se puede calcular la derivada atrasada en el primer punto.\")\n",
    "    h = x[index_x_value] - x[index_x_value - 1]  # Paso 2\n",
    "    return (y[index_x_value] - y[index_x_value - 1]) / h\n",
    "\n",
    "\n",
    "def df1_centradas_no_equispaciadas(x: Sequence[float],\n",
    "                                   y: Sequence[float],\n",
    "                                   x_val: float):\n",
    "    '''Derivada primera usando diferencias finitas centradas\n",
    "    en malla no equiespaciada'''\n",
    "    index_x_value = np.abs(np.array(x) - x_val).argmin()  # Paso 1\n",
    "    if index_x_value == 0 or index_x_value >= len(x) - 1:\n",
    "        raise ValueError(\"No se puede calcular la derivada centrada en los extremos.\")\n",
    "    x_i_minus = x[index_x_value - 1]\n",
    "    x_i = x[index_x_value]\n",
    "    x_i_plus = x[index_x_value + 1]\n",
    "    y_i_minus = y[index_x_value - 1]\n",
    "    y_i = y[index_x_value]\n",
    "    y_i_plus = y[index_x_value + 1]\n",
    "\n",
    "    h_minus = x_i - x_i_minus\n",
    "    h_plus = x_i_plus - x_i\n",
    "\n",
    "    numerator = (h_plus**2 * y_i_minus - (h_minus**2 - h_plus**2) * y_i - h_minus**2 * y_i_plus)\n",
    "    denominator = h_minus * h_plus * (h_minus + h_plus)\n",
    "    return numerator / denominator\n",
    "\n",
    "\n",
    "def df2_centradas_no_equispaciadas(x: Sequence[float],\n",
    "                                   y: Sequence[float],\n",
    "                                   x_val: float):\n",
    "    \n",
    "    '''Derivada segunda usando diferencias finitas centradas\n",
    "    en malla no equiespaciada'''\n",
    "\n",
    "    index_x_value = np.abs(np.array(x) - x_val).argmin()  # Paso 1\n",
    "    if index_x_value == 0 or index_x_value >= len(x) - 1:\n",
    "        raise ValueError(\"No se puede calcular la derivada centrada en los extremos.\")\n",
    "    x_i_minus = x[index_x_value - 1]\n",
    "    x_i = x[index_x_value]\n",
    "    x_i_plus = x[index_x_value + 1]\n",
    "    y_i_minus = y[index_x_value - 1]\n",
    "    y_i = y[index_x_value]\n",
    "    y_i_plus = y[index_x_value + 1]\n",
    "\n",
    "    h_minus = x_i - x_i_minus\n",
    "    h_plus = x_i_plus - x_i\n",
    "\n",
    "    numerator = 2 * (y_i_minus / (h_minus * (h_minus + h_plus)) - y_i / (h_minus * h_plus) + y_i_plus / (h_plus * (h_minus + h_plus)))\n",
    "    return numerator\n",
    "\n",
    "def df2_adelantadas_no_equispaciadas(x: Sequence[float],\n",
    "                                     y: Sequence[float],\n",
    "                                     x_val: float):\n",
    "    '''Derivada segunda usando diferencias finitas adelantadas\n",
    "    en malla no equiespaciada'''\n",
    "    index_x_value = np.abs(np.array(x) - x_val).argmin()  # Paso 1\n",
    "    if index_x_value >= len(x) - 2:\n",
    "        raise ValueError(\"No se puede calcular la derivada adelantada de segundo orden cerca del final.\")\n",
    "    x_i = x[index_x_value]\n",
    "    x_i_plus1 = x[index_x_value + 1]\n",
    "    x_i_plus2 = x[index_x_value + 2]\n",
    "    y_i = y[index_x_value]\n",
    "    y_i_plus1 = y[index_x_value + 1]\n",
    "    y_i_plus2 = y[index_x_value + 2]\n",
    "\n",
    "    h1 = x_i_plus1 - x_i\n",
    "    h2 = x_i_plus2 - x_i_plus1\n",
    "\n",
    "    numerator = 2 * (y_i / (h1 * (h1 + h2)) - y_i_plus1 / (h1 * h2) + y_i_plus2 / (h2 * (h1 + h2)))\n",
    "    return numerator\n",
    "\n",
    "def df2_atrasadas_no_equispaciadas(x: Sequence[float],\n",
    "                                   y: Sequence[float],\n",
    "                                   x_val: float):\n",
    "    '''Derivada segunda usando diferencias finitas atrasadas\n",
    "    en malla no equiespaciada'''\n",
    "    index_x_value = np.abs(np.array(x) - x_val).argmin()  # Paso 1\n",
    "    if index_x_value < 2:\n",
    "        raise ValueError(\"No se puede calcular la derivada atrasada de segundo orden cerca del inicio.\")\n",
    "    x_i = x[index_x_value]\n",
    "    x_i_minus1 = x[index_x_value - 1]\n",
    "    x_i_minus2 = x[index_x_value - 2]\n",
    "    y_i = y[index_x_value]\n",
    "    y_i_minus1 = y[index_x_value - 1]\n",
    "    y_i_minus2 = y[index_x_value - 2]\n",
    "\n",
    "    h1 = x_i - x_i_minus1\n",
    "    h2 = x_i_minus1 - x_i_minus2\n",
    "\n",
    "    numerator = 2 * (y_i_minus2 / (h2 * (h1 + h2)) - y_i_minus1 / (h1 * h2) + y_i / (h1 * (h1 + h2)))\n",
    "    return numerator\n",
    "\n"
   ]
  },
  {
   "cell_type": "code",
   "execution_count": null,
   "metadata": {},
   "outputs": [],
   "source": [
    "import numpy as np\n",
    "\n",
    "# Definimos la malla no equiespaciada\n",
    "x = np.array([0, 0.5, 1.4, 2.2, 3.1, 4.0])\n",
    "y = np.sin(x)  # Por ejemplo, la función seno\n",
    "\n",
    "# Valor de x donde queremos aproximar la derivada\n",
    "x_val = 2.2\n",
    "\n",
    "# Calculamos la derivada primera usando diferencias centradas\n",
    "derivada_primera = df1_centradas_no_equispaciadas(x, y, x_val)\n",
    "print(f\"Derivada primera centrada en x={x_val}: {derivada_primera}\")\n",
    "\n",
    "# Calculamos la derivada segunda usando diferencias centradas\n",
    "derivada_segunda = df2_centradas_no_equispaciadas(x, y, x_val)\n",
    "print(f\"Derivada segunda centrada en x={x_val}: {derivada_segunda}\")\n"
   ]
  },
  {
   "cell_type": "markdown",
   "metadata": {},
   "source": [
    "## Normas\n",
    "\n",
    "* Norma L1 o Manhattan -> **suma de los valores absolutos** de las componentes del vector\n",
    "\n",
    "* Norma L2 o euclídea -> **raiz cuadrada de la suma de los cuadrados** de las componenetes\n",
    "\n",
    "* Norma L infinito -> **valor absoluto de la componente mas grande** del vector"
   ]
  },
  {
   "cell_type": "code",
   "execution_count": 28,
   "metadata": {},
   "outputs": [
    {
     "name": "stdout",
     "output_type": "stream",
     "text": [
      "2.1.2\n"
     ]
    }
   ],
   "source": [
    "import numpy as np\n",
    "print(np.__version__)\n"
   ]
  },
  {
   "cell_type": "code",
   "execution_count": 31,
   "metadata": {},
   "outputs": [
    {
     "name": "stdout",
     "output_type": "stream",
     "text": [
      "Norma L1:\n",
      "  Error absoluto: 0.5000\n",
      "  Error relativo: 0.0500\n",
      "\n",
      "Norma L2:\n",
      "  Error absoluto: 0.3000\n",
      "  Error relativo: 0.0487\n",
      "\n",
      "Norma L_infinito:\n",
      "  Error absoluto: 0.2000\n",
      "  Error relativo: 0.0400\n",
      "\n"
     ]
    }
   ],
   "source": [
    "import numpy as np\n",
    "\n",
    "# Función para calcular la norma L1 (Manhattan)\n",
    "def norma_L1(x):\n",
    "    return np.sum(np.abs(x))\n",
    "\n",
    "# Función para calcular la norma L2 (Euclidiana)\n",
    "def norma_L2(x):\n",
    "    return np.sqrt(np.sum(x**2))\n",
    "\n",
    "# Función para calcular la norma L_infinito (máximo valor absoluto)\n",
    "def norma_L_infinito(x):\n",
    "    return np.max(np.abs(x))\n",
    "\n",
    "# Función para calcular el error absoluto\n",
    "def error_absoluto(x, x_aprox, norma_func):\n",
    "    return norma_func(x - x_aprox)\n",
    "\n",
    "# Función para calcular el error relativo\n",
    "def error_relativo(x, x_aprox, norma_func):\n",
    "    return error_absoluto(x, x_aprox, norma_func) / norma_func(x)\n",
    "\n",
    "# Ejemplo de uso\n",
    "vector_real = np.array([2, -3, 5])\n",
    "vector_aprox = np.array([1.8, -2.9, 5.2])\n",
    "\n",
    "# Cálculo de las normas y errores\n",
    "for nombre, norma_func in [(\"L1\", norma_L1), (\"L2\", norma_L2), (\"L_infinito\", norma_L_infinito)]:\n",
    "    abs_error = error_absoluto(vector_real, vector_aprox, norma_func)\n",
    "    rel_error = error_relativo(vector_real, vector_aprox, norma_func)\n",
    "    \n",
    "    print(f\"Norma {nombre}:\")\n",
    "    print(f\"  Error absoluto: {abs_error:.4f}\")\n",
    "    print(f\"  Error relativo: {rel_error:.4f}\\n\")\n"
   ]
  },
  {
   "cell_type": "code",
   "execution_count": 1,
   "metadata": {},
   "outputs": [
    {
     "name": "stdout",
     "output_type": "stream",
     "text": [
      "Norma 1: 18\n",
      "Norma 2: 13.987572260807706\n",
      "Norma Infinito: 24\n"
     ]
    }
   ],
   "source": [
    "import numpy as np\n",
    "\n",
    "def norma_1(A):\n",
    "    \"\"\"\n",
    "    Calcula la norma matricial 1 (norma Manhattan) de la matriz A.\n",
    "    Es el máximo de la suma de los valores absolutos por columnas.\n",
    "    \"\"\"\n",
    "    return np.max(np.sum(np.abs(A), axis=0))\n",
    "\n",
    "def norma_2(A):\n",
    "    \"\"\"\n",
    "    Calcula la norma matricial 2 (norma Euclídea) de la matriz A.\n",
    "    Es el valor singular máximo de la matriz (norma espectral).\n",
    "    \"\"\"\n",
    "    return np.linalg.norm(A, ord=2)\n",
    "\n",
    "def norma_infinito(A):\n",
    "    \"\"\"\n",
    "    Calcula la norma matricial infinito de la matriz A.\n",
    "    Es el máximo de la suma de los valores absolutos por filas.\n",
    "    \"\"\"\n",
    "    return np.max(np.sum(np.abs(A), axis=1))\n",
    "\n",
    "# Ejemplo de uso\n",
    "A = np.array([[1, -2, 3], [4, -5, 6], [-7, 8, 9]])\n",
    "\n",
    "print(\"Norma 1:\", norma_1(A))\n",
    "print(\"Norma 2:\", norma_2(A))\n",
    "print(\"Norma Infinito:\", norma_infinito(A))"
   ]
  },
  {
   "cell_type": "markdown",
   "metadata": {},
   "source": [
    "## binario, decimal ,ieee754"
   ]
  },
  {
   "cell_type": "markdown",
   "metadata": {},
   "source": [
    "### de binario a decimal\n"
   ]
  },
  {
   "cell_type": "code",
   "execution_count": 38,
   "metadata": {},
   "outputs": [],
   "source": [
    "def binario_a_decimal(binary_str):\n",
    "    \"\"\"\n",
    "    Convierte una cadena que representa un número binario en su valor decimal.\n",
    "    \n",
    "    Args:\n",
    "        binary_str (str): La cadena que representa el número binario.\n",
    "    \n",
    "    Returns:\n",
    "        int o float: El valor decimal del número binario.\n",
    "    \"\"\"\n",
    "    # Verificar si es un número binario con parte entera y fraccionaria\n",
    "    if '.' in binary_str:\n",
    "        # Si tiene una parte fraccionaria\n",
    "        integer_part, fractional_part = binary_str.split('.')\n",
    "        \n",
    "        # Convertir la parte entera a decimal\n",
    "        decimal_value = int(integer_part, 2)\n",
    "        \n",
    "        # Convertir la parte fraccionaria a decimal\n",
    "        fraction_value = 0\n",
    "        for i, bit in enumerate(fractional_part):\n",
    "            if bit == '1':\n",
    "                fraction_value += 2 ** -(i + 1)\n",
    "        \n",
    "        return decimal_value + fraction_value\n",
    "    else:\n",
    "        # Si es solo un número entero binario\n",
    "        return int(binary_str, 2)\n",
    "\n"
   ]
  },
  {
   "cell_type": "code",
   "execution_count": 41,
   "metadata": {},
   "outputs": [
    {
     "data": {
      "text/plain": [
       "13.0"
      ]
     },
     "execution_count": 41,
     "metadata": {},
     "output_type": "execute_result"
    }
   ],
   "source": [
    "# Ejemplos de uso:\n",
    "binarios = [\n",
    "    \"1100100\",        # 100 en binario\n",
    "    \"1001010.0001100110011001100110011001100110011001100110011010\",  # 74.1 en binario (aproximado)\n",
    "    \"0.0000001111\",   # Un número pequeño en binario\n",
    "]\n",
    "\n",
    "for binario in binarios:\n",
    "    valor_decimal = binario_a_decimal(binario)\n",
    "    print(f\"{binario} en decimal es {valor_decimal}\")\n"
   ]
  },
  {
   "cell_type": "markdown",
   "metadata": {},
   "source": [
    "### de ieee754 a decimal"
   ]
  },
  {
   "cell_type": "code",
   "execution_count": 26,
   "metadata": {},
   "outputs": [],
   "source": [
    "def ieee754_to_decimal(bit_signo: str, bits_exponente: str, mantisa: str) -> float:\n",
    "    \"\"\"\n",
    "    Convierte una representación IEEE 754 de 64 bits a un número decimal.\n",
    "\n",
    "    Args:\n",
    "        bit_signo (str): Bit de signo ('0' o '1').\n",
    "        bits_exponente (str): Bits del exponente (11 bits).\n",
    "        mantisa (str): Bits de la mantisa (hasta 52 bits).\n",
    "\n",
    "    Returns:\n",
    "        float: El número decimal correspondiente.\n",
    "    \"\"\"\n",
    "    # Convertir el bit de signo\n",
    "    S = int(bit_signo)\n",
    "    signo = (-1) ** S\n",
    "\n",
    "    # Convertir los bits del exponente a entero\n",
    "    E = int(bits_exponente, 2)\n",
    "\n",
    "    # Definir el sesgo (sesgo) para doble precisión\n",
    "    sesgo = 1023\n",
    "\n",
    "    # Calcular el exponente real\n",
    "    if E == 0:\n",
    "        e = 1 - sesgo  # Para números subnormales\n",
    "    else:\n",
    "        e = E - sesgo\n",
    "\n",
    "    # Asegurarse de que la mantisa tenga 52 bits\n",
    "    mantisa = mantisa.ljust(52, '0')\n",
    "\n",
    "    # Calcular la fracción F\n",
    "    F = 0.0\n",
    "    for i, bit in enumerate(mantisa):\n",
    "        if bit == '1':\n",
    "            F += 2 ** (-(i + 1))\n",
    "\n",
    "    # Calcular la significando (1.F para normalizados, F para subnormales)\n",
    "    if E == 0:\n",
    "        significando = F  # Números subnormales\n",
    "    else:\n",
    "        significando = 1 + F  # Números normalizados\n",
    "\n",
    "\n",
    "    # Manejar casos especiales\n",
    "    if E == 0 and F == 0.0:\n",
    "        return 0.0 * signo  # Cero (positivo o negativo)\n",
    "    elif E == 2047:\n",
    "        if F == 0.0:\n",
    "            return float('inf') * signo  # Infinito (positivo o negativo)\n",
    "        else:\n",
    "            return float('nan')  # NaN (Not a Number)\n",
    "\n",
    "    # Calcular el valor decimal\n",
    "    valor = signo * significando * (2 ** e)\n",
    "    return valor\n",
    "\n",
    "\n"
   ]
  },
  {
   "cell_type": "code",
   "execution_count": 27,
   "metadata": {},
   "outputs": [
    {
     "name": "stdout",
     "output_type": "stream",
     "text": [
      "Signo: 0, Exponente: 10000000111, Mantisa: 11100000000000000000000000000000000000000000\n",
      "Valor decimal: 480.0\n",
      "\n",
      "Signo: 1, Exponente: 10000001001, Mantisa: 10000000000000000000000000000000000000000000\n",
      "Valor decimal: -1536.0\n",
      "\n",
      "Signo: 1, Exponente: 11111110000, Mantisa: 00001000000000000000000000000000000000000000\n",
      "Valor decimal: -5.657565445943491e+303\n",
      "\n",
      "Signo: 0, Exponente: 00000000000, Mantisa: 00000000000000000000000000000000000000000000\n",
      "Valor decimal: 0.0\n",
      "\n",
      "Signo: 1, Exponente: 11111111111, Mantisa: 11111111111111111111111111111111111111111111\n",
      "Valor decimal: nan\n",
      "\n"
     ]
    }
   ],
   "source": [
    "# Ejemplos proporcionados\n",
    "numeros = [\n",
    "    ('0', '10000000111', '11100000000000000000000000000000000000000000'),\n",
    "    ('1', '10000001001', '10000000000000000000000000000000000000000000'),\n",
    "    ('1', '11111110000', '00001000000000000000000000000000000000000000'),\n",
    "    ('0', '00000000000', '00000000000000000000000000000000000000000000'),\n",
    "    ('1', '11111111111', '11111111111111111111111111111111111111111111')\n",
    "]\n",
    "\n",
    "for num in numeros:\n",
    "    bit_signo, bits_exponente, mantisa = num\n",
    "    valor_decimal = ieee754_to_decimal(bit_signo, bits_exponente, mantisa)\n",
    "    print(f\"Signo: {bit_signo}, Exponente: {bits_exponente}, Mantisa: {mantisa}\")\n",
    "    print(f\"Valor decimal: {valor_decimal}\\n\")"
   ]
  },
  {
   "cell_type": "markdown",
   "metadata": {},
   "source": [
    "#### pruebas de cositas"
   ]
  },
  {
   "cell_type": "code",
   "execution_count": 10,
   "metadata": {},
   "outputs": [
    {
     "name": "stdout",
     "output_type": "stream",
     "text": [
      "<enumerate object at 0x000002177A2CF290>\n"
     ]
    }
   ],
   "source": [
    "palabra = 'palabra'\n",
    "\n",
    "palabra2 = enumerate(palabra)\n",
    "\n",
    "\n",
    "\n",
    "print(palabra2)"
   ]
  },
  {
   "cell_type": "code",
   "execution_count": 14,
   "metadata": {},
   "outputs": [
    {
     "name": "stdout",
     "output_type": "stream",
     "text": [
      "11\n"
     ]
    }
   ],
   "source": [
    "bits_exponente = '1011'\n",
    "\n",
    "E = int(bits_exponente, 2)\n",
    "\n",
    "print(E)"
   ]
  },
  {
   "cell_type": "code",
   "execution_count": 6,
   "metadata": {},
   "outputs": [
    {
     "name": "stdout",
     "output_type": "stream",
     "text": [
      "palabra\n",
      "palabraaaaaaaaaaaaaa\n"
     ]
    }
   ],
   "source": [
    "palabra = 'palabra'\n",
    "\n",
    "palbra2 = palabra.ljust(20, 'a')\n",
    "\n",
    "print(palabra)\n",
    "print(palbra2)"
   ]
  },
  {
   "cell_type": "markdown",
   "metadata": {},
   "source": [
    "### de decimal a binario"
   ]
  },
  {
   "cell_type": "code",
   "execution_count": 24,
   "metadata": {},
   "outputs": [],
   "source": [
    "def decimal_a_binario(num, max_fraction_bits=52):\n",
    "    \"\"\"\n",
    "    Convierte un número a su representación binaria, manejando enteros\n",
    "    y números con parte decimal. No utiliza librerías externas.\n",
    "\n",
    "    Args:\n",
    "        num (float): El número a convertir.\n",
    "        max_fraction_bits (int): Máximo número de bits para la parte fraccionaria.\n",
    "\n",
    "    Returns:\n",
    "        str: La representación binaria del número.\n",
    "    \"\"\"\n",
    "    # Inicializar el signo correctamente\n",
    "    if num < 0:\n",
    "        sign = '-'\n",
    "        num = -num\n",
    "    else:\n",
    "        sign = ''\n",
    "    \n",
    "    # Separar la parte entera y la parte fraccionaria\n",
    "    integer_part = int(num)\n",
    "    fractional_part = num - integer_part\n",
    "\n",
    "    # Convertir la parte entera a binario\n",
    "    integer_binary = bin(integer_part)[2:]  # Eliminar el prefijo '0b'\n",
    "\n",
    "    # Convertir la parte fraccionaria a binario\n",
    "    fraction_binary = ''\n",
    "    fraction_index = 0\n",
    "    repeating = False\n",
    "    fractions_seen = {}\n",
    "    \n",
    "    while fractional_part > 0 and len(fraction_binary) < max_fraction_bits:\n",
    "        if fractional_part in fractions_seen:\n",
    "            # Se ha encontrado un ciclo repetitivo\n",
    "            index = fractions_seen[fractional_part]\n",
    "            repeating_part = fraction_binary[index:]\n",
    "            fraction_binary = fraction_binary[:index] + '(' + repeating_part + ')'\n",
    "            repeating = True\n",
    "            break\n",
    "        fractions_seen[fractional_part] = fraction_index\n",
    "        fractional_part *= 2\n",
    "        bit = int(fractional_part)\n",
    "        if bit >= 1:\n",
    "            fractional_part -= bit\n",
    "            fraction_binary += '1'\n",
    "        else:\n",
    "            fraction_binary += '0'\n",
    "        fraction_index += 1\n",
    "\n",
    "    if fractional_part != 0 and not repeating:\n",
    "        fraction_binary += '...'\n",
    "\n",
    "    if fraction_binary:\n",
    "        return sign + integer_binary + '.' + fraction_binary\n",
    "    else:\n",
    "        return sign + integer_binary\n",
    "\n",
    "\n"
   ]
  },
  {
   "cell_type": "code",
   "execution_count": 25,
   "metadata": {},
   "outputs": [
    {
     "name": "stdout",
     "output_type": "stream",
     "text": [
      "69 en binario es 1000101\n",
      "255 en binario es 11111111\n",
      "34.5 en binario es 100010.1\n",
      "3.1416 en binario es 11.001001000011111111100101110010010001110100010100111\n",
      "5.333333333333333 en binario es 101.01010101010101010101010101010101010101010101010101\n"
     ]
    }
   ],
   "source": [
    "# Ejemplos de uso:\n",
    "numeros = [69, 255, 34.5, 3.1416, 5 + 1/3]\n",
    "\n",
    "for num in numeros:\n",
    "    binario = decimal_a_binario(num)\n",
    "    print(f\"{num} en binario es {binario}\")\n"
   ]
  },
  {
   "cell_type": "markdown",
   "metadata": {},
   "source": [
    "### de decimal a IEEE754"
   ]
  },
  {
   "cell_type": "code",
   "execution_count": 32,
   "metadata": {},
   "outputs": [
    {
     "name": "stdout",
     "output_type": "stream",
     "text": [
      "100 en IEEE 754 (64 bits) es 0 10000000101 1001000000000000000000000000000000000000000000000000\n",
      "74.1 en IEEE 754 (64 bits) es 0 10000000101 0010100001100110011001100110011001100110011001100110\n",
      "0.00095 en IEEE 754 (64 bits) es 0 01111110100 1110010000100101101011101110011000110001000000000000\n"
     ]
    }
   ],
   "source": [
    "def decimal_a_ieee754(num):\n",
    "    \"\"\"\n",
    "    Convierte un número decimal a su representación IEEE 754 de 64 bits.\n",
    "    \"\"\"\n",
    "    # Paso 1: Obtener el signo\n",
    "    if num < 0:\n",
    "        sign = 1\n",
    "        num = -num  # Trabajamos con el valor absoluto\n",
    "    else:\n",
    "        sign = 0\n",
    "\n",
    "    # Paso 2: Convertir a binario y normalizar\n",
    "    if num == 0:\n",
    "        return f\"{sign} {'0'*11} {'0'*52}\"  # Representación especial del 0\n",
    "    \n",
    "    # Obtener la parte entera y fraccionaria en binario\n",
    "    integer_part = int(num)\n",
    "    fractional_part = num - integer_part\n",
    "\n",
    "    # Convertir la parte entera a binario\n",
    "    integer_binary = bin(integer_part)[2:] if integer_part != 0 else ''\n",
    "\n",
    "    # Convertir la parte fraccionaria a binario\n",
    "    fraction_binary = ''\n",
    "    while fractional_part > 0 and len(fraction_binary) < 52:\n",
    "        fractional_part *= 2\n",
    "        bit = int(fractional_part)\n",
    "        if bit == 1:\n",
    "            fractional_part -= bit\n",
    "            fraction_binary += '1'\n",
    "        else:\n",
    "            fraction_binary += '0'\n",
    "\n",
    "    # Juntar la parte entera y fraccionaria\n",
    "    if integer_binary:\n",
    "        mantissa_binary = integer_binary + fraction_binary\n",
    "        exponent = len(integer_binary) - 1\n",
    "    else:\n",
    "        # Número entre 0 y 1: buscar el primer bit '1' en la parte fraccionaria\n",
    "        first_one_index = fraction_binary.find('1')\n",
    "        mantissa_binary = fraction_binary[first_one_index + 1:]\n",
    "        exponent = -(first_one_index + 1)\n",
    "\n",
    "    # Normalización: 1.F\n",
    "    mantissa = mantissa_binary[1:52].ljust(52, '0')\n",
    "\n",
    "    # Paso 3: Calcular el exponente con el sesgo (Bias = 1023)\n",
    "    exponent_with_bias = exponent + 1023\n",
    "    exponent_bits = bin(exponent_with_bias)[2:].zfill(11)\n",
    "\n",
    "    # Paso 4: Unir el signo, el exponente y la mantisa\n",
    "    ieee754_rep = f\"{sign} {exponent_bits} {mantissa[:52]}\"\n",
    "\n",
    "    return ieee754_rep\n",
    "\n"
   ]
  },
  {
   "cell_type": "code",
   "execution_count": 33,
   "metadata": {},
   "outputs": [
    {
     "name": "stdout",
     "output_type": "stream",
     "text": [
      "100 en IEEE 754 (64 bits) es 0 10000000101 1001000000000000000000000000000000000000000000000000\n",
      "74.1 en IEEE 754 (64 bits) es 0 10000000101 0010100001100110011001100110011001100110011001100110\n",
      "0.00095 en IEEE 754 (64 bits) es 0 01111110100 1110010000100101101011101110011000110001000000000000\n"
     ]
    }
   ],
   "source": [
    "# Ejemplos de uso:\n",
    "numeros = [100, 74.1, 0.00095]\n",
    "\n",
    "for num in numeros:\n",
    "    ieee754 = decimal_a_ieee754(num)\n",
    "    print(f\"{num} en IEEE 754 (64 bits) es {ieee754}\")"
   ]
  },
  {
   "cell_type": "code",
   "execution_count": null,
   "metadata": {},
   "outputs": [],
   "source": [
    "def half_precision(s: str, e: str, f: str):\n",
    "\n",
    "    sign = (-1)**int(s)\n",
    "    e = int(e, 2)\n",
    "    exponent_total = e - 15\n",
    "    mantissa = 1 + int(f, 2) * 2 ** (-len(f))\n",
    "    return sign * 2 ** exponent_total * mantissa"
   ]
  }
 ],
 "metadata": {
  "kernelspec": {
   "display_name": "Python 3",
   "language": "python",
   "name": "python3"
  },
  "language_info": {
   "codemirror_mode": {
    "name": "ipython",
    "version": 3
   },
   "file_extension": ".py",
   "mimetype": "text/x-python",
   "name": "python",
   "nbconvert_exporter": "python",
   "pygments_lexer": "ipython3",
   "version": "3.12.6"
  }
 },
 "nbformat": 4,
 "nbformat_minor": 2
}
