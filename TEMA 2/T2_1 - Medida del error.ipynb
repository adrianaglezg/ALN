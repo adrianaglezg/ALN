{
 "cells": [
  {
   "cell_type": "markdown",
   "metadata": {},
   "source": [
    "# Medida del error\n",
    "\n",
    "## 1. Introducción\n",
    "\n",
    "En la resolución de problemas numéricos, es inevitable tener que manejar\n",
    "errores. \n",
    "En cierta forma, es lo que diferencia el cálculo numérico de las\n",
    "ciencias exactas: el manejo del error es el precio que hay que pagar por poder\n",
    "trabajar con problemas que son inabordables desde la perspectiva de las\n",
    "matemáticas clásicas.\n",
    "Antes de ver los distintos tipos de errores que aparecen en cálculo numérico,\n",
    "primero vamos a aprender a medirlos."
   ]
  },
  {
   "cell_type": "markdown",
   "metadata": {},
   "source": [
    "## 2. Valor exacto y aproximación\n",
    "\n",
    "Dado un cierto problema, a una cierta cantidad de interés  $x \\in \\mathbb{R}$ \n",
    "sobre la que se trabajará se la conoce como **valor exacto** o **valor\n",
    "correcto**.\n",
    "Una **aproximación** o **medida** de $x$ es un número $\\tilde{x} \\in \\mathbb{R}$ que se\n",
    "asume cercano a $x$."
   ]
  },
  {
   "cell_type": "markdown",
   "metadata": {},
   "source": [
    "## 3. Error absoluto\n",
    "\n",
    "**Definición -** Dado un valor exacto $x$ y una aproximación $\\tilde{x}$ a\n",
    "$x$, el error absoluto $E_a$ se define como el valor absoluto de la diferencia\n",
    "entre estas dos magnitudes (es decir, la distancia):\n",
    "$$E_a = \\left| x - \\tilde{x} \\right|$$"
   ]
  },
  {
   "cell_type": "markdown",
   "metadata": {},
   "source": [
    "**Ejercicio 1 -**  ¿Es el error absoluto una medida suficiente para medir \n",
    "el error cometido en una cierta aproximación? Busca ejemplos para apoyar tus\n",
    "argumentos."
   ]
  },
  {
   "cell_type": "markdown",
   "metadata": {},
   "source": [
    "no porque no tiene en cuenta la magnitud de referencia en la que se mide, como el propio nombre indica es absoluto y un error de 1g puede ser debido a la diferencia entre toneladas o entre gramos mismamente, sindo significate el porcentaje que representa"
   ]
  },
  {
   "cell_type": "markdown",
   "metadata": {},
   "source": [
    "**Ejercicio 2 -**  Pronto veremos que el valor de la derivada de una\n",
    "función $f(x)$ en un punto $a$ puede aproximarse como:\n",
    "$$f'(a) \\approx \\frac{f(a+h) - f(a)}{h}$$\n",
    "Para $f(x) = 7e^{0.5x}$ y $h=0.3$ calcula:\n",
    " 1. el valor exacto de $f'(2)$\n",
    "1. el valor aproximado de $f'(2)$\n",
    "2. el error absoluto cometido en esta aproximación \n",
    "4. el error relativo\n"
   ]
  },
  {
   "cell_type": "code",
   "execution_count": 6,
   "metadata": {},
   "outputs": [],
   "source": [
    "# la derivada es f´(x) = 3,5e^0.5x\n",
    "\n",
    "from math import exp"
   ]
  },
  {
   "cell_type": "code",
   "execution_count": 7,
   "metadata": {},
   "outputs": [
    {
     "name": "stdout",
     "output_type": "stream",
     "text": [
      "19.027972799213316\n"
     ]
    }
   ],
   "source": [
    "x = 2\n",
    "f_x = 7 * exp(0.5 * x)\n",
    "print(f_x)"
   ]
  },
  {
   "cell_type": "code",
   "execution_count": 8,
   "metadata": {},
   "outputs": [
    {
     "data": {
      "text/plain": [
       "9.513986399606658"
      ]
     },
     "execution_count": 8,
     "metadata": {},
     "output_type": "execute_result"
    }
   ],
   "source": [
    "#a)\n",
    "def valor_exacto(x):\n",
    "    f = 3.5 * exp(0.5 * x)\n",
    "    return f\n",
    "\n",
    "valor_exacto(2)"
   ]
  },
  {
   "cell_type": "code",
   "execution_count": 9,
   "metadata": {},
   "outputs": [
    {
     "name": "stdout",
     "output_type": "stream",
     "text": [
      "10.264591895383516\n",
      "9.585699414021795\n",
      "9.521125458489857\n",
      "9.514699984277305\n",
      "9.513993534919033\n"
     ]
    }
   ],
   "source": [
    "#b)\n",
    "def valor_aprox (h, x):\n",
    "    f = ((7 * exp(0.5 * (x + h)))-(7 * exp(0.5 * (x))))/ h\n",
    "    return f\n",
    "\n",
    "print(valor_aprox(0.3, 2))\n",
    "print(valor_aprox(0.03, 2))\n",
    "print(valor_aprox(0.003, 2))\n",
    "print(valor_aprox(0.0003, 2))\n",
    "print(valor_aprox(0.000003, 2))"
   ]
  },
  {
   "cell_type": "code",
   "execution_count": 27,
   "metadata": {},
   "outputs": [
    {
     "name": "stdout",
     "output_type": "stream",
     "text": [
      "0.750605495776858\n",
      "0.0007135846706471938\n",
      "7.135312374728642e-06\n"
     ]
    }
   ],
   "source": [
    "#c\n",
    "def error_abs(h, x):\n",
    "    resul = abs(valor_exacto(x) - valor_aprox(h, x))\n",
    "    #print(valor_exacto(x))\n",
    "    #print(valor_aprox(h, x))\n",
    "    return resul\n",
    "\n",
    "print(error_abs(0.3, 2))\n",
    "print(error_abs(0.0003, 2))\n",
    "print(error_abs(0.000003, 2))\n"
   ]
  },
  {
   "cell_type": "code",
   "execution_count": 30,
   "metadata": {},
   "outputs": [
    {
     "name": "stdout",
     "output_type": "stream",
     "text": [
      "0.375302747888429\n",
      "0.0003567923353235969\n",
      "3.567656187364321e-06\n"
     ]
    }
   ],
   "source": [
    "#d\n",
    "def err_relativo(h, x):\n",
    "    resul = error_abs(h, x)/ abs(x)\n",
    "    return resul\n",
    "\n",
    "print(err_relativo(0.3, 2))\n",
    "print(err_relativo(0.0003, 2))\n",
    "print(err_relativo(0.000003, 2))"
   ]
  },
  {
   "cell_type": "markdown",
   "metadata": {},
   "source": [
    "## 4. Error relativo\n",
    "\n",
    "**Definición -** Dado un valor exacto $x$ y una aproximación $\\tilde{x}$ a\n",
    "$x$, el error relativo $E_r$ se define como el error absoluto normalizado con\n",
    "el valor absoluto del valor exacto:\n",
    "$$E_r =  \\frac{E_a}{\\left| x \\right|} = \\frac{\\left| x - \\tilde{x}\n",
    "\\right|}{\\left| x \\right|}$$\n",
    "En ocasiones, este resultado se expresa en tanto por ciento.\n",
    "El error relativo es la forma más habitual de manejar errores en la resolución\n",
    "de problemas numéricos.\n",
    "Sin embargo, puede dar lugar a problemas, o requerir una adaptación de su \n",
    "definición que no siempre es universal y que dependerá del problema en \n",
    "cuestión. \n",
    "En los siguientes ejercicios se tratan algunos de estos casos."
   ]
  },
  {
   "cell_type": "markdown",
   "metadata": {},
   "source": [
    "\n",
    "**Ejercicio 3 -**  Interpreta la definición de error relativo. ¿Qué está\n",
    "midiendo en concreto? ¿Hay algún problema matemático con esta definición? Ten\n",
    "en cuenta que el ordenador trabaja con un número limitado de cifras\n",
    "significativas."
   ]
  },
  {
   "cell_type": "markdown",
   "metadata": {},
   "source": [
    "el error relativo mide el porcentaje de desvio en el resultado obtenido respecto al resultado esperado.\n",
    "\n",
    "Limitación de cifras significativas: Las computadoras tienen una precisión limitada debido al número finito de cifras significativas que pueden manejar (usualmente 32 o 64 bits). Esto introduce errores de redondeo cuando se representan números reales, lo que puede afectar el cálculo del error relativo.\n",
    "\n",
    "Si el valor verdadero es muy pequeño, el denominador en la fórmula del error relativo también será pequeño, lo que puede llevar a un error relativo muy grande o incluso a inestabilidad numérica (división por un número cercano a cero).\n",
    "\n",
    "Cuando el valor verdadero es cero, la definición del error relativo presenta un problema, ya que implica una división por cero, lo cual es indefinido."
   ]
  },
  {
   "cell_type": "markdown",
   "metadata": {},
   "source": [
    "\n",
    "**Ejercicio 4 -**  Hace 2300 años Arquímedes acotó el número $\\pi$ entre\n",
    "los valores $223/71$ y $22/7$. ¿Cuál de los dos límites es más preciso?"
   ]
  },
  {
   "cell_type": "code",
   "execution_count": 10,
   "metadata": {},
   "outputs": [
    {
     "name": "stdout",
     "output_type": "stream",
     "text": [
      "es menor el error relativo de a = 3.140845070422535,  3.141592653589793-3.140845070422535 = 0.00023796311288284115\n"
     ]
    }
   ],
   "source": [
    "from math import pi\n",
    "\n",
    "#print(pi)\n",
    "a = 223/71\n",
    "b = 22/7\n",
    "\n",
    "err_abs_a = abs(pi - a )\n",
    "err_abs_b = abs(pi - b)\n",
    "\n",
    "err_rel_a = err_abs_a / abs(pi)\n",
    "err_rel_b = err_abs_b / abs(pi)\n",
    "\n",
    "if err_rel_a < err_rel_b:\n",
    "\n",
    "    print(f\"es menor el error relativo de a = {a},  {pi}-{a} = {err_rel_a}\")\n",
    "\n",
    "else:\n",
    "\n",
    "    print(f\"es menor el error relativo de b = {b},  {pi} - {b} = {err_rel_b}\")"
   ]
  },
  {
   "cell_type": "markdown",
   "metadata": {},
   "source": [
    "**Ejercicio 5 -**  ***Criterio de parada***. Es habitual utilizar el\n",
    "concepto de error relativo no solo cuando la magnitud $x$ es conocida. Por\n",
    "ejemplo, en algoritmos iterativos, el criterio de parada (cuándo el algoritmo\n",
    "*termina*) suele definirse en términos del error relativo del presente\n",
    "resultado respecto al anterior. Para comprobarlo, considera el siguiente\n",
    "ejercicio: se ha obtenido un algoritmo iterativo que aproxima el valor de\n",
    "$\\sqrt{2}$ haciendo $x_{n+1} = 0.5 x_n + 1 / x_n$, con $x_0 = 1$. Calcula\n",
    "$\\sqrt{2}$, utilizando como criterio de parada $E_r \\left(x_n, x_{n-1}\\right) <\n",
    "1\\cdot 10^{-11}$."
   ]
  },
  {
   "cell_type": "code",
   "execution_count": 41,
   "metadata": {},
   "outputs": [
    {
     "name": "stdout",
     "output_type": "stream",
     "text": [
      "aprox final de la raiz de 2(1.4142135623730951): 1.414213562373095\n"
     ]
    }
   ],
   "source": [
    "from math import sqrt\n",
    "\n",
    "raiz_2 = sqrt(2)\n",
    "\n",
    "\n",
    "x_n = 1\n",
    "err_max = 1e-11\n",
    "err_relativo = 1\n",
    "i = 0\n",
    "\n",
    "while err_relativo > err_max:\n",
    "\n",
    "    x_nuevo = 0.5 * x_n + 1 / x_n\n",
    "    \n",
    "    err_relativo = abs(x_nuevo - x_n) / abs(x_nuevo)\n",
    "    \n",
    "    x_n = x_nuevo\n",
    "    i += 1\n",
    "\n",
    "    #print(f\"iterador {i}: x_n = {x_n}, error relativo = {err_relativo}\")\n",
    "\n",
    "print(f\"aprox final de la raiz de 2({raiz_2}): {x_n}\")\n"
   ]
  },
  {
   "cell_type": "markdown",
   "metadata": {},
   "source": [
    "**Ejercicio 6 -**  ***Muestreo***. Otra escenario habitual donde se utiliza el concepto de error relativo sin conocer el valor real de la magnitud medida $x$ es en el contexto del muestreo estadístico. Imagina que un científico está midiendo una cierta magnitud desconocida en el laboratorio, para utilizarla en un experimento. Cada vez que realiza una medición, apunta el valor obtenido en un cuaderno. Tras realizar 100 medidas, ya cansado, piensa: \"estoy harto, voy a tomar una última medida, y sea cual sea, la utilizaré como medida exacta y avanzaré en mis experimentos\". ¿Qué error estará cometiendo al tomar esa medida? Utiliza la información previa de la que dispone."
   ]
  },
  {
   "cell_type": "code",
   "execution_count": 16,
   "metadata": {},
   "outputs": [
    {
     "name": "stdout",
     "output_type": "stream",
     "text": [
      "[1.7234469795924858, 1.630196882052861, 1.778381060565538, 1.6642855873760243, 1.7529979781337257, 1.3394184940051295, 1.5574141953373726, 1.9417255680724934, 1.2416202424636353, 1.0811998054399223, 1.9617840105425257, 1.3474838861144698, 1.704273471066439, 1.815875949927307, 1.9076987852310574, 1.092007584390002, 1.941034170284242, 1.5995754320047908, 1.770918160636221, 1.0558142042197303, 1.435541876251723, 1.9885798499414444, 1.346208563976774, 1.3444484079180326, 1.3290020122483952, 1.0548765600385746, 1.9459200595008068, 1.774637079406416, 1.3503152660040834, 1.4601475471514824, 1.7936345376392246, 1.7998782524457095, 1.4996670700373458, 1.8275670351821272, 1.0814747753389709, 1.7104133440915468, 1.4054285539036733, 1.5361474162296187, 1.5366044295366823, 1.2045883121072811, 1.7411259213161037, 1.5976574475554193, 1.088131024814675, 1.0292321984780128, 1.6671901358638412, 1.4758010545528677, 1.1243148285604836, 1.6495601796169188, 1.8423437400925313, 1.0785313606790574, 1.4500875331984344, 1.6656270376262956, 1.799806749187057, 1.674012682931152, 1.5426393784821544, 1.0496209948657937, 1.2883382676802657, 1.0111055497252437, 1.8341127121548761, 1.1537696861604299, 1.1000880769909016, 1.1063830119890476, 1.6992335565214303, 1.5943959867250606, 1.4366347422728918, 1.4384198738685137, 1.3599759354268504, 1.6577980850894094, 1.2391615487901442, 1.8795664609036071, 1.8483560858975687, 1.5547252711068844, 1.414440919347061, 1.218647809318429, 1.6168107161556682, 1.3987768495187818, 1.1030335613663342, 1.6528730886105238, 1.2531771296177099, 1.0845249162702646, 1.4546839687668105, 1.138770308731967, 1.3297278615803927, 1.394268907792089, 1.078669402042118, 1.8174349085594708, 1.96379958272802, 1.3133753873301224, 1.710504348206851, 1.3120295457963747, 1.332739771491763, 1.7879794590913418, 1.3688236230312687, 1.8270635475694037, 1.914048051834071, 1.6557360951472275, 1.535649688715076, 1.5942386029592912, 1.9554093526064973, 1.4218474620565416]\n",
      "1.506590653817713\n",
      "1.400657566878134\n",
      "0.10593308693957892\n",
      "0.07031311834514811\n"
     ]
    }
   ],
   "source": [
    "\n",
    "from numpy import mean \n",
    "import random\n",
    "\n",
    "lista_x = [random.uniform(1, 2) for _ in range(100)]\n",
    "#lista = [1 ,2 ,3 ,4 ,5 ,6 ,7 ,8 ,9 ,7 ,6 ,7 ,5 ,4 ,3 ]\n",
    "\n",
    "media_x = mean(lista_x)\n",
    "#media = mean(lista)\n",
    "print(lista_x)\n",
    "print(media_x)\n",
    "#print(media)\n",
    "\n",
    "ultima_medida = random.uniform(1, 2)\n",
    "print(ultima_medida)\n",
    "\n",
    "error_abs_cometido = abs(media_x - ultima_medida)\n",
    "err_rel_cometido = error_abs_cometido / abs(media_x) \n",
    "\n",
    "print(error_abs_cometido)\n",
    "print(err_rel_cometido)"
   ]
  },
  {
   "cell_type": "markdown",
   "metadata": {},
   "source": [
    "**Ejercicio 7 -**  ***Cancelación catastrófica***. Por la propia naturaleza de su cálculo, el error relativo es especialmente sensible a un fenómeno numérico habitual: la cancelación catastrófica. Para ilustrarlo, considera el siguiente ejercicio: se quiere medir la diferencia de alturas entre dos personas: Ana y Bea. Ana mide $a=154.5cm$ y Bea $b=153.4cm$. Sin embargo, la cinta métrica usada para medirlas tiene precisión hasta los  centímetros, y ha devuelto las siguientes medidas $\\tilde{a} = 155cm$ y $\\tilde{b} = 153cm$. Calcula el error relativo de la diferencia de alturas, y compáralo con el error en las medidas individuales."
   ]
  },
  {
   "cell_type": "code",
   "execution_count": 52,
   "metadata": {},
   "outputs": [],
   "source": [
    "import math"
   ]
  },
  {
   "cell_type": "code",
   "execution_count": 22,
   "metadata": {},
   "outputs": [
    {
     "name": "stdout",
     "output_type": "stream",
     "text": [
      "0.003236245954692557\n",
      "0.0026075619295958647\n",
      "0.5\n",
      "0.4000000000000057\n"
     ]
    }
   ],
   "source": [
    "\n",
    "valor_abs_a = 154.5\n",
    "valor_aprox_a = 155\n",
    "\n",
    "valor_abs_b = 153.4\n",
    "valor_aprox_b = 153\n",
    "\n",
    "def err_relativo(v_abs, v_rel):\n",
    "\n",
    "    resul = (abs(v_abs - v_rel)/ v_abs)\n",
    "    return resul\n",
    "\n",
    "def error_abs(v_abs, v_rel):\n",
    "     resul = abs(v_abs - v_rel)\n",
    "     return resul\n",
    "\n",
    "\n",
    "\n",
    "\n",
    "print(err_relativo(valor_abs_a, valor_aprox_a))\n",
    "print(err_relativo(valor_abs_b, valor_aprox_b))\n",
    "print(error_abs(valor_abs_a, valor_aprox_a))\n",
    "print(error_abs(valor_abs_b, valor_aprox_b))"
   ]
  },
  {
   "cell_type": "markdown",
   "metadata": {},
   "source": [
    "**Ejercicio 8 -**  ***Medida de centralidad para los errores***. Es\n",
    "habitual utilizar la media como medida de centralidad para una cierta muestra;\n",
    "es decir, como una magnitud representativa que sustituye a la muestra\n",
    "global. ¿Es correcto hacer esto con los errores? Piensa en el siguiente caso:\n",
    "me he medido 5 veces con distintos instrumentos de medida, obteniendo los\n",
    "siguientes resultados: $173cm \\pm 1cm$, $172cm \\pm 2cm$, $172cm \\pm 2cm$,\n",
    "$174cm \\pm 1cm$, $173cm \\pm 1cm$. ¿Es correcto decir que mi altura, en media,\n",
    "es $173.2cm \\pm 1.4cm$ (medias del valor central y del error)?"
   ]
  },
  {
   "cell_type": "code",
   "execution_count": 26,
   "metadata": {},
   "outputs": [
    {
     "name": "stdout",
     "output_type": "stream",
     "text": [
      "Media de las mediciones: 172.8 cm\n",
      "Media de los errores: ±1.4 cm\n",
      "Resultado final: 172.8 cm ± 1.4 cm\n"
     ]
    }
   ],
   "source": [
    "import numpy as np\n",
    "\n",
    "# Datos de las mediciones y sus errores\n",
    "mediciones = np.array([173, 172, 172, 174, 173])  # cm\n",
    "errores = np.array([1, 2, 2, 1, 1])  # cm\n",
    "\n",
    "# Calcular la media de las mediciones\n",
    "media_valor = np.mean(mediciones)\n",
    "\n",
    "# Calcular el error promedio\n",
    "media_error = np.mean(errores)\n",
    "\n",
    "# Mostrar resultados\n",
    "print(f\"Media de las mediciones: {media_valor:.1f} cm\") # : -> inicio especificacion del formato, .1 -> un decimal, f -> float\n",
    "print(f\"Media de los errores: ±{media_error:.1f} cm\")\n",
    "print(f\"Resultado final: {media_valor:.1f} cm ± {media_error:.1f} cm\")\n"
   ]
  },
  {
   "cell_type": "markdown",
   "metadata": {},
   "source": [
    "## 5. Errores de magnitudes derivadas\n",
    "\n",
    "Imagina que se ha medido una magnitud $\\tilde{x}$ (con un cierto error), y que\n",
    "se quiere utilizar dicha magnitud para estimar una nueva variable $\\tilde{y}$,\n",
    "donde $y$ mantiene una relación funcional con $x$, $y=y(x)$. \n",
    "¿Cómo evaluar la precisión de $\\tilde{y}$?\n",
    "\n",
    "Para resolver este problema, bastará con calcular las cotas superior e\n",
    "inferior de la nueva variable. \n",
    "Esto es, encontrar $y_{max}$, $y_{min}$ en el intervalo \n",
    "$\\left[ \\tilde{x} - E_a, \\tilde{x} + E_a \\right]$.\n"
   ]
  },
  {
   "cell_type": "markdown",
   "metadata": {},
   "source": [
    "**Ejercicio 9 -**  Se ha medido la distancia recorrida por un objeto y el tiempo que ha tardado en recorrerla, obteniéndose respectivamente los siguientes valores: $12m \\pm 1%$ y $4s \\pm 0.3s$. Calcula la velocidad del objeto (con su incertidumbre)."
   ]
  },
  {
   "cell_type": "code",
   "execution_count": 29,
   "metadata": {},
   "outputs": [
    {
     "name": "stdout",
     "output_type": "stream",
     "text": [
      "v = 3.0 +- 0.47768698931489606\n"
     ]
    }
   ],
   "source": [
    "dist_media = 12\n",
    "incertidumbre_distacia = 1\n",
    "\n",
    "tiempo_medio = 4\n",
    "incertidumbre_tiempo = 0.3\n",
    "\n",
    "v_media = dist_media / tiempo_medio\n",
    "\n",
    "v_min = (dist_media - incertidumbre_distacia) / (tiempo_medio + incertidumbre_tiempo)\n",
    "v_max = (dist_media + incertidumbre_distacia) / (tiempo_medio - incertidumbre_tiempo)\n",
    "\n",
    "incertidumbre_velocidad = (v_max - v_min)/2\n",
    "\n",
    "\n",
    "print(f'v = {v_media} +- {incertidumbre_velocidad}')\n",
    "\n",
    "\n"
   ]
  },
  {
   "cell_type": "markdown",
   "metadata": {},
   "source": [
    "## 6. Errores en $\\mathbb{R^n}$\n",
    "\n",
    "Los conceptos de error absoluto y relativo son fácilmente generalizables a más\n",
    "de una dimensión. Basta con tener en cuenta que el error absoluto mide en\n",
    "verdad una **distancia** (que en $\\mathbb{R^1}$ es siempre el valor absoluto\n",
    "de la diferencia). El concepto de distancia en en $\\mathbb{R^n}$ es más\n",
    "general y depende del tipo de norma que se desee utilizar."
   ]
  },
  {
   "cell_type": "markdown",
   "metadata": {},
   "source": [
    "**Ejercicio 10 -**  ***Definiciones de los errores en $\\mathbb{R^n}$***\n",
    "Define los conceptos de *error absoluto* y *error relativo* en $\\mathbb{R^n}$,\n",
    "en función de las normas $\\left\\| \\cdot \\right\\|_1$, $\\left\\| \\cdot \\right\\|_2$\n",
    "y $\\left\\| \\cdot \\right\\|_\\infty$"
   ]
  },
  {
   "cell_type": "code",
   "execution_count": null,
   "metadata": {},
   "outputs": [],
   "source": [
    "import numpy as np\n",
    "\n",
    "def norma_L1(x):\n",
    "    return np.sum(np.abs(x))\n",
    "\n",
    "def norma_L2(x):\n",
    "    return np.sqrt(np.sum(x**2))\n",
    "\n",
    "def norma_L_infinito(x):\n",
    "    return np.max(np.abs(x))\n",
    "\n",
    "def error_absoluto(x, x_aprox, norma_func):\n",
    "    return norma_func(x - x_aprox)\n",
    "\n",
    "def error_relativo(x, x_aprox, norma_func):\n",
    "    return error_absoluto(x, x_aprox, norma_func) / norma_func(x)\n",
    "\n",
    "vector_real = np.array([2, -3, 5])\n",
    "vector_aprox = np.array([1.8, -2.9, 5.2])\n",
    "\n"
   ]
  },
  {
   "cell_type": "markdown",
   "metadata": {},
   "source": [
    "## 7. Cifras significativas\n",
    "\n",
    "### Cuantificación de la precisión de una aproximación respecto a un valor exacto\n",
    "Una aproximación $\\tilde{x}$ a un valor exacto $x$ tiene $n$ cifras\n",
    "significativas si $n$ es el mayor entero tal que \n",
    "\n",
    "$$E_r = \\frac{\\left| x - \\tilde{x} \\right|}{\\left| x \\right|} \\leq \\frac{1}{2} \\cdot 10^{-n}$$\n",
    "\n",
    "Si se trabaja con *truncamiento* en lugar de *redondeo* (ver sección siguiente), el $1/2$ del lado\n",
    "derecho de la desigualdad anterior debe cambiarse por un $1$ (por omisión se\n",
    "asume redondeo).\n",
    "\n",
    "### Cuantificación de la precisión en una medida única\n",
    "\n",
    "El número de cifras significativas es importante para mostrar la confianza que\n",
    "se tiene en un determinado resultado. \n",
    "Por ejemplo, si te preguntan cuál es la población de Madrid, podrías responder \n",
    "que es 3 millones. Pero si fuesen a darte 1€ por cada cada ciudadano que \n",
    "reportases, te esforzarías por dar un valor más exacto: 3286662. \n",
    "El primer resultado tiene una cifra significativa, mientras que el segundo \n",
    "tiene siete. \n",
    "Una forma sencilla de identificar el número de cifras significativas es \n",
    "expresar los resultados en notación científica y contar el número de cifras en \n",
    "la mantisa."
   ]
  },
  {
   "cell_type": "markdown",
   "metadata": {},
   "source": [
    "**Ejercicio 11 -** ¿Cuántas cifras significativas tienen los siguientes\n",
    "números?\n",
    " 1. $0.0459$\n",
    " 2. $4.590$\n",
    " 3. $4008$\n",
    " 4. $4008.0$\n",
    " 5. $1.079 \\cdot 10^{3}$\n",
    " 6. $1.0790 \\cdot 10^{3}$\n",
    " 7. $1.07900 \\cdot 10^{3}$"
   ]
  },
  {
   "cell_type": "code",
   "execution_count": 34,
   "metadata": {},
   "outputs": [
    {
     "name": "stdout",
     "output_type": "stream",
     "text": [
      "4\n",
      "3\n",
      "4\n",
      "5\n",
      "5\n",
      "5\n",
      "5\n"
     ]
    }
   ],
   "source": [
    "def contar_cifras_significativas(num):\n",
    "    # Convertir el número a una cadena para facilitar el análisis\n",
    "    num_str = str(num).strip()\n",
    "\n",
    "    # Eliminar el signo si lo tiene\n",
    "    if num_str[0] == '-':\n",
    "        num_str = num_str[1:]\n",
    "\n",
    "    # Si hay notación científica, tomar solo la parte antes de \"e\" o \"E\"\n",
    "    if 'e' in num_str or 'E' in num_str:\n",
    "        num_str = num_str.split('e')[0]\n",
    "\n",
    "    # Para números enteros sin punto decimal\n",
    "    if '.' not in num_str:\n",
    "        # Eliminar ceros a la derecha (no significativos en enteros)\n",
    "        return len(num_str.rstrip('0'))\n",
    "\n",
    "    # Para números decimales, eliminar ceros iniciales (antes del primer dígito distinto de cero)\n",
    "    num_str = num_str.lstrip('0')\n",
    "\n",
    "    # Contar cifras significativas (eliminar el punto si existe)\n",
    "    return len(num_str.replace('.', ''))\n",
    "\n",
    "# Ejemplos de uso\n",
    "print(contar_cifras_significativas(0.0459))   \n",
    "print(contar_cifras_significativas(4.590))   \n",
    "print(contar_cifras_significativas(4008))     \n",
    "print(contar_cifras_significativas(4008.0))   \n",
    "print(contar_cifras_significativas(1.079e3))  \n",
    "print(contar_cifras_significativas(1.0790e3)) \n",
    "print(contar_cifras_significativas(1.07900e3))\n"
   ]
  },
  {
   "cell_type": "markdown",
   "metadata": {},
   "source": [
    "### 7.1 Perdida de cifras significativas\n",
    "\n",
    "En ocasiones, una determinada expresión puede reescribirse para evitar problemas numéricos, en particular la *cancelación catastrófica* (ver ejercicio 5). Simplemente un cambio en la forma de evaluar una expresión puede resolver el problema. Por desgracia, no hay un procedimiento general para esto, y muchas veces los cambios necesarios no existen, o son *de idea feliz*. No obstante, en lo que respecta a la *cancelación catastrófica*, muchas veces **multiplicar y dividir la expresión por el conjugado** puede ayudar. \n",
    "\n",
    "(ver también la sección posterior sobre *condicionamiento*)\n"
   ]
  },
  {
   "cell_type": "markdown",
   "metadata": {},
   "source": [
    "**Ejercicio 12-** analiza qué ocurre al evaluar la función\n",
    "$$\n",
    "f(x) = \\frac{1}{\\sqrt{x^2 + 2x} - x - 1}\n",
    "$$\n",
    "en valores de $x$ grandes. Supón aritmética de 8 dígitos. Piensa en formas para evitar los problemas que encuentres."
   ]
  },
  {
   "cell_type": "code",
   "execution_count": null,
   "metadata": {},
   "outputs": [],
   "source": []
  },
  {
   "cell_type": "markdown",
   "metadata": {},
   "source": [
    "## 8. Tipos de errores\n",
    "\n",
    "A lo largo de esta sección hemos visto cómo medir los errores en cálculo numérico. En las próximas lecciones estudiaremos los tipos de errores más habituales que aparecen en la resolución algorítmica de problemas matemáticos. \n",
    "\n",
    "Con frecuencia, estos problemas suelen presentar los mismos tipos de errores según la etapa de la solución. El flujo de operación desde la identificación del problema hasta su resolución es el siguiente (se incluyen los errores y consideraciones que intervienen en \n",
    "cada fase):\n",
    "1. Problema real: errores de medición/adquisición de datos.\n",
    "2. Modelado matemático: errores de modelado. Mal condicionamiento.\n",
    "3. Método numérico: errores de discretización (si procede) y errores de aproximación.\n",
    "4. Algoritmos: errores derivados de la representación numérica\n",
    "   (redondeo/truncamiento). Inestabilidad.\n",
    "\n",
    "Algunos de los conceptos anteriores son triviales; sin embargo, otros merecen\n",
    "un estudio particular. En las sucesivas lecciones estudiaremos estos casos individualmente."
   ]
  }
 ],
 "metadata": {
  "kernelspec": {
   "display_name": "Python 3",
   "language": "python",
   "name": "python3"
  },
  "language_info": {
   "codemirror_mode": {
    "name": "ipython",
    "version": 3
   },
   "file_extension": ".py",
   "mimetype": "text/x-python",
   "name": "python",
   "nbconvert_exporter": "python",
   "pygments_lexer": "ipython3",
   "version": "3.11.9"
  },
  "orig_nbformat": 4
 },
 "nbformat": 4,
 "nbformat_minor": 2
}
