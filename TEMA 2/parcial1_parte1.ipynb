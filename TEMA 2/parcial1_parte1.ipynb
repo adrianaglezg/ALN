{
 "cells": [
  {
   "cell_type": "markdown",
   "metadata": {},
   "source": [
    "# Primer parcial - Algorítmica numérica"
   ]
  },
  {
   "cell_type": "markdown",
   "metadata": {},
   "source": [
    "## Primera pate: **Preguntas teórico-prácticas** - sin apuntes, 45min, total 4.5 puntos"
   ]
  },
  {
   "cell_type": "markdown",
   "metadata": {},
   "source": [
    "## Ejercicio 1\n",
    "**[1.5 puntos]** - Los siguientes ejemplos evalúan operaciones sencillas. Sin embargo, los resultados que se obtienen no son intuitivos. Explica por qué se obtienen dichos resultados (**una/dos frases por item son suficientes**):"
   ]
  },
  {
   "cell_type": "markdown",
   "metadata": {},
   "source": [
    "**(1.a)** \n",
    "\n",
    "La función ```round``` redondea el primer argumento al número de decimales dado por el segundo. Así, por ejemplo ```round(0.93, 1) = 0.9```. Probando un caso en el que el decimal a redondear sea justo \"5\":"
   ]
  },
  {
   "cell_type": "code",
   "execution_count": 62,
   "metadata": {},
   "outputs": [
    {
     "name": "stdout",
     "output_type": "stream",
     "text": [
      "0.8\n"
     ]
    }
   ],
   "source": [
    "print(round(0.75, 1))  # Print: 0.8\n"
   ]
  },
  {
   "cell_type": "markdown",
   "metadata": {},
   "source": [
    "Parecería indicar que, en estas situaciones, la función ```round``` redondea \"hacia arriba\". Sin embargo,"
   ]
  },
  {
   "cell_type": "code",
   "execution_count": 63,
   "metadata": {},
   "outputs": [
    {
     "name": "stdout",
     "output_type": "stream",
     "text": [
      "0.8\n"
     ]
    }
   ],
   "source": [
    "print(round(0.85, 1))  # Print: 0.8"
   ]
  },
  {
   "cell_type": "markdown",
   "metadata": {},
   "source": [
    "¿Por qué?"
   ]
  },
  {
   "cell_type": "code",
   "execution_count": null,
   "metadata": {},
   "outputs": [],
   "source": [
    "# SOL EJ 1a\n"
   ]
  },
  {
   "cell_type": "markdown",
   "metadata": {},
   "source": [
    "------------\n",
    "\n",
    "**(1.b)** \n",
    "\n",
    "Observa las siguientes dos medidas, tomadas en un laboratorio con un instrumento que tiene una sensibilidad de 6 cifras significativas:"
   ]
  },
  {
   "cell_type": "code",
   "execution_count": 16,
   "metadata": {},
   "outputs": [],
   "source": [
    "x = 1.48234\n",
    "y = 1.48235"
   ]
  },
  {
   "cell_type": "markdown",
   "metadata": {},
   "source": [
    "Se operará con ellas en precisión simple (para ello se utiliza el método ```np.float32()``` de ```numpy```). Observa que al ejecutar la siguiente celda el valor imprimido por pantalla difiere notablemente del que esperaríamos. ¿Por qué?"
   ]
  },
  {
   "cell_type": "code",
   "execution_count": null,
   "metadata": {},
   "outputs": [],
   "source": [
    "import numpy as np\n",
    "\n",
    "x_sng = np.float32(x)\n",
    "y_sng = np.float32(y)\n",
    "diff_sng = x_sng - y_sng\n",
    "\n",
    "print(diff_sng)  # esperaríamos algo como -0.00001 (-1e-5), pero sale -1.001358e-05"
   ]
  },
  {
   "cell_type": "code",
   "execution_count": null,
   "metadata": {},
   "outputs": [],
   "source": [
    "# SOL EJ 1b\n"
   ]
  },
  {
   "cell_type": "markdown",
   "metadata": {},
   "source": [
    "-----------------\n",
    "\n",
    "**(1.c)**  \n",
    "\n",
    "El sistema lineal $Ax=b$ está definido por:\n",
    "$$\n",
    "A = \\begin{pmatrix}\n",
    "10 & -7 & 0 \\\\\n",
    "-15  & 13 & 5.001  \\\\\n",
    "5  & -1 & 5  \\\\\n",
    "\\end{pmatrix} \n",
    "\\qquad\n",
    "b = \\begin{pmatrix}\n",
    "32 \\\\\n",
    "-31 \\\\\n",
    "33\n",
    "\\end{pmatrix} \n",
    "$$\n",
    "La siguiente $x$ de este sistema puede obtenerse de la siguiente forma:"
   ]
  },
  {
   "cell_type": "code",
   "execution_count": 64,
   "metadata": {},
   "outputs": [
    {
     "name": "stdout",
     "output_type": "stream",
     "text": [
      "solución 1:  x = [7.96000000e+00 6.80000000e+00 5.03301104e-12]\n"
     ]
    }
   ],
   "source": [
    "A = np.array([[10, -7, 0], [-15, 13, 5.001], [5, -1, 5]])\n",
    "b = np.array([32, -31, 33])\n",
    "\n",
    "sol = np.linalg.solve(A, b)\n",
    "\n",
    "print(f\"solución 1:  x = {sol}\")\n"
   ]
  },
  {
   "cell_type": "markdown",
   "metadata": {},
   "source": [
    "A continuación se va a resolver el mismo sistema pero con un vector de términos independientes ligeramente modificado:\n",
    "$$\n",
    "b_2 = \\begin{pmatrix}\n",
    "32 \\\\\n",
    "-31.1 \\\\\n",
    "33\n",
    "\\end{pmatrix} \n",
    "$$\n",
    "Observa que esto supone una variación menor del 1% en uno de los valores respecto al anterior $b$. El resultado de resolver el sistema con el nuevo vector de términos independientes es:"
   ]
  },
  {
   "cell_type": "code",
   "execution_count": 65,
   "metadata": {},
   "outputs": [
    {
     "name": "stdout",
     "output_type": "stream",
     "text": [
      "solución 2: x2 = [ 147.96  206.8  -100.  ]\n"
     ]
    }
   ],
   "source": [
    "b2 = np.array([32, -31.1, 33])\n",
    "\n",
    "sol2 = np.linalg.solve(A, b2)\n",
    "\n",
    "print(f\"solución 2: x2 = {sol2}\")"
   ]
  },
  {
   "cell_type": "markdown",
   "metadata": {},
   "source": [
    "Que es completamente distinto del resultado anterior. ¿Por qué?"
   ]
  },
  {
   "cell_type": "code",
   "execution_count": null,
   "metadata": {},
   "outputs": [],
   "source": [
    "# SOL EJ 1c"
   ]
  },
  {
   "cell_type": "markdown",
   "metadata": {},
   "source": [
    "-----------------\n",
    "\n",
    "## Ejercicio 2\n",
    "\n",
    "**[1 punto] -** Explica el concepto de condicionamiento aplicado a la evaluación de una función $f(x)$ diferenciable. En particular, explica cómo se mide el condicionamiento y cómo se interpreta dicha medición. También, razona si es verdadera o falsa la siguiente afirmación: \"en el contexto de la evaluación de una función diferenciable, se obtendrá siempre un mal condicionamiento en valores $x$ muy grandes (del orden de $10^{100}$), independientemente de cuál sea la función $f(x)$ considerada\".\n",
    "\n"
   ]
  },
  {
   "cell_type": "code",
   "execution_count": null,
   "metadata": {},
   "outputs": [],
   "source": [
    "# SOL EJ 2\n"
   ]
  },
  {
   "cell_type": "markdown",
   "metadata": {},
   "source": [
    "-----------------\n",
    "\n",
    "# Ejercicio 3\n",
    "\n",
    "**[1 punto] -** Deduce la fórmula de **diferencias finitas atrasadas de orden 2 para la primera derivada**, $f'(x)$, suponiendo una malla equiespaciada (paso $h$). Parte de desarrollos de Taylor a distintas distancias del punto $x$ donde se desea calcular la derivada.\n",
    "\n",
    "A partir de la fórmula anterior, programa una función llamada ```df_atrasadas_2o_primera_deriv(f: Callable, x: float, h: float) -> float``` que implemente la expresión a la que has llegado. Los argumentos de esta función son:\n",
    " - ```f```: es la función de la que se desea obtener una aproximación de su derivada (será un objeto de tipo ```Callable```, es decir, una función).\n",
    " - ```x```: es el punto donde se desea aproximar la derivada.\n",
    " - ```h```: es el paso escogido."
   ]
  },
  {
   "cell_type": "code",
   "execution_count": 53,
   "metadata": {},
   "outputs": [],
   "source": [
    "# SOL EJ 3\n",
    "\n",
    "from typing import Callable\n",
    "\n",
    "def fun(x: float) -> float:\n",
    "    # Puedes usar esta función para tus pruebas. 'fun' será entonces el primer \n",
    "    # argumento que pasarás a la función `df_atrasadas_2o_primera_deriv` que \n",
    "    # vas a implementar\n",
    "\n",
    "    return x**2\n",
    "\n",
    "def df_atrasadas_2o_primera_deriv(f: Callable, x: float, h: float) -> float:\n",
    "    \"\"\"Primera derivada por diferencias finitas atrasadas de orden 2\"\"\"\n",
    "    ...\n",
    "    \n",
    "    "
   ]
  },
  {
   "cell_type": "markdown",
   "metadata": {},
   "source": [
    "---------------------\n",
    "\n",
    "## Ejercicio 4\n",
    "\n",
    "**[1 punto] -** En precisión simple, se dispone de 1 bit para el signo $s$, 8 para el exponente $e$ y 23 para la parte fraccionaria de la mantisa $f$. Se demuestra que el sesgo del exponente debe ser $127$. Calcula la tupla $(s, e, f)$ (en base 2) para la representación del número $368$ en precisión simple. Explica cómo procederías para calcular el *gap* por la derecha de $368$ (no hace falta que realices los cálculos, simplemente explica el procedimiento que seguirías en una o dos frases)."
   ]
  },
  {
   "cell_type": "code",
   "execution_count": null,
   "metadata": {},
   "outputs": [],
   "source": [
    "# SOL EJ 4\n"
   ]
  }
 ],
 "metadata": {
  "kernelspec": {
   "display_name": "Python 3.10.5 ('.venv': venv)",
   "language": "python",
   "name": "python3"
  },
  "language_info": {
   "codemirror_mode": {
    "name": "ipython",
    "version": 3
   },
   "file_extension": ".py",
   "mimetype": "text/x-python",
   "name": "python",
   "nbconvert_exporter": "python",
   "pygments_lexer": "ipython3",
   "version": "3.10.5"
  },
  "orig_nbformat": 4,
  "vscode": {
   "interpreter": {
    "hash": "1beef6bdf7cb3edc825034b485381c9781f3bd7bbda8256bc912318d884443a5"
   }
  }
 },
 "nbformat": 4,
 "nbformat_minor": 2
}
