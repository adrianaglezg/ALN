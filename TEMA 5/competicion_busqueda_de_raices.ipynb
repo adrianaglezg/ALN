{
 "cells": [
  {
   "cell_type": "markdown",
   "id": "384924e0",
   "metadata": {},
   "source": [
    "# Algoritmos de Búsqueda de Raíces - Competencia Adversaria por Equipos"
   ]
  },
  {
   "cell_type": "markdown",
   "id": "993621f1",
   "metadata": {},
   "source": [
    "### Introducción\n",
    "\n",
    "¡Bienvenido al Campeonato de Algoritmos de Búsqueda de Raíces! Esta competición está diseñada para desafiar tu comprensión de los métodos numéricos para encontrar raíces de ecuaciones. Trabajarás en equipos para implementar algoritmos de búsqueda de raíces y para \"atacar\" los algoritmos de tus compañeros. El campeonato consta de dos rondas principales: implementación de algoritmos y pruebas adversarias. Vamos a sumergirnos en los detalles.\n",
    "\n",
    "---"
   ]
  },
  {
   "cell_type": "markdown",
   "id": "7dc42beb",
   "metadata": {},
   "source": [
    "### Objetivo\n",
    "\n",
    "- **Ronda 1**: Implementar un algoritmo robusto de búsqueda de raíces según los requisitos especificados.\n",
    "- **Ronda 2**: Crear tests para evaluar el algoritmo de otro equipo.\n",
    "\n",
    "---"
   ]
  },
  {
   "cell_type": "markdown",
   "id": "34a311be",
   "metadata": {},
   "source": [
    "## Ronda 1: Implementación del Algoritmo"
   ]
  },
  {
   "cell_type": "markdown",
   "id": "a0aeb12f",
   "metadata": {},
   "source": [
    "### Enunciado del Problema\n",
    "\n",
    "#### - *[Versión 1]* Encontrar una Raíz Dada $f(a) \\cdot f(b) \\leq 0$.\n",
    "\n",
    "Implementa una función `find_root` que encuentre una raíz de una función continua `f` dentro de un intervalo dado `[a, b]`, donde `f(a) * f(b) <= 0`. Esto asegura que hay al menos una raíz en el intervalo.\n",
    "\n",
    "#### - *[Versión 2]* Encontrar Todas las Raíces de un Polinomio.\n",
    "\n",
    "Implementa una función `find_all_roots` que encuentre todas las raíces (reales) de un polinomio dados sus coeficientes. Los coeficientes se proporcionan en orden decreciente de grado.\n",
    "\n",
    "#### - *[Versión 3]* Encontrar una Raíz Usando la Función y Su Derivada.\n",
    "\n",
    "Implementa una función `find_root_with_derivative` que encuentre una raíz de una función continua `f` dentro de un intervalo dado `[a, b]`, pero esta vez, también se proporciona la derivada de `f`, `df`.\n",
    "\n",
    "#### - *[Versión 4]* Encontrar un Punto con Tangente Horizontal.\n",
    "\n",
    "Implementa una función `find_horizontal_tangent` que encuentre un punto x en el intervalo [a, b] donde la derivada de una función dada f, f'(x), es igual a cero, lo que significa que la tangente a la función en ese punto es horizontal.\n",
    "\n",
    "**(Cada grupo trabajará en DOS de estos enunciados)**\n",
    "\n",
    "### Reglas\n",
    "\n",
    "- **Tiempo de desarrollo: 30 Minutos**:\n",
    "  - **Primera fase: 25min:** Sin recursos externos (IAs, internet, libros, notas). Apóyate en el trabajo en equipo y conocimientos existentes.\n",
    "  - **Segunda fase: 15min:** Se permite exclusivamente acceder al documento teórico sobre búsqueda de raíces (T5) disponible en Moodle.\n",
    "- **Restricciones de Implementación**:\n",
    "  - Usa solo evaluaciones de la función `f` (y `df` para la versión 3); no uses diferenciación simbólica o librerías externas para ello.\n",
    "  - Puedes usar librerías estándar de Python (`math`, `numpy`), pero la lógica central debe ser tuya.\n",
    "  - El algoritmo debe ser capaz de manejar cualquier parámetro de entrada válido, según las especificaciones.\n",
    "- **Envío**:\n",
    "  - Al finalizar el tiempo, envía tu código por correo electrónico a los grupos que realizarán el trabajo adversario y al profesor.\n",
    "  - Asegúrate de que tu código esté bien documentado.\n",
    "\n",
    "---\n",
    "\n",
    "### Procedimiento para los tests\n",
    "\n",
    "El profesor probará tu función con una serie de tests. Los casos de prueba dependerán de la versión del problema. Aquí hay ejemplos para cada versión:\n",
    "\n",
    "#### - Versión 1: Encontrar una Raíz Dada $f(a) \\cdot f(b) \\leq 0$\n",
    "\n",
    "1. **Polinomios Simples**:\n",
    "   - `f(x) = x^2 - 4`, intervalo `[0, 3]`, raíz esperada: `2`.\n",
    "2. **Funciones Trigonométricas**:\n",
    "   - `f(x) = sin(x)`, intervalo `[3, 4]`, raíz esperada: `π`.\n",
    "3. **Funciones Exponenciales**:\n",
    "   - `f(x) = e^{-x} - x`, intervalo `[0, 1]`, raíz esperada: alrededor de `0.5671`.\n",
    "4. **Funciones con Múltiples Raíces**:\n",
    "   - `f(x) = x^3 - x`, intervalo `[-2, 2]`, raíces esperadas: `-1`, `0`, `1`.\n",
    "\n",
    "#### - Versión 2: Encontrar Todas las Raíces de un Polinomio\n",
    "\n",
    "1. **Polinomio Cuadrático**:\n",
    "   - Coeficientes: `[1, -3, 2]`, raíces esperadas: `2`, `1`.\n",
    "2. **Polinomio Cúbico**:\n",
    "   - Coeficientes: `[1, -6, 11, -6]`, raíces esperadas: `1`, `2`, `3`.\n",
    "4. **Polinomio de Mayor Grado**:\n",
    "   - Coeficientes: `[1, -2, -1, 2]`, raíces esperadas: `-1, 1, 2`.\n",
    "\n",
    "#### - Versión 3: Encontrar una Raíz Usando la Función y Su Derivada\n",
    "\n",
    "1. **Polinomio Simple**:\n",
    "   - `f(x) = x^2 - 4`, `df(x) = 2x`, intervalo `[0, 3]`, raíz esperada: `2`.\n",
    "2. **Función Trigonométrica**:\n",
    "   - `f(x) = sin(x)`, `df(x) = cos(x)`, intervalo `[3, 4]`, raíz esperada: `π`.\n",
    "3. **Función Exponencial**:\n",
    "   - `f(x) = e^{-x} - x`, `df(x) = -e^{-x} - 1`, intervalo `[0, 1]`, raíz esperada: alrededor de `0.5671`.\n",
    "4. **Función Más Compleja**:\n",
    "   - `f(x) = x^3 - 2x^2 - 5`, `df(x) = 3x^2 - 4x`, intervalo `[2, 3]`, raíz esperada: alrededor de `2.69`.\n",
    "\n",
    "#### - Versión 4: Encontrar un Punto con Tangente Horizontal\n",
    "\n",
    "1. **Polinomio Simple**:\n",
    "   - `f(x) = x^3 - 3x`, `f'(x) = 3x^2 - 3`, intervalo `[0, 2]`, tangente esperada en `1`.\n",
    "2. **Función Trigonométrica**:\n",
    "   - `f(x) = sin(x)`, `f'(x) = cos(x)`, intervalo `[π, 2π]`, tangente esperada en `3π/2`.\n",
    "3. **Función Exponencial**:\n",
    "   - `f(x) = x * e^{-x}`, `f'(x) = e^{-x} - x * e^{-x}`, intervalo `[0, 3]`, tangente esperada en `1`.\n",
    "4. **Funciones Combinadas**:\n",
    "   - `f(x) = x^3 - 4x`, `f'(x) = 3x^2 - 4`, intervalo `[0, 3]`, tangente esperada en `√(4/3)`.\n",
    "\n",
    "_Nota_: Los casos de prueba reales pueden incluir funciones adicionales o diferentes.\n",
    "\n",
    "---\n",
    "\n",
    "### Criterios de Puntuación\n",
    "\n",
    "- **Corrección**:\n",
    "  - **10 puntos por caso de prueba exitoso**: Un caso de prueba es exitoso si tu función devuelve raíz(es) dentro de la tolerancia especificada.\n",
    "\n",
    "- **Manejo de Casos Límite**: Funciones con ciertas particularidades pueden necesitar un tratamiento especial.\n",
    "\n",
    "- **Eficiencia**: según el promedio de iteraciones, evaluaciones de la función y/o tiempo computacional.\n",
    "\n",
    "**Puntos Totales para la Ronda 1**: 100\n",
    "\n",
    "---\n",
    "\n",
    "###  Consejos para la Ronda 1\n",
    "\n",
    "- **Compromisos**: No hay un solo algoritmo que pueda manejar cualquier escenario. No intentes ser demasiado ambicioso, comienza con algo robusto incluso si falla en ciertos casos. Esto asegurará que ganes varios puntos en las pruebas que realizará el profesor.\n",
    "- **Tests**: Prueba tu función a fondo con varios casos de prueba, incluidas funciones simples y casos límite, para garantizar la corrección y robustez. Además, las pruebas que programes para tu propia función te serán útiles para la Ronda 2, para probar los algoritmos de otros grupos.\n",
    "- **Documentación**: Agrega comentarios claros a tu código para explicar la lógica, eso te ayudará a entender tu algoritmo y te preparará mejor para la Ronda 2."
   ]
  },
  {
   "cell_type": "markdown",
   "id": "eaa30f47",
   "metadata": {},
   "source": [
    "## Ronda 2: Pruebas Adversarias"
   ]
  },
  {
   "cell_type": "markdown",
   "id": "8aaa0411",
   "metadata": {},
   "source": [
    "### Objetivo\n",
    "\n",
    "Analiza la función de otro equipo (`find_root`, `find_all_roots`, `find_root_with_derivative` o `find_horizontal_tangent` dependiendo de la versión de la ronda 1) para identificar debilidades. Crea casos de prueba que sean válidos según las especificaciones pero que puedan hacer que el algoritmo falle o tenga un rendimiento deficiente.\n",
    "\n",
    "A cada equipo se le asignará el algoritmo de otro equipo para probar. Tu objetivo es programar la mayor cantidad posible de tests adversarios. **Cada test validado otorga 10 puntos**.\n",
    "\n",
    "**Un 'test' es una función que verifica el comportamiento de un método (en este caso, de búsqueda de raíces) llamando internamente a la función a testear y usando una aserción para validar el resultado, sin requerir argumentos ni devolver valores.** Consulta un ejemplo más abajo.\n",
    "\n",
    "Los test pueden girar en torno a distintos fenómenos numéricos o matemáticos:\n",
    " - Hacen que el algoritmo falle (por ejemplo, no converge, devuelve raíces incorrectas, lanza una excepción). Piensa funciones o valores de entrada que sean complejas y desafiantes, siempre dentro de las especificaciones.\n",
    " - Causa un rendimiento deficiente (por ejemplo, muchas iteraciones, alto tiempo de cómputo, no encuentra todas las soluciones (versión 2), etc.).\n",
    "\n",
    "### Directrices de la Tarea\n",
    "\n",
    "- **Tiempo**: 25min\n",
    "- **Recursos disponibles** : Exclusivamente el documento teórico de búsqueda de raíces disponible en Moodle.\n",
    "- **Crea la Mayor Cantidad de Tests Posibles**: Cada caso de prueba incluye componentes necesarios según la versión de la ronda 1. Los casos de prueba deben **ajustarse a las especificaciones originales**.\n",
    "- **Documentación**: Para cada caso de prueba, proporciona una descripción completa de los argumentos, junto con una descripción textual de la naturaleza/fenómeno que se está capturando.\n",
    "\n",
    "### Reglas\n",
    "\n",
    "- **No Modifiques el Algoritmo Asignado**:\n",
    "  - Las pruebas deben realizarse tal cual.\n",
    "- **Un Fenómeno - Una Prueba**:\n",
    "  - Proporciona solo una prueba para un cierto fenómeno (es decir, caso especial). Las pruebas que giran en torno al mismo concepto solo se tendrán en cuenta una vez a la hora de asignar puntos.\n",
    "- **No Tests Maliciosos**:\n",
    "  - No crees funciones o entradas que violen las suposiciones matemáticas (por ejemplo, números complejos cuando no se esperan, o coeficientes técnicamente incorrectos).\n",
    "- **Validación de los tests**:\n",
    "  - Cuando completes un test nuevo, llama al profesor para recibir la puntuación correspondiente: 10 puntos por test exitoso.\n",
    "  - Si un equipo a programado suficientes tests para una determinada función, el profesor les avisará y podrá empezar a trabajar sobre otra función de otro grupo, pudiendo obtener más puntos aún.\n",
    "  - Formatea tus tests de manera clara, documentando la casuística que pretende capturar.\n",
    "\n",
    "### Ejemplo de test"
   ]
  },
  {
   "cell_type": "code",
   "execution_count": null,
   "id": "b8f74113",
   "metadata": {},
   "outputs": [],
   "source": [
    "# Un 'test' es una función que verifica si el método de búsqueda de raíces hace lo que se espera que haga.\n",
    "# Debe contener una llamada a la función que se está probando y una aserción (assert) que verifique si el resultado es correcto.\n",
    "# No debe requerir ningún argumento de entrada, ni devolver ningún valor. Observa el siguiente ejemplo\n",
    "\n",
    "def test_quadratic_root():\n",
    "    \"\"\"Test for a quadratic function.\"\"\"\n",
    "    def f(x):\n",
    "        return x**2 - 4\n",
    "    def df(x):\n",
    "        return 2*x\n",
    "\n",
    "    root, iterations = find_root_with_derivative(f, df, 0, 3)  # Este ejemplo es para la versión 3\n",
    "    assert abs(root - 2) < 1e-6, f\"Expected root near 2, got {root}\"\n",
    "    print(f\"Quadratic root test passed. Root: {root}, Iterations: {iterations}\")"
   ]
  },
  {
   "cell_type": "markdown",
   "id": "3edd0474",
   "metadata": {},
   "source": [
    "\n",
    "### Consejos para la Ronda 2\n",
    "\n",
    "- **Analizando el Algoritmo Asignado**: Estudia cuidadosamente el código y la documentación del algoritmo asignado para entender su lógica e identificar posibles vulnerabilidades. Usa un LLM para entender rápidamente el código (y mejorar la claridad). Recuerda que el uso de LLMs solo esta permitido en este punto, y no puede usarse para programar o sugerir test:\n",
    "> Prompt: Given the following code, explain how it works, and provide detailed comments throughout the code to improve its readability. Do not modify it.\n",
    "- **Diseñando Tests**: Crea casos de prueba creativos y diversos que exploten diferentes debilidades. Piensa en funciones con características desafiantes, inestabilidades numéricas o valores de entrada especiales que puedan causar un comportamiento errático de la función.\n",
    "- **Explicaciones**: Justifica claramente tus elecciones de casos de prueba, explicando la razón detrás de cada uno y cómo podría desafiar al algoritmo.\n",
    "\n",
    "### Puntuación Final y Ganadores\n",
    "\n",
    "El equipo con la puntuación combinada más alta gana el campeonato."
   ]
  },
  {
   "cell_type": "markdown",
   "id": "3800c3ba",
   "metadata": {},
   "source": [
    "## *Apéndice*: Encabezados y Descripciones de Funciones para Cada Versión del Problema"
   ]
  },
  {
   "cell_type": "markdown",
   "id": "647faf0e",
   "metadata": {},
   "source": [
    "\n",
    "---\n",
    "\n",
    "### Versión 1: Encontrar una Raíz Dada $f(a) \\cdot f(b) \\leq 0$\n",
    "\n",
    "**Encabezado de Función (Python 3)**"
   ]
  },
  {
   "cell_type": "code",
   "execution_count": null,
   "id": "84d199b0",
   "metadata": {},
   "outputs": [],
   "source": [
    "def find_root(f, a, b, tol=1e-6, max_iter=1000):\n",
    "    \"\"\"\n",
    "    Encuentra una raíz de la función continua f en el intervalo [a, b], asumiendo que f(a) * f(b) <= 0.\n",
    "\n",
    "    Parámetros:\n",
    "        f (callable): La función continua para la cual se va a encontrar la raíz.\n",
    "        a (float): El límite inferior del intervalo.\n",
    "        b (float): El límite superior del intervalo.\n",
    "        tol (float, opcional): El nivel de tolerancia para la convergencia. Por defecto es 1e-6.\n",
    "        max_iter (int, opcional): Número máximo de iteraciones permitidas. Por defecto es 1000.\n",
    "\n",
    "    Retorna:\n",
    "        float: La raíz aproximada de f dentro de [a, b].\n",
    "        int: El número de iteraciones realizadas.\n",
    "\n",
    "    Lanza:\n",
    "        ValueError: Si f(a) * f(b) > 0, la función no es continua, o si no se encuentra la raíz dentro de las iteraciones máximas.\n",
    "    \"\"\"\n",
    "    assert f(a) * f(b) <= 0, \"La función no cumple con los requisitos necesarios.\"\n",
    "\n",
    "    # Tu implementación aquí"
   ]
  },
  {
   "cell_type": "markdown",
   "id": "109c4cc5",
   "metadata": {},
   "source": [
    "**Descripción**\n",
    "\n",
    "Esta función busca una raíz de una función continua `f` dentro del intervalo `[a, b]`. El método utilizado debe garantizar encontrar una raíz siempre que `f(a)` y `f(b)` tengan signos opuestos o uno de ellos sea cero (es decir, `f(a) * f(b) <= 0`).\n",
    "\n",
    "---"
   ]
  },
  {
   "cell_type": "markdown",
   "id": "20485bab",
   "metadata": {},
   "source": [
    "\n",
    "### Versión 2: Encontrar Todas las Raíces de un Polinomio\n",
    "\n",
    "**Encabezado de Función (Python 3)**"
   ]
  },
  {
   "cell_type": "code",
   "execution_count": null,
   "id": "e5acdb0c",
   "metadata": {},
   "outputs": [],
   "source": [
    "def find_all_roots(coefficients, tol=1e-6, max_iter=1000):\n",
    "    \"\"\"\n",
    "    Encuentra todas las raíces (reales) de un polinomio con los coeficientes dados.\n",
    "\n",
    "    Parámetros:\n",
    "        coefficients (list o array-like): Coeficientes del polinomio en orden decreciente de grado.\n",
    "        tol (float, opcional): Nivel de tolerancia para la convergencia de cada raíz. Por defecto es 1e-6.\n",
    "        max_iter (int, opcional): Número máximo de iteraciones permitidas para encontrar cada raíz. Por defecto es 1000.\n",
    "\n",
    "    Retorna:\n",
    "        list: Una lista que contiene todas las raíces del polinomio.\n",
    "        int: El número de iteraciones realizadas.\n",
    "\n",
    "    Lanza:\n",
    "        ValueError: Si el polinomio es inválido (por ejemplo, coeficientes vacíos, no es una lista/array válido), o si no se pueden encontrar las raíces dentro de las iteraciones máximas.\n",
    "    \"\"\"\n",
    "    # Tu implementación aquí"
   ]
  },
  {
   "cell_type": "markdown",
   "id": "97a47674",
   "metadata": {},
   "source": [
    "**Descripción**\n",
    "\n",
    "Esta función calcula todas las raíces reales, de un polinomio. El polinomio se define por sus coeficientes, proporcionados en una lista o array en orden decreciente de grado (por ejemplo, `[1, -3, 2]` representa `x^2 - 3x + 2`). La función debe ser capaz de manejar polinomios de diferentes grados y debe devolver una lista de números que representan las raíces.\n",
    "\n",
    "---\n"
   ]
  },
  {
   "cell_type": "markdown",
   "id": "cca51616",
   "metadata": {},
   "source": [
    "\n",
    "### Versión 3: Encontrar una Raíz Usando la Función y Su Derivada\n",
    "\n",
    "**Encabezado de Función (Python 3)**"
   ]
  },
  {
   "cell_type": "code",
   "execution_count": null,
   "id": "9f73f595",
   "metadata": {},
   "outputs": [],
   "source": [
    "def find_root_with_derivative(f, df, a, b, tol=1e-6, max_iter=1000):\n",
    "    \"\"\"\n",
    "    Encuentra una raíz de la función continua f en el intervalo [a, b] usando la derivada df.\n",
    "\n",
    "    Parámetros:\n",
    "        f (callable): La función continua para la cual se va a encontrar la raíz.\n",
    "        df (callable): La derivada de la función f.\n",
    "        a (float): El límite inferior del intervalo.\n",
    "        b (float): El límite superior del intervalo.\n",
    "        tol (float, opcional): Nivel de tolerancia para la convergencia. Por defecto es 1e-6.\n",
    "        max_iter (int, opcional): Número máximo de iteraciones permitidas. Por defecto es 1000.\n",
    "\n",
    "    Retorna:\n",
    "        float: La raíz aproximada de f dentro de [a, b].\n",
    "        int: El número de iteraciones realizadas.\n",
    "\n",
    "    Lanza:\n",
    "        ValueError: Si no se encuentra la raíz dentro de las iteraciones máximas, si la derivada es cero en algún punto del intervalo impidiendo la convergencia, u otra entrada inválida.\n",
    "    \"\"\"\n",
    "    # Tu implementación aquí"
   ]
  },
  {
   "cell_type": "markdown",
   "id": "b5c8276f",
   "metadata": {},
   "source": [
    "**Descripción**\n",
    "\n",
    "Similar a la Versión 1, esta función tiene como objetivo encontrar una raíz de la función continua `f` dentro del intervalo `[a, b]`. Sin embargo, esta versión también toma la derivada de `f` (denotada como `df`) como entrada. Se asume que existe una raíz dentro del intervalo [a,b].\n",
    "\n",
    "---\n"
   ]
  },
  {
   "cell_type": "markdown",
   "id": "3c5975e0",
   "metadata": {},
   "source": [
    "\n",
    "### Versión 4: Encontrar un Punto con Tangente Horizontal\n",
    "\n",
    "**Encabezado de Función (Python 3)**"
   ]
  },
  {
   "cell_type": "code",
   "execution_count": null,
   "id": "f064be98",
   "metadata": {},
   "outputs": [],
   "source": [
    "def find_horizontal_tangent(f, a, b, tol=1e-6, max_iter=1000):\n",
    "    \"\"\"\n",
    "    Encuentra un punto x en el intervalo [a, b] donde la derivada f'(x) = 0.\n",
    "\n",
    "    Parámetros:\n",
    "        f (callable): La función original f(x).\n",
    "        a (float): El límite inferior del intervalo.\n",
    "        b (float): El límite superior del intervalo.\n",
    "        tol (float, opcional): Nivel de tolerancia para la convergencia. Por defecto es 1e-6.\n",
    "        max_iter (int, opcional): Número máximo de iteraciones permitidas. Por defecto es 1000.\n",
    "\n",
    "    Retorna:\n",
    "        float: Un valor x dentro de [a, b] tal que f'(x) sea aproximadamente 0 (dentro de la tolerancia).\n",
    "        int: El número de iteraciones realizadas.\n",
    "\n",
    "    Lanza:\n",
    "        ValueError: Si no se encuentra una tangente horizontal dentro del intervalo o se alcanza el máximo de iteraciones.\n",
    "    \"\"\"\n",
    "    # Tu implementación aquí"
   ]
  },
  {
   "cell_type": "markdown",
   "id": "b3edb1d8",
   "metadata": {},
   "source": [
    "\n",
    "**Descripción**\n",
    "\n",
    "Esta versión requiere encontrar un solo punto en el intervalo `[a, b]` donde la tangente a la función `f` sea horizontal (es decir, la derivada `f'(x) = 0`). \n",
    "\n",
    "---\n"
   ]
  }
 ],
 "metadata": {
  "kernelspec": {
   "display_name": ".venv",
   "language": "python",
   "name": "python3"
  },
  "language_info": {
   "codemirror_mode": {
    "name": "ipython",
    "version": 3
   },
   "file_extension": ".py",
   "mimetype": "text/x-python",
   "name": "python",
   "nbconvert_exporter": "python",
   "pygments_lexer": "ipython3",
   "version": "3.12.6"
  }
 },
 "nbformat": 4,
 "nbformat_minor": 5
}
