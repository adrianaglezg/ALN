{
 "cells": [
  {
   "cell_type": "markdown",
   "metadata": {},
   "source": [
    "## método incremental"
   ]
  },
  {
   "cell_type": "code",
   "execution_count": 1,
   "metadata": {},
   "outputs": [],
   "source": [
    "def incremental_root_search(f: callable, a: float, b:float, dx: int) -> tuple | list: \n",
    "\n",
    "    x1 = a\n",
    "    x2 = a + dx\n",
    "\n",
    "    while x2 < b:\n",
    "        y1 = f(x1)\n",
    "        y2 = f(x2)\n",
    "\n",
    "        if y1 * y2 < 0:\n",
    "            return (x1, x2)\n",
    "        \n",
    "        else:\n",
    "            x1 = x2\n",
    "            x2 += x1\n",
    "\n",
    "    return (None, None)"
   ]
  },
  {
   "cell_type": "code",
   "execution_count": 2,
   "metadata": {},
   "outputs": [
    {
     "data": {
      "text/plain": [
       "(0.4398046511104, 0.8796093022208)"
      ]
     },
     "execution_count": 2,
     "metadata": {},
     "output_type": "execute_result"
    }
   ],
   "source": [
    "def f(x):\n",
    "    return x ** 3 - 10 * x ** 2 + 5\n",
    "    \n",
    "incremental_root_search(f, 0, 1, 0.0000000000001)"
   ]
  },
  {
   "cell_type": "markdown",
   "metadata": {},
   "source": [
    "## metodo biseccion"
   ]
  },
  {
   "cell_type": "code",
   "execution_count": null,
   "metadata": {},
   "outputs": [],
   "source": []
  }
 ],
 "metadata": {
  "kernelspec": {
   "display_name": "Python 3",
   "language": "python",
   "name": "python3"
  },
  "language_info": {
   "codemirror_mode": {
    "name": "ipython",
    "version": 3
   },
   "file_extension": ".py",
   "mimetype": "text/x-python",
   "name": "python",
   "nbconvert_exporter": "python",
   "pygments_lexer": "ipython3",
   "version": "3.12.6"
  }
 },
 "nbformat": 4,
 "nbformat_minor": 2
}
