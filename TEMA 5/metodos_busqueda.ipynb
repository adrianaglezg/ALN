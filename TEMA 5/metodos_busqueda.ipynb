{
 "cells": [
  {
   "cell_type": "markdown",
   "metadata": {},
   "source": [
    "## método incremental"
   ]
  },
  {
   "cell_type": "code",
   "execution_count": 1,
   "metadata": {},
   "outputs": [],
   "source": [
    "def incremental_root_search(f: callable, a: float, b:float, dx: int) -> tuple | list: \n",
    "\n",
    "    x1 = a\n",
    "    x2 = a + dx\n",
    "\n",
    "    while x2 < b:\n",
    "        y1 = f(x1)\n",
    "        y2 = f(x2)\n",
    "\n",
    "        if y1 * y2 < 0:\n",
    "            return (x1, x2)\n",
    "        \n",
    "        else:\n",
    "            x1 = x2\n",
    "            x2 += x1\n",
    "\n",
    "    return (None, None)"
   ]
  },
  {
   "cell_type": "code",
   "execution_count": 2,
   "metadata": {},
   "outputs": [
    {
     "data": {
      "text/plain": [
       "(0.4398046511104, 0.8796093022208)"
      ]
     },
     "execution_count": 2,
     "metadata": {},
     "output_type": "execute_result"
    }
   ],
   "source": [
    "def f(x):\n",
    "    return x ** 3 - 10 * x ** 2 + 5\n",
    "    \n",
    "incremental_root_search(f, 0, 1, 0.0000000000001)"
   ]
  },
  {
   "cell_type": "markdown",
   "metadata": {},
   "source": [
    "## metodo biseccion"
   ]
  },
  {
   "cell_type": "code",
   "execution_count": 9,
   "metadata": {},
   "outputs": [],
   "source": [
    "def bisection_method(f: callable, a:float, b: float, tol= 1e-10) -> tuple:\n",
    "\n",
    "    ''' \n",
    "    return a tuple with the bounded interval\n",
    "\n",
    "    note: a < b\n",
    "    '''\n",
    "    \n",
    "    fa = f(a)\n",
    "    fb = f(b)\n",
    "\n",
    "    if fa * fb > 0:\n",
    "        raise ValueError('edges of the interval appear to be the same sign')\n",
    "    \n",
    "    while abs(b - a) > tol:\n",
    "\n",
    "        c = (a + b) / 2\n",
    "        fc = f(c)\n",
    "\n",
    "        if fa * fc < 0:\n",
    "            fb = fc\n",
    "            b = c\n",
    "\n",
    "        else:\n",
    "            fa = fc\n",
    "            a = c\n",
    "\n",
    "    return (a, b)"
   ]
  },
  {
   "cell_type": "code",
   "execution_count": 10,
   "metadata": {},
   "outputs": [
    {
     "data": {
      "text/plain": [
       "(0.7346035077353008, 0.7346035077935085)"
      ]
     },
     "execution_count": 10,
     "metadata": {},
     "output_type": "execute_result"
    }
   ],
   "source": [
    "def f(x):\n",
    "    return x ** 3 - 10 * x ** 2 + 5\n",
    "\n",
    "bisection_method(f, 0, 1)"
   ]
  },
  {
   "cell_type": "markdown",
   "metadata": {},
   "source": [
    "## método regula falsi"
   ]
  },
  {
   "cell_type": "code",
   "execution_count": 11,
   "metadata": {},
   "outputs": [],
   "source": [
    "def regula_falsi_method(f: callable, a: float, b: float, tol: float = 1e-5, max_iter: int = 1000) -> float:\n",
    "\n",
    "    fa = f(a)\n",
    "    fb = f(b)\n",
    "    \n",
    "    if fa * fb > 0:\n",
    "        raise ValueError(\"La función debe tener signos opuestos en a y b\")\n",
    "\n",
    "    for _ in range(max_iter):\n",
    "        c = b - fb * ((b - a) / (fb - fa))\n",
    "        fc = f(c)\n",
    "\n",
    "        if abs(fc) < tol:\n",
    "            return c\n",
    "\n",
    "        if fa * fc > 0:  \n",
    "            a, fa = c, fc\n",
    "        else:           \n",
    "            b, fb = c, fc\n",
    "\n",
    "    raise ValueError(\"No se alcanzó la convergencia después de muchas iteraciones.\")\n"
   ]
  },
  {
   "cell_type": "code",
   "execution_count": 17,
   "metadata": {},
   "outputs": [
    {
     "data": {
      "text/plain": [
       "0.7346033593867669"
      ]
     },
     "execution_count": 17,
     "metadata": {},
     "output_type": "execute_result"
    }
   ],
   "source": [
    "regula_falsi_method(f,0, 1)\n"
   ]
  },
  {
   "cell_type": "markdown",
   "metadata": {},
   "source": [
    "## método de la secante"
   ]
  },
  {
   "cell_type": "code",
   "execution_count": 14,
   "metadata": {},
   "outputs": [],
   "source": [
    "def secant_method(f: callable, a: float, b: float, tol: float = 1e-8, max_iter: int = 100) -> tuple:\n",
    "\n",
    "    fa = f(a)\n",
    "    # print(fa)\n",
    "    fb = f(b)\n",
    "    # print(fb)\n",
    "\n",
    "    for i in range(max_iter):\n",
    "\n",
    "        c = b - fb * ((b - a) / (fb - fa))\n",
    "        fc = f(c)\n",
    "        # print(c)\n",
    "\n",
    "        if abs(c - b) < tol:\n",
    "            return (b, c) \n",
    "        \n",
    "        a = b\n",
    "        # print(a)\n",
    "        b = c\n",
    "        # print(b)\n",
    "    \n",
    "    return (f'secat method didnt converg after {max_iter} iterations \\n last result: ({a, b})')\n",
    "    "
   ]
  },
  {
   "cell_type": "code",
   "execution_count": 15,
   "metadata": {},
   "outputs": [
    {
     "data": {
      "text/plain": [
       "(0.6923076978043822, 0.6923076898647189)"
      ]
     },
     "execution_count": 15,
     "metadata": {},
     "output_type": "execute_result"
    }
   ],
   "source": [
    "secant_method(f, 0, 1)"
   ]
  },
  {
   "cell_type": "markdown",
   "metadata": {},
   "source": [
    "## método de ridder"
   ]
  },
  {
   "cell_type": "code",
   "execution_count": 4,
   "metadata": {},
   "outputs": [],
   "source": [
    "from typing import Callable\n",
    "import numpy as np\n",
    "\n",
    "\n",
    "def ridder(f: Callable, a: float, b: float, tol=1e-6, max_iter=100) -> float | None:\n",
    "    fa = f(a)\n",
    "    if abs(fa) < tol:\n",
    "        return a\n",
    "    \n",
    "    fb = f(b)\n",
    "    if abs(fb) < tol:\n",
    "        return b\n",
    "    \n",
    "    if fa * fb > 0:\n",
    "        raise ValueError(f\"El intervalo [{a},{b}] no acota la solución\")\n",
    "    \n",
    "    # sino podrias definir aqui x_old como x_old= np.inf\n",
    "\n",
    "    \n",
    "    for i in range(max_iter):\n",
    "        \n",
    "        #Actualizar el candidato\n",
    "        c = (a + b) / 2 #punto medio entre a y b\n",
    "        fc = f(c) #inconveniente Ridder -> dos evaluaciones por cada iteración\n",
    "        \n",
    "        s = np.sqrt(fc**2 - fa*fb)\n",
    "        \n",
    "        if s == 0.0:\n",
    "            print(f\"Hay problemas con el denominador\")\n",
    "            return None\n",
    "        \n",
    "        x = c + (np.sign(fa - fb) * (c - a) * fc) / s\n",
    "        \n",
    "        # comprobar condicion de convergencia conla tolerancia\n",
    "        # se podria poner otra condicion para qu ehaya al menos una cuantas iteraciones pq \n",
    "        # puede pasar que el error sea menor qu ela tolerancia peor que no hayas hecho muchas iteraciones\n",
    "        # se puede poner asi\n",
    "        # if i > 3 and if abs(x - x_old) / abs(x) < tol:\n",
    "\n",
    "        if (i > 1 and abs(x - x_old) / abs(x) < tol): #i>1 para no tener que definir x_old incialmente\n",
    "            print(f\"Iteraciones: {i}\")\n",
    "            print(f\"Se alcanza la solucion en x = {x.round(5)}\")\n",
    "            return x\n",
    "\n",
    "        #Preparar la siguiente iteración actualizando valores de a y b\n",
    "        \n",
    "        x_old = x\n",
    "        \n",
    "        fx = f(x) #Segunda evaluación de la función\n",
    "        \n",
    "        if np.sign(fc) == np.sign(fx):\n",
    "            if np.sign(fa) != np.sign(fx):\n",
    "                b = x\n",
    "                fb = fx\n",
    "            else:\n",
    "                a = x\n",
    "                fa = fx\n",
    "        else:\n",
    "            a = c\n",
    "            fa = fc\n",
    "            \n",
    "            b = x\n",
    "            fb = fx\n",
    "    \n",
    "    print(f\"El método de Ridder no converge\")\n",
    "    return None"
   ]
  },
  {
   "cell_type": "code",
   "execution_count": 5,
   "metadata": {},
   "outputs": [
    {
     "name": "stdout",
     "output_type": "stream",
     "text": [
      "Iteraciones: 6\n",
      "Se alcanza la solucion en x = 0.58\n"
     ]
    },
    {
     "data": {
      "image/png": "[encoded data removed]",
      "text/plain": [
       "<Figure size 640x480 with 1 Axes>"
      ]
     },
     "metadata": {},
     "output_type": "display_data"
    }
   ],
   "source": [
    "import matplotlib.pyplot as plt\n",
    "\n",
    "def func(x):\n",
    "    term1 = (x - 0.3) ** 2 + 0.01\n",
    "    term2 = (x - 0.8) ** 2 + 0.04\n",
    "\n",
    "    sol = (1 / term1) - (1 / term2)\n",
    "\n",
    "    return sol\n",
    "\n",
    "ridder(f= func, a= -10, b= 10)\n",
    "\n",
    "x = np.linspace(-15, 15, 1000)\n",
    "y = func(x)\n",
    "\n",
    "plt.plot(x, y)\n",
    "plt.show()\n",
    "\n"
   ]
  },
  {
   "cell_type": "markdown",
   "metadata": {},
   "source": [
    "## método newton raphson"
   ]
  },
  {
   "cell_type": "code",
   "execution_count": 6,
   "metadata": {},
   "outputs": [],
   "source": [
    "def newton_raphson(f: Callable, prime: Callable, x, tol= 1e-10, max_iter = 100):\n",
    "\n",
    "    for i in range(max_iter):\n",
    "\n",
    "        fx = f(x)\n",
    "        dx = prime(x)\n",
    "\n",
    "        x_old = x\n",
    "        x -= fx / dx\n",
    "\n",
    "        if abs(x - x_old) < tol:\n",
    "            print(f'encontrada la raiz en {i} iteraciones')\n",
    "            return x\n",
    "        \n",
    "    return (f'no se ha encontrado la raiz en {max_iter} iteraciones')"
   ]
  },
  {
   "cell_type": "code",
   "execution_count": 7,
   "metadata": {},
   "outputs": [
    {
     "name": "stdout",
     "output_type": "stream",
     "text": [
      "encontrada la raiz en 4 iteraciones\n"
     ]
    },
    {
     "data": {
      "text/plain": [
       "1.4142135623730951"
      ]
     },
     "execution_count": 7,
     "metadata": {},
     "output_type": "execute_result"
    }
   ],
   "source": [
    "def f(x):\n",
    "    return x ** 2 - 2\n",
    "\n",
    "def prime(x):\n",
    "    return 2 * x\n",
    "\n",
    "\n",
    "newton_raphson(f, prime, 1 )"
   ]
  }
 ],
 "metadata": {
  "kernelspec": {
   "display_name": "Python 3",
   "language": "python",
   "name": "python3"
  },
  "language_info": {
   "codemirror_mode": {
    "name": "ipython",
    "version": 3
   },
   "file_extension": ".py",
   "mimetype": "text/x-python",
   "name": "python",
   "nbconvert_exporter": "python",
   "pygments_lexer": "ipython3",
   "version": "3.12.6"
  }
 },
 "nbformat": 4,
 "nbformat_minor": 2
}
