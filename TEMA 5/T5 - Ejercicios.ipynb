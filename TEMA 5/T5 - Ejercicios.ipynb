{
 "cells": [
  {
   "cell_type": "markdown",
   "metadata": {},
   "source": [
    "# Ejercicios Tema 5 - Búsqueda de raíces"
   ]
  },
  {
   "cell_type": "markdown",
   "metadata": {},
   "source": [
    "### Ejercicio 1\n",
    "\n",
    "Encuentra la menor raíz positiva (real) de $x^3-3.23 x^2-5.54 x+9.84=0$ por el método de la bisección.\n",
    "\n"
   ]
  },
  {
   "cell_type": "code",
   "execution_count": null,
   "metadata": {},
   "outputs": [],
   "source": []
  },
  {
   "cell_type": "markdown",
   "metadata": {},
   "source": [
    "### Ejercicio 2\n",
    "\n",
    "La raíz positiva más pequeña, no nula, de $\\cosh x \\cos x - 1 = 0$ se encuentra en el intervalo $(4, 5)$. Calcula esta raíz por el método de Ridder.\n"
   ]
  },
  {
   "cell_type": "code",
   "execution_count": null,
   "metadata": {},
   "outputs": [],
   "source": []
  },
  {
   "cell_type": "markdown",
   "metadata": {},
   "source": [
    "### Ejercicio 3\n",
    "\n",
    "Resuelve el problema anterior por el método Newton-Raphson. Compara ambos métodos."
   ]
  },
  {
   "cell_type": "code",
   "execution_count": null,
   "metadata": {},
   "outputs": [],
   "source": []
  },
  {
   "cell_type": "markdown",
   "metadata": {},
   "source": [
    "### Ejercicio 4\n",
    "\n",
    "Una raíz de la ecuación $\\tan x - \\tanh x = 0$ se encuentra en $(7.0, 7.4)$. Encuentra esta raíz con una precisión de tres decimales por el método de la bisección.\n"
   ]
  },
  {
   "cell_type": "code",
   "execution_count": null,
   "metadata": {},
   "outputs": [],
   "source": []
  },
  {
   "cell_type": "markdown",
   "metadata": {},
   "source": [
    "### Ejercicio 5\n",
    "\n",
    "Determina las dos raíces de $\\text{sen} x + 3 \\cos x - 2 = 0$ que se encuentran en el intervalo $(-2, 2)$. Utiliza el método Newton-Raphson\n"
   ]
  },
  {
   "cell_type": "code",
   "execution_count": null,
   "metadata": {},
   "outputs": [],
   "source": []
  },
  {
   "cell_type": "markdown",
   "metadata": {},
   "source": [
    "### Ejercicio 6\n",
    "\n",
    "Resuelve el problema anterior usando el método de la secante.\n"
   ]
  },
  {
   "cell_type": "code",
   "execution_count": null,
   "metadata": {},
   "outputs": [],
   "source": []
  },
  {
   "cell_type": "markdown",
   "metadata": {},
   "source": [
    "### Ejercicio 7\n",
    "\n",
    "Dibuja una gráfica de $f (x) = \\cosh x \\cos x - 1$ en el intervalo $0 ≤ x ≤ 10$. (a) Comprueba a partir de la gráfica de la función que la raíz positiva más pequeña de $f (x) = 0$ se encuentra en el intervalo $(4, 5)$. (b) Demuestra gráficamente que la fórmula de Newton-Raphson no convergería a esta raíz si el algoritmo se iniciase en $x = 4$.\n",
    "\n"
   ]
  },
  {
   "cell_type": "code",
   "execution_count": null,
   "metadata": {},
   "outputs": [],
   "source": []
  },
  {
   "cell_type": "markdown",
   "metadata": {},
   "source": [
    "### Ejercicio 8\n",
    "\n",
    "Escribe un programa que calcule todas las raíces de $f (x) = 0$ en un intervalo dado combinando el método de Ridder con el de la búsqueda incremental para acotar las raices. Puedes utilizar funciones que ya hayas programado en otros ejercicios. Prueba el programa encontrando las raíces de $x \\text{sen} x + 3 \\cos x - x = 0$ en $(-6, 6)$."
   ]
  },
  {
   "cell_type": "code",
   "execution_count": null,
   "metadata": {},
   "outputs": [],
   "source": []
  },
  {
   "cell_type": "markdown",
   "metadata": {},
   "source": [
    "### Ejercicio 9\n",
    "\n",
    "Repite el problema anterior pero utiliza ahora el método de Newton-Raphson en lugar del de Ridder.\n",
    "\n"
   ]
  },
  {
   "cell_type": "code",
   "execution_count": null,
   "metadata": {},
   "outputs": [],
   "source": []
  },
  {
   "cell_type": "markdown",
   "metadata": {},
   "source": [
    "### Ejercicio 10\n",
    "\n",
    "Encuentra todas las raíces positivas y distintas de cero de $\\text{sen} x - 0.1x = 0$.\n"
   ]
  },
  {
   "cell_type": "code",
   "execution_count": null,
   "metadata": {},
   "outputs": [],
   "source": []
  },
  {
   "cell_type": "markdown",
   "metadata": {},
   "source": [
    "### Ejercicio 11\n",
    "\n",
    "<center>\n",
    "<div>\n",
    "<img src=\"https://drive.upm.es/index.php/apps/files_sharing/ajax/publicpreview.php?x=1920&y=465&a=true&file=ej_cuerda.png&t=LTmVxhde5TJc6Cs&scalingup=0\" width=\"280\"/>\n",
    "</div>\n",
    "</center>\n",
    "\n",
    "Un cable está suspendido como se muestra en la figura. Su longitud $s$ y la flecha\n",
    "$h$ se relacionan con la luz $L$ mediante la siguientes expresiones:\n",
    "$$\n",
    "s=\\frac{2}{\\lambda} \\text{sen}h \\frac{\\lambda L}{2} \\quad h=\\frac{1}{\\lambda}\\left(\\cosh \\frac{\\lambda L}{2}-1\\right) \\\\\n",
    "$$\n",
    "donde\n",
    "$$\n",
    "\\begin{gathered}\n",
    "\\lambda=w_0 / T_0 \\\\\n",
    "w_0=\\text { peso del cable por unidad de longitud } \\\\\n",
    "T_0=\\text { tensión del cable en } O\n",
    "\\end{gathered}\n",
    "$$\n",
    "Calcula $s$ para $L=160 \\mathrm{~m}$ y $h=15 \\mathrm{~m}$."
   ]
  },
  {
   "cell_type": "code",
   "execution_count": null,
   "metadata": {},
   "outputs": [],
   "source": []
  },
  {
   "cell_type": "markdown",
   "metadata": {},
   "source": [
    "\n",
    "### Ejercicio 12\n",
    "\n",
    "<center>\n",
    "<div>\n",
    "<img src=\"https://drive.upm.es/index.php/apps/files_sharing/ajax/publicpreview.php?x=1920&y=465&a=true&file=ej_fluido.png&t=d0f51BYM0JMR7Z9&scalingup=0\" width=\"280\"/>\n",
    "</div>\n",
    "</center>\n",
    "\n",
    "La ecuación de Bernoulli para el flujo en un canal abierto con una pequeña protuberancia es:\n",
    "\n",
    "$$\n",
    "\\frac{Q^2}{2 g b^2 h_0^2}+h_0=\\frac{Q^2}{2 g b^2 h^2}+h+H\n",
    "$$\n",
    "\n",
    "donde\n",
    "$$\n",
    "\\begin{aligned}\n",
    "Q & =1,2 \\mathrm{~m}^3 / \\mathrm{s}=\\text { caudal volumétrico } \\\\\n",
    "g & =9,81 \\mathrm{~m} / \\mathrm{s}^2=\\text { aceleración gravitatoria } \\\\\n",
    "b & =1,8 \\mathrm{~m}=\\text { anchura del canal } \\\\\n",
    "h_0 & =0,6 \\mathrm{~m}=\\text { nivel de agua aguas arriba } \\\\\n",
    "H & =0,075 \\mathrm{~m}=\\text { altura del bache } \\\\\n",
    "h & =\\text { nivel de agua por encima de la protuberancia }\n",
    "\\end{aligned}\n",
    "$$\n",
    "\n",
    "determinar $h$"
   ]
  },
  {
   "cell_type": "code",
   "execution_count": null,
   "metadata": {},
   "outputs": [],
   "source": []
  },
  {
   "cell_type": "markdown",
   "metadata": {},
   "source": [
    "\n",
    "\n",
    "### Ejercicio 13\n",
    "\n",
    "<center>\n",
    "<div>\n",
    "<img src=\"https://drive.upm.es/index.php/apps/files_sharing/ajax/publicpreview.php?x=1920&y=465&a=true&file=ej_proyctil.png&t=aJ6KBIIOWR3Mp3t&scalingup=0\" width=\"280\"/>\n",
    "</div>\n",
    "</center>\n",
    "\n",
    "Un proyectil se lanza a $O$ con velocidad $v$ y un ángulo $\\theta$ respecto a la horizontal. Las ecuaciones paramétricas de la trayectoria son:\n",
    "\n",
    "$$\n",
    "\\begin{aligned}\n",
    "& x=(v \\cos \\theta) t \\\\\n",
    "& y=-\\frac{1}{2} g t^2+(v \\sin \\theta) t\n",
    "\\end{aligned}\n",
    "$$\n",
    "\n",
    "donde $t$ es el tiempo medido desde el instante del lanzamiento, y $g=9.81 \\mathrm{~m} / \\mathrm{s}^2$ representa la aceleración gravitatoria. Si el proyectil debe impactar en el objetivo $A$ con un ángulo de $45^\\circ$ como se muestra en la figura, determina $v$, $\\theta$ , y el tiempo de vuelo."
   ]
  },
  {
   "cell_type": "code",
   "execution_count": null,
   "metadata": {},
   "outputs": [],
   "source": []
  },
  {
   "cell_type": "markdown",
   "metadata": {},
   "source": [
    "### Ejercicio 14\n",
    "Dados los puntos\n",
    "\n",
    "<center>\n",
    "\n",
    "|  x  |  y  |\n",
    "|-----|-----|\n",
    "| 0    | 0   |\n",
    "| 0.25 | -1.2233 |\n",
    "| 0.50 | -2.2685 |\n",
    "| 0.75 | -2.8420 |\n",
    "| 1.0  | -2.2130 |\n",
    "| 1.25 | 2.5478 |\n",
    "| 1.5  | 55.507 |\n",
    "\n",
    "</center>\n",
    "\n",
    "determinar la raíz no nula de $y(x) = 0$. *Pista: Utiliza algún método de interpolación de funciones para calcular y.*"
   ]
  },
  {
   "cell_type": "code",
   "execution_count": null,
   "metadata": {},
   "outputs": [],
   "source": []
  },
  {
   "cell_type": "markdown",
   "metadata": {},
   "source": [
    "### Ejercicio 15\n",
    "\n",
    "Comprobar numéricamente que los métodos de Halley y Chebyshev definidos mediante\n",
    "$$\n",
    "\\begin{array}{ll}\n",
    "x_{n+1}=x_n-\\frac{f\\left(x_n\\right)}{f^{\\prime}\\left(x_n\\right)-\\frac{f\\left(x_n\\right) f^{\\prime \\prime}\\left(x_n\\right)}{2f^{\\prime}\\left(x_n\\right)}} \\quad \\text { (Halley) } \\\\\n",
    "\\\\\n",
    "x_{n+1}=x_n-\\frac{f\\left(x_n\\right)}{f^{\\prime}\\left(x_n\\right)}\\left(1+\\frac{f\\left(x_n\\right) f^{\\prime \\prime}\\left(x_n\\right)}{2\\left(f^{\\prime}\\left(x_n\\right)\\right)^2}\\right) & \\text { (Chebyshev) }\n",
    "\\end{array}\n",
    "$$\n",
    "convergen cúbicamente para raíces simples y funciones regulares."
   ]
  },
  {
   "cell_type": "code",
   "execution_count": 8,
   "metadata": {},
   "outputs": [],
   "source": [
    "import numpy as np\n",
    "\n",
    "def chebyshev_method(f: callable,\n",
    "                    f_prime:callable,\n",
    "                    f_doble_prime:callable,\n",
    "                    x0: float,\n",
    "                    tol: float = 1e-6,\n",
    "                    max_ite= 100) -> tuple[float, int]:\n",
    "    \n",
    "    x = x0\n",
    "    prev_error = float('inf')\n",
    "\n",
    "    for i in range(max_ite):\n",
    "        fx = f(x)\n",
    "        fpx = f_prime(x)\n",
    "        fppx = f_doble_prime(x)\n",
    "\n",
    "        x_new = x -(fx / fpx) * (1.0 + (fx * fppx) / (2.0 + fpx ** 2))\n",
    "\n",
    "\n",
    "        error = abs(x_new - x)\n",
    "\n",
    "        if i > 0:\n",
    "            p = 3\n",
    "            razon = error / prev_error ** 2\n",
    "            print(f'iteración {i+1}, x = {x}, error: {error:.2e}, razon del error {razon:.2e}')\n",
    "        else:\n",
    "            print(f'iteración {i+1}, x = {x}, error: {error:.2e}')\n",
    "\n",
    "\n",
    "        if  error < tol:\n",
    "            return x_new, i\n",
    "\n",
    "        prev_error = error\n",
    "        x = x_new\n",
    "\n",
    "    \n",
    "    print(f'cuidadillo: el algoritmo no ha convergido como deberia y ha alcanzado el max de iteraciones')\n",
    "    print('la solucion devuelta puede no ser correcta')\n",
    "    return x, i\n",
    "            \n"
   ]
  },
  {
   "cell_type": "code",
   "execution_count": 9,
   "metadata": {},
   "outputs": [],
   "source": [
    "def func(x):\n",
    "    return x**5 - x - 1\n",
    "\n",
    "def prime(x):\n",
    "    return 5 * x**4 -1\n",
    "\n",
    "def double_prime(x):\n",
    "    return 20 * x**3\n"
   ]
  },
  {
   "cell_type": "code",
   "execution_count": 10,
   "metadata": {},
   "outputs": [
    {
     "name": "stdout",
     "output_type": "stream",
     "text": [
      "iteración 1, x = 0.0, error: 1.00e+00\n",
      "iteración 2, x = -1.0, error: 5.28e-01, razon del error 5.28e-01\n",
      "iteración 3, x = -0.4722222222222222, error: 1.07e+00, razon del error 3.83e+00\n",
      "iteración 4, x = -1.538032461306634, error: 5.40e-01, razon del error 4.75e-01\n",
      "iteración 5, x = -0.9983966632548226, error: 5.29e-01, razon del error 1.82e+00\n",
      "iteración 6, x = -0.46891535602933876, error: 1.05e+00, razon del error 3.76e+00\n",
      "iteración 7, x = -1.5230758169940875, error: 5.35e-01, razon del error 4.81e-01\n",
      "iteración 8, x = -0.9883246431764072, error: 5.41e-01, razon del error 1.89e+00\n",
      "iteración 9, x = -0.4473756561356895, error: 9.90e-01, razon del error 3.38e+00\n",
      "iteración 10, x = -1.4369801100846185, error: 5.08e-01, razon del error 5.19e-01\n",
      "iteración 11, x = -0.9290179328035053, error: 6.44e-01, razon del error 2.49e+00\n",
      "iteración 12, x = -0.28530691917686324, error: 8.25e-01, razon del error 1.99e+00\n",
      "iteración 13, x = -1.1104962249013237, error: 4.66e-01, razon del error 6.84e-01\n",
      "iteración 14, x = -0.6449827320099841, error: 7.76e+00, razon del error 3.58e+01\n",
      "iteración 15, x = -8.407203020291362, error: 3.03e+00, razon del error 5.02e-02\n",
      "iteración 16, x = -5.381152075894518, error: 1.94e+00, razon del error 2.11e-01\n",
      "iteración 17, x = -3.445781914534983, error: 1.23e+00, razon del error 3.30e-01\n",
      "iteración 18, x = -2.2110063698152613, error: 7.82e-01, razon del error 5.13e-01\n",
      "iteración 19, x = -1.428988412762639, error: 5.06e-01, razon del error 8.27e-01\n",
      "iteración 20, x = -0.923371127144833, error: 6.58e-01, razon del error 2.57e+00\n",
      "iteración 21, x = -0.265716938804074, error: 8.25e-01, razon del error 1.91e+00\n",
      "iteración 22, x = -1.0906967601362567, error: 4.71e-01, razon del error 6.92e-01\n",
      "iteración 23, x = -0.6199367964706809, error: 3.76e+00, razon del error 1.70e+01\n",
      "iteración 24, x = -4.383346037130181, error: 1.57e+00, razon del error 1.11e-01\n",
      "iteración 25, x = -2.8084939651678615, error: 1.00e+00, razon del error 4.04e-01\n",
      "iteración 26, x = -1.8064483191921201, error: 6.33e-01, razon del error 6.31e-01\n",
      "iteración 27, x = -1.1730512418798114, error: 4.59e-01, razon del error 1.14e+00\n",
      "iteración 28, x = -0.7141633060617181, error: 4.15e+00, razon del error 1.97e+01\n",
      "iteración 29, x = 3.4326127988350414, error: 1.22e+00, razon del error 7.11e-02\n",
      "iteración 30, x = 2.2101115518725543, error: 7.38e-01, razon del error 4.94e-01\n",
      "iteración 31, x = 1.471684032083209, error: 3.08e-01, razon del error 5.64e-01\n",
      "iteración 32, x = 1.1641567973044447, error: 3.13e-03, razon del error 3.31e-02\n",
      "iteración 33, x = 1.167285589322429, error: 1.84e-05, razon del error 1.88e+00\n",
      "iteración 34, x = 1.167303977648793, error: 6.13e-10, razon del error 1.81e+00\n"
     ]
    }
   ],
   "source": [
    "x0 = 0.0\n",
    "root, iter = chebyshev_method(func, prime, double_prime, x0)"
   ]
  },
  {
   "cell_type": "markdown",
   "metadata": {},
   "source": [
    "### Ejercicio 16\n",
    "\n",
    "En el método de la secante, la pendiente de la recta secante se calcula mediante $p=\\left(y_1-y_0\\right) /\\left(x_1-x_0\\right)$.\n",
    "\n",
    "Cuando se hayan realizado algunas iteraciones, $x_1$ y $x_0$ serán valores próximos a la raíz y al restarlos es posible que se pierdan cifras significativas debido al fenómeno de cancelación catastrófica (*¿$y_1$ e $y_0$ serán también valores muy parecidos?*).\n",
    "\n",
    "Para evitar esta situación conviene guardar la diferencia entre dos aproximaciones sucesivas $x_0$ y $x_1$ en una variable $(d x)$ de forma que no sea necesario calcular explícitamente su diferencia, haciendo $d x \\leftarrow y_1 \\cdot dx / (y_1 - y_0)$. \n",
    "\n",
    "Analiza esta modificación, impleméntala y piensa en ejemplos prácticos donde se ponga de manifiesto la mejora del rendimiento del método de la secante gracias a este cambio."
   ]
  },
  {
   "cell_type": "code",
   "execution_count": null,
   "metadata": {},
   "outputs": [],
   "source": []
  },
  {
   "cell_type": "markdown",
   "metadata": {},
   "source": [
    "### Ejercicio 17\n",
    "\n",
    "El inverso de un número a puede calcularse sin realizar ninguna división mediante la fórmula iterativa $x_{n+1}=$ $x_n\\left(2-x_n a\\right)$. Deduce esta relación aplicando el método de Newton a una función $f(x)$ apropiada. Iniciando la iteración con $x_0=0.2$, obtener el inverso de 7 con cuatro cifras significativas correctas."
   ]
  },
  {
   "cell_type": "code",
   "execution_count": null,
   "metadata": {},
   "outputs": [],
   "source": []
  },
  {
   "cell_type": "markdown",
   "metadata": {},
   "source": [
    "### Ejercicio 18\n",
    "\n",
    "La siguiente variación del método de Newton mantiene un orden de convergencia cuadrático:\n",
    "$$\n",
    "x_{n+1}=x_n-\\frac{f\\left(x_n\\right)}{g\\left(x_n\\right)}\n",
    "$$\n",
    "donde la función de pendiente $g(x)$ se obtiene a partir de la función original $f$:\n",
    "$$\n",
    "g(x)=\\frac{f(x+f(x))}{f(x)}-1\n",
    "$$\n",
    "o quizás de manera más clara,\n",
    "$$\n",
    "g(x)=\\frac{f(x+h)-f(x)}{h}\n",
    "$$\n",
    "donde $h=f(x)$ es un tamaño de *paso* entre el último punto de iteración, $x$, y un punto auxiliar ubicado en $x+h$. A este método se le conoce como el **método de Steffensen**. \n",
    " - **(a)** ¿Qué representa $g(x)$ numéricamente?\n",
    " - **(b)** Analiza las ventajas y desventajas del método en comparación con el de Newton y el de la secante. Realiza experimentos numéricos que pongan de manifiesto las características que hayas destacado."
   ]
  },
  {
   "cell_type": "code",
   "execution_count": null,
   "metadata": {},
   "outputs": [],
   "source": []
  },
  {
   "cell_type": "markdown",
   "metadata": {},
   "source": [
    "### Ejercicio 19\n",
    "\n",
    "Considérese la ecuación polinómica\n",
    "$$\n",
    "x^7-28 x^6+322 x^5-1960 x^4+6769 x^3-13132 x^2+13068 x-5040=0\n",
    "$$\n",
    "que también puede escribirse en la forma\n",
    "$$\n",
    "(x-7)(x-6)(x-5)(x-4)(x-3)(x-2)(x-1)=0 .\n",
    "$$\n",
    "\n",
    " - **(a)** Resuelve el problema de búsqueda de las raíces de este polinomio mediante el método de Newton. Comenta la precisión de los resultados en comparación con los teóricos y el número de iteraciones necesarias para la convergencia. Toma como valores iniciales $0.9,1.9,2.9,3.9,4.9,5.9,6.9$, y utiliza el siguiente criterio de parada. \n",
    "$$\n",
    "\\left|\\frac{x_n-x_{n-1}}{x_n}\\right|<10^{-8} \\text { y }\\left|f\\left(x_n\\right)\\right|<10^{-8} \\text {. }\n",
    "$$\n",
    "\n",
    " - **(b)** Repite el ejercicio, pero sustituye el coeficiente de $x^2$ ($-13132$) por el valor $-13133$. Comenta los resultados y justifica razonadamente lo que observas."
   ]
  },
  {
   "cell_type": "code",
   "execution_count": null,
   "metadata": {},
   "outputs": [],
   "source": []
  },
  {
   "cell_type": "markdown",
   "metadata": {},
   "source": [
    "### Ejercicio 20\n",
    "\n",
    "En una situación genérica, el [método de Brent](https://en.wikipedia.org/wiki/Brent%27s_method) tiene mejor rendimiento que la mayoría de los métodos vistos en este tema, lo que le hace un algoritmo muy popular para la búsqueda de raíces acotadas en un intervalo. Busca información online sobre este algoritmo, analiza sus ventajas e inconvenientes, y propón una implementación apropiada para este método. Prueba su rendimiento en comparación con otros métodos usando funciones de ejercicios anteriores."
   ]
  },
  {
   "cell_type": "code",
   "execution_count": null,
   "metadata": {},
   "outputs": [],
   "source": []
  },
  {
   "cell_type": "markdown",
   "metadata": {},
   "source": [
    "### Ejercicio 21\n",
    "\n",
    "El método de Newton no converge cuadráticamente si la raíz buscada es doble. Como alternativa, se dispone del **Método de Newton acelerado** dado por la siguiente relación de recurrencia: \n",
    "\n",
    "$$\n",
    "x_{n+1}=x_n-k \\frac{f\\left(x_n\\right)}{f^{\\prime}\\left(x_n\\right)}\n",
    "$$\n",
    "donde $k$ es una constante entera que coincide con el orden de la raíz buscada.\n",
    "\n",
    "Implementa el método de Newton acelerado. Prueba a buscar la raíz doble de la siguiente función. Comprueba que su orden de convergencia es cuadrático, mientras que el del método de Newton estándar es lineal (con $C = \\left| (k-1) / k \\right|$).\n",
    "\n",
    "$$\n",
    "f(x)=x^4-6.4 x^3+6.45 x^2+20.538 x-31.752\n",
    "$$\n",
    "\n",
    "<center>\n",
    "<div>\n",
    "<img src=\"https://drive.upm.es/index.php/apps/files_sharing/ajax/publicpreview.php?x=1920&y=465&a=true&file=ej_newton.png&t=etX3pvzKDeiFQiK&scalingup=0\" width=\"320\"/>\n",
    "</div>\n",
    "</center>"
   ]
  },
  {
   "cell_type": "markdown",
   "metadata": {},
   "source": [
    "### Ejercicio 22\n",
    "\n",
    "Considera el problema de encontrar una raíz de la función $f(x) = e^x \\cos x - 1 - x$. Empezando con $x_0 = 1$, el método de Newton proporciona los siguientes resultados\n",
    "\n",
    "<center>\n",
    "\n",
    "| $n$     | $x_n$                         | $\\|f(x_n)\\|$               | $\\|e_n\\| / \\|e_{n-1}\\|$ |\n",
    "|-------|-------------------------------|---------------------------|---------------------------|\n",
    "| 0     | $0.1000000000 \\times 10^1$    | 0.531                     |                           |\n",
    "| 1     | 0.70785787413                 | 0.166                     | 0.708                     |\n",
    "| 2     | 0.4946193099                  | $0.513 \\times 10^{-1}$    | 0.699                     |\n",
    "| 3     | 0.3415787220                  | $0.157 \\times 10^{-1}$    | 0.691                     |\n",
    "| 4     | 0.2336186767                  | $0.477 \\times 10^{-2}$    | 0.684                     |\n",
    "| 5     | 0.1585907638                  | $0.144 \\times 10^{-2}$    | 0.679                     |\n",
    "| 6     | 0.1070657447                  | $0.431 \\times 10^{-3}$    | 0.675                     |\n",
    "| 7     | $0.7199589908 \\times 10^{-1}$ | $0.129 \\times 10^{-3}$    | 0.672                     |\n",
    "| 8     | $0.4827972129 \\times 10^{-1}$ | $0.384 \\times 10^{-4}$    | 0.671                     |\n",
    "| 9     | $0.3231431171 \\times 10^{-1}$ | $0.114 \\times 10^{-4}$    | 0.669                     |\n",
    "| 10    | $0.2160038799 \\times 10^{-1}$ | $0.340 \\times 10^{-5}$    | 0.668                     |\n",
    "| 11    | $0.1442603022 \\times 10^{-1}$ | $0.101 \\times 10^{-5}$    | 0.668                     |\n",
    "| 12    | $0.9628870524 \\times 10^{-2}$ | $0.299 \\times 10^{-6}$    | 0.668                     |\n",
    "| 13    | $0.6424385123 \\times 10^{-2}$ | $0.887 \\times 10^{-7}$    | 0.667                     |\n",
    "| 14    | $0.4285212141 \\times 10^{-2}$ | $0.263 \\times 10^{-7}$    | 0.667                     |\n",
    "| 15    | $0.2857827161 \\times 10^{-2}$ | $0.779 \\times 10^{-8}$    | 0.667                     |\n",
    "| 16    | $0.1905671554 \\times 10^{-2}$ | $0.231 \\times 10^{-8}$    | 0.667                     |\n",
    "| 17    | $0.1270649373 \\times 10^{-2}$ | $0.684 \\times 10^{-9}$    | 0.667                     |\n",
    "| 18    | $0.8471892215 \\times 10^{-3}$ | $0.203 \\times 10^{-9}$    | 0.667                     |\n",
    "| 19    | $0.5648327060 \\times 10^{-3}$ | $0.601 \\times 10^{-10}$   | 0.667                     |\n",
    "| 20    | $0.3765728325 \\times 10^{-3}$ | $0.178 \\times 10^{-10}$   | 0.667                     |\n",
    "\n",
    "</center>\n",
    "\n",
    "Se observa que el método converge a la raíz $\\alpha = 0$, pero la convergencia es lineal. Utiliza el método de Newton acelerado explicado en el ejercicio anterior para encontrar dicha raíz. Analiza qué valor de $k$ debe fijarse. Observa la diferencia en número de iteraciones y evolución del error frente al método de Newton tradicional.\n",
    "\n",
    " "
   ]
  },
  {
   "cell_type": "code",
   "execution_count": null,
   "metadata": {},
   "outputs": [],
   "source": []
  }
 ],
 "metadata": {
  "kernelspec": {
   "display_name": "Python 3",
   "language": "python",
   "name": "python3"
  },
  "language_info": {
   "codemirror_mode": {
    "name": "ipython",
    "version": 3
   },
   "file_extension": ".py",
   "mimetype": "text/x-python",
   "name": "python",
   "nbconvert_exporter": "python",
   "pygments_lexer": "ipython3",
   "version": "3.12.6"
  },
  "orig_nbformat": 4
 },
 "nbformat": 4,
 "nbformat_minor": 2
}
