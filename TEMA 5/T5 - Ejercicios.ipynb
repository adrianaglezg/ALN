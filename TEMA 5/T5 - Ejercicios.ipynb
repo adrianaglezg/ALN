{
 "cells": [
  {
   "cell_type": "markdown",
   "metadata": {},
   "source": [
    "# Ejercicios Tema 5 - Búsqueda de raíces"
   ]
  },
  {
   "cell_type": "markdown",
   "metadata": {},
   "source": [
    "### Ejercicio 1\n",
    "\n",
    "Encuentra la menor raíz positiva (real) de $x^3-3.23 x^2-5.54 x+9.84=0$ por el método de la bisección.\n",
    "\n"
   ]
  },
  {
   "cell_type": "code",
   "execution_count": null,
   "metadata": {},
   "outputs": [],
   "source": []
  },
  {
   "cell_type": "markdown",
   "metadata": {},
   "source": [
    "### Ejercicio 2\n",
    "\n",
    "La raíz positiva más pequeña, no nula, de $\\cosh x \\cos x - 1 = 0$ se encuentra en el intervalo $(4, 5)$. Calcula esta raíz por el método de Ridder.\n"
   ]
  },
  {
   "cell_type": "code",
   "execution_count": null,
   "metadata": {},
   "outputs": [],
   "source": []
  },
  {
   "cell_type": "markdown",
   "metadata": {},
   "source": [
    "### Ejercicio 3\n",
    "\n",
    "Resuelve el problema anterior por el método Newton-Raphson. Compara ambos métodos."
   ]
  },
  {
   "cell_type": "code",
   "execution_count": null,
   "metadata": {},
   "outputs": [],
   "source": []
  },
  {
   "cell_type": "markdown",
   "metadata": {},
   "source": [
    "### Ejercicio 4\n",
    "\n",
    "Una raíz de la ecuación $\\tan x - \\tanh x = 0$ se encuentra en $(7.0, 7.4)$. Encuentra esta raíz con una precisión de tres decimales por el método de la bisección.\n"
   ]
  },
  {
   "cell_type": "code",
   "execution_count": null,
   "metadata": {},
   "outputs": [],
   "source": []
  },
  {
   "cell_type": "markdown",
   "metadata": {},
   "source": [
    "### Ejercicio 5\n",
    "\n",
    "Determina las dos raíces de $\\text{sen} x + 3 \\cos x - 2 = 0$ que se encuentran en el intervalo $(-2, 2)$. Utiliza el método Newton-Raphson\n"
   ]
  },
  {
   "cell_type": "code",
   "execution_count": null,
   "metadata": {},
   "outputs": [],
   "source": []
  },
  {
   "cell_type": "markdown",
   "metadata": {},
   "source": [
    "### Ejercicio 6\n",
    "\n",
    "Resuelve el problema anterior usando el método de la secante.\n"
   ]
  },
  {
   "cell_type": "code",
   "execution_count": null,
   "metadata": {},
   "outputs": [],
   "source": []
  },
  {
   "cell_type": "markdown",
   "metadata": {},
   "source": [
    "### Ejercicio 7\n",
    "\n",
    "Dibuja una gráfica de $f (x) = \\cosh x \\cos x - 1$ en el intervalo $0 ≤ x ≤ 10$. (a) Comprueba a partir de la gráfica de la función que la raíz positiva más pequeña de $f (x) = 0$ se encuentra en el intervalo $(4, 5)$. (b) Demuestra gráficamente que la fórmula de Newton-Raphson no convergería a esta raíz si el algoritmo se iniciase en $x = 4$.\n",
    "\n"
   ]
  },
  {
   "cell_type": "code",
   "execution_count": null,
   "metadata": {},
   "outputs": [],
   "source": []
  },
  {
   "cell_type": "markdown",
   "metadata": {},
   "source": [
    "### Ejercicio 8\n",
    "\n",
    "Escribe un programa que calcule todas las raíces de $f (x) = 0$ en un intervalo dado combinando el método de Ridder con el de la búsqueda incremental para acotar las raices. Puedes utilizar funciones que ya hayas programado en otros ejercicios. Prueba el programa encontrando las raíces de $x \\text{sen} x + 3 \\cos x - x = 0$ en $(-6, 6)$."
   ]
  },
  {
   "cell_type": "code",
   "execution_count": null,
   "metadata": {},
   "outputs": [],
   "source": []
  },
  {
   "cell_type": "markdown",
   "metadata": {},
   "source": [
    "### Ejercicio 9\n",
    "\n",
    "Repite el problema anterior pero utiliza ahora el método de Newton-Raphson en lugar del de Ridder.\n",
    "\n"
   ]
  },
  {
   "cell_type": "code",
   "execution_count": null,
   "metadata": {},
   "outputs": [],
   "source": []
  },
  {
   "cell_type": "markdown",
   "metadata": {},
   "source": [
    "### Ejercicio 10\n",
    "\n",
    "Encuentra todas las raíces positivas y distintas de cero de $\\text{sen} x - 0.1x = 0$.\n"
   ]
  },
  {
   "cell_type": "code",
   "execution_count": null,
   "metadata": {},
   "outputs": [],
   "source": []
  },
  {
   "cell_type": "markdown",
   "metadata": {},
   "source": [
    "### Ejercicio 11\n",
    "\n",
    "<center>\n",
    "<div>\n",
    "<img src=\"https://drive.upm.es/index.php/apps/files_sharing/ajax/publicpreview.php?x=1920&y=465&a=true&file=ej_cuerda.png&t=LTmVxhde5TJc6Cs&scalingup=0\" width=\"280\"/>\n",
    "</div>\n",
    "</center>\n",
    "\n",
    "Un cable está suspendido como se muestra en la figura. Su longitud $s$ y la flecha\n",
    "$h$ se relacionan con la luz $L$ mediante la siguientes expresiones:\n",
    "$$\n",
    "s=\\frac{2}{\\lambda} \\text{sen}h \\frac{\\lambda L}{2} \\quad h=\\frac{1}{\\lambda}\\left(\\cosh \\frac{\\lambda L}{2}-1\\right) \\\\\n",
    "$$\n",
    "donde\n",
    "$$\n",
    "\\begin{gathered}\n",
    "\\lambda=w_0 / T_0 \\\\\n",
    "w_0=\\text { peso del cable por unidad de longitud } \\\\\n",
    "T_0=\\text { tensión del cable en } O\n",
    "\\end{gathered}\n",
    "$$\n",
    "Calcula $s$ para $L=160 \\mathrm{~m}$ y $h=15 \\mathrm{~m}$."
   ]
  },
  {
   "cell_type": "code",
   "execution_count": null,
   "metadata": {},
   "outputs": [],
   "source": []
  },
  {
   "cell_type": "markdown",
   "metadata": {},
   "source": [
    "\n",
    "### Ejercicio 12\n",
    "\n",
    "<center>\n",
    "<div>\n",
    "<img src=\"https://drive.upm.es/index.php/apps/files_sharing/ajax/publicpreview.php?x=1920&y=465&a=true&file=ej_fluido.png&t=d0f51BYM0JMR7Z9&scalingup=0\" width=\"280\"/>\n",
    "</div>\n",
    "</center>\n",
    "\n",
    "La ecuación de Bernoulli para el flujo en un canal abierto con una pequeña protuberancia es:\n",
    "\n",
    "$$\n",
    "\\frac{Q^2}{2 g b^2 h_0^2}+h_0=\\frac{Q^2}{2 g b^2 h^2}+h+H\n",
    "$$\n",
    "\n",
    "donde\n",
    "$$\n",
    "\\begin{aligned}\n",
    "Q & =1,2 \\mathrm{~m}^3 / \\mathrm{s}=\\text { caudal volumétrico } \\\\\n",
    "g & =9,81 \\mathrm{~m} / \\mathrm{s}^2=\\text { aceleración gravitatoria } \\\\\n",
    "b & =1,8 \\mathrm{~m}=\\text { anchura del canal } \\\\\n",
    "h_0 & =0,6 \\mathrm{~m}=\\text { nivel de agua aguas arriba } \\\\\n",
    "H & =0,075 \\mathrm{~m}=\\text { altura del bache } \\\\\n",
    "h & =\\text { nivel de agua por encima de la protuberancia }\n",
    "\\end{aligned}\n",
    "$$\n",
    "\n",
    "determinar $h$"
   ]
  },
  {
   "cell_type": "code",
   "execution_count": null,
   "metadata": {},
   "outputs": [],
   "source": []
  },
  {
   "cell_type": "markdown",
   "metadata": {},
   "source": [
    "\n",
    "\n",
    "### Ejercicio 13\n",
    "\n",
    "<center>\n",
    "<div>\n",
    "<img src=\"https://drive.upm.es/index.php/apps/files_sharing/ajax/publicpreview.php?x=1920&y=465&a=true&file=ej_proyctil.png&t=aJ6KBIIOWR3Mp3t&scalingup=0\" width=\"280\"/>\n",
    "</div>\n",
    "</center>\n",
    "\n",
    "Un proyectil se lanza a $O$ con velocidad $v$ y un ángulo $\\theta$ respecto a la horizontal. Las ecuaciones paramétricas de la trayectoria son:\n",
    "\n",
    "$$\n",
    "\\begin{aligned}\n",
    "& x=(v \\cos \\theta) t \\\\\n",
    "& y=-\\frac{1}{2} g t^2+(v \\sin \\theta) t\n",
    "\\end{aligned}\n",
    "$$\n",
    "\n",
    "donde $t$ es el tiempo medido desde el instante del lanzamiento, y $g=9.81 \\mathrm{~m} / \\mathrm{s}^2$ representa la aceleración gravitatoria. Si el proyectil debe impactar en el objetivo $A$ con un ángulo de $45^\\circ$ como se muestra en la figura, determina $v$, $\\theta$ , y el tiempo de vuelo."
   ]
  },
  {
   "cell_type": "code",
   "execution_count": null,
   "metadata": {},
   "outputs": [],
   "source": []
  },
  {
   "cell_type": "markdown",
   "metadata": {},
   "source": [
    "### Ejercicio 14\n",
    "Dados los puntos\n",
    "\n",
    "<center>\n",
    "\n",
    "|  x  |  y  |\n",
    "|-----|-----|\n",
    "| 0    | 0   |\n",
    "| 0.25 | -1.2233 |\n",
    "| 0.50 | -2.2685 |\n",
    "| 0.75 | -2.8420 |\n",
    "| 1.0  | -2.2130 |\n",
    "| 1.25 | 2.5478 |\n",
    "| 1.5  | 55.507 |\n",
    "\n",
    "</center>\n",
    "\n",
    "determinar la raíz no nula de $y(x) = 0$. *Pista: Utiliza algún método de interpolación de funciones para calcular y.*"
   ]
  },
  {
   "cell_type": "code",
   "execution_count": null,
   "metadata": {},
   "outputs": [],
   "source": []
  },
  {
   "cell_type": "markdown",
   "metadata": {},
   "source": [
    "### Ejercicio 15\n",
    "\n",
    "Comprobar numéricamente que los métodos de Halley y Chebyshev definidos mediante\n",
    "$$\n",
    "\\begin{array}{ll}\n",
    "x_{n+1}=x_n-\\frac{f\\left(x_n\\right)}{f^{\\prime}\\left(x_n\\right)-\\frac{f\\left(x_n\\right) f^{\\prime \\prime}\\left(x_n\\right)}{f^{\\prime}\\left(x_n\\right)}} \\quad \\text { (Halley) } \\\\\n",
    "\\\\\n",
    "x_{n+1}=x_n-\\frac{f\\left(x_n\\right)}{f^{\\prime}\\left(x_n\\right)}\\left(1+\\frac{f\\left(x_n\\right) f^{\\prime \\prime}\\left(x_n\\right)}{2\\left(f^{\\prime}\\left(x_n\\right)\\right)^2}\\right) & \\text { (Chebyshev) }\n",
    "\\end{array}\n",
    "$$\n",
    "convergen cúbicamente para raíces simples y funciones regulares."
   ]
  },
  {
   "cell_type": "code",
   "execution_count": null,
   "metadata": {},
   "outputs": [],
   "source": []
  },
  {
   "cell_type": "markdown",
   "metadata": {},
   "source": [
    "### Ejercicio 16\n",
    "\n",
    "En el método de la secante, la pendiente de la recta secante se calcula mediante $p=\\left(y_1-y_0\\right) /\\left(x_1-x_0\\right)$.\n",
    "\n",
    "Cuando se hayan realizado algunas iteraciones, $x_1$ y $x_0$ serán valores próximos a la raíz y al restarlos es posible que se pierdan cifras significativas debido al fenómeno de cancelación catastrófica (*¿$y_1$ e $y_0$ serán también valores muy parecidos?*).\n",
    "\n",
    "Para evitar esta situación conviene guardar la diferencia entre dos aproximaciones sucesivas $x_0$ y $x_1$ en una variable $(d x)$ de forma que no sea necesario calcular explícitamente su diferencia, haciendo $d x \\leftarrow y_1 \\cdot dx / (y_1 - y_0)$. \n",
    "\n",
    "Analiza esta modificación, impleméntala y piensa en ejemplos prácticos donde se ponga de manifiesto la mejora del rendimiento del método de la secante gracias a este cambio."
   ]
  },
  {
   "cell_type": "code",
   "execution_count": null,
   "metadata": {},
   "outputs": [],
   "source": []
  },
  {
   "cell_type": "markdown",
   "metadata": {},
   "source": [
    "### Ejercicio 17\n",
    "\n",
    "El inverso de un número a puede calcularse sin realizar ninguna división mediante la fórmula iterativa $x_{n+1}=$ $x_n\\left(2-x_n a\\right)$. Deduce esta relación aplicando el método de Newton a una función $f(x)$ apropiada. Iniciando la iteración con $x_0=0.2$, obtener el inverso de 7 con cuatro cifras significativas correctas."
   ]
  },
  {
   "cell_type": "code",
   "execution_count": null,
   "metadata": {},
   "outputs": [],
   "source": []
  },
  {
   "cell_type": "markdown",
   "metadata": {},
   "source": [
    "### Ejercicio 18\n",
    "\n",
    "La siguiente variación del método de Newton mantiene un orden de convergencia cuadrático:\n",
    "$$\n",
    "x_{n+1}=x_n-\\frac{f\\left(x_n\\right)}{g\\left(x_n\\right)}\n",
    "$$\n",
    "donde la función de pendiente $g(x)$ se obtiene a partir de la función original $f$:\n",
    "$$\n",
    "g(x)=\\frac{f(x+f(x))}{f(x)}-1\n",
    "$$\n",
    "o quizás de manera más clara,\n",
    "$$\n",
    "g(x)=\\frac{f(x+h)-f(x)}{h}\n",
    "$$\n",
    "donde $h=f(x)$ es un tamaño de *paso* entre el último punto de iteración, $x$, y un punto auxiliar ubicado en $x+h$. A este método se le conoce como el **método de Steffensen**. \n",
    " - **(a)** ¿Qué representa $g(x)$ numéricamente?\n",
    " - **(b)** Analiza las ventajas y desventajas del método en comparación con el de Newton y el de la secante. Realiza experimentos numéricos que pongan de manifiesto las características que hayas destacado."
   ]
  },
  {
   "cell_type": "code",
   "execution_count": null,
   "metadata": {},
   "outputs": [],
   "source": []
  },
  {
   "cell_type": "markdown",
   "metadata": {},
   "source": [
    "### Ejercicio 19\n",
    "\n",
    "Considérese la ecuación polinómica\n",
    "$$\n",
    "x^7-28 x^6+322 x^5-1960 x^4+6769 x^3-13132 x^2+13068 x-5040=0\n",
    "$$\n",
    "que también puede escribirse en la forma\n",
    "$$\n",
    "(x-7)(x-6)(x-5)(x-4)(x-3)(x-2)(x-1)=0 .\n",
    "$$\n",
    "\n",
    " - **(a)** Resuelve el problema de búsqueda de las raíces de este polinomio mediante el método de Newton. Comenta la precisión de los resultados en comparación con los teóricos y el número de iteraciones necesarias para la convergencia. Toma como valores iniciales $0.9,1.9,2.9,3.9,4.9,5.9,6.9$, y utiliza el siguiente criterio de parada. \n",
    "$$\n",
    "\\left|\\frac{x_n-x_{n-1}}{x_n}\\right|<10^{-8} \\text { y }\\left|f\\left(x_n\\right)\\right|<10^{-8} \\text {. }\n",
    "$$\n",
    "\n",
    " - **(b)** Repite el ejercicio, pero sustituye el coeficiente de $x^2$ ($-13132$) por el valor $-13133$. Comenta los resultados y justifica razonadamente lo que observas."
   ]
  },
  {
   "cell_type": "code",
   "execution_count": null,
   "metadata": {},
   "outputs": [],
   "source": []
  },
  {
   "cell_type": "markdown",
   "metadata": {},
   "source": [
    "### Ejercicio 20\n",
    "\n",
    "En una situación genérica, el [método de Brent](https://en.wikipedia.org/wiki/Brent%27s_method) tiene mejor rendimiento que la mayoría de los métodos vistos en este tema, lo que le hace un algoritmo muy popular para la búsqueda de raíces acotadas en un intervalo. Busca información online sobre este algoritmo, analiza sus ventajas e inconvenientes, y propón una implementación apropiada para este método. Prueba su rendimiento en comparación con otros métodos usando funciones de ejercicios anteriores."
   ]
  },
  {
   "cell_type": "code",
   "execution_count": null,
   "metadata": {},
   "outputs": [],
   "source": []
  },
  {
   "cell_type": "markdown",
   "metadata": {},
   "source": [
    "### Ejercicio 21\n",
    "\n",
    "El método de Newton no converge cuadráticamente si la raíz buscada es doble. Como alternativa, se dispone del **Método de Newton acelerado** dado por la siguiente relación de recurrencia: \n",
    "\n",
    "$$\n",
    "x_{n+1}=x_n-k \\frac{f\\left(x_n\\right)}{f^{\\prime}\\left(x_n\\right)}\n",
    "$$\n",
    "donde $k$ es una constante entera que coincide con el orden de la raíz buscada.\n",
    "\n",
    "Implementa el método de Newton acelerado. Prueba a buscar la raíz doble de la siguiente función. Comprueba que su orden de convergencia es cuadrático, mientras que el del método de Newton estándar es lineal (con $C = \\left| (k-1) / k \\right|$).\n",
    "\n",
    "$$\n",
    "f(x)=x^4-6.4 x^3+6.45 x^2+20.538 x-31.752\n",
    "$$\n",
    "\n",
    "<center>\n",
    "<div>\n",
    "<img src=\"https://drive.upm.es/index.php/apps/files_sharing/ajax/publicpreview.php?x=1920&y=465&a=true&file=ej_newton.png&t=etX3pvzKDeiFQiK&scalingup=0\" width=\"320\"/>\n",
    "</div>\n",
    "</center>"
   ]
  },
  {
   "cell_type": "markdown",
   "metadata": {},
   "source": [
    "### Ejercicio 22\n",
    "\n",
    "Considera el problema de encontrar una raíz de la función $f(x) = e^x \\cos x - 1 - x$. Empezando con $x_0 = 1$, el método de Newton proporciona los siguientes resultados\n",
    "\n",
    "<center>\n",
    "\n",
    "| $n$     | $x_n$                         | $\\|f(x_n)\\|$               | $\\|e_n\\| / \\|e_{n-1}\\|$ |\n",
    "|-------|-------------------------------|---------------------------|---------------------------|\n",
    "| 0     | $0.1000000000 \\times 10^1$    | 0.531                     |                           |\n",
    "| 1     | 0.70785787413                 | 0.166                     | 0.708                     |\n",
    "| 2     | 0.4946193099                  | $0.513 \\times 10^{-1}$    | 0.699                     |\n",
    "| 3     | 0.3415787220                  | $0.157 \\times 10^{-1}$    | 0.691                     |\n",
    "| 4     | 0.2336186767                  | $0.477 \\times 10^{-2}$    | 0.684                     |\n",
    "| 5     | 0.1585907638                  | $0.144 \\times 10^{-2}$    | 0.679                     |\n",
    "| 6     | 0.1070657447                  | $0.431 \\times 10^{-3}$    | 0.675                     |\n",
    "| 7     | $0.7199589908 \\times 10^{-1}$ | $0.129 \\times 10^{-3}$    | 0.672                     |\n",
    "| 8     | $0.4827972129 \\times 10^{-1}$ | $0.384 \\times 10^{-4}$    | 0.671                     |\n",
    "| 9     | $0.3231431171 \\times 10^{-1}$ | $0.114 \\times 10^{-4}$    | 0.669                     |\n",
    "| 10    | $0.2160038799 \\times 10^{-1}$ | $0.340 \\times 10^{-5}$    | 0.668                     |\n",
    "| 11    | $0.1442603022 \\times 10^{-1}$ | $0.101 \\times 10^{-5}$    | 0.668                     |\n",
    "| 12    | $0.9628870524 \\times 10^{-2}$ | $0.299 \\times 10^{-6}$    | 0.668                     |\n",
    "| 13    | $0.6424385123 \\times 10^{-2}$ | $0.887 \\times 10^{-7}$    | 0.667                     |\n",
    "| 14    | $0.4285212141 \\times 10^{-2}$ | $0.263 \\times 10^{-7}$    | 0.667                     |\n",
    "| 15    | $0.2857827161 \\times 10^{-2}$ | $0.779 \\times 10^{-8}$    | 0.667                     |\n",
    "| 16    | $0.1905671554 \\times 10^{-2}$ | $0.231 \\times 10^{-8}$    | 0.667                     |\n",
    "| 17    | $0.1270649373 \\times 10^{-2}$ | $0.684 \\times 10^{-9}$    | 0.667                     |\n",
    "| 18    | $0.8471892215 \\times 10^{-3}$ | $0.203 \\times 10^{-9}$    | 0.667                     |\n",
    "| 19    | $0.5648327060 \\times 10^{-3}$ | $0.601 \\times 10^{-10}$   | 0.667                     |\n",
    "| 20    | $0.3765728325 \\times 10^{-3}$ | $0.178 \\times 10^{-10}$   | 0.667                     |\n",
    "\n",
    "</center>\n",
    "\n",
    "Se observa que el método converge a la raíz $\\alpha = 0$, pero la convergencia es lineal. Utiliza el método de Newton acelerado explicado en el ejercicio anterior para encontrar dicha raíz. Analiza qué valor de $k$ debe fijarse. Observa la diferencia en número de iteraciones y evolución del error frente al método de Newton tradicional.\n",
    "\n",
    " "
   ]
  },
  {
   "cell_type": "code",
   "execution_count": null,
   "metadata": {},
   "outputs": [],
   "source": []
  }
 ],
 "metadata": {
  "kernelspec": {
   "display_name": "Python 3.10.5 ('.venv': venv)",
   "language": "python",
   "name": "python3"
  },
  "language_info": {
   "codemirror_mode": {
    "name": "ipython",
    "version": 3
   },
   "file_extension": ".py",
   "mimetype": "text/x-python",
   "name": "python",
   "nbconvert_exporter": "python",
   "pygments_lexer": "ipython3",
   "version": "3.10.5"
  },
  "orig_nbformat": 4,
  "vscode": {
   "interpreter": {
    "hash": "1beef6bdf7cb3edc825034b485381c9781f3bd7bbda8256bc912318d884443a5"
   }
  }
 },
 "nbformat": 4,
 "nbformat_minor": 2
}
