{
 "cells": [
  {
   "cell_type": "code",
   "execution_count": 2,
   "metadata": {},
   "outputs": [
    {
     "name": "stdout",
     "output_type": "stream",
     "text": [
      "m\n"
     ]
    }
   ],
   "source": [
    "palabra = 'mamahuevo'\n",
    "\n",
    "i = 1\n",
    "\n",
    "sub_palabra = palabra[0:i]\n",
    "\n",
    "print(sub_palabra)"
   ]
  },
  {
   "cell_type": "code",
   "execution_count": 6,
   "metadata": {},
   "outputs": [],
   "source": [
    "\n",
    "palabra = 'mamahuevo'\n",
    "sub_palabra = 'mama'\n",
    "sub_lista = palabra.split(sub_palabra)"
   ]
  },
  {
   "cell_type": "code",
   "execution_count": 7,
   "metadata": {},
   "outputs": [
    {
     "data": {
      "text/plain": [
       "['', 'huevo']"
      ]
     },
     "execution_count": 7,
     "metadata": {},
     "output_type": "execute_result"
    }
   ],
   "source": [
    "sub_lista"
   ]
  },
  {
   "cell_type": "code",
   "execution_count": 58,
   "metadata": {},
   "outputs": [],
   "source": [
    "def word_split( palabra: str, lista:str ) -> list[str]:\n",
    " \n",
    "    '''\n",
    "    palabra es el str compuesto por varias posibles palabras\n",
    "    lista es un str que cntiene una sucesion de palabras separadas por ,\n",
    "    lista_de_palbras transforma el str de lista en una lista con las palabras como elementos\n",
    "    sub_palabra es un fragmento del str palabra desde la posicion 0 hasta el el contador i\n",
    "    palabras_posibles inicializa como lista vacia y va añadiendo los elementos que coincidan con la sub palabra\n",
    "\n",
    "    sub_lista es una lista que contiene ['', 'resto de la palabra']\n",
    "\n",
    "    '''\n",
    "    i = 0\n",
    "    lista_de_palabras = lista.split(',')\n",
    "    palabras_posibles = []\n",
    "\n",
    "    while i < len(palabra):\n",
    "        sub_palabra = palabra[0:i+1]\n",
    "        \n",
    "        if sub_palabra not in lista_de_palabras:\n",
    "           print(f\"{i}: {sub_palabra}\")\n",
    "           \n",
    "           i += 1\n",
    "\n",
    "        if sub_palabra in lista_de_palabras:\n",
    "\n",
    "            palabras_posibles.append(sub_palabra)\n",
    "            sub_lista = palabra.split(sub_palabra)\n",
    "            \n",
    "            sub_palabra = sub_lista[1]\n",
    "            i = 1\n",
    "            \n",
    "            return ','.join(palabras_posibles)\n",
    "\n",
    "    if i == len(palabra):\n",
    "\n",
    "        return 'no se ha encontrado nada más'"
   ]
  },
  {
   "cell_type": "code",
   "execution_count": 57,
   "metadata": {},
   "outputs": [
    {
     "data": {
      "text/plain": [
       "'havsdhga, ajgshdja, jsgsd'"
      ]
     },
     "execution_count": 57,
     "metadata": {},
     "output_type": "execute_result"
    }
   ],
   "source": [
    "lista = ['havsdhga', 'ajgshdja', 'jsgsd']\n",
    "\n",
    "', '.join(lista)"
   ]
  },
  {
   "cell_type": "code",
   "execution_count": 59,
   "metadata": {},
   "outputs": [
    {
     "name": "stdout",
     "output_type": "stream",
     "text": [
      "0: p\n",
      "1: pa\n",
      "2: pas\n",
      "3: past\n",
      "4: pastu\n",
      "5: pastur\n",
      "pasture\n"
     ]
    }
   ],
   "source": [
    "list_of_words = \"manor,no,expression,so,cease,paid,pasture,be,coming,furnished,silicio,what,of,amounted,melancholy,greater,pneumonia,do,disposal,gay,understood,permeaculture,those,gay,speaking,attachment,on,partiality,silent,ultra,tears,estimable,she,might,except,an,ready,acceptance.,his,snug,to,will,old,design,education,showing,offering,to,ye,friends,on.,am,jointure,sent,defective.,rose,dependent,departure,widow,her,he,on,quitting,its,replying,no,volcano,spirit,her.,it,extremely.,sons,as,me.,especially,it,observe.,fine,offer.,not,on,interest,perceive,gay,attending,in.,ham,nor,attachment,had,microscopic,his,exquisite,admitted,commanded,incommode,far.,say,our.,supported,by,in,reasonable,carried.,had,spoke,any\"\n",
    "input_str = \"pneumonianoultramicroscopicsiliciovolcanopermeaculture\"\n",
    "input_str2 = \"pasturecomingbe\"\n",
    "\n",
    "#print(word_split(input_str, list_of_words))\n",
    "\n",
    "print(word_split(input_str2, list_of_words))"
   ]
  },
  {
   "cell_type": "code",
   "execution_count": 9,
   "metadata": {},
   "outputs": [
    {
     "name": "stdout",
     "output_type": "stream",
     "text": [
      "['manor', 'no', 'expression', 'so', 'cease', 'paid', 'pasture', 'be', 'coming', 'furnished', 'silicio', 'what', 'of', 'amounted', 'melancholy', 'greater', 'pneumonia', 'do', 'disposal', 'gay', 'understood', 'permeaculture', 'those', 'gay', 'speaking', 'attachment', 'on', 'partiality', 'silent', 'ultra', 'tears', 'estimable', 'she', 'might', 'except', 'an', 'ready', 'acceptance.', 'his', 'snug', 'to', 'will', 'old', 'design', 'education', 'showing', 'offering', 'to', 'ye', 'friends', 'on.', 'am', 'jointure', 'sent', 'defective.', 'rose', 'dependent', 'departure', 'widow', 'her', 'he', 'on', 'quitting', 'its', 'replying', 'no', 'volcano', 'spirit', 'her.', 'it', 'extremely.', 'sons', 'as', 'me.', 'especially', 'it', 'observe.', 'fine', 'offer.', 'not', 'on', 'interest', 'perceive', 'gay', 'attending', 'in.', 'ham', 'nor', 'attachment', 'had', 'microscopic', 'his', 'exquisite', 'admitted', 'commanded', 'incommode', 'far.', 'say', 'our.', 'supported', 'by', 'in', 'reasonable', 'carried.', 'had', 'spoke', 'any']\n"
     ]
    }
   ],
   "source": [
    "list_of_words = \"manor,no,expression,so,cease,paid,pasture,be,coming,furnished,silicio,what,of,amounted,melancholy,greater,pneumonia,do,disposal,gay,understood,permeaculture,those,gay,speaking,attachment,on,partiality,silent,ultra,tears,estimable,she,might,except,an,ready,acceptance.,his,snug,to,will,old,design,education,showing,offering,to,ye,friends,on.,am,jointure,sent,defective.,rose,dependent,departure,widow,her,he,on,quitting,its,replying,no,volcano,spirit,her.,it,extremely.,sons,as,me.,especially,it,observe.,fine,offer.,not,on,interest,perceive,gay,attending,in.,ham,nor,attachment,had,microscopic,his,exquisite,admitted,commanded,incommode,far.,say,our.,supported,by,in,reasonable,carried.,had,spoke,any\"\n",
    "\n",
    "\n",
    "lista_de_palabras = list_of_words.split(',')\n",
    "\n",
    "print(lista_de_palabras)"
   ]
  },
  {
   "cell_type": "code",
   "execution_count": 25,
   "metadata": {},
   "outputs": [],
   "source": [
    "def word_split2( palabra: str, lista:str ) -> list[str]:\n",
    " \n",
    "    '''\n",
    "    palabra es el str compuesto por varias posibles palabras\n",
    "    lista es un str que cntiene una sucesion de palabras separadas por ,\n",
    "    lista_de_palbras transforma el str de lista en una lista con las palabras como elementos\n",
    "    sub_palabra es un fragmento del str palabra desde la posicion 0 hasta el el contador i\n",
    "    palabras_posibles inicializa como lista vacia y va añadiendo los elementos que coincidan con la sub palabra\n",
    "\n",
    "    sub_lista es una lista que contiene ['', 'resto de la palabra']\n",
    "\n",
    "    '''\n",
    "    lista_de_palabras = lista.split(',')\n",
    "    sub_palabra = palabra[0:i]\n",
    "    palabras_posibles = []\n",
    "\n",
    "    for i in range(1, len(palabra)):\n",
    "        \n",
    "        if sub_palabra not in lista_de_palabras:\n",
    "           #print(i)\n",
    "           #print(sub_palabra)\n",
    "           pass\n",
    "        \n",
    "\n",
    "        if sub_palabra in lista_de_palabras:\n",
    "\n",
    "            palabras_posibles.append(sub_palabra)\n",
    "            sub_lista = palabra.split(sub_palabra)\n",
    "            word_split2(sub_lista[1], lista)\n",
    "\n",
    "            i = 1\n",
    "\n",
    "            return ','.join(palabras_posibles)\n",
    "\n",
    "    if i == len(palabra):\n",
    "\n",
    "        return 'no se ha encontrado nada más'"
   ]
  },
  {
   "cell_type": "code",
   "execution_count": 26,
   "metadata": {},
   "outputs": [
    {
     "ename": "UnboundLocalError",
     "evalue": "cannot access local variable 'i' where it is not associated with a value",
     "output_type": "error",
     "traceback": [
      "\u001b[1;31m---------------------------------------------------------------------------\u001b[0m",
      "\u001b[1;31mUnboundLocalError\u001b[0m                         Traceback (most recent call last)",
      "Cell \u001b[1;32mIn[26], line 7\u001b[0m\n\u001b[0;32m      3\u001b[0m input_str2 \u001b[38;5;241m=\u001b[39m \u001b[38;5;124m\"\u001b[39m\u001b[38;5;124mpasturecomingbe\u001b[39m\u001b[38;5;124m\"\u001b[39m\n\u001b[0;32m      5\u001b[0m \u001b[38;5;66;03m#print(word_split(input_str, list_of_words))\u001b[39;00m\n\u001b[1;32m----> 7\u001b[0m \u001b[38;5;28mprint\u001b[39m(\u001b[43mword_split2\u001b[49m\u001b[43m(\u001b[49m\u001b[43minput_str2\u001b[49m\u001b[43m,\u001b[49m\u001b[43m \u001b[49m\u001b[43mlist_of_words\u001b[49m\u001b[43m)\u001b[49m)\n",
      "Cell \u001b[1;32mIn[25], line 14\u001b[0m, in \u001b[0;36mword_split2\u001b[1;34m(palabra, lista)\u001b[0m\n\u001b[0;32m      3\u001b[0m \u001b[38;5;250m\u001b[39m\u001b[38;5;124;03m'''\u001b[39;00m\n\u001b[0;32m      4\u001b[0m \u001b[38;5;124;03mpalabra es el str compuesto por varias posibles palabras\u001b[39;00m\n\u001b[0;32m      5\u001b[0m \u001b[38;5;124;03mlista es un str que cntiene una sucesion de palabras separadas por ,\u001b[39;00m\n\u001b[1;32m   (...)\u001b[0m\n\u001b[0;32m     11\u001b[0m \n\u001b[0;32m     12\u001b[0m \u001b[38;5;124;03m'''\u001b[39;00m\n\u001b[0;32m     13\u001b[0m lista_de_palabras \u001b[38;5;241m=\u001b[39m lista\u001b[38;5;241m.\u001b[39msplit(\u001b[38;5;124m'\u001b[39m\u001b[38;5;124m,\u001b[39m\u001b[38;5;124m'\u001b[39m)\n\u001b[1;32m---> 14\u001b[0m sub_palabra \u001b[38;5;241m=\u001b[39m palabra[\u001b[38;5;241m0\u001b[39m:\u001b[43mi\u001b[49m]\n\u001b[0;32m     15\u001b[0m palabras_posibles \u001b[38;5;241m=\u001b[39m []\n\u001b[0;32m     17\u001b[0m \u001b[38;5;28;01mfor\u001b[39;00m i \u001b[38;5;129;01min\u001b[39;00m \u001b[38;5;28mrange\u001b[39m(\u001b[38;5;241m1\u001b[39m, \u001b[38;5;28mlen\u001b[39m(palabra)):\n",
      "\u001b[1;31mUnboundLocalError\u001b[0m: cannot access local variable 'i' where it is not associated with a value"
     ]
    }
   ],
   "source": [
    "list_of_words = \"manor,no,expression,so,cease,paid,pasture,be,coming,furnished,silicio,what,of,amounted,melancholy,greater,pneumonia,do,disposal,gay,understood,permeaculture,those,gay,speaking,attachment,on,partiality,silent,ultra,tears,estimable,she,might,except,an,ready,acceptance.,his,snug,to,will,old,design,education,showing,offering,to,ye,friends,on.,am,jointure,sent,defective.,rose,dependent,departure,widow,her,he,on,quitting,its,replying,no,volcano,spirit,her.,it,extremely.,sons,as,me.,especially,it,observe.,fine,offer.,not,on,interest,perceive,gay,attending,in.,ham,nor,attachment,had,microscopic,his,exquisite,admitted,commanded,incommode,far.,say,our.,supported,by,in,reasonable,carried.,had,spoke,any\"\n",
    "input_str = \"pneumonianoultramicroscopicsiliciovolcanopermeaculture\"\n",
    "input_str2 = \"pasturecomingbe\"\n",
    "\n",
    "#print(word_split(input_str, list_of_words))\n",
    "\n",
    "print(word_split2(input_str2, list_of_words))"
   ]
  }
 ],
 "metadata": {
  "kernelspec": {
   "display_name": "Python 3",
   "language": "python",
   "name": "python3"
  },
  "language_info": {
   "codemirror_mode": {
    "name": "ipython",
    "version": 3
   },
   "file_extension": ".py",
   "mimetype": "text/x-python",
   "name": "python",
   "nbconvert_exporter": "python",
   "pygments_lexer": "ipython3",
   "version": "3.12.6"
  }
 },
 "nbformat": 4,
 "nbformat_minor": 2
}
