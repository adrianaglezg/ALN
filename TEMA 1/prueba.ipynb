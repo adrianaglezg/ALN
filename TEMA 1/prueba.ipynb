{
   "cells": [
      {
         "cell_type": "code",
         "execution_count": 2,
         "metadata": {},
         "outputs": [
            {
               "name": "stdout",
               "output_type": "stream",
               "text": [
                  "[1, 2, 3, 4, 5, 6, 7, 8, 9, 10]\n"
               ]
            }
         ],
         "source": [
            "n = 10\n",
            "lista = []\n",
            "\n",
            "for num in range(1, n+1):\n",
            "    lista.append(num)\n",
            "\n",
            "print(lista)\n"
         ]
      },
      {
         "cell_type": "code",
         "execution_count": 3,
         "metadata": {},
         "outputs": [
            {
               "name": "stdout",
               "output_type": "stream",
               "text": [
                  "1\n",
                  "2\n",
                  "3\n",
                  "4\n",
                  "5\n",
                  "6\n",
                  "7\n",
                  "8\n",
                  "9\n",
                  "10\n"
               ]
            }
         ],
         "source": [
            "for elemento in lista:\n",
            "    print(elemento)"
         ]
      },
      {
         "cell_type": "code",
         "execution_count": 4,
         "metadata": {},
         "outputs": [
            {
               "name": "stdout",
               "output_type": "stream",
               "text": [
                  "3\n",
                  "4\n",
                  "5\n",
                  "6\n",
                  "7\n",
                  "8\n",
                  "9\n",
                  "10\n"
               ]
            }
         ],
         "source": [
            "contador = 2\n",
            "for elemento in lista[contador:]:\n",
            "    print(elemento)"
         ]
      },
      {
         "cell_type": "code",
         "execution_count": 13,
         "metadata": {},
         "outputs": [
            {
               "name": "stdout",
               "output_type": "stream",
               "text": [
                  "3\n",
                  "6\n",
                  "9\n"
               ]
            }
         ],
         "source": [
            "contador = 3\n",
            "for elemento in lista:\n",
            "    if elemento % contador == 0:\n",
            "        print(elemento)"
         ]
      },
      {
         "cell_type": "code",
         "execution_count": 16,
         "metadata": {},
         "outputs": [
            {
               "name": "stdout",
               "output_type": "stream",
               "text": [
                  "[1, 2, 3, 4, 5, 6, 7, 8, 9, 10]\n",
                  "6\n",
                  "9\n"
               ]
            }
         ],
         "source": [
            "contador = 3\n",
            "print(lista)\n",
            "for elemento in lista:\n",
            "    if elemento % contador == 0 and elemento != lista[contador-1]:\n",
            "        print(elemento)"
         ]
      },
      {
         "cell_type": "code",
         "execution_count": 21,
         "metadata": {},
         "outputs": [
            {
               "name": "stdout",
               "output_type": "stream",
               "text": [
                  "[1, 2, 3, 4, 5, 6, 7, 8, 9, 10]\n"
               ]
            }
         ],
         "source": [
            "contador = 0\n",
            "print(lista)\n",
            "for elemento in lista:\n",
            "    contador += 1\n",
            "    if elemento % contador == 0 and elemento != lista[contador-1]:\n",
            "        print(elemento)"
         ]
      },
      {
         "cell_type": "code",
         "execution_count": 23,
         "metadata": {},
         "outputs": [
            {
               "name": "stdout",
               "output_type": "stream",
               "text": [
                  "elementos multiplos de 2:\n",
                  "4\n",
                  "6\n",
                  "8\n",
                  "10\n",
                  "elementos multiplos de 3:\n",
                  "6\n",
                  "9\n",
                  "elementos multiplos de 4:\n",
                  "8\n",
                  "elementos multiplos de 5:\n",
                  "10\n",
                  "elementos multiplos de 6:\n",
                  "elementos multiplos de 7:\n",
                  "elementos multiplos de 8:\n",
                  "elementos multiplos de 9:\n",
                  "elementos multiplos de 10:\n"
               ]
            }
         ],
         "source": [
            "for contador in range(1, len(lista)):\n",
            "    print(f\"elementos multiplos de {lista[contador]}:\")\n",
            "    for elemento in lista:\n",
            "        if elemento % lista[contador] == 0 and elemento != lista[contador]:\n",
            "            print(elemento)\n"
         ]
      },
      {
         "cell_type": "code",
         "execution_count": 26,
         "metadata": {},
         "outputs": [
            {
               "name": "stdout",
               "output_type": "stream",
               "text": [
                  "elementos multiplos de 2:\n",
                  "elementos multiplos de 3:\n",
                  "elementos multiplos de 5:\n",
                  "elementos multiplos de 7:\n"
               ]
            },
            {
               "ename": "IndexError",
               "evalue": "list index out of range",
               "output_type": "error",
               "traceback": [
                  "\u001b[1;31m---------------------------------------------------------------------------\u001b[0m",
                  "\u001b[1;31mIndexError\u001b[0m                                Traceback (most recent call last)",
                  "Cell \u001b[1;32mIn[26], line 4\u001b[0m\n\u001b[0;32m      1\u001b[0m lista \u001b[38;5;241m=\u001b[39m [\u001b[38;5;241m1\u001b[39m, \u001b[38;5;241m2\u001b[39m, \u001b[38;5;241m3\u001b[39m, \u001b[38;5;241m4\u001b[39m, \u001b[38;5;241m5\u001b[39m, \u001b[38;5;241m6\u001b[39m, \u001b[38;5;241m7\u001b[39m, \u001b[38;5;241m8\u001b[39m, \u001b[38;5;241m9\u001b[39m, \u001b[38;5;241m10\u001b[39m]\n\u001b[0;32m      3\u001b[0m \u001b[38;5;28;01mfor\u001b[39;00m contador \u001b[38;5;129;01min\u001b[39;00m \u001b[38;5;28mrange\u001b[39m(\u001b[38;5;241m1\u001b[39m, \u001b[38;5;28mlen\u001b[39m(lista)):\n\u001b[1;32m----> 4\u001b[0m     \u001b[38;5;28mprint\u001b[39m(\u001b[38;5;124mf\u001b[39m\u001b[38;5;124m\"\u001b[39m\u001b[38;5;124melementos multiplos de \u001b[39m\u001b[38;5;132;01m{\u001b[39;00m\u001b[43mlista\u001b[49m\u001b[43m[\u001b[49m\u001b[43mcontador\u001b[49m\u001b[43m]\u001b[49m\u001b[38;5;132;01m}\u001b[39;00m\u001b[38;5;124m:\u001b[39m\u001b[38;5;124m\"\u001b[39m)\n\u001b[0;32m      5\u001b[0m     \u001b[38;5;28;01mfor\u001b[39;00m elemento \u001b[38;5;129;01min\u001b[39;00m lista:\n\u001b[0;32m      6\u001b[0m         \u001b[38;5;28;01mif\u001b[39;00m elemento \u001b[38;5;241m%\u001b[39m lista[contador] \u001b[38;5;241m==\u001b[39m \u001b[38;5;241m0\u001b[39m \u001b[38;5;129;01mand\u001b[39;00m elemento \u001b[38;5;241m!=\u001b[39m lista[contador]:\n",
                  "\u001b[1;31mIndexError\u001b[0m: list index out of range"
               ]
            }
         ],
         "source": [
            "lista = [1, 2, 3, 4, 5, 6, 7, 8, 9, 10]\n",
            "\n",
            "for contador in range(1, len(lista)):\n",
            "    print(f'elementos multiplos de {lista[contador]}:')\n",
            "    for elemento in lista:\n",
            "        if elemento % lista[contador] == 0 and elemento != lista[contador]:\n",
            "            lista.remove(elemento)\n",
            "\n",
            "print(lista)\n"
         ]
      },
      {
         "cell_type": "code",
         "execution_count": 36,
         "metadata": {},
         "outputs": [
            {
               "ename": "KeyboardInterrupt",
               "evalue": "",
               "output_type": "error",
               "traceback": [
                  "\u001b[1;31m---------------------------------------------------------------------------\u001b[0m",
                  "\u001b[1;31mKeyboardInterrupt\u001b[0m                         Traceback (most recent call last)",
                  "Cell \u001b[1;32mIn[36]\u001b[0m\n\u001b[0;32m      0\u001b[0m <Error retrieving source code with stack_data see ipython/ipython#13598>\n",
                  "\u001b[1;31mKeyboardInterrupt\u001b[0m: "
               ]
            }
         ],
         "source": [
            "n = 2000000\n",
            "lista = []\n",
            "\n",
            "for num in range(1, n+1):\n",
            "    lista.append(num)\n",
            "#print(f'la lista inicial es: {lista}')\n",
            "if 1 in lista:\n",
            "    lista.remove(1)\n",
            "\n",
            "contador = 0\n",
            "while contador < len(lista):\n",
            "    #print(f\"eliminando multiplos de {lista[contador]}:\")\n",
            "    numero = lista[contador]\n",
            "    \n",
            "    for elemento in lista[:]:\n",
            "        if elemento % numero == 0 and elemento != numero:\n",
            "            lista.remove(elemento)\n",
            "    \n",
            "    contador += 1\n",
            "\n",
            "print(f'los numeros primos son:{lista}')\n",
            "\n",
            "print(f'la suma final de los numero primos es = {sum(lista)}')"
         ]
      },
      {
         "cell_type": "code",
         "execution_count": 5,
         "metadata": {},
         "outputs": [
            {
               "name": "stdout",
               "output_type": "stream",
               "text": [
                  "los numeros primos son:[2, 3, 5, 7]\n",
                  "la suma final de los numero primos es = 17\n"
               ]
            }
         ],
         "source": [
            "n = 10\n",
            "lista = []\n",
            "\n",
            "for num in range(1, n+1):\n",
            "    lista.append(num)\n",
            "    \n",
            "#print(f'la lista inicial es: {lista}')\n",
            "if 1 in lista:\n",
            "    lista.remove(1)\n",
            "\n",
            "contador = 0\n",
            "while contador < len(lista)/2:\n",
            "    #print(f\"eliminando multiplos de {lista[contador]}:\")\n",
            "    numero = lista[contador]\n",
            "    \n",
            "    for elemento in lista[:]:\n",
            "        if elemento % numero == 0 and elemento != numero:\n",
            "            lista.remove(elemento)\n",
            "    \n",
            "    contador += 1\n",
            "\n",
            "print(f'los numeros primos son:{lista}')\n",
            "\n",
            "print(f'la suma final de los numero primos es = {sum(lista)}')"
         ]
      },
      {
         "cell_type": "code",
         "execution_count": 6,
         "metadata": {},
         "outputs": [
            {
               "name": "stdout",
               "output_type": "stream",
               "text": [
                  "Eliminando múltiplos de 2:\n",
                  "Eliminando múltiplos de 3:\n",
                  "la suma final de los numero primos es = 17\n"
               ]
            }
         ],
         "source": [
            "n = 10\n",
            "lista = []\n",
            "\n",
            "for num in range(1, n+1):\n",
            "    lista.append(num)\n",
            "    \n",
            "contador = 1\n",
            "while contador < len(lista)/2:\n",
            "    print(f\"Eliminando múltiplos de {lista[contador]}:\")\n",
            "    numero = lista[contador]\n",
            "    i = 0\n",
            "    while i < len(lista):\n",
            "        if lista[i] % numero == 0 and lista[i] != numero:\n",
            "            lista.remove(lista[i])\n",
            "        else:\n",
            "            i += 1\n",
            "    contador += 1\n",
            "\n",
            "print(f'la suma final de los numero primos es = {sum(lista) - 1}')"
         ]
      },
      {
         "cell_type": "code",
         "execution_count": 7,
         "metadata": {},
         "outputs": [
            {
               "name": "stdout",
               "output_type": "stream",
               "text": [
                  "la lista inicial es: [1, 2, 3, 4, 5, 6, 7, 8, 9, 10]\n",
                  "eliminando multiplos de 1:\n",
                  "eliminando multiplos de 3:\n",
                  "los numeros primos son:[1, 3, 5, 7]\n",
                  "la suma final de los numero primos es = 16\n"
               ]
            }
         ],
         "source": [
            "n = 10\n",
            "lista = []\n",
            "\n",
            "for num in range(1, n+1):\n",
            "    lista.append(num)\n",
            "    \n",
            "print(f'la lista inicial es: {lista}')\n",
            "#lista[0] = False\n",
            "#print(lista)\n",
            "\n",
            "contador = 0\n",
            "while contador < len(lista)/2:\n",
            "    print(f\"eliminando multiplos de {lista[contador]}:\")\n",
            "    numero = lista[contador]\n",
            "    \n",
            "    for elemento in lista:\n",
            "        if elemento % numero == 0 and elemento != numero:\n",
            "            lista.remove(elemento)\n",
            "    \n",
            "    contador += 1\n",
            "\n",
            "print(f'los numeros primos son:{lista}')\n",
            "\n",
            "print(f'la suma final de los numero primos es = {sum(lista)}')"
         ]
      },
      {
         "cell_type": "code",
         "execution_count": 39,
         "metadata": {},
         "outputs": [
            {
               "name": "stdout",
               "output_type": "stream",
               "text": [
                  "numeros primos hasta 2000000 suman 142913828922\n"
               ]
            }
         ],
         "source": [
            "n = 2000000\n",
            "primo = True\n",
            "lista = []\n",
            "\n",
            "for i in range(n+1):\n",
            "    lista.append(primo)\n",
            "\n",
            "lista[0] = False\n",
            "lista[1] = False\n",
            "\n",
            "for numero in range(1, (len(lista)//2) + 1):\n",
            "    if lista[numero]:\n",
            "        for multiplo in range(numero ** 2, n + 1, numero):\n",
            "            lista[multiplo] = False\n",
            "\n",
            "\n",
            "lista_primos = []\n",
            "for i in range(n + 1):\n",
            "    if lista[i]:\n",
            "        lista_primos.append(i)\n",
            "\n",
            "print(f'numeros primos hasta {n} suman {sum(lista_primos)}')"
         ]
      },
      {
         "cell_type": "markdown",
         "metadata": {},
         "source": []
      },
      {
         "cell_type": "code",
         "execution_count": 2,
         "metadata": {},
         "outputs": [
            {
               "name": "stdout",
               "output_type": "stream",
               "text": [
                  "5\n",
                  "6\n",
                  "4\n",
                  "7\n",
                  "3\n",
                  "8\n",
                  "2\n"
               ]
            }
         ],
         "source": [
            "num = 5647382\n",
            "\n",
            "for digito in str(num):\n",
            "    print(digito)"
         ]
      },
      {
         "cell_type": "code",
         "execution_count": 9,
         "metadata": {},
         "outputs": [],
         "source": [
            "a = 5\n",
            "b= '5'\n",
            "c= 5\n",
            "d = '5'"
         ]
      },
      {
         "cell_type": "code",
         "execution_count": 4,
         "metadata": {},
         "outputs": [
            {
               "data": {
                  "text/plain": [
                     "False"
                  ]
               },
               "execution_count": 4,
               "metadata": {},
               "output_type": "execute_result"
            }
         ],
         "source": [
            "a == b"
         ]
      },
      {
         "cell_type": "code",
         "execution_count": 5,
         "metadata": {},
         "outputs": [
            {
               "data": {
                  "text/plain": [
                     "False"
                  ]
               },
               "execution_count": 5,
               "metadata": {},
               "output_type": "execute_result"
            }
         ],
         "source": [
            "a == str(b)"
         ]
      },
      {
         "cell_type": "code",
         "execution_count": 6,
         "metadata": {},
         "outputs": [],
         "source": [
            "b2 = str(b)"
         ]
      },
      {
         "cell_type": "code",
         "execution_count": 7,
         "metadata": {},
         "outputs": [
            {
               "data": {
                  "text/plain": [
                     "False"
                  ]
               },
               "execution_count": 7,
               "metadata": {},
               "output_type": "execute_result"
            }
         ],
         "source": [
            "a == b2"
         ]
      },
      {
         "cell_type": "code",
         "execution_count": 8,
         "metadata": {},
         "outputs": [
            {
               "data": {
                  "text/plain": [
                     "True"
                  ]
               },
               "execution_count": 8,
               "metadata": {},
               "output_type": "execute_result"
            }
         ],
         "source": [
            "a == c"
         ]
      },
      {
         "cell_type": "code",
         "execution_count": 11,
         "metadata": {},
         "outputs": [
            {
               "data": {
                  "text/plain": [
                     "True"
                  ]
               },
               "execution_count": 11,
               "metadata": {},
               "output_type": "execute_result"
            }
         ],
         "source": [
            "d == b"
         ]
      },
      {
         "cell_type": "code",
         "execution_count": 16,
         "metadata": {},
         "outputs": [
            {
               "name": "stdout",
               "output_type": "stream",
               "text": [
                  "o\n",
                  "j\n",
                  "o\n",
                  "r\n",
                  "o\n",
                  "j\n",
                  "o\n"
               ]
            }
         ],
         "source": [
            "i = 0\n",
            "palindromo = True\n",
            "\n",
            "palabra = 'ojorojo'\n",
            "\n",
            "for letra in palabra:\n",
            "    if palabra[i] != palabra[-(i+1)]:\n",
            "        palindromo = False\n",
            "        \n",
            "    i += 1\n",
            "\n",
            "   "
         ]
      },
      {
         "cell_type": "code",
         "execution_count": 18,
         "metadata": {},
         "outputs": [
            {
               "data": {
                  "text/plain": [
                     "False"
                  ]
               },
               "execution_count": 18,
               "metadata": {},
               "output_type": "execute_result"
            }
         ],
         "source": [
            "i = 0 \n",
            "palindromo = True\n",
            "palabra = 'ojoroo'\n",
            "\n",
            "while palindromo and i <= (len(palabra)/2):\n",
            "    if palabra[i] != palabra[-(i+1)]:\n",
            "        palindromo = False\n",
            "    i += 1\n",
            "\n",
            "palindromo"
         ]
      },
      {
         "cell_type": "code",
         "execution_count": 20,
         "metadata": {},
         "outputs": [],
         "source": [
            "def es_palindromo(palabra: str) -> bool:\n",
            "\n",
            "    i = 0 \n",
            "    palindromo = True\n",
            "\n",
            "    while palindromo and i <= (len(palabra)/2):\n",
            "        if palabra[i] != palabra[-(i+1)]:\n",
            "            palindromo = False\n",
            "        i += 1\n",
            "\n",
            "    return palindromo"
         ]
      },
      {
         "cell_type": "code",
         "execution_count": 21,
         "metadata": {},
         "outputs": [
            {
               "name": "stdout",
               "output_type": "stream",
               "text": [
                  "True\n",
                  "False\n"
               ]
            }
         ],
         "source": [
            "palabra1 = 'ojorojo'\n",
            "palabra2 = '12365334'\n",
            "print(es_palindromo(palabra1))\n",
            "print(es_palindromo(palabra2))"
         ]
      },
      {
         "cell_type": "code",
         "execution_count": 31,
         "metadata": {},
         "outputs": [
            {
               "name": "stdout",
               "output_type": "stream",
               "text": [
                  "995, 583, 580085\n"
               ]
            }
         ],
         "source": [
            "for num1 in range(999, 99, -1):\n",
            "    for num2 in range(999, 99 , -1):\n",
            "        mult = num1 * num2\n",
            "        num_str = str(mult)\n",
            "        if es_palindromo(num_str):\n",
            "            print(f'{num1}, {num2}, {mult}')\n",
            "            break\n",
            "    if es_palindromo(num_str): break"
         ]
      },
      {
         "cell_type": "code",
         "execution_count": null,
         "metadata": {},
         "outputs": [],
         "source": []
      }
   ],
   "metadata": {
      "kernelspec": {
         "display_name": "Python 3",
         "language": "python",
         "name": "python3"
      },
      "language_info": {
         "codemirror_mode": {
            "name": "ipython",
            "version": 3
         },
         "file_extension": ".py",
         "mimetype": "text/x-python",
         "name": "python",
         "nbconvert_exporter": "python",
         "pygments_lexer": "ipython3",
         "version": "3.11.9"
      }
   },
   "nbformat": 4,
   "nbformat_minor": 2
}
