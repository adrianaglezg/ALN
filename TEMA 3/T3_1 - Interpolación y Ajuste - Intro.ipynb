{
 "cells": [
  {
   "attachments": {},
   "cell_type": "markdown",
   "metadata": {},
   "source": [
    "# Interpolación"
   ]
  },
  {
   "attachments": {},
   "cell_type": "markdown",
   "metadata": {},
   "source": [
    "## Introducción\n",
    "\n",
    "Un problema de gran relevancia práctica consiste en aproximar una función complicada, $f(x)$, mediante otra función más simple, $p(x)$, de manera que las operaciones de derivación, integración o evaluación puedan hacerse de manera más sencilla. De esta forma, si se desea obtener una aproximación del valor de $\\int_a^b f(x) dx$, $f'(c)$ ó $f(c)$, se pueden utilizar $\\int_a^b p(x) dx$, $p'(c)$ ó $p(c)$ respectivamente como aproximaciones. Otra cuestión relevante para la que también se utiliza la técnica de interpolación es la reconstrucción de una función a partir de información parcial, como una tabla de valores, para luego realizar las operaciones mencionadas anteriormente.\n",
    "\n",
    "Sin embargo, es posible que $p(x)$ sea una buena aproximación solo para algunas operaciones y no para otras. Por lo tanto, es importante conocer el propósito de la aproximación en el proceso de obtención de una función. Además, este método no es el único disponible para aproximar la derivada y la integral de la función. Por ejemplo, ya se ha visto el método de diferencias finitas para aproximar derivadas. En este capítulo también veremos métodos de integración numérica que no siempre requieren una función que aproxime $f(x)$.\n",
    "\n",
    "Entre las clases de funciones más utilizadas para aproximar una función se encuentran los polinomios, las funciones trigonométricas y las funciones racionales. En este curso nos centraremos exclusivamente en las funciones polinómicas debido a su facilidad para ser evaluadas, derivadas e integradas, además de su regularidad.\n",
    "\n",
    "El problema de interpolación polinómica, en su caso más general, puede formularse como sigue: \n",
    "\n",
    "> Supóngase que se conocen los valores de una función $f(x)$ en un conjunto de puntos $x_0, \\dots x_n$; es decir, los valores $y_i = f(x_i)$. La interpolación polinómica consiste en obtener un polinomio $p(x)$ que pase por los puntos $(x_i, y_i)$, es decir, que verifique $p(x_i) = y_i$.\n",
    "\n",
    "Si además de la información sobre el valor de la función $y_i = f(x_i)$ se dispone de información sobre la derivada de la función en ciertos puntos $y'_j = f'(x_j)$, es posible mejorar la calidad del polinomio interpolante, utilizando la técnica conocida como *interpolación de Hermite*.\n",
    "\n",
    "Cuando el número de puntos $(x_i, y_i)$ es grande, el grado del polinomio interpolante tiende a ser elevado. No se recomienda utilizar polinomios de alto grado debido a su tendencia a comportarse de manera oscilatoria. En su lugar, existe un método alternativo llamado *interpolación por funciones spline*, o *interpolación a trozos*, donde se divide el intervalo considerado en subintervalos y se construye un polinomio interpolante de grado menor en cada uno de ellos. Los splines cúbicos son un ejemplo particular de funciones polinómicas a trozos, y poseen la propiedad de ser continuos en los extremos de cada trozo, así como de tener primeras y segundas derivadas continuas en los puntos de unión entre los trozos.\n",
    "\n",
    "Además, es posible obtener una buena representación de una función sin que el polinomio $p(x)$ pase necesariamente por los puntos $(xi, y_i)$. De hecho, en situaciones donde la función a aproximar tenga mucho ruido, esta puede ser el método más apropiado. Estas técnicas se denominan \"métodos de ajuste\". Uno de los métodos más utilizados es el ajuste por mínimos cuadrados (regresión), especialmente útil cuando los valores $y_i$ no se conocen exactamente debido a errores experimentales u otros factores.\n",
    "\n",
    "<center>\n",
    "\n",
    "<div>\n",
    "<img src=\"https://drive.upm.es/index.php/apps/files_sharing/ajax/publicpreview.php?x=1920&y=465&a=true&file=interpolacion_ajuste.jpg&t=BoI2AaZCv7Yv3Ov&scalingup=0\" width=\"350\"/>\n",
    "</div>\n",
    "\n",
    "</center>\n",
    "\n",
    "Como se mencionaba anteriormente, el problema de calcular el área bajo una función compleja (definida explícitamente por una expresión o implícitamente por un listado de valores) puede resolverse también obteniendo una aproximación polinómica de dicha función e integrando. Sin embargo, no siempre es necesario hacer esto. Existen varios métodos de integración numéricos que tratan este problema de forma particular. En este capítulo estudiaremos varias de estas técnicas.\n",
    "\n",
    "Recapitulando, estudiaremos los siguientes temas:\n",
    " - Interpolación polinómica (Lagrange/Newton)\n",
    " - Interpolación de Hermite\n",
    " - Interpolación a trozos\n",
    " - Regresión\n",
    " - Integración numérica"
   ]
  },
  {
   "cell_type": "markdown",
   "metadata": {},
   "source": []
  }
 ],
 "metadata": {
  "kernelspec": {
   "display_name": "Python 3.10.5 ('.venv': venv)",
   "language": "python",
   "name": "python3"
  },
  "language_info": {
   "codemirror_mode": {
    "name": "ipython",
    "version": 3
   },
   "file_extension": ".py",
   "mimetype": "text/x-python",
   "name": "python",
   "nbconvert_exporter": "python",
   "pygments_lexer": "ipython3",
   "version": "3.10.5"
  },
  "orig_nbformat": 4,
  "vscode": {
   "interpreter": {
    "hash": "1beef6bdf7cb3edc825034b485381c9781f3bd7bbda8256bc912318d884443a5"
   }
  }
 },
 "nbformat": 4,
 "nbformat_minor": 2
}
