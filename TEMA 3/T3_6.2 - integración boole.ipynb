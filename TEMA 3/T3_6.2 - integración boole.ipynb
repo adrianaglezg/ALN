{
 "cells": [
  {
   "cell_type": "code",
   "execution_count": 2,
   "metadata": {},
   "outputs": [],
   "source": [
    "def boole_integration(f, a, b, n):\n",
    "    \"\"\"\n",
    "    Calcula la integral de una función `f` en el intervalo [a, b] \n",
    "    utilizando la regla de Boole (polinomio de grado 3).\n",
    "\n",
    "    Parámetros:\n",
    "    f: función a integrar (definida como función de Python)\n",
    "    a: límite inferior de integración\n",
    "    b: límite superior de integración\n",
    "    n: número de subintervalos (debe ser múltiplo de 4)\n",
    "\n",
    "    Retorna:\n",
    "    Aproximación numérica de la integral de `f` en [a, b].\n",
    "    \"\"\"\n",
    "    # Verificar que n es múltiplo de 4\n",
    "    if n % 4 != 0:\n",
    "        raise ValueError(\"El número de subintervalos n debe ser múltiplo de 4.\")\n",
    "\n",
    "    # Paso del intervalo\n",
    "    h = (b - a) / n\n",
    "\n",
    "    # Generar los puntos de evaluación\n",
    "    x = [a + i * h for i in range(n + 1)]\n",
    "\n",
    "    # Aplicar la regla de Boole en bloques de 5 puntos\n",
    "    integral = 0\n",
    "    for i in range(0, n, 4):\n",
    "        # 5 puntos en cada bloque\n",
    "        x0, x1, x2, x3, x4 = x[i], x[i + 1], x[i + 2], x[i + 3], x[i + 4]\n",
    "        integral += (2 * h / 45) * (\n",
    "            7 * f(x0) + 32 * f(x1) + 12 * f(x2) + 32 * f(x3) + 7 * f(x4)\n",
    "        )\n",
    "\n",
    "    return integral"
   ]
  },
  {
   "cell_type": "code",
   "execution_count": 4,
   "metadata": {},
   "outputs": [
    {
     "name": "stdout",
     "output_type": "stream",
     "text": [
      "La integral de f(x) en [0, 4] es aproximadamente: 64.0\n"
     ]
    }
   ],
   "source": [
    "f = lambda x: x**3\n",
    "\n",
    "# Intervalo de integración\n",
    "a, b = 0, 4\n",
    "\n",
    "# Número de subintervalos (múltiplo de 4)\n",
    "n = 8\n",
    "\n",
    "# Calcular la integral\n",
    "resultado = boole_integration(f, a, b, n)\n",
    "\n",
    "# Mostrar el resultado\n",
    "print(f\"La integral de f(x) en [{a}, {b}] es aproximadamente: {resultado}\")"
   ]
  },
  {
   "cell_type": "code",
   "execution_count": null,
   "metadata": {},
   "outputs": [],
   "source": []
  }
 ],
 "metadata": {
  "kernelspec": {
   "display_name": "Python 3",
   "language": "python",
   "name": "python3"
  },
  "language_info": {
   "codemirror_mode": {
    "name": "ipython",
    "version": 3
   },
   "file_extension": ".py",
   "mimetype": "text/x-python",
   "name": "python",
   "nbconvert_exporter": "python",
   "pygments_lexer": "ipython3",
   "version": "3.12.6"
  }
 },
 "nbformat": 4,
 "nbformat_minor": 2
}
