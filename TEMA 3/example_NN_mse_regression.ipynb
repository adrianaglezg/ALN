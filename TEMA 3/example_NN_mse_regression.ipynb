{
 "cells": [
  {
   "cell_type": "markdown",
   "id": "66b6e568",
   "metadata": {},
   "source": [
    "# Regresión lineal con redes neuronales"
   ]
  },
  {
   "cell_type": "code",
   "execution_count": 3,
   "id": "bb196caf",
   "metadata": {},
   "outputs": [
    {
     "name": "stdout",
     "output_type": "stream",
     "text": [
      "Note: you may need to restart the kernel to use updated packages.\n"
     ]
    },
    {
     "name": "stderr",
     "output_type": "stream",
     "text": [
      "\n",
      "[notice] A new release of pip is available: 24.2 -> 24.3.1\n",
      "[notice] To update, run: python.exe -m pip install --upgrade pip\n"
     ]
    }
   ],
   "source": [
    "%pip install -q scikit-learn"
   ]
  },
  {
   "cell_type": "code",
   "execution_count": 4,
   "id": "f736ecec",
   "metadata": {},
   "outputs": [],
   "source": [
    "import matplotlib.pyplot as plt\n",
    "import numpy as np\n",
    "from sklearn import datasets"
   ]
  },
  {
   "cell_type": "markdown",
   "id": "3437c01f",
   "metadata": {},
   "source": [
    "## Una clase para representar una capa de neuronas\n",
    "\n",
    "Aunque en nuestro ejemplo de regresión, la capa solo tendrá una neurona, esta clase puede usarse para representar arquitecturas más complejas."
   ]
  },
  {
   "cell_type": "code",
   "execution_count": 7,
   "id": "1c0b06a3",
   "metadata": {},
   "outputs": [],
   "source": [
    "class Layer_Dense:\n",
    "    \"\"\"A layer of neurons in a neural network.\"\"\"\n",
    "    # Layer initialization\n",
    "    def __init__(self, n_inputs, n_neurons):\n",
    "        # Initialize weights and biases\n",
    "        self.weights = 0.01 * np.random.randn(n_inputs, n_neurons)\n",
    "        self.biases = np.zeros((1, n_neurons))\n",
    "\n",
    "    # Forward pass\n",
    "    def forward(self, inputs):\n",
    "        # Remember input values\n",
    "        self.inputs = inputs\n",
    "        # Calculate output values from input ones, weights, and biases\n",
    "        self.output = np.dot(inputs, self.weights) + self.biases\n",
    "        \n",
    "    # Backward pass\n",
    "    def backward(self, dvalues):\n",
    "        # Gradients on parameters\n",
    "        self.dweights = np.dot(self.inputs.T, dvalues) \n",
    "        self.dbiases = np.sum(dvalues, axis=0, keepdims=True)\n",
    "        self.dinputs = np.dot(dvalues, self.weights.T)"
   ]
  },
  {
   "cell_type": "markdown",
   "id": "e2a08bdb",
   "metadata": {},
   "source": [
    "## Función de pérdidas\n",
    "\n",
    "Para el caso de regresión, se suele utilizar el error cuadrático medio"
   ]
  },
  {
   "cell_type": "code",
   "execution_count": 5,
   "id": "f103aa9d",
   "metadata": {},
   "outputs": [],
   "source": [
    "class Loss_MeanSquaredError:\n",
    "    \"\"\"Mean squared error loss.\"\"\"\n",
    "\n",
    "    # Forward pass\n",
    "    def forward(self, y_pred, y_true):\n",
    "        # Calculate sample losses\n",
    "        sample_losses = np.mean(0.5*(y_true - y_pred)**2, axis=-1)\n",
    "        \n",
    "        # Return loss\n",
    "        return sample_losses\n",
    "\n",
    "    # Backward pass\n",
    "    def backward(self, y_pred, y_true):\n",
    "\n",
    "        # Gradient on the outputs\n",
    "        self.dinputs = -(y_true - y_pred)\n",
    "\n",
    "        # Normalize gradient \n",
    "        samples = len(y_pred)\n",
    "        self.dinputs = self.dinputs / samples"
   ]
  },
  {
   "cell_type": "markdown",
   "id": "2112bb43",
   "metadata": {},
   "source": [
    "## Optimizador\n",
    "\n",
    "Usaremos un simple descenso de gradiente"
   ]
  },
  {
   "cell_type": "code",
   "execution_count": 8,
   "id": "9930d33d",
   "metadata": {},
   "outputs": [],
   "source": [
    "class Optimizer_SGD:\n",
    "    \"\"\"Simple stochastic gradient descent optimizer.\"\"\"\n",
    "    # Initialize optimizer\n",
    "    def __init__(self, learning_rate=1.0):\n",
    "        self.learning_rate = learning_rate\n",
    "\n",
    "    # Update parameters\n",
    "    def update_params(self, layer):\n",
    "        layer.weights += -self.learning_rate * layer.dweights\n",
    "        layer.biases += -self.learning_rate * layer.dbiases"
   ]
  },
  {
   "cell_type": "markdown",
   "id": "b8e20c0f",
   "metadata": {},
   "source": [
    "# Caso de estudio\n",
    "\n",
    "Una base de datos muy simple, introducida ya con las dimensiones apropiadas para servir de input en nuestra red"
   ]
  },
  {
   "cell_type": "code",
   "execution_count": 9,
   "id": "96586a80",
   "metadata": {},
   "outputs": [],
   "source": [
    "# Test case\n",
    "X = np.array([[1], [2], [3], [4]])\n",
    "y = np.array([6, 5, 7, 10]).reshape(len(X), 1)"
   ]
  },
  {
   "cell_type": "markdown",
   "id": "930e0f3f",
   "metadata": {},
   "source": [
    "Podemos visualizarla así:"
   ]
  },
  {
   "cell_type": "code",
   "execution_count": 10,
   "id": "035912e2",
   "metadata": {},
   "outputs": [
    {
     "data": {
      "text/plain": [
       "[<matplotlib.lines.Line2D at 0x2249d473b30>]"
      ]
     },
     "execution_count": 10,
     "metadata": {},
     "output_type": "execute_result"
    },
    {
     "data": {
      "image/png": "[encoded data removed]",
      "text/plain": [
       "<Figure size 640x480 with 1 Axes>"
      ]
     },
     "metadata": {},
     "output_type": "display_data"
    }
   ],
   "source": [
    "plt.plot(X[:, np.newaxis, 0], y, 'ro')"
   ]
  },
  {
   "cell_type": "markdown",
   "id": "a19198a0",
   "metadata": {},
   "source": [
    "## Definición de la arquitectura de la red"
   ]
  },
  {
   "cell_type": "code",
   "execution_count": 11,
   "id": "47930c15",
   "metadata": {},
   "outputs": [],
   "source": [
    "dense1 = Layer_Dense(X.shape[1], 1)\n",
    "# Activation function is linear (omitted)\n",
    "loss_layer = Loss_MeanSquaredError()\n",
    "optimizer = Optimizer_SGD(learning_rate=0.01)"
   ]
  },
  {
   "cell_type": "markdown",
   "id": "fef558e6",
   "metadata": {},
   "source": [
    "## Entrenamiento y resultados"
   ]
  },
  {
   "cell_type": "code",
   "execution_count": 15,
   "id": "5bee4d46",
   "metadata": {},
   "outputs": [
    {
     "name": "stdout",
     "output_type": "stream",
     "text": [
      "epoch: 0, loss: 0.525\n",
      "epoch: 100, loss: 0.525\n",
      "epoch: 200, loss: 0.525\n",
      "epoch: 300, loss: 0.525\n",
      "epoch: 400, loss: 0.525\n",
      "epoch: 500, loss: 0.525\n",
      "epoch: 600, loss: 0.525\n",
      "epoch: 700, loss: 0.525\n",
      "epoch: 800, loss: 0.525\n",
      "epoch: 900, loss: 0.525\n"
     ]
    }
   ],
   "source": [
    "# Train loop\n",
    "for epoch in range(1000):\n",
    "\n",
    "    # Forward pass\n",
    "    dense1.forward(X)\n",
    "    loss = loss_layer.forward(dense1.output, y)\n",
    "    \n",
    "    if not epoch % 100:\n",
    "        print(f'epoch: {epoch}, loss: {np.mean(loss):.3f}')\n",
    "\n",
    "    # Backward pass\n",
    "    loss_layer.backward(dense1.output, y)\n",
    "    dense1.backward(loss_layer.dinputs)\n",
    "\n",
    "    # Update weights and biases\n",
    "    optimizer.update_params(dense1)"
   ]
  },
  {
   "cell_type": "markdown",
   "id": "bd84cf7f",
   "metadata": {},
   "source": [
    "Ahora podemos imprimir por pantalla los resultados y comprobar que coinciden con los teóricos:"
   ]
  },
  {
   "cell_type": "code",
   "execution_count": 16,
   "id": "0da28420",
   "metadata": {},
   "outputs": [
    {
     "name": "stdout",
     "output_type": "stream",
     "text": [
      "La recta de regresión es y = 1.4 * x + 3.5\n"
     ]
    },
    {
     "name": "stderr",
     "output_type": "stream",
     "text": [
      "C:\\Users\\34640\\AppData\\Local\\Temp\\ipykernel_24928\\2638569648.py:1: DeprecationWarning: Conversion of an array with ndim > 0 to a scalar is deprecated, and will error in future. Ensure you extract a single element from your array before performing this operation. (Deprecated NumPy 1.25.)\n",
      "  a = float(dense1.biases.flatten())\n",
      "C:\\Users\\34640\\AppData\\Local\\Temp\\ipykernel_24928\\2638569648.py:2: DeprecationWarning: Conversion of an array with ndim > 0 to a scalar is deprecated, and will error in future. Ensure you extract a single element from your array before performing this operation. (Deprecated NumPy 1.25.)\n",
      "  b = float(dense1.weights.flatten())\n"
     ]
    }
   ],
   "source": [
    "a = float(dense1.biases.flatten())\n",
    "b = float(dense1.weights.flatten())\n",
    "print(f\"La recta de regresión es y = {b:.1f} * x + {a:.1f}\")"
   ]
  },
  {
   "cell_type": "markdown",
   "id": "e60911ec",
   "metadata": {},
   "source": [
    "La recta queda:"
   ]
  },
  {
   "cell_type": "code",
   "execution_count": 17,
   "id": "4f195e01",
   "metadata": {},
   "outputs": [
    {
     "data": {
      "image/png": "[encoded data removed]",
      "text/plain": [
       "<Figure size 640x480 with 1 Axes>"
      ]
     },
     "metadata": {},
     "output_type": "display_data"
    }
   ],
   "source": [
    "x_points = np.linspace(min(X[:, np.newaxis, 0]), max(X[:, np.newaxis, 0]), 100)\n",
    "y_points = a + b * x_points\n",
    "\n",
    "plt.plot(x_points, y_points, 'b')\n",
    "plt.plot(X[:, np.newaxis, 0], y, 'ro')\n",
    "plt.show()"
   ]
  },
  {
   "cell_type": "markdown",
   "id": "a3600d1a",
   "metadata": {},
   "source": [
    "## Un caso más serio\n",
    "\n",
    "Se utilizará la base de datos ```diabetes``` del paquete ```scikit-learn```, que contiene datos de pacientes con diabetes (10 variables por observación), y una medida de la evolución de la enfermedad en un periodo de un año (variable a predecir $y$). Por tanto, ahora estamos en un caso de regresión multilineal."
   ]
  },
  {
   "cell_type": "code",
   "execution_count": 18,
   "id": "b978ae33",
   "metadata": {},
   "outputs": [],
   "source": [
    "diabetes = datasets.load_diabetes()\n",
    "X = diabetes['data']\n",
    "y = diabetes['target'].reshape(-1, 1)  # Target Variable (y): A quantitative measure of disease progression one year after baseline."
   ]
  },
  {
   "cell_type": "markdown",
   "id": "1a7df587",
   "metadata": {},
   "source": [
    "Repetimos lo mismo"
   ]
  },
  {
   "cell_type": "code",
   "execution_count": 19,
   "id": "ec637096",
   "metadata": {},
   "outputs": [
    {
     "name": "stdout",
     "output_type": "stream",
     "text": [
      "epoch: 0, loss: 14537.178\n",
      "epoch: 1000, loss: 2784.167\n",
      "epoch: 2000, loss: 2630.196\n",
      "epoch: 3000, loss: 2498.675\n",
      "epoch: 4000, loss: 2386.021\n",
      "epoch: 5000, loss: 2289.237\n",
      "epoch: 6000, loss: 2205.819\n",
      "epoch: 7000, loss: 2133.673\n",
      "epoch: 8000, loss: 2071.047\n",
      "epoch: 9000, loss: 2016.473\n",
      "epoch: 10000, loss: 1968.725\n",
      "epoch: 11000, loss: 1926.771\n",
      "epoch: 12000, loss: 1889.749\n",
      "epoch: 13000, loss: 1856.935\n",
      "epoch: 14000, loss: 1827.719\n",
      "epoch: 15000, loss: 1801.590\n",
      "epoch: 16000, loss: 1778.117\n",
      "epoch: 17000, loss: 1756.936\n",
      "epoch: 18000, loss: 1737.741\n",
      "epoch: 19000, loss: 1720.273\n",
      "epoch: 20000, loss: 1704.311\n",
      "epoch: 21000, loss: 1689.671\n",
      "epoch: 22000, loss: 1676.193\n",
      "epoch: 23000, loss: 1663.742\n",
      "epoch: 24000, loss: 1652.203\n",
      "epoch: 25000, loss: 1641.478\n",
      "epoch: 26000, loss: 1631.481\n",
      "epoch: 27000, loss: 1622.139\n",
      "epoch: 28000, loss: 1613.389\n",
      "epoch: 29000, loss: 1605.176\n",
      "epoch: 30000, loss: 1597.453\n",
      "epoch: 31000, loss: 1590.176\n",
      "epoch: 32000, loss: 1583.310\n",
      "epoch: 33000, loss: 1576.822\n",
      "epoch: 34000, loss: 1570.684\n",
      "epoch: 35000, loss: 1564.869\n",
      "epoch: 36000, loss: 1559.356\n",
      "epoch: 37000, loss: 1554.123\n",
      "epoch: 38000, loss: 1549.152\n",
      "epoch: 39000, loss: 1544.427\n",
      "epoch: 40000, loss: 1539.932\n",
      "epoch: 41000, loss: 1535.654\n",
      "epoch: 42000, loss: 1531.579\n",
      "epoch: 43000, loss: 1527.697\n",
      "epoch: 44000, loss: 1523.996\n",
      "epoch: 45000, loss: 1520.467\n",
      "epoch: 46000, loss: 1517.100\n",
      "epoch: 47000, loss: 1513.886\n",
      "epoch: 48000, loss: 1510.819\n",
      "epoch: 49000, loss: 1507.890\n",
      "epoch: 50000, loss: 1505.093\n",
      "epoch: 51000, loss: 1502.420\n",
      "epoch: 52000, loss: 1499.867\n",
      "epoch: 53000, loss: 1497.426\n",
      "epoch: 54000, loss: 1495.093\n",
      "epoch: 55000, loss: 1492.862\n",
      "epoch: 56000, loss: 1490.729\n",
      "epoch: 57000, loss: 1488.689\n",
      "epoch: 58000, loss: 1486.737\n",
      "epoch: 59000, loss: 1484.870\n",
      "epoch: 60000, loss: 1483.083\n",
      "epoch: 61000, loss: 1481.373\n",
      "epoch: 62000, loss: 1479.737\n",
      "epoch: 63000, loss: 1478.170\n",
      "epoch: 64000, loss: 1476.671\n",
      "epoch: 65000, loss: 1475.235\n",
      "epoch: 66000, loss: 1473.860\n",
      "epoch: 67000, loss: 1472.543\n",
      "epoch: 68000, loss: 1471.282\n",
      "epoch: 69000, loss: 1470.074\n",
      "epoch: 70000, loss: 1468.916\n",
      "epoch: 71000, loss: 1467.807\n",
      "epoch: 72000, loss: 1466.745\n",
      "epoch: 73000, loss: 1465.726\n",
      "epoch: 74000, loss: 1464.750\n",
      "epoch: 75000, loss: 1463.814\n",
      "epoch: 76000, loss: 1462.918\n",
      "epoch: 77000, loss: 1462.058\n",
      "epoch: 78000, loss: 1461.233\n",
      "epoch: 79000, loss: 1460.443\n",
      "epoch: 80000, loss: 1459.684\n",
      "epoch: 81000, loss: 1458.957\n",
      "epoch: 82000, loss: 1458.259\n",
      "epoch: 83000, loss: 1457.590\n",
      "epoch: 84000, loss: 1456.948\n",
      "epoch: 85000, loss: 1456.332\n",
      "epoch: 86000, loss: 1455.740\n",
      "epoch: 87000, loss: 1455.173\n",
      "epoch: 88000, loss: 1454.628\n",
      "epoch: 89000, loss: 1454.105\n",
      "epoch: 90000, loss: 1453.603\n",
      "epoch: 91000, loss: 1453.121\n",
      "epoch: 92000, loss: 1452.658\n",
      "epoch: 93000, loss: 1452.213\n",
      "epoch: 94000, loss: 1451.786\n",
      "epoch: 95000, loss: 1451.376\n",
      "epoch: 96000, loss: 1450.982\n",
      "epoch: 97000, loss: 1450.603\n",
      "epoch: 98000, loss: 1450.239\n",
      "epoch: 99000, loss: 1449.890\n"
     ]
    }
   ],
   "source": [
    "dense1 = Layer_Dense(X.shape[1], 1)\n",
    "# Activation function is linear (omitted)\n",
    "loss_layer = Loss_MeanSquaredError()\n",
    "optimizer = Optimizer_SGD(learning_rate=0.01)\n",
    "\n",
    "# Train loop\n",
    "for epoch in range(100000):\n",
    "\n",
    "    # Forward pass\n",
    "    dense1.forward(X)\n",
    "    loss = loss_layer.forward(dense1.output, y)\n",
    "    \n",
    "    if not epoch % 1000:\n",
    "        print(f'epoch: {epoch}, loss: {np.mean(loss):.3f}')\n",
    "\n",
    "    # Backward pass\n",
    "    loss_layer.backward(dense1.output, y)\n",
    "    dense1.backward(loss_layer.dinputs)\n",
    "\n",
    "    # Update weights and biases\n",
    "    optimizer.update_params(dense1)"
   ]
  },
  {
   "cell_type": "markdown",
   "id": "c5a8bbbe",
   "metadata": {},
   "source": [
    "El entrenamiento a concluido con una notable reducción de la función de pérdidas (podría seguirse más, o utilizar mejores optimizadores). Veamos una de las variables:"
   ]
  },
  {
   "cell_type": "code",
   "execution_count": 20,
   "id": "bc2b8b7f",
   "metadata": {},
   "outputs": [
    {
     "data": {
      "image/png": "[encoded data removed]",
      "text/plain": [
       "<Figure size 640x480 with 1 Axes>"
      ]
     },
     "metadata": {},
     "output_type": "display_data"
    }
   ],
   "source": [
    "var_num = 2\n",
    "\n",
    "x_points = np.linspace(min(X[:, np.newaxis, var_num]), max(X[:, np.newaxis, var_num]), 100)\n",
    "y_points = dense1.biases.flatten() + dense1.weights[var_num] * x_points\n",
    "\n",
    "plt.plot(x_points, y_points, 'b')\n",
    "plt.plot(X[:, np.newaxis, var_num], y, 'ro')\n",
    "plt.show()"
   ]
  }
 ],
 "metadata": {
  "jupytext": {
   "cell_metadata_filter": "-all",
   "main_language": "python",
   "notebook_metadata_filter": "-all"
  },
  "kernelspec": {
   "display_name": "Python 3",
   "language": "python",
   "name": "python3"
  },
  "language_info": {
   "codemirror_mode": {
    "name": "ipython",
    "version": 3
   },
   "file_extension": ".py",
   "mimetype": "text/x-python",
   "name": "python",
   "nbconvert_exporter": "python",
   "pygments_lexer": "ipython3",
   "version": "3.12.6"
  }
 },
 "nbformat": 4,
 "nbformat_minor": 5
}
