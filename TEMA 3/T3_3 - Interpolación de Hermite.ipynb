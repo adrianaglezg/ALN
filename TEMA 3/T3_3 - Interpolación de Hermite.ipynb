{
 "cells": [
  {
   "attachments": {},
   "cell_type": "markdown",
   "metadata": {},
   "source": [
    "# Interpolación de Hermite"
   ]
  },
  {
   "attachments": {},
   "cell_type": "markdown",
   "metadata": {},
   "source": [
    "## Introducción\n",
    "\n",
    "Hasta ahora hemos considerado esquemas de interpolación de Lagrange que ajustan un polinomio de grado $n$ a los $n+1$ puntos de interpolación:\n",
    "\n",
    "<center>\n",
    "<div>\n",
    "<img src=\"https://drive.upm.es/index.php/apps/files_sharing/ajax/publicpreview.php?x=1920&y=465&a=true&file=hermite_1.jpg&t=poDWZ9jkULfZZO4&scalingup=0\" width=\"350\"/>\n",
    "</div>\n",
    "</center>\n",
    "\n",
    "Se estudiaron varios métodos para obtener dicho polinomio interpolante, que puede expresarse siempre de la forma:\n",
    "\n",
    "En el caso de Lagrange, interpolar los datos significaba obligar a que el polinomio de interpolación $p(x)$ pasase por todos los puntos $(x_i, y_i)$. Es decir:\n",
    "\n",
    "$$\n",
    "p(x_i) = y_i \\qquad i = 0, \\dots, n\n",
    "$$\n",
    "\n"
   ]
  },
  {
   "cell_type": "markdown",
   "metadata": {},
   "source": [
    "El **problema de interpolación de Hermite** puede formularse como sigue: encontrar un polinomio que adquiera ciertos valores de la función y de sus $r$ primeras derivadas en los nodos de interpolación.\n",
    "\n",
    "<center>\n",
    "<div>\n",
    "<img src=\"https://drive.upm.es/index.php/apps/files_sharing/ajax/publicpreview.php?x=1920&y=465&a=true&file=hermite_2.jpg&t=hNyX93MNWdf9FbU&scalingup=0\" width=\"350\"/>\n",
    "</div>\n",
    "</center>\n"
   ]
  },
  {
   "cell_type": "markdown",
   "metadata": {},
   "source": [
    "Por tanto, se requiere que:\n",
    "$$\n",
    "\\begin{array}{ccr}\n",
    "p\\left(x_i\\right)=y_i & i=0, \\dots, n & (n+1) \\text { condiciones} \\\\\n",
    "p'\\left(x_i\\right)=y_i' & i=0, \\dots, n& (n+1) \\text { condiciones} \\\\\n",
    "\\vdots & & \\\\\n",
    "p^{(r)}\\left(x_i\\right)=y_i^{(r)} & i=0, \\dots, n & (n+1) \\text { condiciones}\n",
    "\\end{array}\n",
    "$$"
   ]
  },
  {
   "cell_type": "markdown",
   "metadata": {},
   "source": [
    "Así, en total se dispone de $(r+1)(n+1)$ condiciones. Se busca por tanto un polinomio de grado $(r+1)(n+1) - 1$, para que el número de condiciones coincida con el número de incógnitas. Su forma general será:\n",
    "$$\n",
    "p(x) = \\sum_{i=0}^{(r+1)(n+1)-1} a_i x^i\n",
    "$$"
   ]
  },
  {
   "cell_type": "markdown",
   "metadata": {},
   "source": [
    "Observa que la interpolación de Lagrange es un caso especial de la interpolación de Hermite ($r=0$). \n",
    "\n",
    "También es posible obtener polinomios de interpolación de Hermite que no incluyan todos los valores de la función y/o derivadas en todos los nodos; es decir, puede que no todos los $y_i / y_i^r$ estén dados. En ese caso, el grado del polinomio interpolante se reduciría."
   ]
  },
  {
   "cell_type": "markdown",
   "metadata": {},
   "source": [
    "## Cálculo efectivo del polinomio de Hermite\n",
    "\n",
    "Si bien no son los únicos métodos, en este curso estudiaremos dos formas de calcular el polinomio de Hermite:\n",
    " - Cálculo directo por resolución del sistema de ecuaciones.\n",
    " - Cálculo por el método de diferencias divididas."
   ]
  },
  {
   "cell_type": "markdown",
   "metadata": {},
   "source": [
    "### Cálculo por resolución del sistema de ecuaciones\n",
    "\n",
    "El procedimiento en este caso es trivial:\n",
    " - Definir la forma general del polinomio y sus incógnitas\n",
    " - Imponer condiciones.\n",
    " - Resolver el sistema resultante."
   ]
  },
  {
   "cell_type": "markdown",
   "metadata": {},
   "source": [
    "**Ejercicio 1 -** Calcula el polinomio de Hermite dados los siguientes valores:\n",
    "\n",
    "<center>\n",
    "\n",
    "| $x$  | $y$  | $y'$ |\n",
    "|------|---------|---|\n",
    "| 2 | 4 | 0 |\n",
    "| 4 | 7 | 3 |\n",
    "\n",
    "</center>"
   ]
  },
  {
   "cell_type": "code",
   "execution_count": 2,
   "metadata": {},
   "outputs": [
    {
     "data": {
      "text/plain": [
       "array([ 0.  ,  0.75, -3.  ,  7.  ])"
      ]
     },
     "execution_count": 2,
     "metadata": {},
     "output_type": "execute_result"
    }
   ],
   "source": [
    "import numpy as np\n",
    "\n",
    "A = np.array([[8, 4, 2, 1],\n",
    "              [64, 16, 4, 1],\n",
    "              [12, 4, 1, 0],\n",
    "              [48, 8, 1, 0]])\n",
    "\n",
    "b = np.array([4, 7, 0, 3])\n",
    "\n",
    "x = np.linalg.solve(A, b)\n",
    "x"
   ]
  },
  {
   "cell_type": "markdown",
   "metadata": {},
   "source": [
    "## Cálculo mediante diferencias divididas\n",
    "\n",
    "El método de Newton para el cálculo del polinomio interpolante puede aplicarse igualmente en el caso de Hermite. En el caso más general, se disponen de $n$ nodos $x_0, x_1, \\dots, x_n$ donde se conoce algunos (o todos) valores de la función $y_1, y_2, \\dots, y_n$ y de sus primeras $r$ derivadas $y_1^{(j)}, y_2^{(j)}, \\dots, y_n^{(j)}$ (para $j = 1, \\dots, r$), deben considerarse las siguientes particularidades a la hora de construir la tabla de diferencias divididas:\n",
    " 1. Copiar cada punto tantas veces como datos se dispongan de él. Formalmente, la tabla de diferencias divididas se construye con un conjunto de puntos $z_0, z_1, ..., z_m$ auxiliares, donde un cierto $x_i$ aparecerá repetido $x_i = z_j = z_{j+1} = z_{j+2} = \\cdots$, tantas veces como datos de la función y de cualquiera de sus derivadas en ese punto se tengan. Por ejemplo, si se conocen tanto $y_i$ como $y'_i$ para algún $i$, se deben copiar $x_i$ dos veces en la tabla ($z_j = z_{j+1} = x_i$).\n",
    " 2. Completar la tabla de diferencias divididas, siguiendo el proceso habitual teniendo en cuenta que las **diferencias divididas para $j=2,3,\\dots,k$ valores idénticos** se definen como:\n",
    "$$\n",
    "f\\left[x_i,  \\stackrel{(j}{\\cdots}, x_i\\right] = \\frac{f^{(j-1)}\\left(x_i\\right)}{(j-1)!}\n",
    "$$\n",
    "Por ejemplo,\n",
    "$$\n",
    "\\begin{aligned}\n",
    "& f\\left[x_i, x_i, x_i\\right] = \\frac{f^{\\prime \\prime}\\left(x_i\\right)}{2} \\\\\n",
    "& f\\left[x_i, x_i, x_i, x_i, x_i\\right] = \\frac{f^{(4)}\\left(x_i\\right)}{24}\n",
    "\\end{aligned}\n",
    "$$\n"
   ]
  },
  {
   "cell_type": "markdown",
   "metadata": {},
   "source": [
    "**Ejercicio 2 -** Dados los siguientes datos\n",
    "<center>\n",
    "\n",
    "| $x$  | $y$  | $y'$ | $y''$ |\n",
    "|------|---------|---|---|\n",
    "| -1 | 2 | -8 | 56 |\n",
    "| 0  | 1 |  0 |  0 |\n",
    "|  1 | 2 |  8 | 56 |\n",
    "\n",
    "</center>\n",
    "\n",
    "Comprueba que el polinomio de Hermite que los interpola es $p(x) = x^8 +1 $ usando una tabla de diferencias divididas.\n"
   ]
  },
  {
   "cell_type": "markdown",
   "metadata": {},
   "source": [
    "### `interpolación de hermite`"
   ]
  },
  {
   "cell_type": "code",
   "execution_count": null,
   "metadata": {},
   "outputs": [
    {
     "name": "stdout",
     "output_type": "stream",
     "text": [
      "3\n",
      "2\n",
      "[1, 1, 2, 2, 4, 4]\n",
      "[1, 1, 2, 2, 3, 3]\n"
     ]
    }
   ],
   "source": [
    "xx = [1, 2, 4 ]\n",
    "yy = [[1 ,2 , 3], [4, 5, 6]]\n",
    "\n",
    "\n",
    "print(len(xx))\n",
    "print(len(yy))\n",
    "\n",
    "z = [elemento for elemento in x for _ in range(len(yy))]\n",
    "\n",
    "print(z)\n",
    "\n",
    "t = [elemento for elemento in yy[0] for _ in range(len(yy))]\n",
    "print(t)\n"
   ]
  },
  {
   "cell_type": "code",
   "execution_count": 8,
   "metadata": {},
   "outputs": [
    {
     "name": "stdout",
     "output_type": "stream",
     "text": [
      "True\n",
      "False\n"
     ]
    }
   ],
   "source": [
    "print(z[0] == z[1])\n",
    "print(z[1] == z[2])"
   ]
  },
  {
   "cell_type": "code",
   "execution_count": 1,
   "metadata": {},
   "outputs": [],
   "source": [
    "def factorial(number: int) -> int:\n",
    "    resul = 1\n",
    "    for i in range(1, number + 1):\n",
    "        resul *= i\n",
    "\n",
    "    return resul\n",
    "\n",
    "def hermite_coefficients(x_data: list, y_data: list) -> list:\n",
    "\n",
    "    '''\n",
    "    x_data: list with all the x points\n",
    "    y_data: nested list whose elements contain 'y' derivatives of the order corresponding to the pposition in the list\n",
    "    '''\n",
    "\n",
    "    #print('x data e y data', x_data, y_data)\n",
    "\n",
    "    #check if all the data has the same length to raise a value error in case any data is missing\n",
    "    feasible = all(len(sublist) == len(x_data) for sublist in y_data)\n",
    "\n",
    "    if not feasible: #if feasible is false not feasible is true, if true, execute\n",
    "        raise ValueError(\"some data are missing to use this interpolation method\")\n",
    "    \n",
    "    else:\n",
    "\n",
    "        x_values = [elemento for elemento in x_data for _ in range(len(y_data))]\n",
    "        y_values= [elemento for elemento in y_data[0] for _ in range(len(y_data))]\n",
    "\n",
    "        #print( 'los valores de x e y duplicades ', x_values, y_values)\n",
    "        \n",
    "        layer = 1 # equivalent to the derivative order\n",
    "        coefficients = [] #to store just de coefficients\n",
    "        divided_diff = [] #to keep the divided differences values and then update y_values\n",
    "\n",
    "        coefficients.append(y_values[0])\n",
    "\n",
    "        while len(y_values) > 1:\n",
    "            for i in range(len(y_values) - 1):\n",
    "                #print(i)\n",
    "\n",
    "                if x_values[i] == x_values[i + layer]:\n",
    "\n",
    "                    # integer division functions similarly to taking the module of the variable len(x_data)\n",
    "                    value = y_data[layer][i // len(x_data)] / factorial(layer)\n",
    "\n",
    "                else:\n",
    "\n",
    "                    value = (y_values[i+1] -  y_values[i]) / (x_values[i + layer] - x_values[i])\n",
    "                \n",
    "                divided_diff.append(value)\n",
    "\n",
    "            coefficients.append(divided_diff[0])\n",
    "            layer += 1\n",
    "            y_values = divided_diff\n",
    "            divided_diff = [] # reset divided differences\n",
    "\n",
    "\n",
    "    return coefficients"
   ]
  },
  {
   "cell_type": "code",
   "execution_count": 2,
   "metadata": {},
   "outputs": [
    {
     "data": {
      "text/plain": [
       "[2, -8.0, 28.0, -21.0, 15.0, -10.0, 4.0, -1.0, 1.0]"
      ]
     },
     "execution_count": 2,
     "metadata": {},
     "output_type": "execute_result"
    }
   ],
   "source": [
    "x = [-1, 0, 1]\n",
    "y = [[2, 1, 2], [-8, 0, 8], [56, 0 , 56]]\n",
    "hermite_coefficients(x, y)"
   ]
  },
  {
   "cell_type": "code",
   "execution_count": null,
   "metadata": {},
   "outputs": [
    {
     "name": "stdout",
     "output_type": "stream",
     "text": [
      "value =  -16.8 coef =  -8.0 producto =  2.1\n",
      "-14.8\n",
      "value =  123.48 coef =  28.0 producto =  4.41\n",
      "108.68\n",
      "value =  -194.48100000000002 coef =  -21.0 producto =  9.261000000000001\n",
      "-85.80100000000002\n",
      "value =  152.80650000000003 coef =  15.0 producto =  10.187100000000003\n",
      "67.00550000000001\n",
      "value =  -112.05810000000002 coef =  -10.0 producto =  11.205810000000003\n",
      "-45.05260000000001\n",
      "value =  49.30556400000002 coef =  4.0 producto =  12.326391000000005\n",
      "4.252964000000006\n",
      "value =  -1.2326391000000017 coef =  -1.0 producto =  1.2326391000000017\n",
      "3.020324900000004\n",
      "value =  0.12326391000000027 coef =  1.0 producto =  0.12326391000000027\n",
      "3.1435888100000042\n",
      "3.1435888100000042\n"
     ]
    }
   ],
   "source": [
    "def evaluate_hermite_pol(coefficients:list,\n",
    "                          x_data: list, \n",
    "                          y_data: list, \n",
    "                          x: float) -> float:\n",
    "\n",
    "    herm_poly = coefficients[0]\n",
    "    product = 1\n",
    "    x_values = [elemento for elemento in x_data for _ in range(len(y_data))]\n",
    "\n",
    "    for i in range(1, len(coefficients)):\n",
    "        product *= (x - x_values[i -1])\n",
    "\n",
    "        value = coefficients[i] * product\n",
    "        print('value = ', value, 'coef = ', coefficients[i], 'producto = ', product)\n",
    "        herm_poly += value\n",
    "\n",
    "        print(herm_poly)\n",
    "    \n",
    "    return herm_poly\n",
    "\n",
    "    \n",
    "x = [-1, 0, 1]\n",
    "y = [[2, 1, 2], [-8, 0, 8], [56, 0 , 56]]\n",
    "\n",
    "#print(evaluate_hermite_pol(hermite_coefficients(x, y), x, y, 1))\n",
    "print(evaluate_hermite_pol(hermite_coefficients(x, y), x, y, 1.1))\n",
    "#print(evaluate_hermite_pol(hermite_coefficients(x, y), x, y, 0.9))\n",
    "\n"
   ]
  },
  {
   "cell_type": "code",
   "execution_count": null,
   "metadata": {},
   "outputs": [],
   "source": []
  }
 ],
 "metadata": {
  "kernelspec": {
   "display_name": "Python 3",
   "language": "python",
   "name": "python3"
  },
  "language_info": {
   "codemirror_mode": {
    "name": "ipython",
    "version": 3
   },
   "file_extension": ".py",
   "mimetype": "text/x-python",
   "name": "python",
   "nbconvert_exporter": "python",
   "pygments_lexer": "ipython3",
   "version": "3.12.6"
  },
  "orig_nbformat": 4
 },
 "nbformat": 4,
 "nbformat_minor": 2
}
