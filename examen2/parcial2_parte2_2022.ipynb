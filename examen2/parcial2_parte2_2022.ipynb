{
 "cells": [
  {
   "cell_type": "markdown",
   "metadata": {},
   "source": [
    "# Segundo parcial - Algorítmica numérica"
   ]
  },
  {
   "cell_type": "markdown",
   "metadata": {},
   "source": [
    "## Segunda Parte: **Preguntas de desarrollo** - con apuntes, 60min, total 5 puntos"
   ]
  },
  {
   "cell_type": "markdown",
   "metadata": {},
   "source": [
    "## Ejercicio 1 (3 puntos)\n",
    "\n"
   ]
  },
  {
   "cell_type": "markdown",
   "metadata": {},
   "source": [
    "Cuando se pretende calcular numéricamente la integral de una función con ruido, los métodos basados en interpolación no funcionan bien. Observa por ejemplo el siguiente *dataset*, que representa distintas medidas de la velocidad de despegue $y$ (m/s) de una nave espacial en varios instantes de tiempo $x$. Una vez cargado el dataset ejecutando la siguiente celda, en una lista ```x``` tendrás los valores del tiempo y en una lista ```y``` los de la velocidad."
   ]
  },
  {
   "cell_type": "code",
   "execution_count": 70,
   "metadata": {},
   "outputs": [
    {
     "data": {
      "text/plain": [
       "[<matplotlib.lines.Line2D at 0x284b9375400>]"
      ]
     },
     "execution_count": 70,
     "metadata": {},
     "output_type": "execute_result"
    },
    {
     "data": {
      "image/png": "[encoded data removed]",
      "text/plain": [
       "<Figure size 640x480 with 1 Axes>"
      ]
     },
     "metadata": {},
     "output_type": "display_data"
    }
   ],
   "source": [
    "import numpy as np\n",
    "import matplotlib.pyplot as plt\n",
    "import random\n",
    "\n",
    "random.seed(10)\n",
    "x = np.linspace(0,10, 200)\n",
    "y = np.array([3*i*i - i + (0.5*i)*10*random.random() for i in x])\n",
    "\n",
    "plt.plot(x,y, '.')"
   ]
  },
  {
   "cell_type": "markdown",
   "metadata": {},
   "source": [
    "Si el objetivo fuese determinar el espacio recorrido por la nave $s$ en función del tiempo, se debería calcular la magnitud:\n",
    "$$\n",
    "s(x) = \\int_0^x \\hat{y}(r) dr\n",
    "$$\n",
    "es decir, la integral respecto a la función definida implícitamente por los datos recogidos de la velocidad $\\hat{y}$. Para esta integral, los métodos basados en interpolación (trapecio, Simpson, etc.) pueden no funcionar bien, debido al ruido. Existe la opción de ajustar los datos a una función arbitrariamente compleja, y entonces resolver la integral numérica o analíticamente. Sin embargo, la opción más usada, por ser la más económica, es la que se explica en el siguiente algoritmo. "
   ]
  },
  {
   "cell_type": "markdown",
   "metadata": {},
   "source": [
    "**Algoritmo -** Se parte de una división en subintervalos, con un paso $h$ constante. A continuación, se ajustan linealmente los puntos contenidos en cada subintervalo. Después, se calcula el área bajo la recta de cada subintervalo. Sumando estas áreas parciales de forma apropiada se obtiene la integral buscada.\n",
    "\n",
    "La siguiente imagen recoge de forma esquemática el funcionamiento de este método con tres subintervalos.\n",
    "\n",
    "<center>\n",
    "\n",
    "<div>\n",
    "<img src=\"https://drive.upm.es/index.php/apps/files_sharing/ajax/publicpreview.php?x=1920&y=465&a=true&file=parcial2-parte2-ej1.png&t=uUN2zLwySDMVv82&scalingup=0\" width=\"250\"/>\n",
    "</div>\n",
    "\n",
    "</center>\n",
    "\n"
   ]
  },
  {
   "cell_type": "markdown",
   "metadata": {},
   "source": [
    "\n",
    "El ejercicio plantea implementar el algoritmo descrito anteriormente. Los datos de entrada son los dos arrays anteriores que contienen las variables independientes y dependientes del problema (en este caso, el tiempo $x$ y la velocidad $y$). El objetivo final es calcular un nuevo array ```area_y```, en el que un elemento genérico ```area_y[i]``` represente el área bajo la función entre $0$ y $x_{i+1}$, calculada según el algoritmo explicado anteriormente. Para ello, sigue los siguientes pasos:\n",
    "\n",
    " - **(a) [1 punto] -**  Completa el siguiente bloque de código, que pretende calcular dos nuevos arrays ```slopes``` e ```intercepts```, que almacenen respectivamente las pendientes y los términos independientes de las rectas de regresión para cada subintervalo. Se fija un paso $h=0.5$. **Las lineas de código marcadas con ```##########``` indican que ahí falta algo**.\n"
   ]
  },
  {
   "cell_type": "code",
   "execution_count": 10,
   "metadata": {},
   "outputs": [],
   "source": [
    "from scipy import stats\n",
    "\n",
    "# Goals: slopes and intercepts of each subinterval\n",
    "slopes = []\n",
    "intercepts = []\n",
    "\n",
    "# Local lists to store the points that belongs to each subinterval\n",
    "local_x_to_fit = []\n",
    "local_y_to_fit = []\n",
    "\n",
    "h = 0.5\n",
    "x_right = h  # this variable has the purpose of storing the right limit of the subintervals. Has to be updated\n",
    "for i in range(len(x)):\n",
    "    # Entering the following 'if' means that no more points has to be added to this subinterval -> proceed to fit the line, increment 'x_right' and reinitialize the lists\n",
    "    if #######: \n",
    "        \n",
    "        # Computation of the regression line\n",
    "        res = stats.linregress(local_x_to_fit, local_y_to_fit)\n",
    "        slopes.append(res.slope)  # stores the slope of the regression line\n",
    "        intercepts.append(res.intercept)  # stores the intercept of the regression line\n",
    "\n",
    "        local_x_to_fit = [] \n",
    "        #######\n",
    "        #######\n",
    "\n",
    "    #######\n",
    "    #######"
   ]
  },
  {
   "cell_type": "code",
   "execution_count": 71,
   "metadata": {},
   "outputs": [],
   "source": [
    "from scipy import stats\n",
    "\n",
    "# Goals: Slopes and intercepts of each subinterval\n",
    "slopes = []\n",
    "intercepts = []\n",
    "\n",
    "# Local lists to store the points that belongs to each subinterval\n",
    "local_x_to_fit = []\n",
    "local_y_to_fit = []\n",
    "\n",
    "h = 0.5\n",
    "x_right = h  # this variable has the purpose of storing the right limit of the subintervals. Has to be updated\n",
    "\n",
    "for i in range(len(x)):\n",
    "    # Add the current points to the local lists\n",
    "    local_x_to_fit.append(x[i])\n",
    "    local_y_to_fit.append(y[i])\n",
    "\n",
    "    # Entering the following 'if' means that no more points has to be added to this subinterval\n",
    "    # -> proceed to fit the line, increment 'x_right' and reinitialize the lists\n",
    "    if x[i] >= x_right:\n",
    "        # Computation of the regression line\n",
    "        res = stats.linregress(local_x_to_fit, local_y_to_fit)\n",
    "        slopes.append(res.slope)        # stores the slope of the regression line\n",
    "        intercepts.append(res.intercept) # stores the intercept of the regression line\n",
    "        \n",
    "        # Reinitialize the lists for the next subinterval\n",
    "        local_x_to_fit = []\n",
    "        local_y_to_fit = []\n",
    "        \n",
    "        # Update the right limit for the next subinterval\n",
    "        x_right += h\n"
   ]
  },
  {
   "cell_type": "markdown",
   "metadata": {},
   "source": [
    "En este punto, asume que tienes en una lista ```slopes``` las pendientes de todas las rectas de regresión, y en otra ```intercepts``` los correspondientes términos independientes de dichas rectas. De esta forma, la recta de regresión en un subintervalo ```i``` sería $y=$ ```slopes[i]```$\\cdot x$ + ```intercepts[i]```.\n",
    "\n",
    " - **(b) [1 punto] -**  Completa el siguiente bloque de código para calcula las áreas parciales y almacenarlas acumulativamente en un array ```area_y```. Recuerda que el área $A$ de un trapecio de bases $b_1$ y $b_2$ y altura $h$ viene dada por: $A = 0.5 \\cdot h \\cdot \\left( b_1 + b_2 \\right)$. Contesta también a la siguiente pregunta: ¿qué espacio habrá recorrido la nave espacial en los 10 segundos?\n"
   ]
  },
  {
   "cell_type": "code",
   "execution_count": null,
   "metadata": {},
   "outputs": [],
   "source": [
    "#Goal: cumulative area\n",
    "area_y = []\n",
    "\n",
    "#Limits of the subintervals. Have to be updated\n",
    "x_left = 0\n",
    "x_right = h\n",
    "\n",
    "for i in range(len(slopes)):\n",
    "\n",
    "    #Bases of the trapezoid\n",
    "    b1 = ###\n",
    "    b2 = ######\n",
    "\n",
    "    if len(area_y) == 0:\n",
    "        area_y.append(######) \n",
    "    \n",
    "    area_y.append(######)\n",
    "\n",
    "    ######\n",
    "    ######"
   ]
  },
  {
   "cell_type": "code",
   "execution_count": 75,
   "metadata": {},
   "outputs": [
    {
     "name": "stdout",
     "output_type": "stream",
     "text": [
      "[np.float64(0.28242606123325), np.float64(0.5648521224665), np.float64(2.1717507041446638), np.float64(5.587457533650477), np.float64(11.31940018895968), np.float64(20.39976985768415), np.float64(33.55583737782525), np.float64(50.974299412199635), np.float64(73.70497464800398), np.float64(104.53326936345823), np.float64(141.67913351802474), np.float64(183.83236315024908), np.float64(238.97277681469012), np.float64(303.84554164054174), np.float64(380.99935372017046), np.float64(463.0181268505335), np.float64(561.1311454967209), np.float64(670.6687018603271), np.float64(790.237027768433), np.float64(925.8222229084178), np.float64(1079.8537666131174)]\n",
      "el espacio recorrido por el cohete en 10s ha sido de 1079.8537666131174 m\n"
     ]
    }
   ],
   "source": [
    "#Goal: cumulative area\n",
    "area_y = []\n",
    "\n",
    "#Limits of the subintervals. Have to be updated\n",
    "x_left = 0\n",
    "x_right = h\n",
    "\n",
    "for i in range(len(slopes)):\n",
    "\n",
    "    a = slopes[i]\n",
    "    b = intercepts[i]\n",
    "\n",
    "    # ax + b\n",
    "\n",
    "    #Bases of the trapezoid\n",
    "    b1 = a * x_left + b\n",
    "    b2 = a * x_right + b\n",
    "\n",
    "    local_area =(h / 2) * (b1 + b2)\n",
    "\n",
    "    if len(area_y) == 0:\n",
    "        area_y.append(local_area)\n",
    "    \n",
    "    area_y.append(area_y[-1] + local_area)\n",
    "\n",
    "    x_left += h\n",
    "    x_right += h\n",
    "\n",
    "\n",
    "print(area_y)\n",
    "print(f'el espacio recorrido por el cohete en 10s ha sido de {area_y[-1]} m')"
   ]
  },
  {
   "cell_type": "markdown",
   "metadata": {},
   "source": [
    " - **(c) [1 punto] -** En base a la idea anterior, desarrolla un procedimiento para evaluar la **derivada** de funciones discretas con ruido, como la manejada anteriormente. Comienza describiendo el algoritmo (con palabras). Después, programa una función ```noisy_derivation(x, y)```, cuyos parámetros de entrada sean dos arrays ```x, y``` con los valores de la variable independiente y dependiente (respectivamente). Dicha función debe devolver la función derivada como un nuevo array. Utilízala sobre el *dataset* dado para calcular la aceleración de la nave espacial en $t=5\\text{s}$. *(Pista: puedes reutilizar gran parte del código anterior para programar esta función)*."
   ]
  },
  {
   "cell_type": "code",
   "execution_count": 77,
   "metadata": {},
   "outputs": [
    {
     "name": "stdout",
     "output_type": "stream",
     "text": [
      "[np.float64(1.2951990422197943), np.float64(3.088729044501794), np.float64(-2.935670685031072), np.float64(13.230227926963424), np.float64(4.680080705787725), np.float64(-0.3272543390144339), np.float64(-13.036342543901712), np.float64(16.480046440101617), np.float64(-4.514183792251033), np.float64(-0.3856210806339698), np.float64(42.07092531443377), np.float64(9.855826232759261), np.float64(-54.12841047198365), np.float64(60.385459509556206), np.float64(-11.600117490944092), np.float64(-11.037450114913597), np.float64(-2.4460559795993344), np.float64(40.915669629623), np.float64(-12.769987444370829), np.float64(30.066586181845018), np.float64(6.088619580650451), np.float64(-49.38385562685196), np.float64(79.45767228320548), np.float64(35.673668413462394), np.float64(9.670864842638771), np.float64(-34.75259116848741), np.float64(-66.76735148560464), np.float64(1.8839920318853844), np.float64(26.451261064067978), np.float64(129.61879664905973), np.float64(-86.01097369537143), np.float64(20.137396588347976), np.float64(98.41807905817222), np.float64(-85.66003099380669), np.float64(52.03204540982562), np.float64(-7.882792241889262), np.float64(-56.45662466324653), np.float64(109.346392963216), np.float64(64.13749736170925), np.float64(-122.39990862789561), np.float64(25.908560179539045), np.float64(52.23401785354845), np.float64(-66.94982642075257), np.float64(113.42950073748266), np.float64(87.21046022816223), np.float64(-20.012635617247856), np.float64(-12.92613753368116), np.float64(93.18310794746367), np.float64(-154.93346913978127), np.float64(119.05989926336547), np.float64(-32.16816003675196), np.float64(75.45224191473837), np.float64(-111.5873755188775), np.float64(194.59642155396958), np.float64(-167.38966435994647), np.float64(35.74891303812095), np.float64(199.57650638434296), np.float64(61.04474211484241), np.float64(-130.38975381735014), np.float64(13.360654764264487), np.float64(-32.111071271409365), np.float64(27.828792854237708), np.float64(127.1207924530611), np.float64(-119.18156278301413), np.float64(0.17171865777500986), np.float64(130.30943317583302), np.float64(-76.08808690428445), np.float64(184.66403620331022), np.float64(82.35103137285759), np.float64(8.819552496020084), np.float64(-81.42535134471137), np.float64(-24.76391234542545), np.float64(54.402994625886464), np.float64(-135.65537364640915), np.float64(286.8240891374441), np.float64(-119.42138659914852), np.float64(19.013528569483203), np.float64(-69.44034972306834), np.float64(168.47966983506106), np.float64(79.12734539606727), np.float64(-51.6805186899502), np.float64(221.89882648817508), np.float64(-53.19771680300592), np.float64(-153.8742439931097), np.float64(146.36131114668606), np.float64(193.03305028784794), np.float64(-140.2014225481721), np.float64(64.06033476306202), np.float64(-211.30846256358387), np.float64(218.2744144617827), np.float64(16.018454298387702), np.float64(1.1519099578101206), np.float64(37.872143942618266), np.float64(106.60798642290277), np.float64(8.439837125384857), np.float64(7.077086067902789), np.float64(-126.64321317459434), np.float64(164.2456518187605), np.float64(291.93426019771994), np.float64(-242.9088616787499), np.float64(-160.4498350283732), np.float64(13.211028640531048), np.float64(304.2015074329061), np.float64(-219.23654252960606), np.float64(52.899895745603054), np.float64(39.75965611377318), np.float64(216.4015608081444), np.float64(324.53170907731607), np.float64(-239.98282148446737), np.float64(19.91206528273172), np.float64(22.327928888062573), np.float64(70.97741189582372), np.float64(4.901194618110286), np.float64(194.55934971081106), np.float64(135.8963317280383), np.float64(-77.72746092678794), np.float64(-123.00247075457386), np.float64(170.01261287781566), np.float64(192.68311898261146), np.float64(-413.9700998512169), np.float64(86.74743979438743), np.float64(269.6992994744438), np.float64(80.79361987062207), np.float64(12.131052412212641), np.float64(5.955902172362813), np.float64(191.54545629102824), np.float64(-181.26713330034042), np.float64(250.17030695678963), np.float64(141.60636862694867), np.float64(-299.6924512111313), np.float64(317.9087436749067), np.float64(-49.85564242801944), np.float64(155.88297222423), np.float64(-520.7438937189066), np.float64(624.9163053366102), np.float64(-55.03710974130726), np.float64(177.9351399669315), np.float64(58.3380789470969), np.float64(-437.93898089117556), np.float64(311.64864026333936), np.float64(-328.0412732334), np.float64(364.60973942790264), np.float64(276.9200300239698), np.float64(-477.01234531932164), np.float64(158.0018456673754), np.float64(-152.57110663601406), np.float64(128.0289020240563), np.float64(54.09994295975441), np.float64(-38.40541109811136), np.float64(722.3282124674936), np.float64(-35.30850784525183), np.float64(-272.9521648653958), np.float64(261.45469229698244), np.float64(11.681365930467411), np.float64(-84.84709365326147), np.float64(-28.698200542486912), np.float64(237.16378880600277), np.float64(-35.94942233894531), np.float64(-180.689341748967), np.float64(127.16847636334656), np.float64(260.88126675838595), np.float64(50.718125384463285), np.float64(-289.16051207304264), np.float64(377.4914194585163), np.float64(270.4003648944418), np.float64(50.29335336491811), np.float64(-129.36921635629983), np.float64(-436.1923037215928), np.float64(348.73176055409374), np.float64(-232.09831616597054), np.float64(21.97667020382448), np.float64(222.51031902024727), np.float64(227.1655015424403), np.float64(316.79332225109476), np.float64(-58.82815658620052), np.float64(-249.73532479364988), np.float64(418.76575049859315), np.float64(-111.8273367168477), np.float64(56.266906359973596), np.float64(-163.8585459211123), np.float64(215.85159985721356), np.float64(-35.177186437956074), np.float64(408.0265341897604), np.float64(-166.4745089157849), np.float64(23.89749218419531), np.float64(85.28901564760136), np.float64(60.33076201279089), np.float64(255.0759084453154), np.float64(87.82985866991932), np.float64(136.92173702751302), np.float64(-317.5846171445627), np.float64(431.51663768108676), np.float64(226.20247262425414), np.float64(88.9601000524506), np.float64(-202.29650133263485), np.float64(-580.5156128697088), np.float64(828.6445856780974), np.float64(52.06291070238704), np.float64(-753.0069258111871)]\n"
     ]
    }
   ],
   "source": [
    "def noisy_derivation(x, y):\n",
    "    # Lista para almacenar la derivada\n",
    "    derivative = []\n",
    "    \n",
    "    # Iterar sobre los puntos consecutivos\n",
    "    for i in range(len(x) - 1):\n",
    "        # Calcular delta_x y delta_y\n",
    "        delta_x = x[i+1] - x[i]\n",
    "        delta_y = y[i+1] - y[i]\n",
    "        \n",
    "        # Calcular la derivada en el subintervalo\n",
    "        derivative_value = delta_y / delta_x\n",
    "        derivative.append(derivative_value)\n",
    "    \n",
    "    return derivative\n",
    "\n",
    "\n",
    "acceleration = noisy_derivation(x, y)\n",
    "print(acceleration)"
   ]
  },
  {
   "cell_type": "code",
   "execution_count": 78,
   "metadata": {},
   "outputs": [
    {
     "name": "stdout",
     "output_type": "stream",
     "text": [
      "La aceleración aproximada en t = 5 segundos es -242.91 m/s²\n"
     ]
    }
   ],
   "source": [
    "# Encontrar el índice más cercano a t = 5\n",
    "target_time = 5\n",
    "index = np.argmin(np.abs(x - target_time))\n",
    "\n",
    "# Aceleración en t = 5 segundos (ten en cuenta que `acceleration` tiene un elemento menos que `x` y `y`)\n",
    "acceleration_at_5s = acceleration[index]\n",
    "\n",
    "print(f\"La aceleración aproximada en t = {target_time} segundos es {acceleration_at_5s:.2f} m/s²\")\n"
   ]
  },
  {
   "cell_type": "code",
   "execution_count": null,
   "metadata": {},
   "outputs": [],
   "source": []
  },
  {
   "cell_type": "markdown",
   "metadata": {},
   "source": [
    "Para desarrollar un procedimiento para evaluar la derivada de funciones discretas con ruido, podemos utilizar un enfoque similar al cálculo de pendientes en subintervalos, pero ahora enfocado en obtener la tasa de cambio instantánea en cada punto. El proceso consiste en dividir el dominio en pequeños intervalos y calcular la pendiente entre puntos adyacentes, lo que nos da una aproximación de la derivada."
   ]
  },
  {
   "cell_type": "markdown",
   "metadata": {},
   "source": [
    "## Ejercicio 2 (2 puntos)"
   ]
  },
  {
   "cell_type": "markdown",
   "metadata": {},
   "source": [
    "La relación entre la tensión $\\sigma$ y la deformación $\\varepsilon$ de algunos materiales en tensión uniaxial viene dada por la expresión:\n",
    "\n",
    "$$\n",
    "\\frac{d \\sigma}{d \\varepsilon}=a+b \\sigma\n",
    "$$\n",
    "\n",
    "donde $a$ y $b$ son constantes ($d \\sigma /d \\varepsilon$ se llama *módulo tangente*). La siguiente tabla muestra los resultados de un ensayo de tracción en un material de este tipo:\n",
    "\n",
    "<center>\n",
    "\n",
    "| Strain $\\varepsilon$ | Stress $\\sigma$ |\n",
    "|---------|-------|\n",
    "| 0 | 0 | \n",
    "| 0.05 | 0.252 | \n",
    "| 0.10 | 0.531 | \n",
    "| 0.15 | 0.840 | \n",
    "| 0.20 | 1.184 | \n",
    "| 0.25 | 1.558 | \n",
    "| 0.30 | 1.975 | \n",
    "| 0.35 | 2.444 | \n",
    "| 0.40 | 2.943 | \n",
    "| 0.45 | 3.500 | \n",
    "| 0.50 | 4.115 |\n",
    "\n",
    "</center>"
   ]
  },
  {
   "cell_type": "markdown",
   "metadata": {},
   "source": [
    "Dichos resultados corresponden con los almacenados en las siguientes dos listas:"
   ]
  },
  {
   "cell_type": "code",
   "execution_count": 52,
   "metadata": {},
   "outputs": [],
   "source": [
    "epsilon = [0.0, 0.05, 0.10, 0.15, 0.20, 0.25, 0.30, 0.35, 0.40, 0.45, 0.50]\n",
    "sigma = [0.0, 0.252, 0.531, 0.840, 1.184, 1.558, 1.975, 2.444, 2.943, 3.500, 4.115]"
   ]
  },
  {
   "cell_type": "code",
   "execution_count": 7,
   "metadata": {},
   "outputs": [
    {
     "data": {
      "image/png": "[encoded data removed]",
      "text/plain": [
       "<Figure size 640x480 with 1 Axes>"
      ]
     },
     "metadata": {},
     "output_type": "display_data"
    }
   ],
   "source": [
    "import matplotlib.pyplot as plt\n",
    "\n",
    "plt.plot(epsilon, sigma)\n",
    "\n",
    "plt.show()"
   ]
  },
  {
   "cell_type": "markdown",
   "metadata": {},
   "source": [
    "Determina los parámetros $a$ y $b$ por regresión lineal. Si necesitases calcular alguna derivada numéricamente, utiliza diferencias finitas de **segundo orden**."
   ]
  },
  {
   "cell_type": "markdown",
   "metadata": {},
   "source": [
    "Nota: el módulo ```scipy.stats``` dispone del método ```linregress``` que facilita el cálculo de la recta de regresión. Observa el siguiente ejemplo trivial:"
   ]
  },
  {
   "cell_type": "code",
   "execution_count": 2,
   "metadata": {},
   "outputs": [
    {
     "name": "stdout",
     "output_type": "stream",
     "text": [
      "La pendiente de la recta de regresión de ejemplo es 0.4\n",
      "El término independiente de la recta de regresión de ejemplo es 1.9\n"
     ]
    }
   ],
   "source": [
    "from scipy import stats\n",
    "\n",
    "x = [0, 1, 2, 3]\n",
    "y = [1, 4, 2, 3]\n",
    "\n",
    "# En esta instancia se almacenan varios estadísticos útiles relacionados con la regresión. \n",
    "res = stats.linregress(x, y)\n",
    "\n",
    "# En particular en 'res.slope' y en 'res.intercept' se tiene la pendiente y el término independiente de la recta\n",
    "print(f\"La pendiente de la recta de regresión de ejemplo es {res.slope}\")\n",
    "print(f\"El término independiente de la recta de regresión de ejemplo es {res.intercept}\")\n"
   ]
  },
  {
   "cell_type": "code",
   "execution_count": 26,
   "metadata": {},
   "outputs": [],
   "source": [
    "def evaluate_line(a, b, x):\n",
    "    y = a + b * x\n",
    "    return y"
   ]
  },
  {
   "cell_type": "code",
   "execution_count": 63,
   "metadata": {},
   "outputs": [
    {
     "data": {
      "text/plain": [
       "[np.float64(-0.27809090909090917),\n",
       " np.float64(7.867727272727273),\n",
       " np.float64(16.013545454545454),\n",
       " np.float64(24.159363636363636)]"
      ]
     },
     "execution_count": 63,
     "metadata": {},
     "output_type": "execute_result"
    }
   ],
   "source": [
    "y_2 = [evaluate_line(res.intercept,res.slope, xi ) for xi in x]\n",
    "y_2"
   ]
  },
  {
   "cell_type": "code",
   "execution_count": 64,
   "metadata": {},
   "outputs": [
    {
     "data": {
      "text/plain": [
       "[<matplotlib.lines.Line2D at 0x284b7c0a3c0>]"
      ]
     },
     "execution_count": 64,
     "metadata": {},
     "output_type": "execute_result"
    },
    {
     "data": {
      "image/png": "[encoded data removed]",
      "text/plain": [
       "<Figure size 640x480 with 1 Axes>"
      ]
     },
     "metadata": {},
     "output_type": "display_data"
    }
   ],
   "source": [
    "plt.plot(y, y_2)"
   ]
  },
  {
   "cell_type": "code",
   "execution_count": 61,
   "metadata": {},
   "outputs": [
    {
     "data": {
      "text/plain": [
       "[<matplotlib.lines.Line2D at 0x284b802e360>]"
      ]
     },
     "execution_count": 61,
     "metadata": {},
     "output_type": "execute_result"
    },
    {
     "data": {
      "image/png": "[encoded data removed]",
      "text/plain": [
       "<Figure size 640x480 with 1 Axes>"
      ]
     },
     "metadata": {},
     "output_type": "display_data"
    }
   ],
   "source": [
    "plt.plot(x, y)"
   ]
  },
  {
   "cell_type": "code",
   "execution_count": 3,
   "metadata": {},
   "outputs": [
    {
     "name": "stdout",
     "output_type": "stream",
     "text": [
      "8.145818181818182\n",
      "-0.27809090909090917\n"
     ]
    }
   ],
   "source": [
    "res = stats.linregress(epsilon, sigma)\n",
    "print(res.slope)\n",
    "print(res.intercept)"
   ]
  },
  {
   "cell_type": "markdown",
   "metadata": {},
   "source": [
    "**primero** nos definimos unas funciones para calcular las diferencias finitas. necesitamos las centradas adelantadas y atrasadas ya uqe tambien hay que evaluar la funcion en los extremos, aunque podriamos obviar esos puntos y hacerlo solo con las centradas"
   ]
  },
  {
   "cell_type": "markdown",
   "metadata": {},
   "source": [
    "1. dentro de lso parametro que se dan, definimos el index_x_value (va a ser un array que contiene las distancias a cada punto de la malla) para que si el usuario pasa un parametro  0.23, lo aproxime al valor mas cercano de la malla queremos el indice no el valor mas cercano\n",
    "2. como estamos en mallas esquispaciadas definimos una h que es el paso entre cada numerito de la malla"
   ]
  },
  {
   "cell_type": "code",
   "execution_count": 51,
   "metadata": {},
   "outputs": [],
   "source": [
    "import numpy as np\n",
    "\n",
    "def df1_centradas_segundo_orden(x: list[float] | tuple[float, ...],\n",
    "                               y: list[float] | tuple[float, ...],\n",
    "                               x_val : float):\n",
    "    \n",
    "    '''derivada primera para diferencias finitas\n",
    "    centradas'''\n",
    "    \n",
    "    \"\"\"\"solo funciona con mallas equispaciadas\"\"\"\n",
    "\n",
    "    index_x_value = np.abs(np.array(x) - x_val).argmin() #paso 1\n",
    "    h = x[1] - x[0] #paso 2\n",
    "\n",
    "    # valor de la izq - valor de la derecha dividido por el 2h\n",
    "    return(y[index_x_value + 1] - y[index_x_value - 1]) / (2 * h) \n",
    "\n",
    "def df1_adelantadas_orden_1(x: list[float] | tuple[float, ...],\n",
    "                            y: list[float] | tuple[float, ...],\n",
    "                            x_val: float):\n",
    "    '''Derivada primera para diferencias finitas\n",
    "    adelantadas de primer orden'''\n",
    "    index_x_value = np.abs(np.array(x) - x_val).argmin()  # Paso 1\n",
    "    h = x[1] - x[0]  # Paso 2\n",
    "\n",
    "    return (y[index_x_value + 1] - y[index_x_value]) / h\n",
    "\n",
    "\n",
    "def df1_atrasadas_orden_1(x: list[float] | tuple[float, ...],\n",
    "                          y: list[float] | tuple[float, ...],\n",
    "                          x_val: float):\n",
    "    '''Derivada primera para diferencias finitas\n",
    "    atrasadas de primer orden'''\n",
    "    index_x_value = np.abs(np.array(x) - x_val).argmin()  # Paso 1\n",
    "    h = x[1] - x[0]  # Paso 2\n",
    "\n",
    "    return (y[index_x_value] - y[index_x_value - 1]) / h"
   ]
  },
  {
   "cell_type": "code",
   "execution_count": 53,
   "metadata": {},
   "outputs": [
    {
     "data": {
      "text/plain": [
       "11"
      ]
     },
     "execution_count": 53,
     "metadata": {},
     "output_type": "execute_result"
    }
   ],
   "source": [
    "epsilon = [0.0, 0.05, 0.10, 0.15, 0.20, 0.25, 0.30, 0.35, 0.40, 0.45, 0.50]\n",
    "sigma = [0.0, 0.252, 0.531, 0.840, 1.184, 1.558, 1.975, 2.444, 2.943, 3.500, 4.115]\n",
    "len(epsilon)"
   ]
  },
  {
   "cell_type": "code",
   "execution_count": 55,
   "metadata": {},
   "outputs": [
    {
     "name": "stdout",
     "output_type": "stream",
     "text": [
      "[5.04]\n",
      "[12.300000000000004]\n",
      "[5.31, 5.879999999999999, 6.5299999999999985, 7.180000000000001, 7.910000000000001, 8.859999999999998, 9.68, 10.56, 11.72]\n"
     ]
    },
    {
     "data": {
      "text/plain": [
       "11"
      ]
     },
     "execution_count": 55,
     "metadata": {},
     "output_type": "execute_result"
    }
   ],
   "source": [
    "x0 = [df1_adelantadas_orden_1(epsilon, sigma, epsilon[0])]\n",
    "print(x0)\n",
    "x_fin = [df1_atrasadas_orden_1(epsilon, sigma, epsilon[-1])]\n",
    "print(x_fin)\n",
    "\n",
    "x_mid = [df1_centradas_segundo_orden(epsilon, sigma, xi) for xi in epsilon[1:-1]]\n",
    "print(x_mid)\n",
    "\n",
    "derivative_sigma = x0 + x_mid + x_fin\n",
    "\n",
    "len(derivative_sigma)"
   ]
  },
  {
   "cell_type": "code",
   "execution_count": 56,
   "metadata": {},
   "outputs": [
    {
     "name": "stdout",
     "output_type": "stream",
     "text": [
      "4.989320601915316 1.8657570767723874\n"
     ]
    }
   ],
   "source": [
    "answer = stats.linregress(sigma, derivative_sigma)\n",
    "a = answer.intercept \n",
    "b = answer.slope\n",
    "print(a, b)"
   ]
  },
  {
   "cell_type": "code",
   "execution_count": 57,
   "metadata": {},
   "outputs": [],
   "source": [
    "def evaluate_line(a, b, x):\n",
    "    y = a + b * x\n",
    "    return y"
   ]
  },
  {
   "cell_type": "code",
   "execution_count": 65,
   "metadata": {},
   "outputs": [
    {
     "data": {
      "text/plain": [
       "[np.float64(4.989320601915316),\n",
       " np.float64(5.459491385261957),\n",
       " np.float64(5.980037609681454),\n",
       " np.float64(6.5565565464041216),\n",
       " np.float64(7.198376980813823),\n",
       " np.float64(7.896170127526696),\n",
       " np.float64(8.67419082854078),\n",
       " np.float64(9.54923089754703),\n",
       " np.float64(10.480243678856453),\n",
       " np.float64(11.519470370618672),\n",
       " np.float64(12.66691097283369)]"
      ]
     },
     "execution_count": 65,
     "metadata": {},
     "output_type": "execute_result"
    }
   ],
   "source": [
    "sigma_derivative_est = [evaluate_line(a,b, xi ) for xi in sigma]\n",
    "sigma_derivative_est"
   ]
  },
  {
   "cell_type": "code",
   "execution_count": 68,
   "metadata": {},
   "outputs": [
    {
     "data": {
      "image/png": "[encoded data removed]",
      "text/plain": [
       "<Figure size 640x480 with 1 Axes>"
      ]
     },
     "metadata": {},
     "output_type": "display_data"
    }
   ],
   "source": [
    "plt.plot(epsilon, sigma_derivative_est)\n",
    "plt.show()"
   ]
  },
  {
   "cell_type": "code",
   "execution_count": null,
   "metadata": {},
   "outputs": [],
   "source": []
  }
 ],
 "metadata": {
  "kernelspec": {
   "display_name": "Python 3",
   "language": "python",
   "name": "python3"
  },
  "language_info": {
   "codemirror_mode": {
    "name": "ipython",
    "version": 3
   },
   "file_extension": ".py",
   "mimetype": "text/x-python",
   "name": "python",
   "nbconvert_exporter": "python",
   "pygments_lexer": "ipython3",
   "version": "3.12.6"
  },
  "orig_nbformat": 4
 },
 "nbformat": 4,
 "nbformat_minor": 2
}
