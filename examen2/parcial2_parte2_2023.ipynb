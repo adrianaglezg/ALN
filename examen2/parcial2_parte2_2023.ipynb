{
 "cells": [
  {
   "cell_type": "markdown",
   "metadata": {},
   "source": [
    "# Segundo parcial - Algorítmica numérica"
   ]
  },
  {
   "cell_type": "markdown",
   "metadata": {},
   "source": [
    "## Segunda Parte: **Preguntas de desarrollo** - con apuntes, 60min, total 5 puntos"
   ]
  },
  {
   "cell_type": "markdown",
   "metadata": {},
   "source": [
    "## Ejercicio 1 (5 puntos)"
   ]
  },
  {
   "cell_type": "markdown",
   "metadata": {},
   "source": [
    "El método de Newton para la interpolación involucra dos pasos: el cálculo de los coeficientes, seguido de la evaluación del polinomio. Funciona bien si la interpolación se lleva a cabo repetidamente en diferentes valores de $x$ utilizando el mismo polinomio. Si solo se va a interpolar un punto, no resulta un algoritmo muy eficiente. Este ejercicio trata sobre un método alternativo que resuelve este problema, optimizando el cálculo del polinomio interpolante y su evaluación en un único punto. Llamaremos a este método el *Power method*.\n",
    "\n",
    "A continuación se describe cómo funciona este método. Se denota por $P_k[x_i, x_{i+1}, ..., x_{i+k}]$ al polinomio de grado $k$ que interpola los puntos  $(x_i, y_i), (x_{i+1}, y_{i+1}), ..., (x_{i+k}, y_{i+k})$ (se omite la dependencia funcional con $x$ para simplificar la notación). \n",
    "\n",
    "Comencemos analizando el caso más básico: el polinomio de grado 0 (que interpola un único punto). En ese caso, el *Power method* devolvería (lógicamente) el siguiente resultado:\n",
    "\n",
    "$$ P_0[x_i] = y_i $$\n",
    "\n",
    "La idea del *Power method* es ir calculando polinomios interpolantes de grado creciente. Los polinomios que ya han sido calculados se usarán para calcular los siguientes (de mayor grado), hasta alcanzar el grado deseado. Así, para calcular el polinomio interpolante de grado 1 (que pasa por dos puntos), usaremos el polinomio de grado $0$ que ya hemos calculado. Podríamos hacer:\n",
    "\n",
    "$$ P_1[x_i, x_{i+1}] = \\frac{(x - x_{i+1})P_0[x_i] + (x_i - x)P_0[x_{i+1}]}{x_i - x_{i+1}} $$\n",
    "\n",
    "Se verifica trivialmente que $P_1[x_i, x_{i+1}]$ pasa por los dos puntos dato; es decir, $P_1[x_i, x_{i+1}] = y_i$ cuando $x = x_i$ y $P_1[x_i, x_{i+1}] = y_{i+1}$ cuando $x = x_{i+1}$."
   ]
  },
  {
   "cell_type": "markdown",
   "metadata": {},
   "source": [
    " - **1.a *[1 punto]*:** Verifica que la siguiente fórmula para el polinomio interpolante de grado 2 propuesta por el *Power method* pasa por los puntos dato $(x_i, y_i), (x_{i+1}, y_{i+1}), (x_{i+2}, y_{i+2})$:\n",
    "\n",
    "$$ P_2[x_i, x_{i+1}, x_{i+2}] = \\frac{(x - x_{i+2})P_1[x_i, x_{i+1}] + (x_i - x)P_1[x_{i+1}, x_{i+2}]}{x_i - x_{i+2}} $$"
   ]
  },
  {
   "cell_type": "code",
   "execution_count": null,
   "metadata": {},
   "outputs": [],
   "source": [
    "# SOL 1a - recomendable hacerlo \"a mano\"\n"
   ]
  },
  {
   "cell_type": "markdown",
   "metadata": {},
   "source": [
    "-----------------\n",
    "\n",
    "Habiendo establecido el patrón, ahora podemos deducir la fórmula recursiva general del *Power method*:\n",
    "\n",
    "$$ P[x_i, x_{i+1}, ..., x_{i+k}] = \\frac{(x - x_{i+k})P_{k-1}[x_i, x_{i+1}, ..., x_{i+k-1}] - (x_i - x)P_{k-1}[x_{i+1}, x_{i+2}, ..., x_{i+k}]}{x_i - x_{i+k}} $$\n",
    "\n",
    "Dado el valor de $x$ donde se desea interpolar, los cálculos pueden organizarse en el siguiente formato tabular (este ejemplo es para cuatro puntos):\n",
    "\n",
    "<center>\n",
    "\n",
    "  $ $  | **k = 0** | **k = 1** | **k = 2** | **k = 3** |\n",
    "--- | --------- | --------- | --------- | --------- | \n",
    "$x_0$ | $P_0[x_0] = y_0$ | $P_1[x_0, x_1]$ | $P_2[x_0, x_1, x_2]$ | $P_3[x_0, x_1, x_2, x_3]$\n",
    "$x_1$ | $P_0[x_1] = y_1$ | $P_1[x_1, x_2]$ | $P_2[x_1, x_2, x_3]$\n",
    "$x_2$ | $P_0[x_2] = y_2$ | $P_1[x_2, x_3]$\n",
    "$x_3$ | $P_0[x_3] = y_3$\n",
    "\n",
    "*Tabla 1.* Tabla para el *Power method*. \n",
    "</center>"
   ]
  },
  {
   "cell_type": "code",
   "execution_count": 1,
   "metadata": {},
   "outputs": [],
   "source": [
    "# Tabla 1: formato texto:\n",
    "#     |    k = 0       |     k = 1     |      k = 2         |         k = 3          |\n",
    "# --- | -------------- | ------------- | ------------------ | ---------------------- | \n",
    "# x_0 | P_0[x_0] = y_0 | P_1[x_0, x_1] | P_2[x_0, x_1, x_2] | P_3[x_0, x_1, x_2, x_3]\n",
    "# x_1 | P_0[x_1] = y_1 | P_1[x_1, x_2] | P_2[x_1, x_2, x_3]\n",
    "# x_2 | P_0[x_2] = y_2 | P_1[x_2, x_3]\n",
    "# x_3 | P_0[x_3] = y_3"
   ]
  },
  {
   "cell_type": "markdown",
   "metadata": {},
   "source": [
    " - **1.b *[1 punto]*:** Implementa el algoritmo del *Power method* en una función llamada ```power_method```. Dicha función requerirá como argumentos las coordenadas $x$ e $y$ de los puntos a interpolar (dadas como listas independientes ```x_data``` e ```y_data```), así como el valor ```x_val``` donde se desea evaluar el polinomio. A continuación se da una estructura de desarrollo sugerida."
   ]
  },
  {
   "cell_type": "code",
   "execution_count": null,
   "metadata": {},
   "outputs": [],
   "source": [
    "# SOL 1b -> completa los espacios marcados con #####\n",
    "\n",
    "def power_method(x_data, y_data, x_val):\n",
    "\n",
    "    # Se trabajará con una lista unidimensional 'y', que inicialmente contiene \n",
    "    # los valores de 'y_data' (la segunda columna en la Tabla 1 anterior).\n",
    "    # A cada paso a través del bucle externo se calculan los elementos de la \n",
    "    # siguiente columna, que sobrescribirán las entradas anteriores en 'y'. \n",
    "    # Al final del proceso, 'y' contendrá los términos diagonales de la tabla,  \n",
    "    # y el valor del polinomio interpolante evaluado en 'x_val' será el primer elemento de 'y'.\n",
    "\n",
    "    m = len(x_data)  # número de puntos\n",
    "\n",
    "    y = y_data.copy()  # la lista 'y' contiene los valores de 'y_data' (por ahora)\n",
    "\n",
    "    for k in #####:\n",
    "        for i in #####:\n",
    "            #####\n",
    "\n",
    "    return #####\n",
    "\n",
    "# (puedes verificar tu solución por ejemplo usando la implementación del método de Newton dado más abajo para comprobar que los resultados son los mismos al evaluar el polinomio que interpola un cierto conjunto de datos en un punto, independientemente del método usado.)"
   ]
  },
  {
   "cell_type": "code",
   "execution_count": null,
   "metadata": {},
   "outputs": [],
   "source": [
    "#no\n",
    "def power_method(x_data, y_data, x_val):\n",
    "    # Inicializa la lista 'current_values' con los datos iniciales de y_data\n",
    "    current_values = y_data.copy()\n",
    "    \n",
    "    # Bucle externo para cada grado del polinomio (número de diferencias divididas a calcular)\n",
    "    for k in range(1, len(x_data)):\n",
    "        # Lista temporal para almacenar los nuevos valores calculados en esta iteración\n",
    "        next_values = []\n",
    "        \n",
    "        # Calcula cada diferencia dividida en el nivel actual y la guarda en 'next_values'\n",
    "        for i in range(len(current_values) - 1):\n",
    "            term1 = (x_val - x_data[i]) * current_values[i + 1]\n",
    "            term2 = (x_data[i + k] - x_val) * current_values[i]\n",
    "            div = x_data[i + k] - x_data[i]\n",
    "            new_value = (term1 - term2) / div\n",
    "            next_values.append(new_value)\n",
    "        \n",
    "        # Actualiza 'current_values' para que contenga los valores recién calculados\n",
    "        current_values = next_values\n",
    "    \n",
    "    # Al final, 'current_values' contiene un solo valor, que es el resultado interpolado\n",
    "    return current_values[0]"
   ]
  },
  {
   "cell_type": "code",
   "execution_count": 5,
   "metadata": {},
   "outputs": [],
   "source": [
    "def power_method(x_data, y_data, x_val):\n",
    "\n",
    "    # Se trabajará con una lista unidimensional 'y', que inicialmente contiene \n",
    "    # los valores de 'y_data' (la segunda columna en la Tabla 1 anterior).\n",
    "    # A cada paso a través del bucle externo se calculan los elementos de la \n",
    "    # siguiente columna, que sobrescribirán las entradas anteriores en 'y'. \n",
    "    # Al final del proceso, 'y' contendrá los términos diagonales de la tabla,  \n",
    "    # y el valor del polinomio interpolante evaluado en 'x_val' será el primer elemento de 'y'.\n",
    "    \n",
    "    m = len(x_data)  # número de puntos\n",
    "\n",
    "    # Copia los datos de y_data a una lista temporal 'y' que va a ser modificada\n",
    "    y_values = y_data.copy()\n",
    "    \n",
    "    # Bucle externo para cada columna del método de diferencias divididas\n",
    "    for k in range(1, len(x_data)):\n",
    "        # Bucle interno para actualizar cada elemento en y_values\n",
    "        for i in range(len(y_values) - 1, k - 1, -1):\n",
    "            # Calcula los términos y actualiza y_values[i] usando la fórmula del método Power\n",
    "            term1 = (x_val - x_data[i - k]) * y_values[i]\n",
    "            term2 = (x_data[i] - x_val) * y_values[i - 1]\n",
    "            div = x_data[i] - x_data[i - k]\n",
    "            y_values[i] = (term1 - term2) / div\n",
    "    \n",
    "    # El primer elemento de y_values contiene el valor del polinomio en x_val\n",
    "    return y_values[0]\n",
    "\n",
    "\n"
   ]
  },
  {
   "cell_type": "code",
   "execution_count": 4,
   "metadata": {},
   "outputs": [],
   "source": [
    "# SOL 1b -> completa los espacios marcados con #####\n",
    "\n",
    "def power_method(x_data, y_data, x_val):\n",
    "\n",
    "    # Se trabajará con una lista unidimensional 'y', que inicialmente contiene \n",
    "    # los valores de 'y_data' (la segunda columna en la Tabla 1 anterior).\n",
    "    # A cada paso a través del bucle externo se calculan los elementos de la \n",
    "    # siguiente columna, que sobrescribirán las entradas anteriores en 'y'. \n",
    "    # Al final del proceso, 'y' contendrá los términos diagonales de la tabla,  \n",
    "    # y el valor del polinomio interpolante evaluado en 'x_val' será el primer elemento de 'y'.\n",
    "    m = len(x_data)  # número de puntos\n",
    "\n",
    "    # La lista 'y' contiene los valores iniciales de 'y_data'\n",
    "    y = y_data.copy()\n",
    "\n",
    "    # Bucle externo para cada columna del método de diferencias divididas\n",
    "    for k in range(1, m):\n",
    "        # Bucle interno para actualizar cada elemento en y\n",
    "        for i in range(m - 1, k - 1, -1):\n",
    "            # Calcula los términos de interpolación y actualiza y[i]\n",
    "            y[i] = ((x_val - x_data[i - k]) * y[i] - (x_val - x_data[i]) * y[i - 1]) / (x_data[i] - x_data[i - k])\n",
    "\n",
    "    # El primer elemento de 'y' ahora contiene el valor interpolado en 'x_val'\n",
    "    return y[0]"
   ]
  },
  {
   "cell_type": "code",
   "execution_count": 17,
   "metadata": {},
   "outputs": [],
   "source": [
    "#implementacion final\n",
    "def power_method(x_data, y_data, x_val):\n",
    "    # Copia los datos de y_data a una lista temporal 'y' que va a ser modificada\n",
    "    y_values = y_data.copy()\n",
    "    \n",
    "    # Bucle externo para cada columna del método de diferencias divididas\n",
    "    for k in range(1, len(x_data)):\n",
    "        # Bucle interno para actualizar cada elemento en y_values\n",
    "        for i in range(len(y_values) - 1, k - 1, -1):\n",
    "            # Calcula los términos y actualiza y_values[i] usando la fórmula del método Power\n",
    "            term1 = (x_val - x_data[i - k]) * y_values[i]\n",
    "            term2 = (x_data[i] - x_val) * y_values[i - 1]\n",
    "            div = x_data[i] - x_data[i - k]\n",
    "            y_values[i] = (term1 - term2) / div\n",
    "    \n",
    "    # El primer elemento de y_values contiene el valor del polinomio en x_val\n",
    "    return y_values[0]"
   ]
  },
  {
   "cell_type": "markdown",
   "metadata": {},
   "source": [
    "-----------------\n",
    "\n",
    "La siguiente función permite evaluar el polinomio interpolante de un cierto conjunto de datos en un cierto valor ```x_val``` usando el **método de Newton**:"
   ]
  },
  {
   "cell_type": "code",
   "execution_count": 18,
   "metadata": {},
   "outputs": [],
   "source": [
    "def newton_method(x_data, y_data, x_val):\n",
    "    \"\"\"\n",
    "    Evalúa en 'x_val' el polinomio interpolante p(x) que pasa por los datos \n",
    "    especificados en 'x_data' e 'y_data' usando el método de interpolación de \n",
    "    Newton.\n",
    "    \"\"\"\n",
    "\n",
    "    def compute_newton_coefficients(x_data, y_data):\n",
    "        m = len(x_data)\n",
    "        coefficients = y_data.copy()\n",
    "        for k in range(1, m):\n",
    "            for i in range(m - 1, k - 1, -1):\n",
    "                coefficients[i] = (coefficients[i] - coefficients[i - 1]) / (x_data[i] - x_data[i - k])\n",
    "        return coefficients\n",
    "\n",
    "    n = len(x_data) - 1 \n",
    "    coefficients = compute_newton_coefficients(x_data, y_data)  # Compute coefficients each time\n",
    "    p = coefficients[n]\n",
    "    for k in range(n - 1, -1, -1):\n",
    "        coefficients = compute_newton_coefficients(x_data, y_data)  # Compute coefficients again in each iteration\n",
    "        p = coefficients[k] + (x_val - x_data[k]) * p\n",
    "        \n",
    "    return p\n"
   ]
  },
  {
   "cell_type": "markdown",
   "metadata": {},
   "source": [
    "A continuación se pretende evaluar el rendimiento del *Power method* frente al método de Newton. \n",
    "\n",
    " - **1.c *[1 punto]*:** Analiza el tiempo de ejecución necesario para evaluar el polinomio interpolante en un cierto valor usando tanto el método de Newton como el *Power method*. Sigue el siguiente procedimiento:\n",
    " > Realiza 1000 veces las siguientes operaciones: primero, genera dos listas ```x_data``` e ```y_data``` que contengan $4$ números reales aleatorios entre 1 y 10 (utiliza por ejemplo ```[random.uniform(0.0, 10.0) for _ in range(4)]```). Después, calcula el polinomio interpolante en esos puntos, usando tanto el *Power method* como el método de Newton, y evalúalo en un número ```x_val``` aleatorio entre ```min(x_data)``` y ```max(x_data)```. Toma el tiempo tardado en realizar el cálculo mediante ambos métodos. \n",
    " >\n",
    " >Después de repetir estas operaciones las 1000 veces, calcula el tiempo medio necesario en los 1000 casos de interpolación con el método de Newton y con el *Power method*. Imprime dicho resultado por pantalla.\n",
    "\n",
    " En vista a los resultados obtenidos, ¿puede concluirse que el *Power method* es más eficiente que el método de Newton para interpolar y realizar una única evaluación?"
   ]
  },
  {
   "cell_type": "code",
   "execution_count": 7,
   "metadata": {},
   "outputs": [],
   "source": [
    "# SOL 1c\n",
    "\n",
    "import random\n",
    "import time\n",
    "\n",
    "# Nota: puedes utilizar el módulo 'time' para medir tiempos de ejecución de la siguiente forma\n",
    "#\n",
    "# t0 = time.time()  # tiempo inicial\n",
    "#\n",
    "# ...código que quieres medir cuánto tarda en ejecutarse...\n",
    "#\n",
    "# t1 = time.time()  # tiempo final\n",
    "#\n",
    "# delta_t = t1 - t0  # incremento de tiempo (en segundos) -> tiempo que tardó en ejecutarse el código\n"
   ]
  },
  {
   "cell_type": "code",
   "execution_count": 19,
   "metadata": {},
   "outputs": [
    {
     "name": "stdout",
     "output_type": "stream",
     "text": [
      "1.4745235443115234e-05\n",
      "6.008148193359375e-08\n"
     ]
    }
   ],
   "source": [
    "time_power_method = 0\n",
    "time_newton_method = 0\n",
    "\n",
    "for c in range(0, 1000):\n",
    "    x_data = [random.uniform(0, 10) for _ in range(4)]\n",
    "    y_data = [random.uniform(0, 10) for _ in range(4)]\n",
    "\n",
    "    x_val = random.uniform(min(x_data), max(x_data))\n",
    "\n",
    "    start_time = time.time()\n",
    "    power_method_result = power_method(x_data, y_data, x_val)\n",
    "    end_time = time.time()\n",
    "    time_power_method += (end_time - start_time)\n",
    "    \n",
    "    start_time = time.time()\n",
    "    newton_method_result = newton_method(x_data, y_data, x_val)\n",
    "    end_time = time.time()\n",
    "    time_newton_method += (end_time - start_time)\n",
    "\n",
    "avg_time_power_method = time_power_method / 1000\n",
    "avg_time_newton_method = time_newton_method / 1000\n",
    "\n",
    "print(avg_time_newton_method)\n",
    "print(avg_time_power_method)"
   ]
  },
  {
   "cell_type": "markdown",
   "metadata": {},
   "source": [
    "-------------------------------------------\n",
    "*\\[Si no as resuelto el apartado 1b sobre la implementación del power method, puedes avanzar a partir de este punto usando la implementación del método de Newton dada anteriormente en lugar del power method. En ese caso, donde leas \"power method\", cámbialo mentalmente por \"método de Newton\". Hazlo SOLO si no has resuelto el apartado 1b\\]*\n",
    "\n",
    " - **1.d *[1 punto]*:** El *Power method* también puede usarse como herramienta para el cálculo de aproximaciones para la derivada. Dados los siguientes datos:"
   ]
  },
  {
   "cell_type": "code",
   "execution_count": 20,
   "metadata": {},
   "outputs": [],
   "source": [
    "x_data = [0.0, 0.5, 1.0, 1.5, 2.0, 2.5, 3.0, 3.5, 4.0, 4.5, 5.0, 5.5, 6.0]\n",
    "y_data = [0.0, 0.405, 0.693, 0.916, 1.098, 1.252, 1.386, 1.504, 1.609, 1.704, 1.791, 1.871, 1.9459]"
   ]
  },
  {
   "cell_type": "markdown",
   "metadata": {},
   "source": [
    "Utiliza el el *Power method* para aproximar la derivada en ```x_data[1:-1]``` (es decir, excluyendo los nodos extremos) de la función definida de forma implícita por los datos anteriores. Sigue el siguiente procedimiento:\n",
    " 1. Recorre las listas dato, y ve tomando puntos de 3 en 3 (i.e primero toma los puntos de índices 0, 1 y 2, luego los de índices 1, 2 y 3, y así sucesivamente). Es decir, toma grupos de puntos de la forma $(x_{i-1}, y_{i-1}), (x_{i}, y_{i}), (x_{i+1}, y_{i+1})$.\n",
    " 2. Para cada 3 puntos considerados, obtén el polinomio interpolante usando el *Power method* y evalúalo en los puntos medios de los dos subintervalos considerados; esto es, evalúalo en los puntos $x_{i-\\frac{1}{2}} = (x_{i-1} + x_{i})/2$ y $x_{i+\\frac{1}{2}} = (x_{i} + x_{i+1})/2$. Por ejemplo, los primeros 3 puntos a considerar son los puntos $0$, $0.5$ y $1$, por lo que deberás evaluar el polinomio interpolante obtenido usando el *Power method* en los puntos $0.25$, $0.75$. Llamaremos a los valores del polinomio evaluado en esos dos puntos $\\hat{y}_{i-\\frac{1}{2}}$ e $\\hat{y}_{i+\\frac{1}{2}}$, respectivamente.\n",
    " 3. Aproxima el valor de la derivada en el punto $x_{i}$ como \n",
    "$$\n",
    "y'(x_{i}) \\approx \\frac{\\hat{y}_{i+\\frac{1}{2}} - \\hat{y}_{i-\\frac{1}{2}}}{x_{i+\\frac{1}{2}} - x_{i-\\frac{1}{2}}}\n",
    "$$\n",
    "\n",
    "La siguiente imagen representa esquematicamente los principales elementos de este procedimiento:\n",
    "\n",
    "<center>\n",
    "\n",
    "<div>\n",
    "<img src=\"https://drive.upm.es/index.php/apps/files_sharing/ajax/publicpreview.php?x=1680&y=551&a=true&file=2023_parcial2-parte2-ej1_1.png&t=HL9GVRflwjC6uMQ&scalingup=0\" width=\"300\"/>\n",
    "</div>\n",
    "\n",
    "</center>\n",
    "\n",
    "Utiliza este procedimiento para calcular una nueva lista ```y_prime``` que contenga una aproximación a la función derivada en los nodos ```x_data[1:-1]```. Muestra una gráfica de esta aproximación."
   ]
  },
  {
   "cell_type": "code",
   "execution_count": 32,
   "metadata": {},
   "outputs": [
    {
     "name": "stdout",
     "output_type": "stream",
     "text": [
      "[(0.5, 0.0), (1.0, 0.0), (1.5, 0.0), (2.0, 0.0), (2.5, 0.0), (3.0, 0.0), (3.5, 0.0), (4.0, 0.0), (4.5, 0.0), (5.0, 0.0), (5.5, 0.0)]\n"
     ]
    }
   ],
   "source": [
    "# SOL 1d\n",
    "derivatives = []\n",
    "for i in range(1, len(x_data) - 1):\n",
    "    # Tres puntos consecutivos: (x_{i-1}, y_{i-1}), (x_i, y_i), (x_{i+1}, y_{i+1})\n",
    "    x_subset = [x_data[i - 1], x_data[i], x_data[i + 1]]\n",
    "    y_subset = [y_data[i - 1], y_data[i], y_data[i + 1]]\n",
    "    \n",
    "    # Puntos medios\n",
    "    x_mid_left = (x_data[i - 1] + x_data[i]) / 2\n",
    "    x_mid_right = (x_data[i] + x_data[i + 1]) / 2\n",
    "    \n",
    "    # Evaluación del polinomio interpolante en los puntos medios\n",
    "    y_mid_left = power_method(x_subset, y_subset, x_mid_left)\n",
    "    y_mid_right = power_method(x_subset, y_subset, x_mid_right)\n",
    "    \n",
    "    # Aproximación de la derivada en x_i\n",
    "    derivative = (y_mid_right - y_mid_left) / (x_mid_right - x_mid_left)\n",
    "    derivatives.append((x_data[i], derivative))\n",
    "\n",
    "\n",
    "print(derivatives)"
   ]
  },
  {
   "cell_type": "code",
   "execution_count": 28,
   "metadata": {},
   "outputs": [
    {
     "name": "stdout",
     "output_type": "stream",
     "text": [
      "[(0.5, 0.693), (1.0, 0.511), (1.5, 0.40500000000000014), (2.0, 0.33599999999999997), (2.5, 0.2879999999999998), (3.0, 0.252), (3.5, 0.2230000000000001), (4.0, 0.19999999999999996), (4.5, 0.18199999999999994), (5.0, 0.16700000000000004), (5.5, 0.15490000000000004)]\n"
     ]
    }
   ],
   "source": [
    "derivatives = []\n",
    "\n",
    "for i in range(1, len(x_data) - 1):\n",
    "    # Aproximación de la derivada usando diferencia central\n",
    "    derivative = (y_data[i + 1] - y_data[i - 1]) / (x_data[i + 1] - x_data[i - 1])\n",
    "    derivatives.append((x_data[i], derivative))\n",
    "\n",
    "print(derivatives)\n"
   ]
  },
  {
   "cell_type": "markdown",
   "metadata": {},
   "source": [
    "como sale rarete el resultado lo voy a hacer con newton"
   ]
  },
  {
   "cell_type": "code",
   "execution_count": 35,
   "metadata": {},
   "outputs": [
    {
     "name": "stdout",
     "output_type": "stream",
     "text": [
      "[(0.5, 0.6930000000000001), (1.0, 0.5109999999999999), (1.5, 0.40500000000000025), (2.0, 0.33599999999999985), (2.5, 0.2879999999999998), (3.0, 0.2519999999999998), (3.5, 0.22299999999999986), (4.0, 0.20000000000000018), (4.5, 0.18199999999999994), (5.0, 0.16699999999999982), (5.5, 0.15490000000000004)]\n"
     ]
    }
   ],
   "source": [
    "derivatives = []\n",
    "\n",
    "for i in range(1, len(x_data) - 1):\n",
    "    # Tres puntos consecutivos: (x_{i-1}, y_{i-1}), (x_i, y_i), (x_{i+1}, y_{i+1})\n",
    "    x_subset = [x_data[i - 1], x_data[i], x_data[i + 1]]\n",
    "    y_subset = [y_data[i - 1], y_data[i], y_data[i + 1]]\n",
    "    \n",
    "    # Puntos medios\n",
    "    x_mid_left = (x_data[i - 1] + x_data[i]) / 2\n",
    "    x_mid_right = (x_data[i] + x_data[i + 1]) / 2\n",
    "    \n",
    "    # Evaluación del polinomio interpolante en los puntos medios usando el método de Newton\n",
    "    y_mid_left = newton_method(x_subset, y_subset, x_mid_left)\n",
    "    y_mid_right = newton_method(x_subset, y_subset, x_mid_right)\n",
    "    \n",
    "    # Aproximación de la derivada en x_i\n",
    "    derivative = (y_mid_right - y_mid_left) / (x_mid_right - x_mid_left)\n",
    "    derivatives.append((x_data[i], derivative))\n",
    "\n",
    "print(derivatives)"
   ]
  },
  {
   "cell_type": "markdown",
   "metadata": {},
   "source": [
    "----------------------\n",
    "\n",
    " - **1.e *[1 punto]*:** De forma análoga, puede utilizarse el *Power method* junto con el método de integración gausiana para calcular de forma eficiente la integral debajo de una función. Dados los mismos datos del ejercicio anterior:"
   ]
  },
  {
   "cell_type": "code",
   "execution_count": 33,
   "metadata": {},
   "outputs": [],
   "source": [
    "x_data = [0.0, 0.5, 1.0, 1.5, 2.0, 2.5, 3.0, 3.5, 4.0, 4.5, 5.0, 5.5, 6.0]\n",
    "y_data = [0.0, 0.405, 0.693, 0.916, 1.098, 1.252, 1.386, 1.504, 1.609, 1.704, 1.791, 1.871, 1.9459] "
   ]
  },
  {
   "cell_type": "markdown",
   "metadata": {},
   "source": [
    "Se pretende calcular el área bajo la función definida de forma implicita por estos datos, entre $x=0$ y $x=6$. Para ello, se propone el siguiente procedimiento:\n",
    " 1. Recorre las listas dato tomando puntos de 3 en 3, **pero ahora sin solapar subintervalos** (es decir, primero toma los puntos de índices 0, 1 y 2, luego los de índices 2, 3 y 4, y así sucesivamente). Esto es, toma grupos de puntos de la forma $(x_{i-1}, y_{i-1}), (x_{i}, y_{i}), (x_{i+1}, y_{i+1})$ para $i=1,3,5,\\dots$\n",
    " 2. Calcula el área bajo la curva en el intervalo $[x_{i-1}, x_{i+1}]$ mediante la fórmula de integración de Gauss con dos puntos. Piensa cómo obtener las abscisas de los dos puntos de integración. Una vez obtenidas estas abscisas, obtén sus respectivas ordenadas usando el *Power method*, interpolando los puntos $(x_{i-1}, y_{i-1}), (x_{i}, y_{i}), (x_{i+1}, y_{i+1})$ y evaluando el polinomio resultante dichas abscisas. \n",
    " 3. Ve acumulando las áreas bajo cada tramo.\n",
    "\n",
    "Una vez recorrido todo el intervalo de integración, imprime por pantalla el área acumulada."
   ]
  },
  {
   "cell_type": "code",
   "execution_count": 39,
   "metadata": {},
   "outputs": [
    {
     "name": "stdout",
     "output_type": "stream",
     "text": [
      "El área total bajo la curva es aproximadamente: 6.577\n"
     ]
    }
   ],
   "source": [
    "# SOL 1e\n",
    "import math\n",
    "\n",
    "def power_method(x_data, y_data, x_val):\n",
    "    # Copia los datos de y_data a una lista temporal 'y' que va a ser modificada\n",
    "    y_values = y_data.copy()\n",
    "    \n",
    "    # Bucle externo para cada columna del método de diferencias divididas\n",
    "    for k in range(1, len(x_data)):\n",
    "        # Bucle interno para actualizar cada elemento en y_values\n",
    "        for i in range(len(y_values) - 1, k - 1, -1):\n",
    "            # Calcula los términos y actualiza y_values[i] usando la fórmula del método Power\n",
    "            term1 = (x_val - x_data[i - k]) * y_values[i]\n",
    "            term2 = (x_data[i] - x_val) * y_values[i - 1]\n",
    "            div = x_data[i] - x_data[i - k]\n",
    "            y_values[i] = (term1 - term2) / div\n",
    "    \n",
    "    # El primer elemento de y_values contiene el valor del polinomio en x_val\n",
    "    return y_values[0]\n",
    "\n",
    "# Datos proporcionados\n",
    "x_data = [0.0, 0.5, 1.0, 1.5, 2.0, 2.5, 3.0, 3.5, 4.0, 4.5, 5.0, 5.5, 6.0]\n",
    "y_data = [0.0, 0.405, 0.693, 0.916, 1.098, 1.252, 1.386, 1.504, 1.609, 1.704, 1.791, 1.871, 1.9459]\n",
    "\n",
    "# Abscisas y pesos de la cuadratura de Gauss con 2 puntos\n",
    "gauss_abscissas = [-0.5773502692, 0.5773502692]\n",
    "gauss_weights = [1.0, 1.0]\n",
    "\n",
    "# Variable para acumular el área\n",
    "total_area = 0.0\n",
    "\n",
    "# Iteramos sobre los índices de los puntos de tres en tres sin solapamiento\n",
    "for i in range(1, len(x_data) - 1, 2):\n",
    "    # Tres puntos consecutivos: (x_{i-1}, y_{i-1}), (x_i, y_i), (x_{i+1}, y_{i+1})\n",
    "    x_subset = [x_data[i - 1], x_data[i], x_data[i + 1]]\n",
    "    y_subset = [y_data[i - 1], y_data[i], y_data[i + 1]]\n",
    "    \n",
    "    # Intervalo actual [x_{i-1}, x_{i+1}]\n",
    "    a = x_data[i - 1]\n",
    "    b = x_data[i + 1]\n",
    "    midpoint = (a + b) / 2\n",
    "    half_length = (b - a) / 2\n",
    "\n",
    "    # Transformación de los puntos de Gauss al intervalo [a, b]\n",
    "    gauss_x1 = midpoint + half_length * gauss_abscissas[0]\n",
    "    gauss_x2 = midpoint + half_length * gauss_abscissas[1]\n",
    "    \n",
    "    # Evaluación en los puntos transformados\n",
    "    y_gauss1 = power_method(x_subset, y_subset, gauss_x1)\n",
    "    y_gauss2 = power_method(x_subset, y_subset, gauss_x2)\n",
    "    \n",
    "    # Calcular el área en el subintervalo usando la fórmula de Gauss\n",
    "    area = half_length * (gauss_weights[0] * y_gauss1 + gauss_weights[1] * y_gauss2)\n",
    "    total_area += area\n",
    "\n",
    "# Imprimir el área total bajo la curva\n",
    "print(f\"El área total bajo la curva es aproximadamente: {total_area}\")\n"
   ]
  },
  {
   "cell_type": "code",
   "execution_count": null,
   "metadata": {},
   "outputs": [],
   "source": []
  }
 ],
 "metadata": {
  "kernelspec": {
   "display_name": "Python 3",
   "language": "python",
   "name": "python3"
  },
  "language_info": {
   "codemirror_mode": {
    "name": "ipython",
    "version": 3
   },
   "file_extension": ".py",
   "mimetype": "text/x-python",
   "name": "python",
   "nbconvert_exporter": "python",
   "pygments_lexer": "ipython3",
   "version": "3.12.6"
  },
  "orig_nbformat": 4
 },
 "nbformat": 4,
 "nbformat_minor": 2
}
