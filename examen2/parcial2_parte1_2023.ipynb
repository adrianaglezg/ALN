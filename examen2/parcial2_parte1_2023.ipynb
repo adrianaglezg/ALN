{
 "cells": [
  {
   "cell_type": "markdown",
   "metadata": {},
   "source": [
    "# Segundo parcial - Algorítmica numérica"
   ]
  },
  {
   "cell_type": "markdown",
   "metadata": {},
   "source": [
    "## Primera pate: **Preguntas teórico-prácticas** - sin apuntes, 60min, total 5 puntos"
   ]
  },
  {
   "cell_type": "markdown",
   "metadata": {},
   "source": [
    "### Ejercicio 1\n",
    "**[1.2 puntos] -** Los siguientes bloques de código evalúan operaciones sencillas. Sin embargo, los resultados que se obtienen no son intuitivos. Explica por qué se obtienen dichos resultados (**una/dos frases por item son suficientes**):\n"
   ]
  },
  {
   "cell_type": "markdown",
   "metadata": {},
   "source": [
    "**(1.a)**\n",
    "\n",
    "El polinomio que interpola los puntos $\\left( 1, 0\\right), \\left( 2, 0\\right), \\left( 3, 0\\right), \\dots, \\left( 20, 0\\right)$ se llama *Polinomio de Wilkinson*, $w(x)$. Se puede expresar trivialmente como $w(x)=\\prod_{i=1}^{20}(x-i)=(x-1) \\cdot (x-2) \\cdots(x-20)$. Una implementación sencilla del polinomio es:"
   ]
  },
  {
   "cell_type": "code",
   "execution_count": 1,
   "metadata": {},
   "outputs": [],
   "source": [
    "def wilkinson(x: float) -> float:\n",
    "    y = 1.0\n",
    "    for i in range(1, 21):\n",
    "        y *= (x - float(i))\n",
    "    return y"
   ]
  },
  {
   "cell_type": "markdown",
   "metadata": {},
   "source": [
    "Resulta evidente que $w(10) = 0$. Sin embargo, al evaluar numéricamente $w(10.00000000001)$ se obtiene:"
   ]
  },
  {
   "cell_type": "code",
   "execution_count": null,
   "metadata": {},
   "outputs": [
    {
     "name": "stdout",
     "output_type": "stream",
     "text": [
      "13.167020959359\n",
      "0.0\n"
     ]
    }
   ],
   "source": [
    "print(wilkinson(10.00000000001))  # 13.167020959359\n",
    "print(wilkinson(10.0000000000))  # 0"
   ]
  },
  {
   "cell_type": "markdown",
   "metadata": {},
   "source": [
    "**respuesta:** al tratarse del producto de x-1 hasta x-20 el polinomio sera de un grado elevado. oscilara en los extremos. todos esos puntos son als raices del x - a son los puntos donde el polinomio tiene raices. sin embargo el resto de valores son distintos de 0, por su naturaleza oscilatoria elevada ese pequeño aumento en el decimal provoca una significativa diferencia"
   ]
  },
  {
   "cell_type": "markdown",
   "metadata": {},
   "source": [
    "**(1.b)**\n",
    "\n",
    "Se pretenden sumar tres cantidades $a=2 \\cdot 10^{30}$, $b=-2 \\cdot 10^{30}$ y $c=1$ de dos formas distintas. El primer método comienza sumando $a+b$ y al resultado se suma $c$. El segundo método comienza sumando $a+c$ y al resultado se suma $b$. Como se muestra en el siguiente código, los resultados obtenidos son completamente distintos, lo que contradeciría la propiedad asociativa de la suma. "
   ]
  },
  {
   "cell_type": "code",
   "execution_count": 8,
   "metadata": {},
   "outputs": [
    {
     "name": "stdout",
     "output_type": "stream",
     "text": [
      "2e+30 a\n",
      "-2e+30 b\n",
      "1.0 c\n",
      "0.0\n",
      "1.0\n",
      "2e+30\n",
      "0.0\n",
      "x = 1.0  y = 0.0\n"
     ]
    }
   ],
   "source": [
    "a = 2.0 * 10**30\n",
    "b = -2.0 * 10**30\n",
    "c = 1.0\n",
    "print(a, 'a')\n",
    "print(b, 'b')\n",
    "print(c, 'c')\n",
    "\n",
    "x = a + b\n",
    "print(x)\n",
    "x += c\n",
    "print(x)\n",
    "\n",
    "y = a + c\n",
    "print(y)\n",
    "y += b\n",
    "print(y)\n",
    "\n",
    "print(f\"x = {x}  y = {y}\")\n"
   ]
  },
  {
   "cell_type": "markdown",
   "metadata": {},
   "source": [
    "la razon de que esto pase es que al suma a y b el resultado es 0 y al sumarle c el resultado dará 1. sin embargo al sumar a + c, el valor de c es insignificante a la hora de representar a, por lo qu eno se verá alterado el valor, lo que provoca que a y b se anulen dando y = 0"
   ]
  },
  {
   "cell_type": "markdown",
   "metadata": {},
   "source": [
    "**(1.c)**\n",
    "\n",
    "La función $f(x)=e^{-25x^2}$ tiene forma de campana de Gauss: \n",
    "\n",
    "<!--\n",
    "import numpy as np\n",
    "import matplotlib.pyplot as plt\n",
    "from math import exp\n",
    "\n",
    "x_vals = [-1 + 2*i/1000 for i in range(1, 1001)]\n",
    "y_vals = [exp(-25*x*x) for x in x_vals]\n",
    "\n",
    "plt.plot(x_vals, y_vals)\n",
    "-->\n",
    "\n",
    "<center>\n",
    "\n",
    "<div>\n",
    "<img src=\"https://drive.upm.es/index.php/apps/files_sharing/ajax/publicpreview.php?x=1920&y=465&a=true&file=parcial2-parte1-e1.png&t=r0liX8HUgsPB2Zq&scalingup=0\" width=\"400\"/>\n",
    "</div>\n",
    "\n",
    "</center>\n",
    "\n",
    "Se ha obtenido el polinomio interpolante con 15 puntos equiespaciados entre -1 y 1. Al evaluar dicho polinomio en $x=0.95$, se esperaría un valor próximo a 0, en base a la gráfica de la función. Sin embargo, el valor obtenido es $1.88$, mayor incluso que el máximo teórico de la campana. Explica por qué ocurre esto y nombra cómo se llama este fenómeno."
   ]
  },
  {
   "cell_type": "code",
   "execution_count": 9,
   "metadata": {},
   "outputs": [
    {
     "name": "stdout",
     "output_type": "stream",
     "text": [
      "1.884002441809508\n"
     ]
    }
   ],
   "source": [
    "import numpy as np\n",
    "\n",
    "x = [-1 + 2*i/15 for i in range(1, 16)]\n",
    "y = [np.exp(-25*i*i) for i in x]\n",
    "\n",
    "pol = np.polyfit(x, y, len(x) - 1)\n",
    "evaluation = np.polyval(pol, 0.95)\n",
    "\n",
    "print(evaluation)  # 1.884002441809508"
   ]
  },
  {
   "cell_type": "markdown",
   "metadata": {},
   "source": [
    "**respuesta :** esto se dbe al fenomeno de runge ya qu e al interpolar una funcion suave por un polinomio de grado alto como es 15, este tiende a oscular sobre todo el lso extremos del intervalo"
   ]
  },
  {
   "attachments": {},
   "cell_type": "markdown",
   "metadata": {},
   "source": [
    "### Ejercicio 2\n",
    "**[1 punto]** - Determinar los parámetros $a$, $b$, $c$, $d$ y $e$ para que $s(x)$ sea un spline cúbico natural:\n",
    "\n",
    "$$\n",
    "s(x)= \\begin{cases}a+b(x-1)+c(x-1)^2+d(x-1)^3 & x \\in[0,1] \\\\ (x-1)^3+e x^2-1 & x \\in[1,2]\\end{cases}\n",
    "$$\n"
   ]
  },
  {
   "cell_type": "markdown",
   "metadata": {},
   "source": [
    "### Ejercicio 3\n",
    "**[1 punto] -**  Completar la siguiente tabla de diferencias divididas que permite obtener un polinomio de Hermite. ¿Cuánto vale $f'(2)$?\n",
    "<center>\n",
    "\n",
    "<div>\n",
    "<img src=\"https://drive.upm.es/index.php/apps/files_sharing/ajax/publicpreview.php?x=1920&y=465&a=true&file=parcial2-parte1-ej3.png&t=F5ZpgOqvBR1FwdW&scalingup=0\" width=\"500\"/>\n",
    "</div>\n",
    "\n",
    "</center>"
   ]
  },
  {
   "cell_type": "markdown",
   "metadata": {},
   "source": [
    "### Ejercicio 4\n",
    "\n",
    "**[1 punto]**  El método del trapecio compuesto aproxima el área bajo una curva por la suma de las áreas de los trapecios en cada subintervalo. Recuerda que el área $A$ de un trapecio de bases $f(x_i)$ y $f(x_{i+1})$ y altura $\\left( x_{i+1} - x_{i} \\right)$ viene dada por: \n",
    "\n",
    "$$\n",
    "A = 0.5 \\cdot \\left( x_{i+1} - x_{i} \\right) \\cdot \\left( f(x_{i}) + f(x_{i+1}) \\right)\n",
    "$$ \n",
    "\n",
    "Escribe el pseudocódigo, o el programa en Python, del método del trapecio compuesto. En particular, describe una función ```composite_trapezoidal(fun, x)``` cuyos argumentos sean:\n",
    " - ```fun``` (*callable*): una función.\n",
    " - ```x``` (*lista de floats*): la malla a utilizar, en el que el primer número y el útlimo sean los límites de integración, y cada valor ```x[i]``` sea un nodo.\n",
    "\n",
    "Ten en cuenta que la malla ```x``` puede contener nodos no equiespaciados. La función debe devolver el área bajo la función, evaluada mediante el método del trapecio compuesto.\n",
    "\n",
    "<center>\n",
    "\n",
    "<div>\n",
    "<img src=\"https://drive.upm.es/index.php/apps/files_sharing/ajax/publicpreview.php?x=1920&y=465&a=true&file=parcial2-parte1-ej4.png&t=BLsvv5LxVWrob7b&scalingup=0\" width=\"400\"/>\n",
    "</div>\n",
    "\n",
    "</center>\n"
   ]
  },
  {
   "cell_type": "code",
   "execution_count": 14,
   "metadata": {},
   "outputs": [],
   "source": [
    "def fun_aux(x):\n",
    "    return 2 * x**4 - 3 * x**3 + 5 * x**2 - x + 7"
   ]
  },
  {
   "cell_type": "code",
   "execution_count": 20,
   "metadata": {},
   "outputs": [],
   "source": [
    "def compositie_trapezoidal(func, x: list[float]):\n",
    "\n",
    "    y = [func(xi) for xi in x]\n",
    "\n",
    "    area_total = 0\n",
    "\n",
    "    for i in range(len(x) - 1 ):\n",
    "        h = x[i+1] - x[i]\n",
    "        b0 = y[i]\n",
    "        b1 = y[i+1]\n",
    "\n",
    "        area = (b0 + b1) * h / 2\n",
    "\n",
    "        area_total += area\n",
    "\n",
    "    return area_total\n"
   ]
  },
  {
   "cell_type": "code",
   "execution_count": 22,
   "metadata": {},
   "outputs": [
    {
     "data": {
      "text/plain": [
       "1357597.5"
      ]
     },
     "execution_count": 22,
     "metadata": {},
     "output_type": "execute_result"
    }
   ],
   "source": [
    "x = [1, 2, 3, 4, 5, 6, 7, 8,9, 11, 13, 20]\n",
    "compositie_trapezoidal(fun_aux, x )"
   ]
  },
  {
   "cell_type": "markdown",
   "metadata": {},
   "source": [
    "### Ejercicio 5\n",
    "\n",
    "**[0.8 puntos] -** Dado el siguiente dataset: \n",
    "\n",
    "<center>\n",
    "\n",
    "| $x$ | $y$ |\n",
    "|-----|-----|\n",
    "| $0$ | $0$ |\n",
    "| $1$ | $2$ |\n",
    "| $2$ | $3$ |\n",
    "| $3$ | $3$ |\n",
    "\n",
    "</center>\n",
    "\n",
    "Deduce analíticamente la recta de regresión que ajusta sus puntos."
   ]
  }
 ],
 "metadata": {
  "kernelspec": {
   "display_name": "Python 3",
   "language": "python",
   "name": "python3"
  },
  "language_info": {
   "codemirror_mode": {
    "name": "ipython",
    "version": 3
   },
   "file_extension": ".py",
   "mimetype": "text/x-python",
   "name": "python",
   "nbconvert_exporter": "python",
   "pygments_lexer": "ipython3",
   "version": "3.12.6"
  },
  "orig_nbformat": 4
 },
 "nbformat": 4,
 "nbformat_minor": 2
}
